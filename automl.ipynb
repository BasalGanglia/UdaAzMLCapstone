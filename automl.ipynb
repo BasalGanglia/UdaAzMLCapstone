{
  "cells": [
    {
      "cell_type": "markdown",
      "source": [
        "# Automated ML\n",
        "\n",
        "TODO: Import Dependencies. In the cell below, import all the dependencies that you will need to complete the project."
      ],
      "metadata": {}
    },
    {
      "cell_type": "code",
      "source": [
        "import azureml.core\r\n",
        "from azureml.core import Experiment, Workspace, Dataset, Datastore\r\n",
        "from azureml.train.automl import AutoMLConfig\r\n",
        "\r\n",
        "import time\r\n",
        "import logging\r\n",
        "\r\n",
        "\r\n",
        "from azureml.core.model import InferenceConfig\r\n",
        "from azureml.core.webservice import AciWebservice\r\n",
        "from azureml.core.webservice import Webservice\r\n",
        "from azureml.core.model import Model\r\n",
        "from azureml.core.environment import Environment\r\n",
        "\r\n",
        "from azureml.automl.core.shared import constants\r\n"
      ],
      "outputs": [],
      "execution_count": 1,
      "metadata": {
        "collapsed": false,
        "gather": {
          "logged": 1615710756316
        },
        "jupyter": {
          "outputs_hidden": false,
          "source_hidden": false
        },
        "nteract": {
          "transient": {
            "deleting": false
          }
        }
      }
    },
    {
      "cell_type": "markdown",
      "source": [
        "## Dataset\n",
        "\n",
        "### Overview\n",
        "TODO: In this markdown cell, give an overview of the dataset you are using. Also mention the task you will be performing.\n",
        "\n",
        "This dataset is part of a data from UCI Machine Learning repository: https://archive.ics.uci.edu/ml/datasets/CNNpred%3A+CNN-based+stock+market+prediction+using+a+diverse+set+of+variables\n",
        "\n",
        "In the original study they used not just DOW but also Nasdaq and other indexes in attempt to create a convolutional neural network for cross market prediction.\n",
        "In this study I took a slightly less ambitious goal, and tried to just predict the movement of DOW.\n",
        "\n",
        "I pre-processed the data a little bit by creating a new binary indicator feature that measured whether the stock index would go up or down the following trading day.\n",
        "This indicator was then used as the label I tried to predict.\n",
        "\n",
        "\n",
        "The task is to predict the overall movement of the stock market, as measured by the Dow. The dataset contains 82 pre-calculated features, full list of\n",
        "which can be found in the appendix of this paper https://arxiv.org/pdf/1810.08923.pdf. In summary, these features include things like  \n",
        "* Relative change of volume\n",
        "* 10 days Exponential Moving Average\n",
        "* Relative change of oil price(Brent) \n",
        "* Relative change in US dollar to Japanese yen exchange rate \n",
        "\n",
        "and so on, for each of the days.  in total the dataset contained data for 1984 days.\n",
        "\n",
        "One important thing to keep in mind when doing prediction is not to accidentally \"look into future\". To avoid using future\n",
        "data, I made sure that even the pre-processing steps only used data from the past. That is, when doing the normal\n",
        "z-score standardization, I first calculated the mean and std from the first month of data (20 trading days), and\n",
        "then used them in centering and normalizing the data:\n",
        "\n",
        "``\n",
        "normalized_df=(df3-df3.iloc[0:20].min())/(df3.iloc[0:20].max()-df3.iloc[0:20].min())\n",
        "``\n",
        "\n",
        "Similarly, when imputting missing features, I did not use things like median of all values for the feature (including \n",
        "the future), but a padding strategy where datapoints were filled based on last previously seen value. That way the\n",
        "same approach could be used in real-life scenario where only past is known.\n",
        "\n",
        "TODO: Get data. In the cell below, write code to access the data you will be using in this project. Remember that the dataset needs to be external."
      ],
      "metadata": {}
    },
    {
      "cell_type": "code",
      "source": [
        "ws = Workspace.from_config()\n",
        "\n",
        "# choose a name for experiment\n",
        "experiment_name = 'uda3experiment'\n",
        "\n",
        "experiment=Experiment(ws, experiment_name)\n",
        "\n",
        "import pandas as pd\n",
        "import numpy as np\n",
        "data = pd.read_csv('data/Processed_DJI.csv')\n",
        "# calculate the difference to next date\n",
        "df = pd.concat([data,data[['Close']].diff(periods=-1).rename({'Close':'Close Diff'}, axis=1)], axis=1)\n",
        "# create label 1 if stock goes up, or 0 if it goes down\n",
        "df['y']= np.where(df['Close Diff'] < 0, 1, 0)\n",
        "#  Use padding to fill NA: this way I am not using future data for the missing data handling\n",
        "df2 = df.fillna(method='pad')\n",
        "# Remove the close and close diff as we are now on interested in the binary indicator of up/down\n",
        "# Removing also the EMA's that are calculated from several past values: these would generate \n",
        "# several nan values in the beginnign of the data, as EMA_200 can only be calculated once we have\n",
        "# observed 200 days... we only have 2000 points of data so having 200 data points with nan on a feature\n",
        "# is not worth it.\n",
        "# Also removing Date as it seems like a variable that even if it is predictive, would not generalize\n",
        "# to future.\n",
        "df3 = df2.drop(columns= ['EMA_50','EMA_200', 'Close Diff', 'Close', 'Date', 'Name' ])\n",
        "# and then removing any data points with missing features\n",
        "df3 = df3.dropna()\n",
        "normalized_df=(df3-df3.iloc[0:20].min())/(df3.iloc[0:20].max()-df3.iloc[0:20].min())\n",
        "normalized_df.reset_index()\n",
        "normalized_df = normalized_df.drop(normalized_df.index[0:20])\n",
        "normalized_df['y'] = normalized_df['y'].astype(int)\n",
        "normalized_df.to_csv('data/normalized_data.csv')"
      ],
      "outputs": [],
      "execution_count": 2,
      "metadata": {
        "collapsed": false,
        "gather": {
          "logged": 1615710761370
        },
        "jupyter": {
          "outputs_hidden": false,
          "source_hidden": false
        },
        "nteract": {
          "transient": {
            "deleting": false
          }
        }
      }
    },
    {
      "cell_type": "markdown",
      "source": [
        "Now have the dataset as a pandas dataframe. I'm going to register it as a Tabular dataset in the datastore."
      ],
      "metadata": {
        "nteract": {
          "transient": {
            "deleting": false
          }
        }
      }
    },
    {
      "cell_type": "code",
      "source": [
        "datastore = ws.get_default_datastore()\r\n",
        "\r\n",
        "\r\n",
        "# upload the local file from src_dir to the target_path in datastore\r\n",
        "datastore.upload(src_dir='data', target_path='data')\r\n",
        "# create a dataset referencing the cloud location\r\n",
        "dataset = Dataset.Tabular.from_delimited_files(datastore.path('data/normalized_data.csv'))"
      ],
      "outputs": [
        {
          "output_type": "stream",
          "name": "stdout",
          "text": [
            "Uploading an estimated of 2 files\n",
            "Target already exists. Skipping upload for data/normalized_data.csv\n",
            "Target already exists. Skipping upload for data/Processed_DJI.csv\n",
            "Uploaded 0 files\n"
          ]
        }
      ],
      "execution_count": 3,
      "metadata": {
        "collapsed": true,
        "jupyter": {
          "source_hidden": false,
          "outputs_hidden": false
        },
        "nteract": {
          "transient": {
            "deleting": false
          }
        },
        "gather": {
          "logged": 1615710769100
        }
      }
    },
    {
      "cell_type": "code",
      "source": [
        "dji_ds = dataset.register(workspace=ws,\r\n",
        "name='dji_ds',\r\n",
        "description='DJI closing prices')"
      ],
      "outputs": [],
      "execution_count": 4,
      "metadata": {
        "collapsed": true,
        "jupyter": {
          "source_hidden": false,
          "outputs_hidden": false
        },
        "nteract": {
          "transient": {
            "deleting": false
          }
        },
        "gather": {
          "logged": 1615710769911
        }
      }
    },
    {
      "cell_type": "code",
      "source": [
        "train_ds, test_ds = dji_ds.random_split(percentage=0.7, seed=42)"
      ],
      "outputs": [],
      "execution_count": 5,
      "metadata": {
        "collapsed": true,
        "jupyter": {
          "source_hidden": false,
          "outputs_hidden": false
        },
        "nteract": {
          "transient": {
            "deleting": false
          }
        },
        "gather": {
          "logged": 1615710770159
        }
      }
    },
    {
      "cell_type": "markdown",
      "source": [
        "## For the AutoML we need a training cluster:"
      ],
      "metadata": {
        "nteract": {
          "transient": {
            "deleting": false
          }
        }
      }
    },
    {
      "cell_type": "code",
      "source": [
        "from azureml.core.compute import ComputeTarget, AmlCompute\r\n",
        "from azureml.core.compute_target import ComputeTargetException\r\n",
        "\r\n",
        "cluster_name = \"cheap-compute\"\r\n",
        "\r\n",
        "try:\r\n",
        "    # Check for existing compute target\r\n",
        "    training_cluster = ComputeTarget(workspace=ws, name=cluster_name)\r\n",
        "    print('Found existing cluster, use it.')\r\n",
        "except ComputeTargetException:\r\n",
        "    # If it doesn't already exist, create it\r\n",
        "    try:\r\n",
        "        compute_config = AmlCompute.provisioning_configuration(vm_size='STANDARD_DS11_V2', max_nodes=2)\r\n",
        "        training_cluster = ComputeTarget.create(ws, cluster_name, compute_config)\r\n",
        "        training_cluster.wait_for_completion(show_output=True)\r\n",
        "    except Exception as ex:\r\n",
        "        print(ex)"
      ],
      "outputs": [
        {
          "output_type": "stream",
          "name": "stdout",
          "text": [
            "Creating\n",
            "Succeeded\n",
            "AmlCompute wait for completion finished\n",
            "\n",
            "Minimum number of nodes requested have been provisioned\n"
          ]
        }
      ],
      "execution_count": 6,
      "metadata": {
        "collapsed": true,
        "jupyter": {
          "source_hidden": false,
          "outputs_hidden": false
        },
        "nteract": {
          "transient": {
            "deleting": false
          }
        },
        "gather": {
          "logged": 1615710786282
        }
      }
    },
    {
      "cell_type": "markdown",
      "source": [
        "## AutoML Configuration\n",
        "\n",
        "TODO: Explain why you chose the automl settings and cofiguration you used below.\n",
        "\n",
        "I chose AUC_weighted as the primary metric as it is suitable for a classification task.\n",
        "Some of the settings like experiment time out were chosen as something that felt sensible.\n",
        "The task was classification because I try to classify between situations where the DOW goes\n",
        "up and down, and this label was stored in feature 'y' which was set as the label_column_name."
      ],
      "metadata": {}
    },
    {
      "cell_type": "code",
      "source": [
        "# TODO: Put your automl settings here\n",
        "automl_settings = {\"name\" : 'project 3 automl experiment_{0}'.format(time.time()),\n",
        "  \"experiment_timeout_minutes\" : 20,\n",
        "    \"enable_early_stopping\" : True,\n",
        "    \"iteration_timeout_minutes\": 10,\n",
        "    \"n_cross_validations\": 5,\n",
        "    \"primary_metric\": 'AUC_weighted',\n",
        "    \"max_concurrent_iterations\": 10,\n",
        "}\n",
        "\n",
        "\n",
        "# TODO: Put your automl config here\n",
        "automl_config =AutoMLConfig(compute_target = training_cluster,\n",
        "    task='classification',\n",
        "    training_data = train_ds,\n",
        "    validation_data = test_ds,\n",
        "    label_column_name ='y',\n",
        "    featurization = 'auto',\n",
        "    **automl_settings)"
      ],
      "outputs": [],
      "execution_count": 7,
      "metadata": {
        "collapsed": false,
        "gather": {
          "logged": 1615710786338
        },
        "jupyter": {
          "outputs_hidden": false,
          "source_hidden": false
        },
        "nteract": {
          "transient": {
            "deleting": false
          }
        }
      }
    },
    {
      "cell_type": "code",
      "source": [
        "# TODO: Submit your experiment\n",
        "remote_run = experiment.submit(automl_config)"
      ],
      "outputs": [
        {
          "output_type": "stream",
          "name": "stdout",
          "text": [
            "Running on remote.\n"
          ]
        }
      ],
      "execution_count": 8,
      "metadata": {
        "collapsed": false,
        "gather": {
          "logged": 1615710792176
        },
        "jupyter": {
          "outputs_hidden": false,
          "source_hidden": false
        },
        "nteract": {
          "transient": {
            "deleting": false
          }
        }
      }
    },
    {
      "cell_type": "markdown",
      "source": [
        "## Run Details\n",
        "\n",
        "OPTIONAL: Write about the different models trained and their performance. Why do you think some models did better than others?\n",
        "\n",
        "TODO: In the cell below, use the `RunDetails` widget to show the different experiments."
      ],
      "metadata": {}
    },
    {
      "cell_type": "code",
      "source": [
        "from azureml.widgets import RunDetails\r\n",
        "RunDetails(remote_run).show()"
      ],
      "outputs": [
        {
          "output_type": "display_data",
          "data": {
            "text/plain": "_AutoMLWidget(widget_settings={'childWidgetDisplay': 'popup', 'send_telemetry': False, 'log_level': 'INFO', 's…",
            "application/vnd.jupyter.widget-view+json": {
              "version_major": 2,
              "version_minor": 0,
              "model_id": "1c5cc8560b284966973a84cd7a6db987"
            }
          },
          "metadata": {}
        },
        {
          "output_type": "display_data",
          "data": {
            "application/aml.mini.widget.v1": "{\"status\": \"Completed\", \"workbench_run_details_uri\": \"https://ml.azure.com/experiments/uda3experiment/runs/AutoML_d8a958f3-4fb5-4989-baa2-51e6a2a6d1ea?wsid=/subscriptions/1f63a07e-5703-4d10-925f-b1c603594482/resourcegroups/uda3rg/workspaces/uda3ws\", \"run_id\": \"AutoML_d8a958f3-4fb5-4989-baa2-51e6a2a6d1ea\", \"run_properties\": {\"run_id\": \"AutoML_d8a958f3-4fb5-4989-baa2-51e6a2a6d1ea\", \"created_utc\": \"2021-03-14T08:33:08.245959Z\", \"properties\": {\"num_iterations\": \"1000\", \"training_type\": \"TrainFull\", \"acquisition_function\": \"EI\", \"primary_metric\": \"AUC_weighted\", \"train_split\": \"0\", \"acquisition_parameter\": \"0\", \"num_cross_validation\": \"5\", \"target\": \"cheap-compute\", \"AMLSettingsJsonString\": \"{\\\"path\\\":null,\\\"name\\\":\\\"project 3 automl experiment_1615710784.5755372\\\",\\\"subscription_id\\\":\\\"1f63a07e-5703-4d10-925f-b1c603594482\\\",\\\"resource_group\\\":\\\"uda3rg\\\",\\\"workspace_name\\\":\\\"uda3ws\\\",\\\"region\\\":\\\"westeurope\\\",\\\"compute_target\\\":\\\"cheap-compute\\\",\\\"spark_service\\\":null,\\\"azure_service\\\":\\\"remote\\\",\\\"many_models\\\":false,\\\"pipeline_fetch_max_batch_size\\\":1,\\\"iterations\\\":1000,\\\"primary_metric\\\":\\\"AUC_weighted\\\",\\\"task_type\\\":\\\"classification\\\",\\\"data_script\\\":null,\\\"validation_size\\\":0.0,\\\"n_cross_validations\\\":5,\\\"y_min\\\":null,\\\"y_max\\\":null,\\\"num_classes\\\":null,\\\"featurization\\\":\\\"auto\\\",\\\"_ignore_package_version_incompatibilities\\\":false,\\\"is_timeseries\\\":false,\\\"max_cores_per_iteration\\\":1,\\\"max_concurrent_iterations\\\":10,\\\"iteration_timeout_minutes\\\":10,\\\"mem_in_mb\\\":null,\\\"enforce_time_on_windows\\\":false,\\\"experiment_timeout_minutes\\\":20,\\\"experiment_exit_score\\\":null,\\\"whitelist_models\\\":null,\\\"blacklist_algos\\\":[\\\"TensorFlowLinearClassifier\\\",\\\"TensorFlowDNN\\\"],\\\"supported_models\\\":[\\\"RandomForest\\\",\\\"SGD\\\",\\\"ExtremeRandomTrees\\\",\\\"SVM\\\",\\\"LinearSVM\\\",\\\"TensorFlowDNN\\\",\\\"DecisionTree\\\",\\\"TensorFlowLinearClassifier\\\",\\\"KNN\\\",\\\"XGBoostClassifier\\\",\\\"AveragedPerceptronClassifier\\\",\\\"GradientBoosting\\\",\\\"LogisticRegression\\\",\\\"LightGBM\\\",\\\"MultinomialNaiveBayes\\\",\\\"BernoulliNaiveBayes\\\"],\\\"private_models\\\":[],\\\"auto_blacklist\\\":true,\\\"blacklist_samples_reached\\\":false,\\\"exclude_nan_labels\\\":true,\\\"verbosity\\\":20,\\\"_debug_log\\\":\\\"azureml_automl.log\\\",\\\"show_warnings\\\":false,\\\"model_explainability\\\":true,\\\"service_url\\\":null,\\\"sdk_url\\\":null,\\\"sdk_packages\\\":null,\\\"enable_onnx_compatible_models\\\":false,\\\"enable_split_onnx_featurizer_estimator_models\\\":false,\\\"vm_type\\\":\\\"STANDARD_DS11_V2\\\",\\\"telemetry_verbosity\\\":20,\\\"send_telemetry\\\":true,\\\"enable_dnn\\\":false,\\\"scenario\\\":\\\"SDK-1.13.0\\\",\\\"environment_label\\\":null,\\\"force_text_dnn\\\":false,\\\"enable_feature_sweeping\\\":true,\\\"enable_early_stopping\\\":true,\\\"early_stopping_n_iters\\\":10,\\\"metrics\\\":null,\\\"enable_ensembling\\\":true,\\\"enable_stack_ensembling\\\":true,\\\"ensemble_iterations\\\":15,\\\"enable_tf\\\":false,\\\"enable_subsampling\\\":null,\\\"subsample_seed\\\":null,\\\"enable_nimbusml\\\":false,\\\"enable_streaming\\\":false,\\\"force_streaming\\\":false,\\\"track_child_runs\\\":true,\\\"allowed_private_models\\\":[],\\\"label_column_name\\\":\\\"y\\\",\\\"weight_column_name\\\":null,\\\"cv_split_column_names\\\":null,\\\"enable_local_managed\\\":false,\\\"_local_managed_run_id\\\":null,\\\"cost_mode\\\":1,\\\"lag_length\\\":0,\\\"metric_operation\\\":\\\"maximize\\\",\\\"preprocess\\\":true}\", \"DataPrepJsonString\": \"{\\\\\\\"training_data\\\\\\\": \\\\\\\"{\\\\\\\\\\\\\\\"blocks\\\\\\\\\\\\\\\": [{\\\\\\\\\\\\\\\"id\\\\\\\\\\\\\\\": \\\\\\\\\\\\\\\"4a33864b-fa1e-4c83-a4cf-3eb53a65fa63\\\\\\\\\\\\\\\", \\\\\\\\\\\\\\\"type\\\\\\\\\\\\\\\": \\\\\\\\\\\\\\\"Microsoft.DPrep.GetDatastoreFilesBlock\\\\\\\\\\\\\\\", \\\\\\\\\\\\\\\"arguments\\\\\\\\\\\\\\\": {\\\\\\\\\\\\\\\"datastores\\\\\\\\\\\\\\\": [{\\\\\\\\\\\\\\\"datastoreName\\\\\\\\\\\\\\\": \\\\\\\\\\\\\\\"workspaceblobstore\\\\\\\\\\\\\\\", \\\\\\\\\\\\\\\"path\\\\\\\\\\\\\\\": \\\\\\\\\\\\\\\"data/normalized_data.csv\\\\\\\\\\\\\\\", \\\\\\\\\\\\\\\"resourceGroup\\\\\\\\\\\\\\\": \\\\\\\\\\\\\\\"uda3rg\\\\\\\\\\\\\\\", \\\\\\\\\\\\\\\"subscription\\\\\\\\\\\\\\\": \\\\\\\\\\\\\\\"1f63a07e-5703-4d10-925f-b1c603594482\\\\\\\\\\\\\\\", \\\\\\\\\\\\\\\"workspaceName\\\\\\\\\\\\\\\": \\\\\\\\\\\\\\\"uda3ws\\\\\\\\\\\\\\\"}]}, \\\\\\\\\\\\\\\"localData\\\\\\\\\\\\\\\": {}, \\\\\\\\\\\\\\\"isEnabled\\\\\\\\\\\\\\\": true, \\\\\\\\\\\\\\\"name\\\\\\\\\\\\\\\": null, \\\\\\\\\\\\\\\"annotation\\\\\\\\\\\\\\\": null}, {\\\\\\\\\\\\\\\"id\\\\\\\\\\\\\\\": \\\\\\\\\\\\\\\"4ecb5178-92de-4719-9eb1-bb3edc54a49a\\\\\\\\\\\\\\\", \\\\\\\\\\\\\\\"type\\\\\\\\\\\\\\\": \\\\\\\\\\\\\\\"Microsoft.DPrep.ParseDelimitedBlock\\\\\\\\\\\\\\\", \\\\\\\\\\\\\\\"arguments\\\\\\\\\\\\\\\": {\\\\\\\\\\\\\\\"columnHeadersMode\\\\\\\\\\\\\\\": 3, \\\\\\\\\\\\\\\"fileEncoding\\\\\\\\\\\\\\\": 0, \\\\\\\\\\\\\\\"handleQuotedLineBreaks\\\\\\\\\\\\\\\": false, \\\\\\\\\\\\\\\"preview\\\\\\\\\\\\\\\": false, \\\\\\\\\\\\\\\"separator\\\\\\\\\\\\\\\": \\\\\\\\\\\\\\\",\\\\\\\\\\\\\\\", \\\\\\\\\\\\\\\"skipRows\\\\\\\\\\\\\\\": 0, \\\\\\\\\\\\\\\"skipRowsMode\\\\\\\\\\\\\\\": 0}, \\\\\\\\\\\\\\\"localData\\\\\\\\\\\\\\\": {}, \\\\\\\\\\\\\\\"isEnabled\\\\\\\\\\\\\\\": true, \\\\\\\\\\\\\\\"name\\\\\\\\\\\\\\\": null, \\\\\\\\\\\\\\\"annotation\\\\\\\\\\\\\\\": null}, {\\\\\\\\\\\\\\\"id\\\\\\\\\\\\\\\": \\\\\\\\\\\\\\\"9f7db1ec-9c49-4bf4-8f18-05a1949aa3f9\\\\\\\\\\\\\\\", \\\\\\\\\\\\\\\"type\\\\\\\\\\\\\\\": \\\\\\\\\\\\\\\"Microsoft.DPrep.DropColumnsBlock\\\\\\\\\\\\\\\", \\\\\\\\\\\\\\\"arguments\\\\\\\\\\\\\\\": {\\\\\\\\\\\\\\\"columns\\\\\\\\\\\\\\\": {\\\\\\\\\\\\\\\"type\\\\\\\\\\\\\\\": 0, \\\\\\\\\\\\\\\"details\\\\\\\\\\\\\\\": {\\\\\\\\\\\\\\\"selectedColumns\\\\\\\\\\\\\\\": [\\\\\\\\\\\\\\\"Path\\\\\\\\\\\\\\\"]}}}, \\\\\\\\\\\\\\\"localData\\\\\\\\\\\\\\\": {}, \\\\\\\\\\\\\\\"isEnabled\\\\\\\\\\\\\\\": true, \\\\\\\\\\\\\\\"name\\\\\\\\\\\\\\\": null, \\\\\\\\\\\\\\\"annotation\\\\\\\\\\\\\\\": null}, {\\\\\\\\\\\\\\\"id\\\\\\\\\\\\\\\": \\\\\\\\\\\\\\\"bb6467ae-c7ac-47ff-bdda-87faf0bea585\\\\\\\\\\\\\\\", \\\\\\\\\\\\\\\"type\\\\\\\\\\\\\\\": \\\\\\\\\\\\\\\"Microsoft.DPrep.SetColumnTypesBlock\\\\\\\\\\\\\\\", \\\\\\\\\\\\\\\"arguments\\\\\\\\\\\\\\\": {\\\\\\\\\\\\\\\"columnConversion\\\\\\\\\\\\\\\": [{\\\\\\\\\\\\\\\"column\\\\\\\\\\\\\\\": {\\\\\\\\\\\\\\\"type\\\\\\\\\\\\\\\": 2, \\\\\\\\\\\\\\\"details\\\\\\\\\\\\\\\": {\\\\\\\\\\\\\\\"selectedColumn\\\\\\\\\\\\\\\": \\\\\\\\\\\\\\\"Column1\\\\\\\\\\\\\\\"}}, \\\\\\\\\\\\\\\"typeProperty\\\\\\\\\\\\\\\": 2}, {\\\\\\\\\\\\\\\"column\\\\\\\\\\\\\\\": {\\\\\\\\\\\\\\\"type\\\\\\\\\\\\\\\": 2, \\\\\\\\\\\\\\\"details\\\\\\\\\\\\\\\": {\\\\\\\\\\\\\\\"selectedColumn\\\\\\\\\\\\\\\": \\\\\\\\\\\\\\\"Volume\\\\\\\\\\\\\\\"}}, \\\\\\\\\\\\\\\"typeProperty\\\\\\\\\\\\\\\": 3}, {\\\\\\\\\\\\\\\"column\\\\\\\\\\\\\\\": {\\\\\\\\\\\\\\\"type\\\\\\\\\\\\\\\": 2, \\\\\\\\\\\\\\\"details\\\\\\\\\\\\\\\": {\\\\\\\\\\\\\\\"selectedColumn\\\\\\\\\\\\\\\": \\\\\\\\\\\\\\\"mom\\\\\\\\\\\\\\\"}}, \\\\\\\\\\\\\\\"typeProperty\\\\\\\\\\\\\\\": 3}, {\\\\\\\\\\\\\\\"column\\\\\\\\\\\\\\\": {\\\\\\\\\\\\\\\"type\\\\\\\\\\\\\\\": 2, \\\\\\\\\\\\\\\"details\\\\\\\\\\\\\\\": {\\\\\\\\\\\\\\\"selectedColumn\\\\\\\\\\\\\\\": \\\\\\\\\\\\\\\"mom1\\\\\\\\\\\\\\\"}}, \\\\\\\\\\\\\\\"typeProperty\\\\\\\\\\\\\\\": 3}, {\\\\\\\\\\\\\\\"column\\\\\\\\\\\\\\\": {\\\\\\\\\\\\\\\"type\\\\\\\\\\\\\\\": 2, \\\\\\\\\\\\\\\"details\\\\\\\\\\\\\\\": {\\\\\\\\\\\\\\\"selectedColumn\\\\\\\\\\\\\\\": \\\\\\\\\\\\\\\"mom2\\\\\\\\\\\\\\\"}}, \\\\\\\\\\\\\\\"typeProperty\\\\\\\\\\\\\\\": 3}, {\\\\\\\\\\\\\\\"column\\\\\\\\\\\\\\\": {\\\\\\\\\\\\\\\"type\\\\\\\\\\\\\\\": 2, \\\\\\\\\\\\\\\"details\\\\\\\\\\\\\\\": {\\\\\\\\\\\\\\\"selectedColumn\\\\\\\\\\\\\\\": \\\\\\\\\\\\\\\"mom3\\\\\\\\\\\\\\\"}}, \\\\\\\\\\\\\\\"typeProperty\\\\\\\\\\\\\\\": 3}, {\\\\\\\\\\\\\\\"column\\\\\\\\\\\\\\\": {\\\\\\\\\\\\\\\"type\\\\\\\\\\\\\\\": 2, \\\\\\\\\\\\\\\"details\\\\\\\\\\\\\\\": {\\\\\\\\\\\\\\\"selectedColumn\\\\\\\\\\\\\\\": \\\\\\\\\\\\\\\"ROC_5\\\\\\\\\\\\\\\"}}, \\\\\\\\\\\\\\\"typeProperty\\\\\\\\\\\\\\\": 3}, {\\\\\\\\\\\\\\\"column\\\\\\\\\\\\\\\": {\\\\\\\\\\\\\\\"type\\\\\\\\\\\\\\\": 2, \\\\\\\\\\\\\\\"details\\\\\\\\\\\\\\\": {\\\\\\\\\\\\\\\"selectedColumn\\\\\\\\\\\\\\\": \\\\\\\\\\\\\\\"ROC_10\\\\\\\\\\\\\\\"}}, \\\\\\\\\\\\\\\"typeProperty\\\\\\\\\\\\\\\": 3}, {\\\\\\\\\\\\\\\"column\\\\\\\\\\\\\\\": {\\\\\\\\\\\\\\\"type\\\\\\\\\\\\\\\": 2, \\\\\\\\\\\\\\\"details\\\\\\\\\\\\\\\": {\\\\\\\\\\\\\\\"selectedColumn\\\\\\\\\\\\\\\": \\\\\\\\\\\\\\\"ROC_15\\\\\\\\\\\\\\\"}}, \\\\\\\\\\\\\\\"typeProperty\\\\\\\\\\\\\\\": 3}, {\\\\\\\\\\\\\\\"column\\\\\\\\\\\\\\\": {\\\\\\\\\\\\\\\"type\\\\\\\\\\\\\\\": 2, \\\\\\\\\\\\\\\"details\\\\\\\\\\\\\\\": {\\\\\\\\\\\\\\\"selectedColumn\\\\\\\\\\\\\\\": \\\\\\\\\\\\\\\"ROC_20\\\\\\\\\\\\\\\"}}, \\\\\\\\\\\\\\\"typeProperty\\\\\\\\\\\\\\\": 3}, {\\\\\\\\\\\\\\\"column\\\\\\\\\\\\\\\": {\\\\\\\\\\\\\\\"type\\\\\\\\\\\\\\\": 2, \\\\\\\\\\\\\\\"details\\\\\\\\\\\\\\\": {\\\\\\\\\\\\\\\"selectedColumn\\\\\\\\\\\\\\\": \\\\\\\\\\\\\\\"EMA_10\\\\\\\\\\\\\\\"}}, \\\\\\\\\\\\\\\"typeProperty\\\\\\\\\\\\\\\": 3}, {\\\\\\\\\\\\\\\"column\\\\\\\\\\\\\\\": {\\\\\\\\\\\\\\\"type\\\\\\\\\\\\\\\": 2, \\\\\\\\\\\\\\\"details\\\\\\\\\\\\\\\": {\\\\\\\\\\\\\\\"selectedColumn\\\\\\\\\\\\\\\": \\\\\\\\\\\\\\\"EMA_20\\\\\\\\\\\\\\\"}}, \\\\\\\\\\\\\\\"typeProperty\\\\\\\\\\\\\\\": 3}, {\\\\\\\\\\\\\\\"column\\\\\\\\\\\\\\\": {\\\\\\\\\\\\\\\"type\\\\\\\\\\\\\\\": 2, \\\\\\\\\\\\\\\"details\\\\\\\\\\\\\\\": {\\\\\\\\\\\\\\\"selectedColumn\\\\\\\\\\\\\\\": \\\\\\\\\\\\\\\"DTB4WK\\\\\\\\\\\\\\\"}}, \\\\\\\\\\\\\\\"typeProperty\\\\\\\\\\\\\\\": 3}, {\\\\\\\\\\\\\\\"column\\\\\\\\\\\\\\\": {\\\\\\\\\\\\\\\"type\\\\\\\\\\\\\\\": 2, \\\\\\\\\\\\\\\"details\\\\\\\\\\\\\\\": {\\\\\\\\\\\\\\\"selectedColumn\\\\\\\\\\\\\\\": \\\\\\\\\\\\\\\"DTB3\\\\\\\\\\\\\\\"}}, \\\\\\\\\\\\\\\"typeProperty\\\\\\\\\\\\\\\": 3}, {\\\\\\\\\\\\\\\"column\\\\\\\\\\\\\\\": {\\\\\\\\\\\\\\\"type\\\\\\\\\\\\\\\": 2, \\\\\\\\\\\\\\\"details\\\\\\\\\\\\\\\": {\\\\\\\\\\\\\\\"selectedColumn\\\\\\\\\\\\\\\": \\\\\\\\\\\\\\\"DTB6\\\\\\\\\\\\\\\"}}, \\\\\\\\\\\\\\\"typeProperty\\\\\\\\\\\\\\\": 3}, {\\\\\\\\\\\\\\\"column\\\\\\\\\\\\\\\": {\\\\\\\\\\\\\\\"type\\\\\\\\\\\\\\\": 2, \\\\\\\\\\\\\\\"details\\\\\\\\\\\\\\\": {\\\\\\\\\\\\\\\"selectedColumn\\\\\\\\\\\\\\\": \\\\\\\\\\\\\\\"DGS5\\\\\\\\\\\\\\\"}}, \\\\\\\\\\\\\\\"typeProperty\\\\\\\\\\\\\\\": 3}, {\\\\\\\\\\\\\\\"column\\\\\\\\\\\\\\\": {\\\\\\\\\\\\\\\"type\\\\\\\\\\\\\\\": 2, \\\\\\\\\\\\\\\"details\\\\\\\\\\\\\\\": {\\\\\\\\\\\\\\\"selectedColumn\\\\\\\\\\\\\\\": \\\\\\\\\\\\\\\"DGS10\\\\\\\\\\\\\\\"}}, \\\\\\\\\\\\\\\"typeProperty\\\\\\\\\\\\\\\": 3}, {\\\\\\\\\\\\\\\"column\\\\\\\\\\\\\\\": {\\\\\\\\\\\\\\\"type\\\\\\\\\\\\\\\": 2, \\\\\\\\\\\\\\\"details\\\\\\\\\\\\\\\": {\\\\\\\\\\\\\\\"selectedColumn\\\\\\\\\\\\\\\": \\\\\\\\\\\\\\\"Oil\\\\\\\\\\\\\\\"}}, \\\\\\\\\\\\\\\"typeProperty\\\\\\\\\\\\\\\": 3}, {\\\\\\\\\\\\\\\"column\\\\\\\\\\\\\\\": {\\\\\\\\\\\\\\\"type\\\\\\\\\\\\\\\": 2, \\\\\\\\\\\\\\\"details\\\\\\\\\\\\\\\": {\\\\\\\\\\\\\\\"selectedColumn\\\\\\\\\\\\\\\": \\\\\\\\\\\\\\\"Gold\\\\\\\\\\\\\\\"}}, \\\\\\\\\\\\\\\"typeProperty\\\\\\\\\\\\\\\": 3}, {\\\\\\\\\\\\\\\"column\\\\\\\\\\\\\\\": {\\\\\\\\\\\\\\\"type\\\\\\\\\\\\\\\": 2, \\\\\\\\\\\\\\\"details\\\\\\\\\\\\\\\": {\\\\\\\\\\\\\\\"selectedColumn\\\\\\\\\\\\\\\": \\\\\\\\\\\\\\\"DAAA\\\\\\\\\\\\\\\"}}, \\\\\\\\\\\\\\\"typeProperty\\\\\\\\\\\\\\\": 3}, {\\\\\\\\\\\\\\\"column\\\\\\\\\\\\\\\": {\\\\\\\\\\\\\\\"type\\\\\\\\\\\\\\\": 2, \\\\\\\\\\\\\\\"details\\\\\\\\\\\\\\\": {\\\\\\\\\\\\\\\"selectedColumn\\\\\\\\\\\\\\\": \\\\\\\\\\\\\\\"DBAA\\\\\\\\\\\\\\\"}}, \\\\\\\\\\\\\\\"typeProperty\\\\\\\\\\\\\\\": 3}, {\\\\\\\\\\\\\\\"column\\\\\\\\\\\\\\\": {\\\\\\\\\\\\\\\"type\\\\\\\\\\\\\\\": 2, \\\\\\\\\\\\\\\"details\\\\\\\\\\\\\\\": {\\\\\\\\\\\\\\\"selectedColumn\\\\\\\\\\\\\\\": \\\\\\\\\\\\\\\"GBP\\\\\\\\\\\\\\\"}}, \\\\\\\\\\\\\\\"typeProperty\\\\\\\\\\\\\\\": 3}, {\\\\\\\\\\\\\\\"column\\\\\\\\\\\\\\\": {\\\\\\\\\\\\\\\"type\\\\\\\\\\\\\\\": 2, \\\\\\\\\\\\\\\"details\\\\\\\\\\\\\\\": {\\\\\\\\\\\\\\\"selectedColumn\\\\\\\\\\\\\\\": \\\\\\\\\\\\\\\"JPY\\\\\\\\\\\\\\\"}}, \\\\\\\\\\\\\\\"typeProperty\\\\\\\\\\\\\\\": 3}, {\\\\\\\\\\\\\\\"column\\\\\\\\\\\\\\\": {\\\\\\\\\\\\\\\"type\\\\\\\\\\\\\\\": 2, \\\\\\\\\\\\\\\"details\\\\\\\\\\\\\\\": {\\\\\\\\\\\\\\\"selectedColumn\\\\\\\\\\\\\\\": \\\\\\\\\\\\\\\"CAD\\\\\\\\\\\\\\\"}}, \\\\\\\\\\\\\\\"typeProperty\\\\\\\\\\\\\\\": 3}, {\\\\\\\\\\\\\\\"column\\\\\\\\\\\\\\\": {\\\\\\\\\\\\\\\"type\\\\\\\\\\\\\\\": 2, \\\\\\\\\\\\\\\"details\\\\\\\\\\\\\\\": {\\\\\\\\\\\\\\\"selectedColumn\\\\\\\\\\\\\\\": \\\\\\\\\\\\\\\"CNY\\\\\\\\\\\\\\\"}}, \\\\\\\\\\\\\\\"typeProperty\\\\\\\\\\\\\\\": 3}, {\\\\\\\\\\\\\\\"column\\\\\\\\\\\\\\\": {\\\\\\\\\\\\\\\"type\\\\\\\\\\\\\\\": 2, \\\\\\\\\\\\\\\"details\\\\\\\\\\\\\\\": {\\\\\\\\\\\\\\\"selectedColumn\\\\\\\\\\\\\\\": \\\\\\\\\\\\\\\"AAPL\\\\\\\\\\\\\\\"}}, \\\\\\\\\\\\\\\"typeProperty\\\\\\\\\\\\\\\": 3}, {\\\\\\\\\\\\\\\"column\\\\\\\\\\\\\\\": {\\\\\\\\\\\\\\\"type\\\\\\\\\\\\\\\": 2, \\\\\\\\\\\\\\\"details\\\\\\\\\\\\\\\": {\\\\\\\\\\\\\\\"selectedColumn\\\\\\\\\\\\\\\": \\\\\\\\\\\\\\\"AMZN\\\\\\\\\\\\\\\"}}, \\\\\\\\\\\\\\\"typeProperty\\\\\\\\\\\\\\\": 3}, {\\\\\\\\\\\\\\\"column\\\\\\\\\\\\\\\": {\\\\\\\\\\\\\\\"type\\\\\\\\\\\\\\\": 2, \\\\\\\\\\\\\\\"details\\\\\\\\\\\\\\\": {\\\\\\\\\\\\\\\"selectedColumn\\\\\\\\\\\\\\\": \\\\\\\\\\\\\\\"GE\\\\\\\\\\\\\\\"}}, \\\\\\\\\\\\\\\"typeProperty\\\\\\\\\\\\\\\": 3}, {\\\\\\\\\\\\\\\"column\\\\\\\\\\\\\\\": {\\\\\\\\\\\\\\\"type\\\\\\\\\\\\\\\": 2, \\\\\\\\\\\\\\\"details\\\\\\\\\\\\\\\": {\\\\\\\\\\\\\\\"selectedColumn\\\\\\\\\\\\\\\": \\\\\\\\\\\\\\\"JNJ\\\\\\\\\\\\\\\"}}, \\\\\\\\\\\\\\\"typeProperty\\\\\\\\\\\\\\\": 3}, {\\\\\\\\\\\\\\\"column\\\\\\\\\\\\\\\": {\\\\\\\\\\\\\\\"type\\\\\\\\\\\\\\\": 2, \\\\\\\\\\\\\\\"details\\\\\\\\\\\\\\\": {\\\\\\\\\\\\\\\"selectedColumn\\\\\\\\\\\\\\\": \\\\\\\\\\\\\\\"JPM\\\\\\\\\\\\\\\"}}, \\\\\\\\\\\\\\\"typeProperty\\\\\\\\\\\\\\\": 3}, {\\\\\\\\\\\\\\\"column\\\\\\\\\\\\\\\": {\\\\\\\\\\\\\\\"type\\\\\\\\\\\\\\\": 2, \\\\\\\\\\\\\\\"details\\\\\\\\\\\\\\\": {\\\\\\\\\\\\\\\"selectedColumn\\\\\\\\\\\\\\\": \\\\\\\\\\\\\\\"MSFT\\\\\\\\\\\\\\\"}}, \\\\\\\\\\\\\\\"typeProperty\\\\\\\\\\\\\\\": 3}, {\\\\\\\\\\\\\\\"column\\\\\\\\\\\\\\\": {\\\\\\\\\\\\\\\"type\\\\\\\\\\\\\\\": 2, \\\\\\\\\\\\\\\"details\\\\\\\\\\\\\\\": {\\\\\\\\\\\\\\\"selectedColumn\\\\\\\\\\\\\\\": \\\\\\\\\\\\\\\"WFC\\\\\\\\\\\\\\\"}}, \\\\\\\\\\\\\\\"typeProperty\\\\\\\\\\\\\\\": 3}, {\\\\\\\\\\\\\\\"column\\\\\\\\\\\\\\\": {\\\\\\\\\\\\\\\"type\\\\\\\\\\\\\\\": 2, \\\\\\\\\\\\\\\"details\\\\\\\\\\\\\\\": {\\\\\\\\\\\\\\\"selectedColumn\\\\\\\\\\\\\\\": \\\\\\\\\\\\\\\"XOM\\\\\\\\\\\\\\\"}}, \\\\\\\\\\\\\\\"typeProperty\\\\\\\\\\\\\\\": 3}, {\\\\\\\\\\\\\\\"column\\\\\\\\\\\\\\\": {\\\\\\\\\\\\\\\"type\\\\\\\\\\\\\\\": 2, \\\\\\\\\\\\\\\"details\\\\\\\\\\\\\\\": {\\\\\\\\\\\\\\\"selectedColumn\\\\\\\\\\\\\\\": \\\\\\\\\\\\\\\"FCHI\\\\\\\\\\\\\\\"}}, \\\\\\\\\\\\\\\"typeProperty\\\\\\\\\\\\\\\": 3}, {\\\\\\\\\\\\\\\"column\\\\\\\\\\\\\\\": {\\\\\\\\\\\\\\\"type\\\\\\\\\\\\\\\": 2, \\\\\\\\\\\\\\\"details\\\\\\\\\\\\\\\": {\\\\\\\\\\\\\\\"selectedColumn\\\\\\\\\\\\\\\": \\\\\\\\\\\\\\\"FTSE\\\\\\\\\\\\\\\"}}, \\\\\\\\\\\\\\\"typeProperty\\\\\\\\\\\\\\\": 3}, {\\\\\\\\\\\\\\\"column\\\\\\\\\\\\\\\": {\\\\\\\\\\\\\\\"type\\\\\\\\\\\\\\\": 2, \\\\\\\\\\\\\\\"details\\\\\\\\\\\\\\\": {\\\\\\\\\\\\\\\"selectedColumn\\\\\\\\\\\\\\\": \\\\\\\\\\\\\\\"GDAXI\\\\\\\\\\\\\\\"}}, \\\\\\\\\\\\\\\"typeProperty\\\\\\\\\\\\\\\": 3}, {\\\\\\\\\\\\\\\"column\\\\\\\\\\\\\\\": {\\\\\\\\\\\\\\\"type\\\\\\\\\\\\\\\": 2, \\\\\\\\\\\\\\\"details\\\\\\\\\\\\\\\": {\\\\\\\\\\\\\\\"selectedColumn\\\\\\\\\\\\\\\": \\\\\\\\\\\\\\\"GSPC\\\\\\\\\\\\\\\"}}, \\\\\\\\\\\\\\\"typeProperty\\\\\\\\\\\\\\\": 3}, {\\\\\\\\\\\\\\\"column\\\\\\\\\\\\\\\": {\\\\\\\\\\\\\\\"type\\\\\\\\\\\\\\\": 2, \\\\\\\\\\\\\\\"details\\\\\\\\\\\\\\\": {\\\\\\\\\\\\\\\"selectedColumn\\\\\\\\\\\\\\\": \\\\\\\\\\\\\\\"HSI\\\\\\\\\\\\\\\"}}, \\\\\\\\\\\\\\\"typeProperty\\\\\\\\\\\\\\\": 3}, {\\\\\\\\\\\\\\\"column\\\\\\\\\\\\\\\": {\\\\\\\\\\\\\\\"type\\\\\\\\\\\\\\\": 2, \\\\\\\\\\\\\\\"details\\\\\\\\\\\\\\\": {\\\\\\\\\\\\\\\"selectedColumn\\\\\\\\\\\\\\\": \\\\\\\\\\\\\\\"IXIC\\\\\\\\\\\\\\\"}}, \\\\\\\\\\\\\\\"typeProperty\\\\\\\\\\\\\\\": 3}, {\\\\\\\\\\\\\\\"column\\\\\\\\\\\\\\\": {\\\\\\\\\\\\\\\"type\\\\\\\\\\\\\\\": 2, \\\\\\\\\\\\\\\"details\\\\\\\\\\\\\\\": {\\\\\\\\\\\\\\\"selectedColumn\\\\\\\\\\\\\\\": \\\\\\\\\\\\\\\"SSEC\\\\\\\\\\\\\\\"}}, \\\\\\\\\\\\\\\"typeProperty\\\\\\\\\\\\\\\": 3}, {\\\\\\\\\\\\\\\"column\\\\\\\\\\\\\\\": {\\\\\\\\\\\\\\\"type\\\\\\\\\\\\\\\": 2, \\\\\\\\\\\\\\\"details\\\\\\\\\\\\\\\": {\\\\\\\\\\\\\\\"selectedColumn\\\\\\\\\\\\\\\": \\\\\\\\\\\\\\\"RUT\\\\\\\\\\\\\\\"}}, \\\\\\\\\\\\\\\"typeProperty\\\\\\\\\\\\\\\": 3}, {\\\\\\\\\\\\\\\"column\\\\\\\\\\\\\\\": {\\\\\\\\\\\\\\\"type\\\\\\\\\\\\\\\": 2, \\\\\\\\\\\\\\\"details\\\\\\\\\\\\\\\": {\\\\\\\\\\\\\\\"selectedColumn\\\\\\\\\\\\\\\": \\\\\\\\\\\\\\\"NYSE\\\\\\\\\\\\\\\"}}, \\\\\\\\\\\\\\\"typeProperty\\\\\\\\\\\\\\\": 3}, {\\\\\\\\\\\\\\\"column\\\\\\\\\\\\\\\": {\\\\\\\\\\\\\\\"type\\\\\\\\\\\\\\\": 2, \\\\\\\\\\\\\\\"details\\\\\\\\\\\\\\\": {\\\\\\\\\\\\\\\"selectedColumn\\\\\\\\\\\\\\\": \\\\\\\\\\\\\\\"TE1\\\\\\\\\\\\\\\"}}, \\\\\\\\\\\\\\\"typeProperty\\\\\\\\\\\\\\\": 3}, {\\\\\\\\\\\\\\\"column\\\\\\\\\\\\\\\": {\\\\\\\\\\\\\\\"type\\\\\\\\\\\\\\\": 2, \\\\\\\\\\\\\\\"details\\\\\\\\\\\\\\\": {\\\\\\\\\\\\\\\"selectedColumn\\\\\\\\\\\\\\\": \\\\\\\\\\\\\\\"TE2\\\\\\\\\\\\\\\"}}, \\\\\\\\\\\\\\\"typeProperty\\\\\\\\\\\\\\\": 3}, {\\\\\\\\\\\\\\\"column\\\\\\\\\\\\\\\": {\\\\\\\\\\\\\\\"type\\\\\\\\\\\\\\\": 2, \\\\\\\\\\\\\\\"details\\\\\\\\\\\\\\\": {\\\\\\\\\\\\\\\"selectedColumn\\\\\\\\\\\\\\\": \\\\\\\\\\\\\\\"TE3\\\\\\\\\\\\\\\"}}, \\\\\\\\\\\\\\\"typeProperty\\\\\\\\\\\\\\\": 3}, {\\\\\\\\\\\\\\\"column\\\\\\\\\\\\\\\": {\\\\\\\\\\\\\\\"type\\\\\\\\\\\\\\\": 2, \\\\\\\\\\\\\\\"details\\\\\\\\\\\\\\\": {\\\\\\\\\\\\\\\"selectedColumn\\\\\\\\\\\\\\\": \\\\\\\\\\\\\\\"TE5\\\\\\\\\\\\\\\"}}, \\\\\\\\\\\\\\\"typeProperty\\\\\\\\\\\\\\\": 3}, {\\\\\\\\\\\\\\\"column\\\\\\\\\\\\\\\": {\\\\\\\\\\\\\\\"type\\\\\\\\\\\\\\\": 2, \\\\\\\\\\\\\\\"details\\\\\\\\\\\\\\\": {\\\\\\\\\\\\\\\"selectedColumn\\\\\\\\\\\\\\\": \\\\\\\\\\\\\\\"TE6\\\\\\\\\\\\\\\"}}, \\\\\\\\\\\\\\\"typeProperty\\\\\\\\\\\\\\\": 3}, {\\\\\\\\\\\\\\\"column\\\\\\\\\\\\\\\": {\\\\\\\\\\\\\\\"type\\\\\\\\\\\\\\\": 2, \\\\\\\\\\\\\\\"details\\\\\\\\\\\\\\\": {\\\\\\\\\\\\\\\"selectedColumn\\\\\\\\\\\\\\\": \\\\\\\\\\\\\\\"DE1\\\\\\\\\\\\\\\"}}, \\\\\\\\\\\\\\\"typeProperty\\\\\\\\\\\\\\\": 3}, {\\\\\\\\\\\\\\\"column\\\\\\\\\\\\\\\": {\\\\\\\\\\\\\\\"type\\\\\\\\\\\\\\\": 2, \\\\\\\\\\\\\\\"details\\\\\\\\\\\\\\\": {\\\\\\\\\\\\\\\"selectedColumn\\\\\\\\\\\\\\\": \\\\\\\\\\\\\\\"DE2\\\\\\\\\\\\\\\"}}, \\\\\\\\\\\\\\\"typeProperty\\\\\\\\\\\\\\\": 3}, {\\\\\\\\\\\\\\\"column\\\\\\\\\\\\\\\": {\\\\\\\\\\\\\\\"type\\\\\\\\\\\\\\\": 2, \\\\\\\\\\\\\\\"details\\\\\\\\\\\\\\\": {\\\\\\\\\\\\\\\"selectedColumn\\\\\\\\\\\\\\\": \\\\\\\\\\\\\\\"DE4\\\\\\\\\\\\\\\"}}, \\\\\\\\\\\\\\\"typeProperty\\\\\\\\\\\\\\\": 3}, {\\\\\\\\\\\\\\\"column\\\\\\\\\\\\\\\": {\\\\\\\\\\\\\\\"type\\\\\\\\\\\\\\\": 2, \\\\\\\\\\\\\\\"details\\\\\\\\\\\\\\\": {\\\\\\\\\\\\\\\"selectedColumn\\\\\\\\\\\\\\\": \\\\\\\\\\\\\\\"DE5\\\\\\\\\\\\\\\"}}, \\\\\\\\\\\\\\\"typeProperty\\\\\\\\\\\\\\\": 3}, {\\\\\\\\\\\\\\\"column\\\\\\\\\\\\\\\": {\\\\\\\\\\\\\\\"type\\\\\\\\\\\\\\\": 2, \\\\\\\\\\\\\\\"details\\\\\\\\\\\\\\\": {\\\\\\\\\\\\\\\"selectedColumn\\\\\\\\\\\\\\\": \\\\\\\\\\\\\\\"DE6\\\\\\\\\\\\\\\"}}, \\\\\\\\\\\\\\\"typeProperty\\\\\\\\\\\\\\\": 3}, {\\\\\\\\\\\\\\\"column\\\\\\\\\\\\\\\": {\\\\\\\\\\\\\\\"type\\\\\\\\\\\\\\\": 2, \\\\\\\\\\\\\\\"details\\\\\\\\\\\\\\\": {\\\\\\\\\\\\\\\"selectedColumn\\\\\\\\\\\\\\\": \\\\\\\\\\\\\\\"CTB3M\\\\\\\\\\\\\\\"}}, \\\\\\\\\\\\\\\"typeProperty\\\\\\\\\\\\\\\": 3}, {\\\\\\\\\\\\\\\"column\\\\\\\\\\\\\\\": {\\\\\\\\\\\\\\\"type\\\\\\\\\\\\\\\": 2, \\\\\\\\\\\\\\\"details\\\\\\\\\\\\\\\": {\\\\\\\\\\\\\\\"selectedColumn\\\\\\\\\\\\\\\": \\\\\\\\\\\\\\\"CTB6M\\\\\\\\\\\\\\\"}}, \\\\\\\\\\\\\\\"typeProperty\\\\\\\\\\\\\\\": 3}, {\\\\\\\\\\\\\\\"column\\\\\\\\\\\\\\\": {\\\\\\\\\\\\\\\"type\\\\\\\\\\\\\\\": 2, \\\\\\\\\\\\\\\"details\\\\\\\\\\\\\\\": {\\\\\\\\\\\\\\\"selectedColumn\\\\\\\\\\\\\\\": \\\\\\\\\\\\\\\"CTB1Y\\\\\\\\\\\\\\\"}}, \\\\\\\\\\\\\\\"typeProperty\\\\\\\\\\\\\\\": 3}, {\\\\\\\\\\\\\\\"column\\\\\\\\\\\\\\\": {\\\\\\\\\\\\\\\"type\\\\\\\\\\\\\\\": 2, \\\\\\\\\\\\\\\"details\\\\\\\\\\\\\\\": {\\\\\\\\\\\\\\\"selectedColumn\\\\\\\\\\\\\\\": \\\\\\\\\\\\\\\"AUD\\\\\\\\\\\\\\\"}}, \\\\\\\\\\\\\\\"typeProperty\\\\\\\\\\\\\\\": 3}, {\\\\\\\\\\\\\\\"column\\\\\\\\\\\\\\\": {\\\\\\\\\\\\\\\"type\\\\\\\\\\\\\\\": 2, \\\\\\\\\\\\\\\"details\\\\\\\\\\\\\\\": {\\\\\\\\\\\\\\\"selectedColumn\\\\\\\\\\\\\\\": \\\\\\\\\\\\\\\"Brent\\\\\\\\\\\\\\\"}}, \\\\\\\\\\\\\\\"typeProperty\\\\\\\\\\\\\\\": 3}, {\\\\\\\\\\\\\\\"column\\\\\\\\\\\\\\\": {\\\\\\\\\\\\\\\"type\\\\\\\\\\\\\\\": 2, \\\\\\\\\\\\\\\"details\\\\\\\\\\\\\\\": {\\\\\\\\\\\\\\\"selectedColumn\\\\\\\\\\\\\\\": \\\\\\\\\\\\\\\"CAC-F\\\\\\\\\\\\\\\"}}, \\\\\\\\\\\\\\\"typeProperty\\\\\\\\\\\\\\\": 3}, {\\\\\\\\\\\\\\\"column\\\\\\\\\\\\\\\": {\\\\\\\\\\\\\\\"type\\\\\\\\\\\\\\\": 2, \\\\\\\\\\\\\\\"details\\\\\\\\\\\\\\\": {\\\\\\\\\\\\\\\"selectedColumn\\\\\\\\\\\\\\\": \\\\\\\\\\\\\\\"copper-F\\\\\\\\\\\\\\\"}}, \\\\\\\\\\\\\\\"typeProperty\\\\\\\\\\\\\\\": 3}, {\\\\\\\\\\\\\\\"column\\\\\\\\\\\\\\\": {\\\\\\\\\\\\\\\"type\\\\\\\\\\\\\\\": 2, \\\\\\\\\\\\\\\"details\\\\\\\\\\\\\\\": {\\\\\\\\\\\\\\\"selectedColumn\\\\\\\\\\\\\\\": \\\\\\\\\\\\\\\"WIT-oil\\\\\\\\\\\\\\\"}}, \\\\\\\\\\\\\\\"typeProperty\\\\\\\\\\\\\\\": 3}, {\\\\\\\\\\\\\\\"column\\\\\\\\\\\\\\\": {\\\\\\\\\\\\\\\"type\\\\\\\\\\\\\\\": 2, \\\\\\\\\\\\\\\"details\\\\\\\\\\\\\\\": {\\\\\\\\\\\\\\\"selectedColumn\\\\\\\\\\\\\\\": \\\\\\\\\\\\\\\"DAX-F\\\\\\\\\\\\\\\"}}, \\\\\\\\\\\\\\\"typeProperty\\\\\\\\\\\\\\\": 3}, {\\\\\\\\\\\\\\\"column\\\\\\\\\\\\\\\": {\\\\\\\\\\\\\\\"type\\\\\\\\\\\\\\\": 2, \\\\\\\\\\\\\\\"details\\\\\\\\\\\\\\\": {\\\\\\\\\\\\\\\"selectedColumn\\\\\\\\\\\\\\\": \\\\\\\\\\\\\\\"DJI-F\\\\\\\\\\\\\\\"}}, \\\\\\\\\\\\\\\"typeProperty\\\\\\\\\\\\\\\": 3}, {\\\\\\\\\\\\\\\"column\\\\\\\\\\\\\\\": {\\\\\\\\\\\\\\\"type\\\\\\\\\\\\\\\": 2, \\\\\\\\\\\\\\\"details\\\\\\\\\\\\\\\": {\\\\\\\\\\\\\\\"selectedColumn\\\\\\\\\\\\\\\": \\\\\\\\\\\\\\\"EUR\\\\\\\\\\\\\\\"}}, \\\\\\\\\\\\\\\"typeProperty\\\\\\\\\\\\\\\": 3}, {\\\\\\\\\\\\\\\"column\\\\\\\\\\\\\\\": {\\\\\\\\\\\\\\\"type\\\\\\\\\\\\\\\": 2, \\\\\\\\\\\\\\\"details\\\\\\\\\\\\\\\": {\\\\\\\\\\\\\\\"selectedColumn\\\\\\\\\\\\\\\": \\\\\\\\\\\\\\\"FTSE-F\\\\\\\\\\\\\\\"}}, \\\\\\\\\\\\\\\"typeProperty\\\\\\\\\\\\\\\": 3}, {\\\\\\\\\\\\\\\"column\\\\\\\\\\\\\\\": {\\\\\\\\\\\\\\\"type\\\\\\\\\\\\\\\": 2, \\\\\\\\\\\\\\\"details\\\\\\\\\\\\\\\": {\\\\\\\\\\\\\\\"selectedColumn\\\\\\\\\\\\\\\": \\\\\\\\\\\\\\\"gold-F\\\\\\\\\\\\\\\"}}, \\\\\\\\\\\\\\\"typeProperty\\\\\\\\\\\\\\\": 3}, {\\\\\\\\\\\\\\\"column\\\\\\\\\\\\\\\": {\\\\\\\\\\\\\\\"type\\\\\\\\\\\\\\\": 2, \\\\\\\\\\\\\\\"details\\\\\\\\\\\\\\\": {\\\\\\\\\\\\\\\"selectedColumn\\\\\\\\\\\\\\\": \\\\\\\\\\\\\\\"HSI-F\\\\\\\\\\\\\\\"}}, \\\\\\\\\\\\\\\"typeProperty\\\\\\\\\\\\\\\": 3}, {\\\\\\\\\\\\\\\"column\\\\\\\\\\\\\\\": {\\\\\\\\\\\\\\\"type\\\\\\\\\\\\\\\": 2, \\\\\\\\\\\\\\\"details\\\\\\\\\\\\\\\": {\\\\\\\\\\\\\\\"selectedColumn\\\\\\\\\\\\\\\": \\\\\\\\\\\\\\\"KOSPI-F\\\\\\\\\\\\\\\"}}, \\\\\\\\\\\\\\\"typeProperty\\\\\\\\\\\\\\\": 3}, {\\\\\\\\\\\\\\\"column\\\\\\\\\\\\\\\": {\\\\\\\\\\\\\\\"type\\\\\\\\\\\\\\\": 2, \\\\\\\\\\\\\\\"details\\\\\\\\\\\\\\\": {\\\\\\\\\\\\\\\"selectedColumn\\\\\\\\\\\\\\\": \\\\\\\\\\\\\\\"NASDAQ-F\\\\\\\\\\\\\\\"}}, \\\\\\\\\\\\\\\"typeProperty\\\\\\\\\\\\\\\": 3}, {\\\\\\\\\\\\\\\"column\\\\\\\\\\\\\\\": {\\\\\\\\\\\\\\\"type\\\\\\\\\\\\\\\": 2, \\\\\\\\\\\\\\\"details\\\\\\\\\\\\\\\": {\\\\\\\\\\\\\\\"selectedColumn\\\\\\\\\\\\\\\": \\\\\\\\\\\\\\\"GAS-F\\\\\\\\\\\\\\\"}}, \\\\\\\\\\\\\\\"typeProperty\\\\\\\\\\\\\\\": 3}, {\\\\\\\\\\\\\\\"column\\\\\\\\\\\\\\\": {\\\\\\\\\\\\\\\"type\\\\\\\\\\\\\\\": 2, \\\\\\\\\\\\\\\"details\\\\\\\\\\\\\\\": {\\\\\\\\\\\\\\\"selectedColumn\\\\\\\\\\\\\\\": \\\\\\\\\\\\\\\"Nikkei-F\\\\\\\\\\\\\\\"}}, \\\\\\\\\\\\\\\"typeProperty\\\\\\\\\\\\\\\": 3}, {\\\\\\\\\\\\\\\"column\\\\\\\\\\\\\\\": {\\\\\\\\\\\\\\\"type\\\\\\\\\\\\\\\": 2, \\\\\\\\\\\\\\\"details\\\\\\\\\\\\\\\": {\\\\\\\\\\\\\\\"selectedColumn\\\\\\\\\\\\\\\": \\\\\\\\\\\\\\\"NZD\\\\\\\\\\\\\\\"}}, \\\\\\\\\\\\\\\"typeProperty\\\\\\\\\\\\\\\": 3}, {\\\\\\\\\\\\\\\"column\\\\\\\\\\\\\\\": {\\\\\\\\\\\\\\\"type\\\\\\\\\\\\\\\": 2, \\\\\\\\\\\\\\\"details\\\\\\\\\\\\\\\": {\\\\\\\\\\\\\\\"selectedColumn\\\\\\\\\\\\\\\": \\\\\\\\\\\\\\\"silver-F\\\\\\\\\\\\\\\"}}, \\\\\\\\\\\\\\\"typeProperty\\\\\\\\\\\\\\\": 3}, {\\\\\\\\\\\\\\\"column\\\\\\\\\\\\\\\": {\\\\\\\\\\\\\\\"type\\\\\\\\\\\\\\\": 2, \\\\\\\\\\\\\\\"details\\\\\\\\\\\\\\\": {\\\\\\\\\\\\\\\"selectedColumn\\\\\\\\\\\\\\\": \\\\\\\\\\\\\\\"RUSSELL-F\\\\\\\\\\\\\\\"}}, \\\\\\\\\\\\\\\"typeProperty\\\\\\\\\\\\\\\": 3}, {\\\\\\\\\\\\\\\"column\\\\\\\\\\\\\\\": {\\\\\\\\\\\\\\\"type\\\\\\\\\\\\\\\": 2, \\\\\\\\\\\\\\\"details\\\\\\\\\\\\\\\": {\\\\\\\\\\\\\\\"selectedColumn\\\\\\\\\\\\\\\": \\\\\\\\\\\\\\\"S&P-F\\\\\\\\\\\\\\\"}}, \\\\\\\\\\\\\\\"typeProperty\\\\\\\\\\\\\\\": 3}, {\\\\\\\\\\\\\\\"column\\\\\\\\\\\\\\\": {\\\\\\\\\\\\\\\"type\\\\\\\\\\\\\\\": 2, \\\\\\\\\\\\\\\"details\\\\\\\\\\\\\\\": {\\\\\\\\\\\\\\\"selectedColumn\\\\\\\\\\\\\\\": \\\\\\\\\\\\\\\"CHF\\\\\\\\\\\\\\\"}}, \\\\\\\\\\\\\\\"typeProperty\\\\\\\\\\\\\\\": 3}, {\\\\\\\\\\\\\\\"column\\\\\\\\\\\\\\\": {\\\\\\\\\\\\\\\"type\\\\\\\\\\\\\\\": 2, \\\\\\\\\\\\\\\"details\\\\\\\\\\\\\\\": {\\\\\\\\\\\\\\\"selectedColumn\\\\\\\\\\\\\\\": \\\\\\\\\\\\\\\"Dollar index-F\\\\\\\\\\\\\\\"}}, \\\\\\\\\\\\\\\"typeProperty\\\\\\\\\\\\\\\": 3}, {\\\\\\\\\\\\\\\"column\\\\\\\\\\\\\\\": {\\\\\\\\\\\\\\\"type\\\\\\\\\\\\\\\": 2, \\\\\\\\\\\\\\\"details\\\\\\\\\\\\\\\": {\\\\\\\\\\\\\\\"selectedColumn\\\\\\\\\\\\\\\": \\\\\\\\\\\\\\\"Dollar index\\\\\\\\\\\\\\\"}}, \\\\\\\\\\\\\\\"typeProperty\\\\\\\\\\\\\\\": 3}, {\\\\\\\\\\\\\\\"column\\\\\\\\\\\\\\\": {\\\\\\\\\\\\\\\"type\\\\\\\\\\\\\\\": 2, \\\\\\\\\\\\\\\"details\\\\\\\\\\\\\\\": {\\\\\\\\\\\\\\\"selectedColumn\\\\\\\\\\\\\\\": \\\\\\\\\\\\\\\"wheat-F\\\\\\\\\\\\\\\"}}, \\\\\\\\\\\\\\\"typeProperty\\\\\\\\\\\\\\\": 3}, {\\\\\\\\\\\\\\\"column\\\\\\\\\\\\\\\": {\\\\\\\\\\\\\\\"type\\\\\\\\\\\\\\\": 2, \\\\\\\\\\\\\\\"details\\\\\\\\\\\\\\\": {\\\\\\\\\\\\\\\"selectedColumn\\\\\\\\\\\\\\\": \\\\\\\\\\\\\\\"XAG\\\\\\\\\\\\\\\"}}, \\\\\\\\\\\\\\\"typeProperty\\\\\\\\\\\\\\\": 3}, {\\\\\\\\\\\\\\\"column\\\\\\\\\\\\\\\": {\\\\\\\\\\\\\\\"type\\\\\\\\\\\\\\\": 2, \\\\\\\\\\\\\\\"details\\\\\\\\\\\\\\\": {\\\\\\\\\\\\\\\"selectedColumn\\\\\\\\\\\\\\\": \\\\\\\\\\\\\\\"XAU\\\\\\\\\\\\\\\"}}, \\\\\\\\\\\\\\\"typeProperty\\\\\\\\\\\\\\\": 3}, {\\\\\\\\\\\\\\\"column\\\\\\\\\\\\\\\": {\\\\\\\\\\\\\\\"type\\\\\\\\\\\\\\\": 2, \\\\\\\\\\\\\\\"details\\\\\\\\\\\\\\\": {\\\\\\\\\\\\\\\"selectedColumn\\\\\\\\\\\\\\\": \\\\\\\\\\\\\\\"y\\\\\\\\\\\\\\\"}}, \\\\\\\\\\\\\\\"typeProperty\\\\\\\\\\\\\\\": 3}]}, \\\\\\\\\\\\\\\"localData\\\\\\\\\\\\\\\": {}, \\\\\\\\\\\\\\\"isEnabled\\\\\\\\\\\\\\\": true, \\\\\\\\\\\\\\\"name\\\\\\\\\\\\\\\": null, \\\\\\\\\\\\\\\"annotation\\\\\\\\\\\\\\\": null}, {\\\\\\\\\\\\\\\"id\\\\\\\\\\\\\\\": \\\\\\\\\\\\\\\"4f91d732-1d3f-4c5f-b6bf-c7401d3cf321\\\\\\\\\\\\\\\", \\\\\\\\\\\\\\\"type\\\\\\\\\\\\\\\": \\\\\\\\\\\\\\\"Microsoft.DPrep.TakeSampleBlock\\\\\\\\\\\\\\\", \\\\\\\\\\\\\\\"arguments\\\\\\\\\\\\\\\": {\\\\\\\\\\\\\\\"probability\\\\\\\\\\\\\\\": 0.7, \\\\\\\\\\\\\\\"probabilityLowerBound\\\\\\\\\\\\\\\": 0.0, \\\\\\\\\\\\\\\"seed\\\\\\\\\\\\\\\": 42}, \\\\\\\\\\\\\\\"localData\\\\\\\\\\\\\\\": {}, \\\\\\\\\\\\\\\"isEnabled\\\\\\\\\\\\\\\": true, \\\\\\\\\\\\\\\"name\\\\\\\\\\\\\\\": null, \\\\\\\\\\\\\\\"annotation\\\\\\\\\\\\\\\": null}], \\\\\\\\\\\\\\\"inspectors\\\\\\\\\\\\\\\": [], \\\\\\\\\\\\\\\"meta\\\\\\\\\\\\\\\": {\\\\\\\\\\\\\\\"savedDatasetId\\\\\\\\\\\\\\\": \\\\\\\\\\\\\\\"35670d52-57ff-4d87-8a62-4294aa4820d9\\\\\\\\\\\\\\\", \\\\\\\\\\\\\\\"datasetType\\\\\\\\\\\\\\\": \\\\\\\\\\\\\\\"tabular\\\\\\\\\\\\\\\", \\\\\\\\\\\\\\\"subscriptionId\\\\\\\\\\\\\\\": \\\\\\\\\\\\\\\"1f63a07e-5703-4d10-925f-b1c603594482\\\\\\\\\\\\\\\", \\\\\\\\\\\\\\\"workspaceId\\\\\\\\\\\\\\\": \\\\\\\\\\\\\\\"a01807fd-f5e9-4092-ad34-5148a177d9c3\\\\\\\\\\\\\\\", \\\\\\\\\\\\\\\"workspaceLocation\\\\\\\\\\\\\\\": \\\\\\\\\\\\\\\"westeurope\\\\\\\\\\\\\\\"}}\\\\\\\", \\\\\\\"validation_data\\\\\\\": \\\\\\\"{\\\\\\\\\\\\\\\"blocks\\\\\\\\\\\\\\\": [{\\\\\\\\\\\\\\\"id\\\\\\\\\\\\\\\": \\\\\\\\\\\\\\\"4a33864b-fa1e-4c83-a4cf-3eb53a65fa63\\\\\\\\\\\\\\\", \\\\\\\\\\\\\\\"type\\\\\\\\\\\\\\\": \\\\\\\\\\\\\\\"Microsoft.DPrep.GetDatastoreFilesBlock\\\\\\\\\\\\\\\", \\\\\\\\\\\\\\\"arguments\\\\\\\\\\\\\\\": {\\\\\\\\\\\\\\\"datastores\\\\\\\\\\\\\\\": [{\\\\\\\\\\\\\\\"datastoreName\\\\\\\\\\\\\\\": \\\\\\\\\\\\\\\"workspaceblobstore\\\\\\\\\\\\\\\", \\\\\\\\\\\\\\\"path\\\\\\\\\\\\\\\": \\\\\\\\\\\\\\\"data/normalized_data.csv\\\\\\\\\\\\\\\", \\\\\\\\\\\\\\\"resourceGroup\\\\\\\\\\\\\\\": \\\\\\\\\\\\\\\"uda3rg\\\\\\\\\\\\\\\", \\\\\\\\\\\\\\\"subscription\\\\\\\\\\\\\\\": \\\\\\\\\\\\\\\"1f63a07e-5703-4d10-925f-b1c603594482\\\\\\\\\\\\\\\", \\\\\\\\\\\\\\\"workspaceName\\\\\\\\\\\\\\\": \\\\\\\\\\\\\\\"uda3ws\\\\\\\\\\\\\\\"}]}, \\\\\\\\\\\\\\\"localData\\\\\\\\\\\\\\\": {}, \\\\\\\\\\\\\\\"isEnabled\\\\\\\\\\\\\\\": true, \\\\\\\\\\\\\\\"name\\\\\\\\\\\\\\\": null, \\\\\\\\\\\\\\\"annotation\\\\\\\\\\\\\\\": null}, {\\\\\\\\\\\\\\\"id\\\\\\\\\\\\\\\": \\\\\\\\\\\\\\\"4ecb5178-92de-4719-9eb1-bb3edc54a49a\\\\\\\\\\\\\\\", \\\\\\\\\\\\\\\"type\\\\\\\\\\\\\\\": \\\\\\\\\\\\\\\"Microsoft.DPrep.ParseDelimitedBlock\\\\\\\\\\\\\\\", \\\\\\\\\\\\\\\"arguments\\\\\\\\\\\\\\\": {\\\\\\\\\\\\\\\"columnHeadersMode\\\\\\\\\\\\\\\": 3, \\\\\\\\\\\\\\\"fileEncoding\\\\\\\\\\\\\\\": 0, \\\\\\\\\\\\\\\"handleQuotedLineBreaks\\\\\\\\\\\\\\\": false, \\\\\\\\\\\\\\\"preview\\\\\\\\\\\\\\\": false, \\\\\\\\\\\\\\\"separator\\\\\\\\\\\\\\\": \\\\\\\\\\\\\\\",\\\\\\\\\\\\\\\", \\\\\\\\\\\\\\\"skipRows\\\\\\\\\\\\\\\": 0, \\\\\\\\\\\\\\\"skipRowsMode\\\\\\\\\\\\\\\": 0}, \\\\\\\\\\\\\\\"localData\\\\\\\\\\\\\\\": {}, \\\\\\\\\\\\\\\"isEnabled\\\\\\\\\\\\\\\": true, \\\\\\\\\\\\\\\"name\\\\\\\\\\\\\\\": null, \\\\\\\\\\\\\\\"annotation\\\\\\\\\\\\\\\": null}, {\\\\\\\\\\\\\\\"id\\\\\\\\\\\\\\\": \\\\\\\\\\\\\\\"9f7db1ec-9c49-4bf4-8f18-05a1949aa3f9\\\\\\\\\\\\\\\", \\\\\\\\\\\\\\\"type\\\\\\\\\\\\\\\": \\\\\\\\\\\\\\\"Microsoft.DPrep.DropColumnsBlock\\\\\\\\\\\\\\\", \\\\\\\\\\\\\\\"arguments\\\\\\\\\\\\\\\": {\\\\\\\\\\\\\\\"columns\\\\\\\\\\\\\\\": {\\\\\\\\\\\\\\\"type\\\\\\\\\\\\\\\": 0, \\\\\\\\\\\\\\\"details\\\\\\\\\\\\\\\": {\\\\\\\\\\\\\\\"selectedColumns\\\\\\\\\\\\\\\": [\\\\\\\\\\\\\\\"Path\\\\\\\\\\\\\\\"]}}}, \\\\\\\\\\\\\\\"localData\\\\\\\\\\\\\\\": {}, \\\\\\\\\\\\\\\"isEnabled\\\\\\\\\\\\\\\": true, \\\\\\\\\\\\\\\"name\\\\\\\\\\\\\\\": null, \\\\\\\\\\\\\\\"annotation\\\\\\\\\\\\\\\": null}, {\\\\\\\\\\\\\\\"id\\\\\\\\\\\\\\\": \\\\\\\\\\\\\\\"bb6467ae-c7ac-47ff-bdda-87faf0bea585\\\\\\\\\\\\\\\", \\\\\\\\\\\\\\\"type\\\\\\\\\\\\\\\": \\\\\\\\\\\\\\\"Microsoft.DPrep.SetColumnTypesBlock\\\\\\\\\\\\\\\", \\\\\\\\\\\\\\\"arguments\\\\\\\\\\\\\\\": {\\\\\\\\\\\\\\\"columnConversion\\\\\\\\\\\\\\\": [{\\\\\\\\\\\\\\\"column\\\\\\\\\\\\\\\": {\\\\\\\\\\\\\\\"type\\\\\\\\\\\\\\\": 2, \\\\\\\\\\\\\\\"details\\\\\\\\\\\\\\\": {\\\\\\\\\\\\\\\"selectedColumn\\\\\\\\\\\\\\\": \\\\\\\\\\\\\\\"Column1\\\\\\\\\\\\\\\"}}, \\\\\\\\\\\\\\\"typeProperty\\\\\\\\\\\\\\\": 2}, {\\\\\\\\\\\\\\\"column\\\\\\\\\\\\\\\": {\\\\\\\\\\\\\\\"type\\\\\\\\\\\\\\\": 2, \\\\\\\\\\\\\\\"details\\\\\\\\\\\\\\\": {\\\\\\\\\\\\\\\"selectedColumn\\\\\\\\\\\\\\\": \\\\\\\\\\\\\\\"Volume\\\\\\\\\\\\\\\"}}, \\\\\\\\\\\\\\\"typeProperty\\\\\\\\\\\\\\\": 3}, {\\\\\\\\\\\\\\\"column\\\\\\\\\\\\\\\": {\\\\\\\\\\\\\\\"type\\\\\\\\\\\\\\\": 2, \\\\\\\\\\\\\\\"details\\\\\\\\\\\\\\\": {\\\\\\\\\\\\\\\"selectedColumn\\\\\\\\\\\\\\\": \\\\\\\\\\\\\\\"mom\\\\\\\\\\\\\\\"}}, \\\\\\\\\\\\\\\"typeProperty\\\\\\\\\\\\\\\": 3}, {\\\\\\\\\\\\\\\"column\\\\\\\\\\\\\\\": {\\\\\\\\\\\\\\\"type\\\\\\\\\\\\\\\": 2, \\\\\\\\\\\\\\\"details\\\\\\\\\\\\\\\": {\\\\\\\\\\\\\\\"selectedColumn\\\\\\\\\\\\\\\": \\\\\\\\\\\\\\\"mom1\\\\\\\\\\\\\\\"}}, \\\\\\\\\\\\\\\"typeProperty\\\\\\\\\\\\\\\": 3}, {\\\\\\\\\\\\\\\"column\\\\\\\\\\\\\\\": {\\\\\\\\\\\\\\\"type\\\\\\\\\\\\\\\": 2, \\\\\\\\\\\\\\\"details\\\\\\\\\\\\\\\": {\\\\\\\\\\\\\\\"selectedColumn\\\\\\\\\\\\\\\": \\\\\\\\\\\\\\\"mom2\\\\\\\\\\\\\\\"}}, \\\\\\\\\\\\\\\"typeProperty\\\\\\\\\\\\\\\": 3}, {\\\\\\\\\\\\\\\"column\\\\\\\\\\\\\\\": {\\\\\\\\\\\\\\\"type\\\\\\\\\\\\\\\": 2, \\\\\\\\\\\\\\\"details\\\\\\\\\\\\\\\": {\\\\\\\\\\\\\\\"selectedColumn\\\\\\\\\\\\\\\": \\\\\\\\\\\\\\\"mom3\\\\\\\\\\\\\\\"}}, \\\\\\\\\\\\\\\"typeProperty\\\\\\\\\\\\\\\": 3}, {\\\\\\\\\\\\\\\"column\\\\\\\\\\\\\\\": {\\\\\\\\\\\\\\\"type\\\\\\\\\\\\\\\": 2, \\\\\\\\\\\\\\\"details\\\\\\\\\\\\\\\": {\\\\\\\\\\\\\\\"selectedColumn\\\\\\\\\\\\\\\": \\\\\\\\\\\\\\\"ROC_5\\\\\\\\\\\\\\\"}}, \\\\\\\\\\\\\\\"typeProperty\\\\\\\\\\\\\\\": 3}, {\\\\\\\\\\\\\\\"column\\\\\\\\\\\\\\\": {\\\\\\\\\\\\\\\"type\\\\\\\\\\\\\\\": 2, \\\\\\\\\\\\\\\"details\\\\\\\\\\\\\\\": {\\\\\\\\\\\\\\\"selectedColumn\\\\\\\\\\\\\\\": \\\\\\\\\\\\\\\"ROC_10\\\\\\\\\\\\\\\"}}, \\\\\\\\\\\\\\\"typeProperty\\\\\\\\\\\\\\\": 3}, {\\\\\\\\\\\\\\\"column\\\\\\\\\\\\\\\": {\\\\\\\\\\\\\\\"type\\\\\\\\\\\\\\\": 2, \\\\\\\\\\\\\\\"details\\\\\\\\\\\\\\\": {\\\\\\\\\\\\\\\"selectedColumn\\\\\\\\\\\\\\\": \\\\\\\\\\\\\\\"ROC_15\\\\\\\\\\\\\\\"}}, \\\\\\\\\\\\\\\"typeProperty\\\\\\\\\\\\\\\": 3}, {\\\\\\\\\\\\\\\"column\\\\\\\\\\\\\\\": {\\\\\\\\\\\\\\\"type\\\\\\\\\\\\\\\": 2, \\\\\\\\\\\\\\\"details\\\\\\\\\\\\\\\": {\\\\\\\\\\\\\\\"selectedColumn\\\\\\\\\\\\\\\": \\\\\\\\\\\\\\\"ROC_20\\\\\\\\\\\\\\\"}}, \\\\\\\\\\\\\\\"typeProperty\\\\\\\\\\\\\\\": 3}, {\\\\\\\\\\\\\\\"column\\\\\\\\\\\\\\\": {\\\\\\\\\\\\\\\"type\\\\\\\\\\\\\\\": 2, \\\\\\\\\\\\\\\"details\\\\\\\\\\\\\\\": {\\\\\\\\\\\\\\\"selectedColumn\\\\\\\\\\\\\\\": \\\\\\\\\\\\\\\"EMA_10\\\\\\\\\\\\\\\"}}, \\\\\\\\\\\\\\\"typeProperty\\\\\\\\\\\\\\\": 3}, {\\\\\\\\\\\\\\\"column\\\\\\\\\\\\\\\": {\\\\\\\\\\\\\\\"type\\\\\\\\\\\\\\\": 2, \\\\\\\\\\\\\\\"details\\\\\\\\\\\\\\\": {\\\\\\\\\\\\\\\"selectedColumn\\\\\\\\\\\\\\\": \\\\\\\\\\\\\\\"EMA_20\\\\\\\\\\\\\\\"}}, \\\\\\\\\\\\\\\"typeProperty\\\\\\\\\\\\\\\": 3}, {\\\\\\\\\\\\\\\"column\\\\\\\\\\\\\\\": {\\\\\\\\\\\\\\\"type\\\\\\\\\\\\\\\": 2, \\\\\\\\\\\\\\\"details\\\\\\\\\\\\\\\": {\\\\\\\\\\\\\\\"selectedColumn\\\\\\\\\\\\\\\": \\\\\\\\\\\\\\\"DTB4WK\\\\\\\\\\\\\\\"}}, \\\\\\\\\\\\\\\"typeProperty\\\\\\\\\\\\\\\": 3}, {\\\\\\\\\\\\\\\"column\\\\\\\\\\\\\\\": {\\\\\\\\\\\\\\\"type\\\\\\\\\\\\\\\": 2, \\\\\\\\\\\\\\\"details\\\\\\\\\\\\\\\": {\\\\\\\\\\\\\\\"selectedColumn\\\\\\\\\\\\\\\": \\\\\\\\\\\\\\\"DTB3\\\\\\\\\\\\\\\"}}, \\\\\\\\\\\\\\\"typeProperty\\\\\\\\\\\\\\\": 3}, {\\\\\\\\\\\\\\\"column\\\\\\\\\\\\\\\": {\\\\\\\\\\\\\\\"type\\\\\\\\\\\\\\\": 2, \\\\\\\\\\\\\\\"details\\\\\\\\\\\\\\\": {\\\\\\\\\\\\\\\"selectedColumn\\\\\\\\\\\\\\\": \\\\\\\\\\\\\\\"DTB6\\\\\\\\\\\\\\\"}}, \\\\\\\\\\\\\\\"typeProperty\\\\\\\\\\\\\\\": 3}, {\\\\\\\\\\\\\\\"column\\\\\\\\\\\\\\\": {\\\\\\\\\\\\\\\"type\\\\\\\\\\\\\\\": 2, \\\\\\\\\\\\\\\"details\\\\\\\\\\\\\\\": {\\\\\\\\\\\\\\\"selectedColumn\\\\\\\\\\\\\\\": \\\\\\\\\\\\\\\"DGS5\\\\\\\\\\\\\\\"}}, \\\\\\\\\\\\\\\"typeProperty\\\\\\\\\\\\\\\": 3}, {\\\\\\\\\\\\\\\"column\\\\\\\\\\\\\\\": {\\\\\\\\\\\\\\\"type\\\\\\\\\\\\\\\": 2, \\\\\\\\\\\\\\\"details\\\\\\\\\\\\\\\": {\\\\\\\\\\\\\\\"selectedColumn\\\\\\\\\\\\\\\": \\\\\\\\\\\\\\\"DGS10\\\\\\\\\\\\\\\"}}, \\\\\\\\\\\\\\\"typeProperty\\\\\\\\\\\\\\\": 3}, {\\\\\\\\\\\\\\\"column\\\\\\\\\\\\\\\": {\\\\\\\\\\\\\\\"type\\\\\\\\\\\\\\\": 2, \\\\\\\\\\\\\\\"details\\\\\\\\\\\\\\\": {\\\\\\\\\\\\\\\"selectedColumn\\\\\\\\\\\\\\\": \\\\\\\\\\\\\\\"Oil\\\\\\\\\\\\\\\"}}, \\\\\\\\\\\\\\\"typeProperty\\\\\\\\\\\\\\\": 3}, {\\\\\\\\\\\\\\\"column\\\\\\\\\\\\\\\": {\\\\\\\\\\\\\\\"type\\\\\\\\\\\\\\\": 2, \\\\\\\\\\\\\\\"details\\\\\\\\\\\\\\\": {\\\\\\\\\\\\\\\"selectedColumn\\\\\\\\\\\\\\\": \\\\\\\\\\\\\\\"Gold\\\\\\\\\\\\\\\"}}, \\\\\\\\\\\\\\\"typeProperty\\\\\\\\\\\\\\\": 3}, {\\\\\\\\\\\\\\\"column\\\\\\\\\\\\\\\": {\\\\\\\\\\\\\\\"type\\\\\\\\\\\\\\\": 2, \\\\\\\\\\\\\\\"details\\\\\\\\\\\\\\\": {\\\\\\\\\\\\\\\"selectedColumn\\\\\\\\\\\\\\\": \\\\\\\\\\\\\\\"DAAA\\\\\\\\\\\\\\\"}}, \\\\\\\\\\\\\\\"typeProperty\\\\\\\\\\\\\\\": 3}, {\\\\\\\\\\\\\\\"column\\\\\\\\\\\\\\\": {\\\\\\\\\\\\\\\"type\\\\\\\\\\\\\\\": 2, \\\\\\\\\\\\\\\"details\\\\\\\\\\\\\\\": {\\\\\\\\\\\\\\\"selectedColumn\\\\\\\\\\\\\\\": \\\\\\\\\\\\\\\"DBAA\\\\\\\\\\\\\\\"}}, \\\\\\\\\\\\\\\"typeProperty\\\\\\\\\\\\\\\": 3}, {\\\\\\\\\\\\\\\"column\\\\\\\\\\\\\\\": {\\\\\\\\\\\\\\\"type\\\\\\\\\\\\\\\": 2, \\\\\\\\\\\\\\\"details\\\\\\\\\\\\\\\": {\\\\\\\\\\\\\\\"selectedColumn\\\\\\\\\\\\\\\": \\\\\\\\\\\\\\\"GBP\\\\\\\\\\\\\\\"}}, \\\\\\\\\\\\\\\"typeProperty\\\\\\\\\\\\\\\": 3}, {\\\\\\\\\\\\\\\"column\\\\\\\\\\\\\\\": {\\\\\\\\\\\\\\\"type\\\\\\\\\\\\\\\": 2, \\\\\\\\\\\\\\\"details\\\\\\\\\\\\\\\": {\\\\\\\\\\\\\\\"selectedColumn\\\\\\\\\\\\\\\": \\\\\\\\\\\\\\\"JPY\\\\\\\\\\\\\\\"}}, \\\\\\\\\\\\\\\"typeProperty\\\\\\\\\\\\\\\": 3}, {\\\\\\\\\\\\\\\"column\\\\\\\\\\\\\\\": {\\\\\\\\\\\\\\\"type\\\\\\\\\\\\\\\": 2, \\\\\\\\\\\\\\\"details\\\\\\\\\\\\\\\": {\\\\\\\\\\\\\\\"selectedColumn\\\\\\\\\\\\\\\": \\\\\\\\\\\\\\\"CAD\\\\\\\\\\\\\\\"}}, \\\\\\\\\\\\\\\"typeProperty\\\\\\\\\\\\\\\": 3}, {\\\\\\\\\\\\\\\"column\\\\\\\\\\\\\\\": {\\\\\\\\\\\\\\\"type\\\\\\\\\\\\\\\": 2, \\\\\\\\\\\\\\\"details\\\\\\\\\\\\\\\": {\\\\\\\\\\\\\\\"selectedColumn\\\\\\\\\\\\\\\": \\\\\\\\\\\\\\\"CNY\\\\\\\\\\\\\\\"}}, \\\\\\\\\\\\\\\"typeProperty\\\\\\\\\\\\\\\": 3}, {\\\\\\\\\\\\\\\"column\\\\\\\\\\\\\\\": {\\\\\\\\\\\\\\\"type\\\\\\\\\\\\\\\": 2, \\\\\\\\\\\\\\\"details\\\\\\\\\\\\\\\": {\\\\\\\\\\\\\\\"selectedColumn\\\\\\\\\\\\\\\": \\\\\\\\\\\\\\\"AAPL\\\\\\\\\\\\\\\"}}, \\\\\\\\\\\\\\\"typeProperty\\\\\\\\\\\\\\\": 3}, {\\\\\\\\\\\\\\\"column\\\\\\\\\\\\\\\": {\\\\\\\\\\\\\\\"type\\\\\\\\\\\\\\\": 2, \\\\\\\\\\\\\\\"details\\\\\\\\\\\\\\\": {\\\\\\\\\\\\\\\"selectedColumn\\\\\\\\\\\\\\\": \\\\\\\\\\\\\\\"AMZN\\\\\\\\\\\\\\\"}}, \\\\\\\\\\\\\\\"typeProperty\\\\\\\\\\\\\\\": 3}, {\\\\\\\\\\\\\\\"column\\\\\\\\\\\\\\\": {\\\\\\\\\\\\\\\"type\\\\\\\\\\\\\\\": 2, \\\\\\\\\\\\\\\"details\\\\\\\\\\\\\\\": {\\\\\\\\\\\\\\\"selectedColumn\\\\\\\\\\\\\\\": \\\\\\\\\\\\\\\"GE\\\\\\\\\\\\\\\"}}, \\\\\\\\\\\\\\\"typeProperty\\\\\\\\\\\\\\\": 3}, {\\\\\\\\\\\\\\\"column\\\\\\\\\\\\\\\": {\\\\\\\\\\\\\\\"type\\\\\\\\\\\\\\\": 2, \\\\\\\\\\\\\\\"details\\\\\\\\\\\\\\\": {\\\\\\\\\\\\\\\"selectedColumn\\\\\\\\\\\\\\\": \\\\\\\\\\\\\\\"JNJ\\\\\\\\\\\\\\\"}}, \\\\\\\\\\\\\\\"typeProperty\\\\\\\\\\\\\\\": 3}, {\\\\\\\\\\\\\\\"column\\\\\\\\\\\\\\\": {\\\\\\\\\\\\\\\"type\\\\\\\\\\\\\\\": 2, \\\\\\\\\\\\\\\"details\\\\\\\\\\\\\\\": {\\\\\\\\\\\\\\\"selectedColumn\\\\\\\\\\\\\\\": \\\\\\\\\\\\\\\"JPM\\\\\\\\\\\\\\\"}}, \\\\\\\\\\\\\\\"typeProperty\\\\\\\\\\\\\\\": 3}, {\\\\\\\\\\\\\\\"column\\\\\\\\\\\\\\\": {\\\\\\\\\\\\\\\"type\\\\\\\\\\\\\\\": 2, \\\\\\\\\\\\\\\"details\\\\\\\\\\\\\\\": {\\\\\\\\\\\\\\\"selectedColumn\\\\\\\\\\\\\\\": \\\\\\\\\\\\\\\"MSFT\\\\\\\\\\\\\\\"}}, \\\\\\\\\\\\\\\"typeProperty\\\\\\\\\\\\\\\": 3}, {\\\\\\\\\\\\\\\"column\\\\\\\\\\\\\\\": {\\\\\\\\\\\\\\\"type\\\\\\\\\\\\\\\": 2, \\\\\\\\\\\\\\\"details\\\\\\\\\\\\\\\": {\\\\\\\\\\\\\\\"selectedColumn\\\\\\\\\\\\\\\": \\\\\\\\\\\\\\\"WFC\\\\\\\\\\\\\\\"}}, \\\\\\\\\\\\\\\"typeProperty\\\\\\\\\\\\\\\": 3}, {\\\\\\\\\\\\\\\"column\\\\\\\\\\\\\\\": {\\\\\\\\\\\\\\\"type\\\\\\\\\\\\\\\": 2, \\\\\\\\\\\\\\\"details\\\\\\\\\\\\\\\": {\\\\\\\\\\\\\\\"selectedColumn\\\\\\\\\\\\\\\": \\\\\\\\\\\\\\\"XOM\\\\\\\\\\\\\\\"}}, \\\\\\\\\\\\\\\"typeProperty\\\\\\\\\\\\\\\": 3}, {\\\\\\\\\\\\\\\"column\\\\\\\\\\\\\\\": {\\\\\\\\\\\\\\\"type\\\\\\\\\\\\\\\": 2, \\\\\\\\\\\\\\\"details\\\\\\\\\\\\\\\": {\\\\\\\\\\\\\\\"selectedColumn\\\\\\\\\\\\\\\": \\\\\\\\\\\\\\\"FCHI\\\\\\\\\\\\\\\"}}, \\\\\\\\\\\\\\\"typeProperty\\\\\\\\\\\\\\\": 3}, {\\\\\\\\\\\\\\\"column\\\\\\\\\\\\\\\": {\\\\\\\\\\\\\\\"type\\\\\\\\\\\\\\\": 2, \\\\\\\\\\\\\\\"details\\\\\\\\\\\\\\\": {\\\\\\\\\\\\\\\"selectedColumn\\\\\\\\\\\\\\\": \\\\\\\\\\\\\\\"FTSE\\\\\\\\\\\\\\\"}}, \\\\\\\\\\\\\\\"typeProperty\\\\\\\\\\\\\\\": 3}, {\\\\\\\\\\\\\\\"column\\\\\\\\\\\\\\\": {\\\\\\\\\\\\\\\"type\\\\\\\\\\\\\\\": 2, \\\\\\\\\\\\\\\"details\\\\\\\\\\\\\\\": {\\\\\\\\\\\\\\\"selectedColumn\\\\\\\\\\\\\\\": \\\\\\\\\\\\\\\"GDAXI\\\\\\\\\\\\\\\"}}, \\\\\\\\\\\\\\\"typeProperty\\\\\\\\\\\\\\\": 3}, {\\\\\\\\\\\\\\\"column\\\\\\\\\\\\\\\": {\\\\\\\\\\\\\\\"type\\\\\\\\\\\\\\\": 2, \\\\\\\\\\\\\\\"details\\\\\\\\\\\\\\\": {\\\\\\\\\\\\\\\"selectedColumn\\\\\\\\\\\\\\\": \\\\\\\\\\\\\\\"GSPC\\\\\\\\\\\\\\\"}}, \\\\\\\\\\\\\\\"typeProperty\\\\\\\\\\\\\\\": 3}, {\\\\\\\\\\\\\\\"column\\\\\\\\\\\\\\\": {\\\\\\\\\\\\\\\"type\\\\\\\\\\\\\\\": 2, \\\\\\\\\\\\\\\"details\\\\\\\\\\\\\\\": {\\\\\\\\\\\\\\\"selectedColumn\\\\\\\\\\\\\\\": \\\\\\\\\\\\\\\"HSI\\\\\\\\\\\\\\\"}}, \\\\\\\\\\\\\\\"typeProperty\\\\\\\\\\\\\\\": 3}, {\\\\\\\\\\\\\\\"column\\\\\\\\\\\\\\\": {\\\\\\\\\\\\\\\"type\\\\\\\\\\\\\\\": 2, \\\\\\\\\\\\\\\"details\\\\\\\\\\\\\\\": {\\\\\\\\\\\\\\\"selectedColumn\\\\\\\\\\\\\\\": \\\\\\\\\\\\\\\"IXIC\\\\\\\\\\\\\\\"}}, \\\\\\\\\\\\\\\"typeProperty\\\\\\\\\\\\\\\": 3}, {\\\\\\\\\\\\\\\"column\\\\\\\\\\\\\\\": {\\\\\\\\\\\\\\\"type\\\\\\\\\\\\\\\": 2, \\\\\\\\\\\\\\\"details\\\\\\\\\\\\\\\": {\\\\\\\\\\\\\\\"selectedColumn\\\\\\\\\\\\\\\": \\\\\\\\\\\\\\\"SSEC\\\\\\\\\\\\\\\"}}, \\\\\\\\\\\\\\\"typeProperty\\\\\\\\\\\\\\\": 3}, {\\\\\\\\\\\\\\\"column\\\\\\\\\\\\\\\": {\\\\\\\\\\\\\\\"type\\\\\\\\\\\\\\\": 2, \\\\\\\\\\\\\\\"details\\\\\\\\\\\\\\\": {\\\\\\\\\\\\\\\"selectedColumn\\\\\\\\\\\\\\\": \\\\\\\\\\\\\\\"RUT\\\\\\\\\\\\\\\"}}, \\\\\\\\\\\\\\\"typeProperty\\\\\\\\\\\\\\\": 3}, {\\\\\\\\\\\\\\\"column\\\\\\\\\\\\\\\": {\\\\\\\\\\\\\\\"type\\\\\\\\\\\\\\\": 2, \\\\\\\\\\\\\\\"details\\\\\\\\\\\\\\\": {\\\\\\\\\\\\\\\"selectedColumn\\\\\\\\\\\\\\\": \\\\\\\\\\\\\\\"NYSE\\\\\\\\\\\\\\\"}}, \\\\\\\\\\\\\\\"typeProperty\\\\\\\\\\\\\\\": 3}, {\\\\\\\\\\\\\\\"column\\\\\\\\\\\\\\\": {\\\\\\\\\\\\\\\"type\\\\\\\\\\\\\\\": 2, \\\\\\\\\\\\\\\"details\\\\\\\\\\\\\\\": {\\\\\\\\\\\\\\\"selectedColumn\\\\\\\\\\\\\\\": \\\\\\\\\\\\\\\"TE1\\\\\\\\\\\\\\\"}}, \\\\\\\\\\\\\\\"typeProperty\\\\\\\\\\\\\\\": 3}, {\\\\\\\\\\\\\\\"column\\\\\\\\\\\\\\\": {\\\\\\\\\\\\\\\"type\\\\\\\\\\\\\\\": 2, \\\\\\\\\\\\\\\"details\\\\\\\\\\\\\\\": {\\\\\\\\\\\\\\\"selectedColumn\\\\\\\\\\\\\\\": \\\\\\\\\\\\\\\"TE2\\\\\\\\\\\\\\\"}}, \\\\\\\\\\\\\\\"typeProperty\\\\\\\\\\\\\\\": 3}, {\\\\\\\\\\\\\\\"column\\\\\\\\\\\\\\\": {\\\\\\\\\\\\\\\"type\\\\\\\\\\\\\\\": 2, \\\\\\\\\\\\\\\"details\\\\\\\\\\\\\\\": {\\\\\\\\\\\\\\\"selectedColumn\\\\\\\\\\\\\\\": \\\\\\\\\\\\\\\"TE3\\\\\\\\\\\\\\\"}}, \\\\\\\\\\\\\\\"typeProperty\\\\\\\\\\\\\\\": 3}, {\\\\\\\\\\\\\\\"column\\\\\\\\\\\\\\\": {\\\\\\\\\\\\\\\"type\\\\\\\\\\\\\\\": 2, \\\\\\\\\\\\\\\"details\\\\\\\\\\\\\\\": {\\\\\\\\\\\\\\\"selectedColumn\\\\\\\\\\\\\\\": \\\\\\\\\\\\\\\"TE5\\\\\\\\\\\\\\\"}}, \\\\\\\\\\\\\\\"typeProperty\\\\\\\\\\\\\\\": 3}, {\\\\\\\\\\\\\\\"column\\\\\\\\\\\\\\\": {\\\\\\\\\\\\\\\"type\\\\\\\\\\\\\\\": 2, \\\\\\\\\\\\\\\"details\\\\\\\\\\\\\\\": {\\\\\\\\\\\\\\\"selectedColumn\\\\\\\\\\\\\\\": \\\\\\\\\\\\\\\"TE6\\\\\\\\\\\\\\\"}}, \\\\\\\\\\\\\\\"typeProperty\\\\\\\\\\\\\\\": 3}, {\\\\\\\\\\\\\\\"column\\\\\\\\\\\\\\\": {\\\\\\\\\\\\\\\"type\\\\\\\\\\\\\\\": 2, \\\\\\\\\\\\\\\"details\\\\\\\\\\\\\\\": {\\\\\\\\\\\\\\\"selectedColumn\\\\\\\\\\\\\\\": \\\\\\\\\\\\\\\"DE1\\\\\\\\\\\\\\\"}}, \\\\\\\\\\\\\\\"typeProperty\\\\\\\\\\\\\\\": 3}, {\\\\\\\\\\\\\\\"column\\\\\\\\\\\\\\\": {\\\\\\\\\\\\\\\"type\\\\\\\\\\\\\\\": 2, \\\\\\\\\\\\\\\"details\\\\\\\\\\\\\\\": {\\\\\\\\\\\\\\\"selectedColumn\\\\\\\\\\\\\\\": \\\\\\\\\\\\\\\"DE2\\\\\\\\\\\\\\\"}}, \\\\\\\\\\\\\\\"typeProperty\\\\\\\\\\\\\\\": 3}, {\\\\\\\\\\\\\\\"column\\\\\\\\\\\\\\\": {\\\\\\\\\\\\\\\"type\\\\\\\\\\\\\\\": 2, \\\\\\\\\\\\\\\"details\\\\\\\\\\\\\\\": {\\\\\\\\\\\\\\\"selectedColumn\\\\\\\\\\\\\\\": \\\\\\\\\\\\\\\"DE4\\\\\\\\\\\\\\\"}}, \\\\\\\\\\\\\\\"typeProperty\\\\\\\\\\\\\\\": 3}, {\\\\\\\\\\\\\\\"column\\\\\\\\\\\\\\\": {\\\\\\\\\\\\\\\"type\\\\\\\\\\\\\\\": 2, \\\\\\\\\\\\\\\"details\\\\\\\\\\\\\\\": {\\\\\\\\\\\\\\\"selectedColumn\\\\\\\\\\\\\\\": \\\\\\\\\\\\\\\"DE5\\\\\\\\\\\\\\\"}}, \\\\\\\\\\\\\\\"typeProperty\\\\\\\\\\\\\\\": 3}, {\\\\\\\\\\\\\\\"column\\\\\\\\\\\\\\\": {\\\\\\\\\\\\\\\"type\\\\\\\\\\\\\\\": 2, \\\\\\\\\\\\\\\"details\\\\\\\\\\\\\\\": {\\\\\\\\\\\\\\\"selectedColumn\\\\\\\\\\\\\\\": \\\\\\\\\\\\\\\"DE6\\\\\\\\\\\\\\\"}}, \\\\\\\\\\\\\\\"typeProperty\\\\\\\\\\\\\\\": 3}, {\\\\\\\\\\\\\\\"column\\\\\\\\\\\\\\\": {\\\\\\\\\\\\\\\"type\\\\\\\\\\\\\\\": 2, \\\\\\\\\\\\\\\"details\\\\\\\\\\\\\\\": {\\\\\\\\\\\\\\\"selectedColumn\\\\\\\\\\\\\\\": \\\\\\\\\\\\\\\"CTB3M\\\\\\\\\\\\\\\"}}, \\\\\\\\\\\\\\\"typeProperty\\\\\\\\\\\\\\\": 3}, {\\\\\\\\\\\\\\\"column\\\\\\\\\\\\\\\": {\\\\\\\\\\\\\\\"type\\\\\\\\\\\\\\\": 2, \\\\\\\\\\\\\\\"details\\\\\\\\\\\\\\\": {\\\\\\\\\\\\\\\"selectedColumn\\\\\\\\\\\\\\\": \\\\\\\\\\\\\\\"CTB6M\\\\\\\\\\\\\\\"}}, \\\\\\\\\\\\\\\"typeProperty\\\\\\\\\\\\\\\": 3}, {\\\\\\\\\\\\\\\"column\\\\\\\\\\\\\\\": {\\\\\\\\\\\\\\\"type\\\\\\\\\\\\\\\": 2, \\\\\\\\\\\\\\\"details\\\\\\\\\\\\\\\": {\\\\\\\\\\\\\\\"selectedColumn\\\\\\\\\\\\\\\": \\\\\\\\\\\\\\\"CTB1Y\\\\\\\\\\\\\\\"}}, \\\\\\\\\\\\\\\"typeProperty\\\\\\\\\\\\\\\": 3}, {\\\\\\\\\\\\\\\"column\\\\\\\\\\\\\\\": {\\\\\\\\\\\\\\\"type\\\\\\\\\\\\\\\": 2, \\\\\\\\\\\\\\\"details\\\\\\\\\\\\\\\": {\\\\\\\\\\\\\\\"selectedColumn\\\\\\\\\\\\\\\": \\\\\\\\\\\\\\\"AUD\\\\\\\\\\\\\\\"}}, \\\\\\\\\\\\\\\"typeProperty\\\\\\\\\\\\\\\": 3}, {\\\\\\\\\\\\\\\"column\\\\\\\\\\\\\\\": {\\\\\\\\\\\\\\\"type\\\\\\\\\\\\\\\": 2, \\\\\\\\\\\\\\\"details\\\\\\\\\\\\\\\": {\\\\\\\\\\\\\\\"selectedColumn\\\\\\\\\\\\\\\": \\\\\\\\\\\\\\\"Brent\\\\\\\\\\\\\\\"}}, \\\\\\\\\\\\\\\"typeProperty\\\\\\\\\\\\\\\": 3}, {\\\\\\\\\\\\\\\"column\\\\\\\\\\\\\\\": {\\\\\\\\\\\\\\\"type\\\\\\\\\\\\\\\": 2, \\\\\\\\\\\\\\\"details\\\\\\\\\\\\\\\": {\\\\\\\\\\\\\\\"selectedColumn\\\\\\\\\\\\\\\": \\\\\\\\\\\\\\\"CAC-F\\\\\\\\\\\\\\\"}}, \\\\\\\\\\\\\\\"typeProperty\\\\\\\\\\\\\\\": 3}, {\\\\\\\\\\\\\\\"column\\\\\\\\\\\\\\\": {\\\\\\\\\\\\\\\"type\\\\\\\\\\\\\\\": 2, \\\\\\\\\\\\\\\"details\\\\\\\\\\\\\\\": {\\\\\\\\\\\\\\\"selectedColumn\\\\\\\\\\\\\\\": \\\\\\\\\\\\\\\"copper-F\\\\\\\\\\\\\\\"}}, \\\\\\\\\\\\\\\"typeProperty\\\\\\\\\\\\\\\": 3}, {\\\\\\\\\\\\\\\"column\\\\\\\\\\\\\\\": {\\\\\\\\\\\\\\\"type\\\\\\\\\\\\\\\": 2, \\\\\\\\\\\\\\\"details\\\\\\\\\\\\\\\": {\\\\\\\\\\\\\\\"selectedColumn\\\\\\\\\\\\\\\": \\\\\\\\\\\\\\\"WIT-oil\\\\\\\\\\\\\\\"}}, \\\\\\\\\\\\\\\"typeProperty\\\\\\\\\\\\\\\": 3}, {\\\\\\\\\\\\\\\"column\\\\\\\\\\\\\\\": {\\\\\\\\\\\\\\\"type\\\\\\\\\\\\\\\": 2, \\\\\\\\\\\\\\\"details\\\\\\\\\\\\\\\": {\\\\\\\\\\\\\\\"selectedColumn\\\\\\\\\\\\\\\": \\\\\\\\\\\\\\\"DAX-F\\\\\\\\\\\\\\\"}}, \\\\\\\\\\\\\\\"typeProperty\\\\\\\\\\\\\\\": 3}, {\\\\\\\\\\\\\\\"column\\\\\\\\\\\\\\\": {\\\\\\\\\\\\\\\"type\\\\\\\\\\\\\\\": 2, \\\\\\\\\\\\\\\"details\\\\\\\\\\\\\\\": {\\\\\\\\\\\\\\\"selectedColumn\\\\\\\\\\\\\\\": \\\\\\\\\\\\\\\"DJI-F\\\\\\\\\\\\\\\"}}, \\\\\\\\\\\\\\\"typeProperty\\\\\\\\\\\\\\\": 3}, {\\\\\\\\\\\\\\\"column\\\\\\\\\\\\\\\": {\\\\\\\\\\\\\\\"type\\\\\\\\\\\\\\\": 2, \\\\\\\\\\\\\\\"details\\\\\\\\\\\\\\\": {\\\\\\\\\\\\\\\"selectedColumn\\\\\\\\\\\\\\\": \\\\\\\\\\\\\\\"EUR\\\\\\\\\\\\\\\"}}, \\\\\\\\\\\\\\\"typeProperty\\\\\\\\\\\\\\\": 3}, {\\\\\\\\\\\\\\\"column\\\\\\\\\\\\\\\": {\\\\\\\\\\\\\\\"type\\\\\\\\\\\\\\\": 2, \\\\\\\\\\\\\\\"details\\\\\\\\\\\\\\\": {\\\\\\\\\\\\\\\"selectedColumn\\\\\\\\\\\\\\\": \\\\\\\\\\\\\\\"FTSE-F\\\\\\\\\\\\\\\"}}, \\\\\\\\\\\\\\\"typeProperty\\\\\\\\\\\\\\\": 3}, {\\\\\\\\\\\\\\\"column\\\\\\\\\\\\\\\": {\\\\\\\\\\\\\\\"type\\\\\\\\\\\\\\\": 2, \\\\\\\\\\\\\\\"details\\\\\\\\\\\\\\\": {\\\\\\\\\\\\\\\"selectedColumn\\\\\\\\\\\\\\\": \\\\\\\\\\\\\\\"gold-F\\\\\\\\\\\\\\\"}}, \\\\\\\\\\\\\\\"typeProperty\\\\\\\\\\\\\\\": 3}, {\\\\\\\\\\\\\\\"column\\\\\\\\\\\\\\\": {\\\\\\\\\\\\\\\"type\\\\\\\\\\\\\\\": 2, \\\\\\\\\\\\\\\"details\\\\\\\\\\\\\\\": {\\\\\\\\\\\\\\\"selectedColumn\\\\\\\\\\\\\\\": \\\\\\\\\\\\\\\"HSI-F\\\\\\\\\\\\\\\"}}, \\\\\\\\\\\\\\\"typeProperty\\\\\\\\\\\\\\\": 3}, {\\\\\\\\\\\\\\\"column\\\\\\\\\\\\\\\": {\\\\\\\\\\\\\\\"type\\\\\\\\\\\\\\\": 2, \\\\\\\\\\\\\\\"details\\\\\\\\\\\\\\\": {\\\\\\\\\\\\\\\"selectedColumn\\\\\\\\\\\\\\\": \\\\\\\\\\\\\\\"KOSPI-F\\\\\\\\\\\\\\\"}}, \\\\\\\\\\\\\\\"typeProperty\\\\\\\\\\\\\\\": 3}, {\\\\\\\\\\\\\\\"column\\\\\\\\\\\\\\\": {\\\\\\\\\\\\\\\"type\\\\\\\\\\\\\\\": 2, \\\\\\\\\\\\\\\"details\\\\\\\\\\\\\\\": {\\\\\\\\\\\\\\\"selectedColumn\\\\\\\\\\\\\\\": \\\\\\\\\\\\\\\"NASDAQ-F\\\\\\\\\\\\\\\"}}, \\\\\\\\\\\\\\\"typeProperty\\\\\\\\\\\\\\\": 3}, {\\\\\\\\\\\\\\\"column\\\\\\\\\\\\\\\": {\\\\\\\\\\\\\\\"type\\\\\\\\\\\\\\\": 2, \\\\\\\\\\\\\\\"details\\\\\\\\\\\\\\\": {\\\\\\\\\\\\\\\"selectedColumn\\\\\\\\\\\\\\\": \\\\\\\\\\\\\\\"GAS-F\\\\\\\\\\\\\\\"}}, \\\\\\\\\\\\\\\"typeProperty\\\\\\\\\\\\\\\": 3}, {\\\\\\\\\\\\\\\"column\\\\\\\\\\\\\\\": {\\\\\\\\\\\\\\\"type\\\\\\\\\\\\\\\": 2, \\\\\\\\\\\\\\\"details\\\\\\\\\\\\\\\": {\\\\\\\\\\\\\\\"selectedColumn\\\\\\\\\\\\\\\": \\\\\\\\\\\\\\\"Nikkei-F\\\\\\\\\\\\\\\"}}, \\\\\\\\\\\\\\\"typeProperty\\\\\\\\\\\\\\\": 3}, {\\\\\\\\\\\\\\\"column\\\\\\\\\\\\\\\": {\\\\\\\\\\\\\\\"type\\\\\\\\\\\\\\\": 2, \\\\\\\\\\\\\\\"details\\\\\\\\\\\\\\\": {\\\\\\\\\\\\\\\"selectedColumn\\\\\\\\\\\\\\\": \\\\\\\\\\\\\\\"NZD\\\\\\\\\\\\\\\"}}, \\\\\\\\\\\\\\\"typeProperty\\\\\\\\\\\\\\\": 3}, {\\\\\\\\\\\\\\\"column\\\\\\\\\\\\\\\": {\\\\\\\\\\\\\\\"type\\\\\\\\\\\\\\\": 2, \\\\\\\\\\\\\\\"details\\\\\\\\\\\\\\\": {\\\\\\\\\\\\\\\"selectedColumn\\\\\\\\\\\\\\\": \\\\\\\\\\\\\\\"silver-F\\\\\\\\\\\\\\\"}}, \\\\\\\\\\\\\\\"typeProperty\\\\\\\\\\\\\\\": 3}, {\\\\\\\\\\\\\\\"column\\\\\\\\\\\\\\\": {\\\\\\\\\\\\\\\"type\\\\\\\\\\\\\\\": 2, \\\\\\\\\\\\\\\"details\\\\\\\\\\\\\\\": {\\\\\\\\\\\\\\\"selectedColumn\\\\\\\\\\\\\\\": \\\\\\\\\\\\\\\"RUSSELL-F\\\\\\\\\\\\\\\"}}, \\\\\\\\\\\\\\\"typeProperty\\\\\\\\\\\\\\\": 3}, {\\\\\\\\\\\\\\\"column\\\\\\\\\\\\\\\": {\\\\\\\\\\\\\\\"type\\\\\\\\\\\\\\\": 2, \\\\\\\\\\\\\\\"details\\\\\\\\\\\\\\\": {\\\\\\\\\\\\\\\"selectedColumn\\\\\\\\\\\\\\\": \\\\\\\\\\\\\\\"S&P-F\\\\\\\\\\\\\\\"}}, \\\\\\\\\\\\\\\"typeProperty\\\\\\\\\\\\\\\": 3}, {\\\\\\\\\\\\\\\"column\\\\\\\\\\\\\\\": {\\\\\\\\\\\\\\\"type\\\\\\\\\\\\\\\": 2, \\\\\\\\\\\\\\\"details\\\\\\\\\\\\\\\": {\\\\\\\\\\\\\\\"selectedColumn\\\\\\\\\\\\\\\": \\\\\\\\\\\\\\\"CHF\\\\\\\\\\\\\\\"}}, \\\\\\\\\\\\\\\"typeProperty\\\\\\\\\\\\\\\": 3}, {\\\\\\\\\\\\\\\"column\\\\\\\\\\\\\\\": {\\\\\\\\\\\\\\\"type\\\\\\\\\\\\\\\": 2, \\\\\\\\\\\\\\\"details\\\\\\\\\\\\\\\": {\\\\\\\\\\\\\\\"selectedColumn\\\\\\\\\\\\\\\": \\\\\\\\\\\\\\\"Dollar index-F\\\\\\\\\\\\\\\"}}, \\\\\\\\\\\\\\\"typeProperty\\\\\\\\\\\\\\\": 3}, {\\\\\\\\\\\\\\\"column\\\\\\\\\\\\\\\": {\\\\\\\\\\\\\\\"type\\\\\\\\\\\\\\\": 2, \\\\\\\\\\\\\\\"details\\\\\\\\\\\\\\\": {\\\\\\\\\\\\\\\"selectedColumn\\\\\\\\\\\\\\\": \\\\\\\\\\\\\\\"Dollar index\\\\\\\\\\\\\\\"}}, \\\\\\\\\\\\\\\"typeProperty\\\\\\\\\\\\\\\": 3}, {\\\\\\\\\\\\\\\"column\\\\\\\\\\\\\\\": {\\\\\\\\\\\\\\\"type\\\\\\\\\\\\\\\": 2, \\\\\\\\\\\\\\\"details\\\\\\\\\\\\\\\": {\\\\\\\\\\\\\\\"selectedColumn\\\\\\\\\\\\\\\": \\\\\\\\\\\\\\\"wheat-F\\\\\\\\\\\\\\\"}}, \\\\\\\\\\\\\\\"typeProperty\\\\\\\\\\\\\\\": 3}, {\\\\\\\\\\\\\\\"column\\\\\\\\\\\\\\\": {\\\\\\\\\\\\\\\"type\\\\\\\\\\\\\\\": 2, \\\\\\\\\\\\\\\"details\\\\\\\\\\\\\\\": {\\\\\\\\\\\\\\\"selectedColumn\\\\\\\\\\\\\\\": \\\\\\\\\\\\\\\"XAG\\\\\\\\\\\\\\\"}}, \\\\\\\\\\\\\\\"typeProperty\\\\\\\\\\\\\\\": 3}, {\\\\\\\\\\\\\\\"column\\\\\\\\\\\\\\\": {\\\\\\\\\\\\\\\"type\\\\\\\\\\\\\\\": 2, \\\\\\\\\\\\\\\"details\\\\\\\\\\\\\\\": {\\\\\\\\\\\\\\\"selectedColumn\\\\\\\\\\\\\\\": \\\\\\\\\\\\\\\"XAU\\\\\\\\\\\\\\\"}}, \\\\\\\\\\\\\\\"typeProperty\\\\\\\\\\\\\\\": 3}, {\\\\\\\\\\\\\\\"column\\\\\\\\\\\\\\\": {\\\\\\\\\\\\\\\"type\\\\\\\\\\\\\\\": 2, \\\\\\\\\\\\\\\"details\\\\\\\\\\\\\\\": {\\\\\\\\\\\\\\\"selectedColumn\\\\\\\\\\\\\\\": \\\\\\\\\\\\\\\"y\\\\\\\\\\\\\\\"}}, \\\\\\\\\\\\\\\"typeProperty\\\\\\\\\\\\\\\": 3}]}, \\\\\\\\\\\\\\\"localData\\\\\\\\\\\\\\\": {}, \\\\\\\\\\\\\\\"isEnabled\\\\\\\\\\\\\\\": true, \\\\\\\\\\\\\\\"name\\\\\\\\\\\\\\\": null, \\\\\\\\\\\\\\\"annotation\\\\\\\\\\\\\\\": null}, {\\\\\\\\\\\\\\\"id\\\\\\\\\\\\\\\": \\\\\\\\\\\\\\\"e485ea57-a74e-496c-93cd-76d513d7ee76\\\\\\\\\\\\\\\", \\\\\\\\\\\\\\\"type\\\\\\\\\\\\\\\": \\\\\\\\\\\\\\\"Microsoft.DPrep.TakeSampleBlock\\\\\\\\\\\\\\\", \\\\\\\\\\\\\\\"arguments\\\\\\\\\\\\\\\": {\\\\\\\\\\\\\\\"probability\\\\\\\\\\\\\\\": 1.0, \\\\\\\\\\\\\\\"probabilityLowerBound\\\\\\\\\\\\\\\": 0.7, \\\\\\\\\\\\\\\"seed\\\\\\\\\\\\\\\": 42}, \\\\\\\\\\\\\\\"localData\\\\\\\\\\\\\\\": {}, \\\\\\\\\\\\\\\"isEnabled\\\\\\\\\\\\\\\": true, \\\\\\\\\\\\\\\"name\\\\\\\\\\\\\\\": null, \\\\\\\\\\\\\\\"annotation\\\\\\\\\\\\\\\": null}], \\\\\\\\\\\\\\\"inspectors\\\\\\\\\\\\\\\": [], \\\\\\\\\\\\\\\"meta\\\\\\\\\\\\\\\": {\\\\\\\\\\\\\\\"savedDatasetId\\\\\\\\\\\\\\\": \\\\\\\\\\\\\\\"85487734-f095-459e-98b3-b962ee747b4d\\\\\\\\\\\\\\\", \\\\\\\\\\\\\\\"datasetType\\\\\\\\\\\\\\\": \\\\\\\\\\\\\\\"tabular\\\\\\\\\\\\\\\", \\\\\\\\\\\\\\\"subscriptionId\\\\\\\\\\\\\\\": \\\\\\\\\\\\\\\"1f63a07e-5703-4d10-925f-b1c603594482\\\\\\\\\\\\\\\", \\\\\\\\\\\\\\\"workspaceId\\\\\\\\\\\\\\\": \\\\\\\\\\\\\\\"a01807fd-f5e9-4092-ad34-5148a177d9c3\\\\\\\\\\\\\\\", \\\\\\\\\\\\\\\"workspaceLocation\\\\\\\\\\\\\\\": \\\\\\\\\\\\\\\"westeurope\\\\\\\\\\\\\\\"}}\\\\\\\", \\\\\\\"activities\\\\\\\": 0}\", \"EnableSubsampling\": null, \"runTemplate\": \"AutoML\", \"azureml.runsource\": \"automl\", \"display_task_type\": \"classification\", \"dependencies_versions\": \"{\\\"azureml-widgets\\\": \\\"1.22.0\\\", \\\"azureml-train\\\": \\\"1.22.0\\\", \\\"azureml-train-restclients-hyperdrive\\\": \\\"1.22.0\\\", \\\"azureml-train-core\\\": \\\"1.22.0\\\", \\\"azureml-train-automl\\\": \\\"1.22.0\\\", \\\"azureml-train-automl-runtime\\\": \\\"1.22.0\\\", \\\"azureml-train-automl-client\\\": \\\"1.22.0\\\", \\\"azureml-tensorboard\\\": \\\"1.22.0\\\", \\\"azureml-telemetry\\\": \\\"1.22.0\\\", \\\"azureml-sdk\\\": \\\"1.22.0\\\", \\\"azureml-samples\\\": \\\"0+unknown\\\", \\\"azureml-pipeline\\\": \\\"1.22.0\\\", \\\"azureml-pipeline-steps\\\": \\\"1.22.0\\\", \\\"azureml-pipeline-core\\\": \\\"1.22.0\\\", \\\"azureml-opendatasets\\\": \\\"1.22.0\\\", \\\"azureml-model-management-sdk\\\": \\\"1.0.1b6.post1\\\", \\\"azureml-mlflow\\\": \\\"1.22.0\\\", \\\"azureml-interpret\\\": \\\"1.22.0\\\", \\\"azureml-explain-model\\\": \\\"1.22.0\\\", \\\"azureml-defaults\\\": \\\"1.22.0\\\", \\\"azureml-dataset-runtime\\\": \\\"1.22.0\\\", \\\"azureml-dataprep\\\": \\\"2.9.1\\\", \\\"azureml-dataprep-rslex\\\": \\\"1.7.0\\\", \\\"azureml-dataprep-native\\\": \\\"29.0.0\\\", \\\"azureml-datadrift\\\": \\\"1.22.0\\\", \\\"azureml-core\\\": \\\"1.22.0\\\", \\\"azureml-contrib-services\\\": \\\"1.22.0\\\", \\\"azureml-contrib-server\\\": \\\"1.22.0\\\", \\\"azureml-contrib-reinforcementlearning\\\": \\\"1.22.0\\\", \\\"azureml-contrib-pipeline-steps\\\": \\\"1.22.0\\\", \\\"azureml-contrib-notebook\\\": \\\"1.22.0\\\", \\\"azureml-contrib-interpret\\\": \\\"1.22.0\\\", \\\"azureml-contrib-gbdt\\\": \\\"1.22.0\\\", \\\"azureml-contrib-fairness\\\": \\\"1.22.0\\\", \\\"azureml-contrib-dataset\\\": \\\"1.22.0\\\", \\\"azureml-cli-common\\\": \\\"1.22.0\\\", \\\"azureml-automl-runtime\\\": \\\"1.22.0\\\", \\\"azureml-automl-core\\\": \\\"1.22.0\\\", \\\"azureml-accel-models\\\": \\\"1.22.0\\\"}\", \"_aml_system_scenario_identification\": \"Remote.Parent\", \"ClientType\": \"SDK\", \"environment_cpu_name\": \"AzureML-AutoML\", \"environment_cpu_label\": \"prod\", \"environment_gpu_name\": \"AzureML-AutoML-GPU\", \"environment_gpu_label\": \"prod\", \"root_attribution\": \"automl\", \"attribution\": \"AutoML\", \"Orchestrator\": \"AutoML\", \"CancelUri\": \"https://westeurope.experiments.azureml.net/jasmine/v1.0/subscriptions/1f63a07e-5703-4d10-925f-b1c603594482/resourceGroups/uda3rg/providers/Microsoft.MachineLearningServices/workspaces/uda3ws/experimentids/c8fa775e-70a2-48eb-ac91-4f70ad3ed773/cancel/AutoML_d8a958f3-4fb5-4989-baa2-51e6a2a6d1ea\", \"ClientSdkVersion\": \"1.23.0\", \"snapshotId\": \"00000000-0000-0000-0000-000000000000\", \"SetupRunId\": \"AutoML_d8a958f3-4fb5-4989-baa2-51e6a2a6d1ea_setup\", \"SetupRunContainerId\": \"dcid.AutoML_d8a958f3-4fb5-4989-baa2-51e6a2a6d1ea_setup\", \"FeaturizationRunJsonPath\": \"featurizer_container.json\", \"FeaturizationRunId\": \"AutoML_d8a958f3-4fb5-4989-baa2-51e6a2a6d1ea_featurize\", \"ProblemInfoJsonString\": \"{\\\"dataset_num_categorical\\\": 0, \\\"is_sparse\\\": false, \\\"subsampling\\\": false, \\\"dataset_classes\\\": 2, \\\"dataset_features\\\": 80, \\\"dataset_samples\\\": 1370, \\\"single_frequency_class_detected\\\": false}\", \"ModelExplainRunId\": \"AutoML_d8a958f3-4fb5-4989-baa2-51e6a2a6d1ea_ModelExplain\"}, \"tags\": {\"model_explain_run\": \"best_run\", \"_aml_system_azureml.automlComponent\": \"AutoML\", \"pipeline_id\": \"\", \"score\": \"\", \"predicted_cost\": \"\", \"fit_time\": \"\", \"training_percent\": \"\", \"iteration\": \"\", \"run_preprocessor\": \"\", \"run_algorithm\": \"\", \"dynamic_whitelisting_iterations\": \"<25>;<30>;<35>;\", \"automl_best_child_run_id\": \"AutoML_d8a958f3-4fb5-4989-baa2-51e6a2a6d1ea_38\", \"model_explain_best_run_child_id\": \"AutoML_d8a958f3-4fb5-4989-baa2-51e6a2a6d1ea_38\"}, \"end_time_utc\": \"2021-03-14T09:04:03.479298Z\", \"status\": \"Completed\", \"log_files\": {}, \"log_groups\": [], \"run_duration\": \"0:30:55\", \"run_number\": \"90\", \"run_queued_details\": {\"status\": \"Completed\", \"details\": null}}, \"child_runs\": [{\"run_id\": \"AutoML_d8a958f3-4fb5-4989-baa2-51e6a2a6d1ea_3\", \"run_number\": 94, \"metric\": null, \"status\": \"Completed\", \"run_type\": \"azureml.scriptrun\", \"training_percent\": \"100\", \"start_time\": \"2021-03-14T08:44:20.888275Z\", \"end_time\": \"2021-03-14T08:47:27.008203Z\", \"created_time\": \"2021-03-14T08:41:48.810216Z\", \"created_time_dt\": \"2021-03-14T08:41:48.810216Z\", \"duration\": \"0:05:38\", \"iteration\": \"3\", \"goal\": \"AUC_weighted_max\", \"run_name\": \"RobustScaler, ExtremeRandomTrees\", \"run_properties\": \"copy=True, quantile_range=[10, 90], with_centering=False,\\n             with_scaling=False\", \"primary_metric\": 0.52972881, \"best_metric\": 0.52972881}, {\"run_id\": \"AutoML_d8a958f3-4fb5-4989-baa2-51e6a2a6d1ea_0\", \"run_number\": 95, \"metric\": null, \"status\": \"Completed\", \"run_type\": \"azureml.scriptrun\", \"training_percent\": \"100\", \"start_time\": \"2021-03-14T08:45:44.762563Z\", \"end_time\": \"2021-03-14T08:46:39.155885Z\", \"created_time\": \"2021-03-14T08:41:48.815578Z\", \"created_time_dt\": \"2021-03-14T08:41:48.815578Z\", \"duration\": \"0:04:50\", \"iteration\": \"0\", \"goal\": \"AUC_weighted_max\", \"run_name\": \"MaxAbsScaler, LightGBM\", \"run_properties\": \"copy=True\", \"primary_metric\": 0.50869427, \"best_metric\": 0.50869427}, {\"run_id\": \"AutoML_d8a958f3-4fb5-4989-baa2-51e6a2a6d1ea_5\", \"run_number\": 96, \"metric\": null, \"status\": \"Completed\", \"run_type\": \"azureml.scriptrun\", \"training_percent\": \"100\", \"start_time\": \"2021-03-14T08:47:45.455663Z\", \"end_time\": \"2021-03-14T08:48:40.899076Z\", \"created_time\": \"2021-03-14T08:41:48.833544Z\", \"created_time_dt\": \"2021-03-14T08:41:48.833544Z\", \"duration\": \"0:06:52\", \"iteration\": \"5\", \"goal\": \"AUC_weighted_max\", \"run_name\": \"MinMaxScaler, RandomForest\", \"run_properties\": \"copy=True, feature_range=(0, 1\", \"primary_metric\": 0.48408692, \"best_metric\": 0.53321627}, {\"run_id\": \"AutoML_d8a958f3-4fb5-4989-baa2-51e6a2a6d1ea_6\", \"run_number\": 97, \"metric\": null, \"status\": \"Completed\", \"run_type\": \"azureml.scriptrun\", \"training_percent\": \"100\", \"start_time\": \"2021-03-14T08:48:48.650399Z\", \"end_time\": \"2021-03-14T08:50:00.663643Z\", \"created_time\": \"2021-03-14T08:41:48.846363Z\", \"created_time_dt\": \"2021-03-14T08:41:48.846363Z\", \"duration\": \"0:08:11\", \"iteration\": \"6\", \"goal\": \"AUC_weighted_max\", \"run_name\": \"StandardScalerWrapper, RandomForest\", \"run_properties\": \"<azureml.automl.runtime.shared.model_wrappers.StandardScalerWrapper object at 0x7f479459fd30\", \"primary_metric\": 0.55094625, \"best_metric\": 0.55094625}, {\"run_id\": \"AutoML_d8a958f3-4fb5-4989-baa2-51e6a2a6d1ea_7\", \"run_number\": 98, \"metric\": null, \"status\": \"Completed\", \"run_type\": \"azureml.scriptrun\", \"training_percent\": \"100\", \"start_time\": \"2021-03-14T08:43:13.776431Z\", \"end_time\": \"2021-03-14T08:44:09.183164Z\", \"created_time\": \"2021-03-14T08:41:48.879331Z\", \"created_time_dt\": \"2021-03-14T08:41:48.879331Z\", \"duration\": \"0:02:20\", \"iteration\": \"7\", \"goal\": \"AUC_weighted_max\", \"run_name\": \"MinMaxScaler, ExtremeRandomTrees\", \"run_properties\": \"copy=True, feature_range=(0, 1\", \"primary_metric\": 0.53394791, \"best_metric\": 0.55094625}, {\"run_id\": \"AutoML_d8a958f3-4fb5-4989-baa2-51e6a2a6d1ea_2\", \"run_number\": 99, \"metric\": null, \"status\": \"Completed\", \"run_type\": \"azureml.scriptrun\", \"training_percent\": \"100\", \"start_time\": \"2021-03-14T08:44:24.50973Z\", \"end_time\": \"2021-03-14T08:45:27.352134Z\", \"created_time\": \"2021-03-14T08:41:48.90025Z\", \"created_time_dt\": \"2021-03-14T08:41:48.90025Z\", \"duration\": \"0:03:38\", \"iteration\": \"2\", \"goal\": \"AUC_weighted_max\", \"run_name\": \"MinMaxScaler, RandomForest\", \"run_properties\": \"copy=True, feature_range=(0, 1\", \"primary_metric\": 0.51488879, \"best_metric\": 0.51488879}, {\"run_id\": \"AutoML_d8a958f3-4fb5-4989-baa2-51e6a2a6d1ea_9\", \"run_number\": 100, \"metric\": null, \"status\": \"Completed\", \"run_type\": \"azureml.scriptrun\", \"training_percent\": \"100\", \"start_time\": \"2021-03-14T08:49:24.779583Z\", \"end_time\": \"2021-03-14T08:50:21.360986Z\", \"created_time\": \"2021-03-14T08:41:48.990236Z\", \"created_time_dt\": \"2021-03-14T08:41:48.990236Z\", \"duration\": \"0:08:32\", \"iteration\": \"9\", \"goal\": \"AUC_weighted_max\", \"run_name\": \"SparseNormalizer, KNN\", \"run_properties\": \"<azureml.automl.runtime.shared.model_wrappers.SparseNormalizer object at 0x7f496436c860\", \"primary_metric\": 0.48620866, \"best_metric\": 0.55094625}, {\"run_id\": \"AutoML_d8a958f3-4fb5-4989-baa2-51e6a2a6d1ea_4\", \"run_number\": 101, \"metric\": null, \"status\": \"Completed\", \"run_type\": \"azureml.scriptrun\", \"training_percent\": \"100\", \"start_time\": \"2021-03-14T08:47:00.773283Z\", \"end_time\": \"2021-03-14T08:47:58.740301Z\", \"created_time\": \"2021-03-14T08:41:49.055283Z\", \"created_time_dt\": \"2021-03-14T08:41:49.055283Z\", \"duration\": \"0:06:09\", \"iteration\": \"4\", \"goal\": \"AUC_weighted_max\", \"run_name\": \"MinMaxScaler, RandomForest\", \"run_properties\": \"copy=True, feature_range=(0, 1\", \"primary_metric\": 0.53321627, \"best_metric\": 0.53321627}, {\"run_id\": \"AutoML_d8a958f3-4fb5-4989-baa2-51e6a2a6d1ea_1\", \"run_number\": 102, \"metric\": null, \"status\": \"Completed\", \"run_type\": \"azureml.scriptrun\", \"training_percent\": \"100\", \"start_time\": \"2021-03-14T08:42:05.163528Z\", \"end_time\": \"2021-03-14T08:42:57.580109Z\", \"created_time\": \"2021-03-14T08:41:48.816189Z\", \"created_time_dt\": \"2021-03-14T08:41:48.816189Z\", \"duration\": \"0:01:08\", \"iteration\": \"1\", \"goal\": \"AUC_weighted_max\", \"run_name\": \"MaxAbsScaler, XGBoostClassifier\", \"run_properties\": \"copy=True\", \"primary_metric\": 0.51462052, \"best_metric\": 0.51462052}, {\"run_id\": \"AutoML_d8a958f3-4fb5-4989-baa2-51e6a2a6d1ea_8\", \"run_number\": 103, \"metric\": null, \"status\": \"Completed\", \"run_type\": \"azureml.scriptrun\", \"training_percent\": \"100\", \"start_time\": \"2021-03-14T08:48:14.903275Z\", \"end_time\": \"2021-03-14T08:49:13.386041Z\", \"created_time\": \"2021-03-14T08:41:48.834088Z\", \"created_time_dt\": \"2021-03-14T08:41:48.834088Z\", \"duration\": \"0:07:24\", \"iteration\": \"8\", \"goal\": \"AUC_weighted_max\", \"run_name\": \"MinMaxScaler, ExtremeRandomTrees\", \"run_properties\": \"copy=True, feature_range=(0, 1\", \"primary_metric\": 0.52043703, \"best_metric\": 0.55094625}, {\"run_id\": \"AutoML_d8a958f3-4fb5-4989-baa2-51e6a2a6d1ea_10\", \"run_number\": 104, \"metric\": null, \"status\": \"Completed\", \"run_type\": \"azureml.scriptrun\", \"training_percent\": \"100\", \"start_time\": \"2021-03-14T08:50:11.245454Z\", \"end_time\": \"2021-03-14T08:51:15.024665Z\", \"created_time\": \"2021-03-14T08:43:00.20667Z\", \"created_time_dt\": \"2021-03-14T08:43:00.20667Z\", \"duration\": \"0:08:14\", \"iteration\": \"10\", \"goal\": \"AUC_weighted_max\", \"run_name\": \"MinMaxScaler, ExtremeRandomTrees\", \"run_properties\": \"copy=True, feature_range=(0, 1\", \"primary_metric\": 0.53002146, \"best_metric\": 0.55094625}, {\"run_id\": \"AutoML_d8a958f3-4fb5-4989-baa2-51e6a2a6d1ea_11\", \"run_number\": 105, \"metric\": null, \"status\": \"Completed\", \"run_type\": \"azureml.scriptrun\", \"training_percent\": \"100\", \"start_time\": \"2021-03-14T08:50:27.598563Z\", \"end_time\": \"2021-03-14T08:52:09.797052Z\", \"created_time\": \"2021-03-14T08:44:13.734213Z\", \"created_time_dt\": \"2021-03-14T08:44:13.734213Z\", \"duration\": \"0:07:56\", \"iteration\": \"11\", \"goal\": \"AUC_weighted_max\", \"run_name\": \"RobustScaler, ExtremeRandomTrees\", \"run_properties\": \"copy=True, quantile_range=[10, 90], with_centering=True,\\n             with_scaling=False\", \"primary_metric\": 0.54302019, \"best_metric\": 0.55094625}, {\"run_id\": \"AutoML_d8a958f3-4fb5-4989-baa2-51e6a2a6d1ea_12\", \"run_number\": 106, \"metric\": null, \"status\": \"Completed\", \"run_type\": \"azureml.scriptrun\", \"training_percent\": \"100\", \"start_time\": \"2021-03-14T08:51:35.377258Z\", \"end_time\": \"2021-03-14T08:52:23.234075Z\", \"created_time\": \"2021-03-14T08:45:32.203117Z\", \"created_time_dt\": \"2021-03-14T08:45:32.203117Z\", \"duration\": \"0:06:51\", \"iteration\": \"12\", \"goal\": \"AUC_weighted_max\", \"run_name\": \"StandardScalerWrapper, RandomForest\", \"run_properties\": \"<azureml.automl.runtime.shared.model_wrappers.StandardScalerWrapper object at 0x7fdfadfa9fd0\", \"primary_metric\": 0.53800849, \"best_metric\": 0.55094625}, {\"run_id\": \"AutoML_d8a958f3-4fb5-4989-baa2-51e6a2a6d1ea_13\", \"run_number\": 107, \"metric\": null, \"status\": \"Completed\", \"run_type\": \"azureml.scriptrun\", \"training_percent\": \"100\", \"start_time\": \"2021-03-14T08:52:18.699375Z\", \"end_time\": \"2021-03-14T08:53:19.658391Z\", \"created_time\": \"2021-03-14T08:46:45.102737Z\", \"created_time_dt\": \"2021-03-14T08:46:45.102737Z\", \"duration\": \"0:06:34\", \"iteration\": \"13\", \"goal\": \"AUC_weighted_max\", \"run_name\": \"StandardScalerWrapper, SGD\", \"run_properties\": \"<azureml.automl.runtime.shared.model_wrappers.StandardScalerWrapper object at 0x7f30de87bd68\", \"primary_metric\": 0.50203639, \"best_metric\": 0.55094625}, {\"run_id\": \"AutoML_d8a958f3-4fb5-4989-baa2-51e6a2a6d1ea_14\", \"run_number\": 108, \"metric\": null, \"status\": \"Completed\", \"run_type\": \"azureml.scriptrun\", \"training_percent\": \"100\", \"start_time\": \"2021-03-14T08:52:41.554679Z\", \"end_time\": \"2021-03-14T08:53:38.929841Z\", \"created_time\": \"2021-03-14T08:47:32.089348Z\", \"created_time_dt\": \"2021-03-14T08:47:32.089348Z\", \"duration\": \"0:06:06\", \"iteration\": \"14\", \"goal\": \"AUC_weighted_max\", \"run_name\": \"RobustScaler, RandomForest\", \"run_properties\": \"copy=True, quantile_range=[10, 90], with_centering=True,\\n             with_scaling=False\", \"primary_metric\": 0.48929373, \"best_metric\": 0.55094625}, {\"run_id\": \"AutoML_d8a958f3-4fb5-4989-baa2-51e6a2a6d1ea_15\", \"run_number\": 109, \"metric\": null, \"status\": \"Completed\", \"run_type\": \"azureml.scriptrun\", \"training_percent\": \"100\", \"start_time\": \"2021-03-14T08:53:36.17171Z\", \"end_time\": \"2021-03-14T08:54:28.579531Z\", \"created_time\": \"2021-03-14T08:48:05.135437Z\", \"created_time_dt\": \"2021-03-14T08:48:05.135437Z\", \"duration\": \"0:06:23\", \"iteration\": \"15\", \"goal\": \"AUC_weighted_max\", \"run_name\": \"StandardScalerWrapper, KNN\", \"run_properties\": \"<azureml.automl.runtime.shared.model_wrappers.StandardScalerWrapper object at 0x7fa20a1d8be0\", \"primary_metric\": 0.51240123, \"best_metric\": 0.55094625}, {\"run_id\": \"AutoML_d8a958f3-4fb5-4989-baa2-51e6a2a6d1ea_16\", \"run_number\": 110, \"metric\": null, \"status\": \"Completed\", \"run_type\": \"azureml.scriptrun\", \"training_percent\": \"100\", \"start_time\": \"2021-03-14T08:53:49.421803Z\", \"end_time\": \"2021-03-14T08:54:53.89296Z\", \"created_time\": \"2021-03-14T08:48:45.413713Z\", \"created_time_dt\": \"2021-03-14T08:48:45.413713Z\", \"duration\": \"0:06:08\", \"iteration\": \"16\", \"goal\": \"AUC_weighted_max\", \"run_name\": \"MinMaxScaler, RandomForest\", \"run_properties\": \"copy=True, feature_range=(0, 1\", \"primary_metric\": 0.50476783, \"best_metric\": 0.55094625}, {\"run_id\": \"AutoML_d8a958f3-4fb5-4989-baa2-51e6a2a6d1ea_17\", \"run_number\": 111, \"metric\": null, \"status\": \"Completed\", \"run_type\": \"azureml.scriptrun\", \"training_percent\": \"100\", \"start_time\": \"2021-03-14T08:54:40.878666Z\", \"end_time\": \"2021-03-14T08:55:40.302923Z\", \"created_time\": \"2021-03-14T08:49:18.017044Z\", \"created_time_dt\": \"2021-03-14T08:49:18.017044Z\", \"duration\": \"0:06:22\", \"iteration\": \"17\", \"goal\": \"AUC_weighted_max\", \"run_name\": \"MinMaxScaler, ExtremeRandomTrees\", \"run_properties\": \"copy=True, feature_range=(0, 1\", \"primary_metric\": 0.52364403, \"best_metric\": 0.55094625}, {\"run_id\": \"AutoML_d8a958f3-4fb5-4989-baa2-51e6a2a6d1ea_18\", \"run_number\": 112, \"metric\": null, \"status\": \"Completed\", \"run_type\": \"azureml.scriptrun\", \"training_percent\": \"100\", \"start_time\": \"2021-03-14T08:55:11.713254Z\", \"end_time\": \"2021-03-14T08:56:08.945468Z\", \"created_time\": \"2021-03-14T08:50:05.216296Z\", \"created_time_dt\": \"2021-03-14T08:50:05.216296Z\", \"duration\": \"0:06:03\", \"iteration\": \"18\", \"goal\": \"AUC_weighted_max\", \"run_name\": \"MaxAbsScaler, RandomForest\", \"run_properties\": \"copy=True\", \"primary_metric\": 0.552251, \"best_metric\": 0.552251}, {\"run_id\": \"AutoML_d8a958f3-4fb5-4989-baa2-51e6a2a6d1ea_19\", \"run_number\": 113, \"metric\": null, \"status\": \"Completed\", \"run_type\": \"azureml.scriptrun\", \"training_percent\": \"100\", \"start_time\": \"2021-03-14T08:55:52.600381Z\", \"end_time\": \"2021-03-14T08:56:44.741946Z\", \"created_time\": \"2021-03-14T08:50:26.094298Z\", \"created_time_dt\": \"2021-03-14T08:50:26.094298Z\", \"duration\": \"0:06:18\", \"iteration\": \"19\", \"goal\": \"AUC_weighted_max\", \"run_name\": \"StandardScalerWrapper, XGBoostClassifier\", \"run_properties\": \"<azureml.automl.runtime.shared.model_wrappers.StandardScalerWrapper object at 0x7f3adec98da0\", \"primary_metric\": 0.47235636, \"best_metric\": 0.552251}, {\"run_id\": \"AutoML_d8a958f3-4fb5-4989-baa2-51e6a2a6d1ea_20\", \"run_number\": 114, \"metric\": null, \"status\": \"Completed\", \"run_type\": \"azureml.scriptrun\", \"training_percent\": \"100\", \"start_time\": \"2021-03-14T08:56:25.398069Z\", \"end_time\": \"2021-03-14T08:57:15.36716Z\", \"created_time\": \"2021-03-14T08:51:19.502469Z\", \"created_time_dt\": \"2021-03-14T08:51:19.502469Z\", \"duration\": \"0:05:55\", \"iteration\": \"20\", \"goal\": \"AUC_weighted_max\", \"run_name\": \"MaxAbsScaler, RandomForest\", \"run_properties\": \"copy=True\", \"primary_metric\": 0.50875524, \"best_metric\": 0.552251}, {\"run_id\": \"AutoML_d8a958f3-4fb5-4989-baa2-51e6a2a6d1ea_21\", \"run_number\": 115, \"metric\": null, \"status\": \"Completed\", \"run_type\": \"azureml.scriptrun\", \"training_percent\": \"100\", \"start_time\": \"2021-03-14T08:57:02.051425Z\", \"end_time\": \"2021-03-14T08:57:56.963734Z\", \"created_time\": \"2021-03-14T08:52:14.716203Z\", \"created_time_dt\": \"2021-03-14T08:52:14.716203Z\", \"duration\": \"0:05:42\", \"iteration\": \"21\", \"goal\": \"AUC_weighted_max\", \"run_name\": \"MaxAbsScaler, ExtremeRandomTrees\", \"run_properties\": \"copy=True\", \"primary_metric\": 0.51545581, \"best_metric\": 0.552251}, {\"run_id\": \"AutoML_d8a958f3-4fb5-4989-baa2-51e6a2a6d1ea_22\", \"run_number\": 116, \"metric\": null, \"status\": \"Completed\", \"run_type\": \"azureml.scriptrun\", \"training_percent\": \"100\", \"start_time\": \"2021-03-14T08:57:35.13671Z\", \"end_time\": \"2021-03-14T08:58:32.591252Z\", \"created_time\": \"2021-03-14T08:52:27.952643Z\", \"created_time_dt\": \"2021-03-14T08:52:27.952643Z\", \"duration\": \"0:06:04\", \"iteration\": \"22\", \"goal\": \"AUC_weighted_max\", \"run_name\": \"MaxAbsScaler, ExtremeRandomTrees\", \"run_properties\": \"copy=True\", \"primary_metric\": 0.53549654, \"best_metric\": 0.552251}, {\"run_id\": \"AutoML_d8a958f3-4fb5-4989-baa2-51e6a2a6d1ea_23\", \"run_number\": 117, \"metric\": null, \"status\": \"Completed\", \"run_type\": \"azureml.scriptrun\", \"training_percent\": \"100\", \"start_time\": \"2021-03-14T08:58:15.501455Z\", \"end_time\": \"2021-03-14T08:59:10.434878Z\", \"created_time\": \"2021-03-14T08:53:24.656816Z\", \"created_time_dt\": \"2021-03-14T08:53:24.656816Z\", \"duration\": \"0:05:45\", \"iteration\": \"23\", \"goal\": \"AUC_weighted_max\", \"run_name\": \"StandardScalerWrapper, SVM\", \"run_properties\": \"<azureml.automl.runtime.shared.model_wrappers.StandardScalerWrapper object at 0x7f1f274d9438\", \"primary_metric\": 0.48885475, \"best_metric\": 0.552251}, {\"run_id\": \"AutoML_d8a958f3-4fb5-4989-baa2-51e6a2a6d1ea_24\", \"run_number\": 118, \"metric\": null, \"status\": \"Completed\", \"run_type\": \"azureml.scriptrun\", \"training_percent\": \"100\", \"start_time\": \"2021-03-14T08:58:50.208492Z\", \"end_time\": \"2021-03-14T08:59:47.530248Z\", \"created_time\": \"2021-03-14T08:53:43.13784Z\", \"created_time_dt\": \"2021-03-14T08:53:43.13784Z\", \"duration\": \"0:06:04\", \"iteration\": \"24\", \"goal\": \"AUC_weighted_max\", \"run_name\": \"SparseNormalizer, XGBoostClassifier\", \"run_properties\": \"<azureml.automl.runtime.shared.model_wrappers.SparseNormalizer object at 0x7f1b1f60cb70\", \"primary_metric\": 0.52219296, \"best_metric\": 0.552251}, {\"run_id\": \"AutoML_d8a958f3-4fb5-4989-baa2-51e6a2a6d1ea_25\", \"run_number\": 119, \"metric\": null, \"status\": \"Completed\", \"run_type\": \"azureml.scriptrun\", \"training_percent\": \"100\", \"start_time\": \"2021-03-14T08:59:28.676075Z\", \"end_time\": \"2021-03-14T09:00:24.05151Z\", \"created_time\": \"2021-03-14T08:54:36.704458Z\", \"created_time_dt\": \"2021-03-14T08:54:36.704458Z\", \"duration\": \"0:05:47\", \"iteration\": \"25\", \"goal\": \"AUC_weighted_max\", \"run_name\": \"MinMaxScaler, RandomForest\", \"run_properties\": \"copy=True, feature_range=(0, 1\", \"primary_metric\": 0.53297239, \"best_metric\": 0.552251}, {\"run_id\": \"AutoML_d8a958f3-4fb5-4989-baa2-51e6a2a6d1ea_26\", \"run_number\": 120, \"metric\": null, \"status\": \"Completed\", \"run_type\": \"azureml.scriptrun\", \"training_percent\": \"100\", \"start_time\": \"2021-03-14T09:00:01.812066Z\", \"end_time\": \"2021-03-14T09:00:58.903362Z\", \"created_time\": \"2021-03-14T08:54:57.652419Z\", \"created_time_dt\": \"2021-03-14T08:54:57.652419Z\", \"duration\": \"0:06:01\", \"iteration\": \"26\", \"goal\": \"AUC_weighted_max\", \"run_name\": \"StandardScalerWrapper, SVM\", \"run_properties\": \"<azureml.automl.runtime.shared.model_wrappers.StandardScalerWrapper object at 0x7f538a9abef0\", \"primary_metric\": 0.50560921, \"best_metric\": 0.552251}, {\"run_id\": \"AutoML_d8a958f3-4fb5-4989-baa2-51e6a2a6d1ea_27\", \"run_number\": 121, \"metric\": null, \"status\": \"Completed\", \"run_type\": \"azureml.scriptrun\", \"training_percent\": \"100\", \"start_time\": \"2021-03-14T09:00:34.79132Z\", \"end_time\": \"2021-03-14T09:01:29.744496Z\", \"created_time\": \"2021-03-14T08:55:44.098408Z\", \"created_time_dt\": \"2021-03-14T08:55:44.098408Z\", \"duration\": \"0:05:45\", \"iteration\": \"27\", \"goal\": \"AUC_weighted_max\", \"run_name\": \"StandardScalerWrapper, LogisticRegression\", \"run_properties\": \"<azureml.automl.runtime.shared.model_wrappers.StandardScalerWrapper object at 0x7f4d4d56ee10\", \"primary_metric\": 0.50779192, \"best_metric\": 0.552251}, {\"run_id\": \"AutoML_d8a958f3-4fb5-4989-baa2-51e6a2a6d1ea_28\", \"run_number\": 122, \"metric\": null, \"status\": \"Completed\", \"run_type\": \"azureml.scriptrun\", \"training_percent\": \"100\", \"start_time\": \"2021-03-14T09:01:17.844708Z\", \"end_time\": \"2021-03-14T09:02:15.231285Z\", \"created_time\": \"2021-03-14T08:56:12.254612Z\", \"created_time_dt\": \"2021-03-14T08:56:12.254612Z\", \"duration\": \"0:06:02\", \"iteration\": \"28\", \"goal\": \"AUC_weighted_max\", \"run_name\": \"SparseNormalizer, XGBoostClassifier\", \"run_properties\": \"<azureml.automl.runtime.shared.model_wrappers.SparseNormalizer object at 0x7f001092bbe0\", \"primary_metric\": 0.52343674, \"best_metric\": 0.552251}, {\"run_id\": \"AutoML_d8a958f3-4fb5-4989-baa2-51e6a2a6d1ea_29\", \"run_number\": 123, \"metric\": null, \"status\": \"Canceled\", \"run_type\": \"azureml.scriptrun\", \"training_percent\": \"100\", \"start_time\": \"2021-03-14T09:01:47.224956Z\", \"end_time\": \"2021-03-14T09:02:27.039641Z\", \"created_time\": \"2021-03-14T08:56:47.686792Z\", \"created_time_dt\": \"2021-03-14T08:56:47.686792Z\", \"duration\": \"0:05:39\", \"iteration\": \"29\", \"goal\": \"AUC_weighted_max\", \"run_name\": \"MaxAbsScaler, LogisticRegression\", \"run_properties\": \"copy=True\", \"primary_metric\": 0.51174276, \"best_metric\": 0.552251}, {\"run_id\": \"AutoML_d8a958f3-4fb5-4989-baa2-51e6a2a6d1ea_30\", \"run_number\": 124, \"metric\": null, \"status\": \"Canceled\", \"run_type\": \"azureml.scriptrun\", \"training_percent\": \"100\", \"start_time\": \"2021-03-14T08:57:19.800176Z\", \"end_time\": \"2021-03-14T09:02:24.074729Z\", \"created_time\": \"2021-03-14T08:57:19.800176Z\", \"created_time_dt\": \"2021-03-14T08:57:19.800176Z\", \"duration\": \"0:05:04\", \"iteration\": \"30\", \"goal\": null, \"run_name\": \"Canceled\", \"run_properties\": null}, {\"run_id\": \"AutoML_d8a958f3-4fb5-4989-baa2-51e6a2a6d1ea_31\", \"run_number\": 125, \"metric\": null, \"status\": \"Canceled\", \"run_type\": \"azureml.scriptrun\", \"training_percent\": \"100\", \"start_time\": \"2021-03-14T08:57:59.533041Z\", \"end_time\": \"2021-03-14T09:02:26.327997Z\", \"created_time\": \"2021-03-14T08:57:59.533041Z\", \"created_time_dt\": \"2021-03-14T08:57:59.533041Z\", \"duration\": \"0:04:26\", \"iteration\": \"31\", \"goal\": null, \"run_name\": \"Canceled\", \"run_properties\": null}, {\"run_id\": \"AutoML_d8a958f3-4fb5-4989-baa2-51e6a2a6d1ea_32\", \"run_number\": 126, \"metric\": null, \"status\": \"Canceled\", \"run_type\": \"azureml.scriptrun\", \"training_percent\": \"100\", \"start_time\": \"2021-03-14T08:58:35.803367Z\", \"end_time\": \"2021-03-14T09:02:23.91914Z\", \"created_time\": \"2021-03-14T08:58:35.803367Z\", \"created_time_dt\": \"2021-03-14T08:58:35.803367Z\", \"duration\": \"0:03:48\", \"iteration\": \"32\", \"goal\": null, \"run_name\": \"Canceled\", \"run_properties\": null}, {\"run_id\": \"AutoML_d8a958f3-4fb5-4989-baa2-51e6a2a6d1ea_33\", \"run_number\": 127, \"metric\": null, \"status\": \"Canceled\", \"run_type\": \"azureml.scriptrun\", \"training_percent\": \"100\", \"start_time\": \"2021-03-14T08:59:13.052914Z\", \"end_time\": \"2021-03-14T09:02:25.991328Z\", \"created_time\": \"2021-03-14T08:59:13.052914Z\", \"created_time_dt\": \"2021-03-14T08:59:13.052914Z\", \"duration\": \"0:03:12\", \"iteration\": \"33\", \"goal\": null, \"run_name\": \"Canceled\", \"run_properties\": null}, {\"run_id\": \"AutoML_d8a958f3-4fb5-4989-baa2-51e6a2a6d1ea_34\", \"run_number\": 128, \"metric\": null, \"status\": \"Canceled\", \"run_type\": \"azureml.scriptrun\", \"training_percent\": \"100\", \"start_time\": \"2021-03-14T08:59:50.403738Z\", \"end_time\": \"2021-03-14T09:02:22.125456Z\", \"created_time\": \"2021-03-14T08:59:50.403738Z\", \"created_time_dt\": \"2021-03-14T08:59:50.403738Z\", \"duration\": \"0:02:31\", \"iteration\": \"34\", \"goal\": null, \"run_name\": \"Canceled\", \"run_properties\": null}, {\"run_id\": \"AutoML_d8a958f3-4fb5-4989-baa2-51e6a2a6d1ea_35\", \"run_number\": 129, \"metric\": null, \"status\": \"Canceled\", \"run_type\": \"azureml.scriptrun\", \"training_percent\": \"100\", \"start_time\": \"2021-03-14T09:00:27.21358Z\", \"end_time\": \"2021-03-14T09:02:22.998826Z\", \"created_time\": \"2021-03-14T09:00:27.21358Z\", \"created_time_dt\": \"2021-03-14T09:00:27.21358Z\", \"duration\": \"0:01:55\", \"iteration\": \"35\", \"goal\": null, \"run_name\": \"Canceled\", \"run_properties\": null}, {\"run_id\": \"AutoML_d8a958f3-4fb5-4989-baa2-51e6a2a6d1ea_36\", \"run_number\": 130, \"metric\": null, \"status\": \"Canceled\", \"run_type\": \"azureml.scriptrun\", \"training_percent\": \"100\", \"start_time\": \"2021-03-14T09:01:01.192739Z\", \"end_time\": \"2021-03-14T09:02:24.728328Z\", \"created_time\": \"2021-03-14T09:01:01.192739Z\", \"created_time_dt\": \"2021-03-14T09:01:01.192739Z\", \"duration\": \"0:01:23\", \"iteration\": \"36\", \"goal\": null, \"run_name\": \"Canceled\", \"run_properties\": null}, {\"run_id\": \"AutoML_d8a958f3-4fb5-4989-baa2-51e6a2a6d1ea_37\", \"run_number\": 131, \"metric\": null, \"status\": \"Canceled\", \"run_type\": \"azureml.scriptrun\", \"training_percent\": \"100\", \"start_time\": \"2021-03-14T09:01:32.344005Z\", \"end_time\": \"2021-03-14T09:02:23.439011Z\", \"created_time\": \"2021-03-14T09:01:32.344005Z\", \"created_time_dt\": \"2021-03-14T09:01:32.344005Z\", \"duration\": \"0:00:51\", \"iteration\": \"37\", \"goal\": null, \"run_name\": \"Canceled\", \"run_properties\": null}, {\"run_id\": \"AutoML_d8a958f3-4fb5-4989-baa2-51e6a2a6d1ea_39\", \"run_number\": 132, \"metric\": null, \"status\": \"Completed\", \"run_type\": \"azureml.scriptrun\", \"training_percent\": \"100\", \"start_time\": \"2021-03-14T09:02:40.917456Z\", \"end_time\": \"2021-03-14T09:03:56.574661Z\", \"created_time\": \"2021-03-14T09:02:29.205671Z\", \"created_time_dt\": \"2021-03-14T09:02:29.205671Z\", \"duration\": \"0:01:27\", \"iteration\": \"39\", \"goal\": \"AUC_weighted_max\", \"run_name\": \"StackEnsemble\", \"run_properties\": \"base_learners=[('18',\\n                                        Pipeline(memory=None,\\n                                                 steps=[('maxabsscaler',\\n                                                         MaxAbsScaler(copy=True\", \"primary_metric\": 0.50708467, \"best_metric\": 0.56817628}, {\"run_id\": \"AutoML_d8a958f3-4fb5-4989-baa2-51e6a2a6d1ea_38\", \"run_number\": 133, \"metric\": null, \"status\": \"Completed\", \"run_type\": \"azureml.scriptrun\", \"training_percent\": \"100\", \"start_time\": \"2021-03-14T09:02:40.69736Z\", \"end_time\": \"2021-03-14T09:03:46.894191Z\", \"created_time\": \"2021-03-14T09:02:29.291616Z\", \"created_time_dt\": \"2021-03-14T09:02:29.291616Z\", \"duration\": \"0:01:17\", \"iteration\": \"38\", \"goal\": \"AUC_weighted_max\", \"run_name\": \"VotingEnsemble\", \"run_properties\": \"classification_labels=None,\\n                              estimators=[('18',\\n                                           Pipeline(memory=None,\\n                                                    steps=[('maxabsscaler',\\n                                                            MaxAbsScaler(copy=True\", \"primary_metric\": 0.56817628, \"best_metric\": 0.56817628}], \"children_metrics\": {\"categories\": [0], \"series\": {\"precision_score_macro\": [{\"categories\": [\"0\", \"1\", \"2\", \"3\", \"4\", \"5\", \"6\", \"7\", \"8\", \"9\", \"10\", \"11\", \"12\", \"13\", \"14\", \"15\", \"16\", \"17\", \"18\", \"19\", \"20\", \"21\", \"22\", \"23\", \"24\", \"25\", \"26\", \"27\", \"28\", \"29\", \"38\", \"39\"], \"mode\": \"markers\", \"name\": \"precision_score_macro\", \"stepped\": false, \"type\": \"scatter\", \"data\": [0.5170429755671903, 0.47857301622582793, 0.5433112295177804, 0.6851525821596245, 0.5075564837668503, 0.5026453578530641, 0.5308910087274203, 0.5136201185495118, 0.47357852462481503, 0.46988963377898557, 0.5851588430535799, 0.49862637362637363, 0.5224292615596964, 0.5093089446816289, 0.49430462749016424, 0.5153554175293306, 0.5090701311199326, 0.48995017932993035, 0.5380970033982082, 0.47920213369651576, 0.5308910087274203, 0.49604916593503073, 0.5197084762371387, 0.5178571428571428, 0.5317914169702191, 0.5257777777777778, 0.5168439716312057, 0.5108108108108108, 0.5191133871301469, 0.5010870799733909, 0.5717292342229983, 0.4984420500873617]}, {\"categories\": [\"0\", \"1\", \"2\", \"3\", \"4\", \"5\", \"6\", \"7\", \"8\", \"9\", \"10\", \"11\", \"12\", \"13\", \"14\", \"15\", \"16\", \"17\", \"18\", \"19\", \"20\", \"21\", \"22\", \"23\", \"24\", \"25\", \"26\", \"27\", \"28\", \"29\", \"38\", \"39\"], \"mode\": \"lines\", \"name\": \"precision_score_macro_max\", \"stepped\": true, \"type\": \"scatter\", \"data\": [0.5170429755671903, 0.5170429755671903, 0.5433112295177804, 0.6851525821596245, 0.6851525821596245, 0.6851525821596245, 0.6851525821596245, 0.6851525821596245, 0.6851525821596245, 0.6851525821596245, 0.6851525821596245, 0.6851525821596245, 0.6851525821596245, 0.6851525821596245, 0.6851525821596245, 0.6851525821596245, 0.6851525821596245, 0.6851525821596245, 0.6851525821596245, 0.6851525821596245, 0.6851525821596245, 0.6851525821596245, 0.6851525821596245, 0.6851525821596245, 0.6851525821596245, 0.6851525821596245, 0.6851525821596245, 0.6851525821596245, 0.6851525821596245, 0.6851525821596245, 0.6851525821596245, 0.6851525821596245]}], \"log_loss\": [{\"categories\": [\"0\", \"1\", \"2\", \"3\", \"4\", \"5\", \"6\", \"7\", \"8\", \"9\", \"10\", \"11\", \"12\", \"13\", \"14\", \"15\", \"16\", \"17\", \"18\", \"19\", \"20\", \"21\", \"22\", \"23\", \"24\", \"25\", \"26\", \"27\", \"28\", \"29\", \"38\", \"39\"], \"mode\": \"markers\", \"name\": \"log_loss\", \"stepped\": false, \"type\": \"scatter\", \"data\": [0.8063152603362849, 0.715831314030163, 0.6973899718735793, 0.689295484362755, 0.6950764001072058, 0.7001743494182162, 0.6908307255582382, 0.6889513038475384, 0.6912051864419001, 0.9430938493461245, 0.6895161462357052, 0.6888277084200967, 0.6898235660522178, 0.736851883403053, 0.7025042281673203, 0.8574388235846946, 0.6949492965907235, 0.691311926927881, 0.6884763671369294, 0.7022973795340424, 0.7127286489874264, 0.6933952473923819, 0.6913103526858071, 0.6929787986436023, 0.8781810248851275, 0.6908864169220055, 0.6915818496795598, 0.7092208152413018, 0.7274379638222015, 0.7028425544100727, 0.68568552337421, 0.7000481703227872]}, {\"categories\": [\"0\", \"1\", \"2\", \"3\", \"4\", \"5\", \"6\", \"7\", \"8\", \"9\", \"10\", \"11\", \"12\", \"13\", \"14\", \"15\", \"16\", \"17\", \"18\", \"19\", \"20\", \"21\", \"22\", \"23\", \"24\", \"25\", \"26\", \"27\", \"28\", \"29\", \"38\", \"39\"], \"mode\": \"lines\", \"name\": \"log_loss_min\", \"stepped\": true, \"type\": \"scatter\", \"data\": [0.8063152603362849, 0.715831314030163, 0.6973899718735793, 0.689295484362755, 0.689295484362755, 0.689295484362755, 0.689295484362755, 0.6889513038475384, 0.6889513038475384, 0.6889513038475384, 0.6889513038475384, 0.6888277084200967, 0.6888277084200967, 0.6888277084200967, 0.6888277084200967, 0.6888277084200967, 0.6888277084200967, 0.6888277084200967, 0.6884763671369294, 0.6884763671369294, 0.6884763671369294, 0.6884763671369294, 0.6884763671369294, 0.6884763671369294, 0.6884763671369294, 0.6884763671369294, 0.6884763671369294, 0.6884763671369294, 0.6884763671369294, 0.6884763671369294, 0.68568552337421, 0.68568552337421]}], \"recall_score_micro\": [{\"categories\": [\"0\", \"1\", \"2\", \"3\", \"4\", \"5\", \"6\", \"7\", \"8\", \"9\", \"10\", \"11\", \"12\", \"13\", \"14\", \"15\", \"16\", \"17\", \"18\", \"19\", \"20\", \"21\", \"22\", \"23\", \"24\", \"25\", \"26\", \"27\", \"28\", \"29\", \"38\", \"39\"], \"mode\": \"markers\", \"name\": \"recall_score_micro\", \"stepped\": false, \"type\": \"scatter\", \"data\": [0.5261324041811847, 0.4965156794425087, 0.5487804878048781, 0.5400696864111498, 0.5139372822299652, 0.5209059233449478, 0.5383275261324042, 0.5296167247386759, 0.5121951219512195, 0.47909407665505227, 0.5418118466898955, 0.5296167247386759, 0.5261324041811847, 0.5174216027874564, 0.5, 0.519163763066202, 0.5278745644599303, 0.4930313588850174, 0.5418118466898955, 0.49477351916376305, 0.5383275261324042, 0.49825783972125437, 0.5226480836236934, 0.5331010452961672, 0.5383275261324042, 0.5296167247386759, 0.5331010452961672, 0.5139372822299652, 0.5261324041811847, 0.5174216027874564, 0.5714285714285714, 0.5121951219512195]}, {\"categories\": [\"0\", \"1\", \"2\", \"3\", \"4\", \"5\", \"6\", \"7\", \"8\", \"9\", \"10\", \"11\", \"12\", \"13\", \"14\", \"15\", \"16\", \"17\", \"18\", \"19\", \"20\", \"21\", \"22\", \"23\", \"24\", \"25\", \"26\", \"27\", \"28\", \"29\", \"38\", \"39\"], \"mode\": \"lines\", \"name\": \"recall_score_micro_max\", \"stepped\": true, \"type\": \"scatter\", \"data\": [0.5261324041811847, 0.5261324041811847, 0.5487804878048781, 0.5487804878048781, 0.5487804878048781, 0.5487804878048781, 0.5487804878048781, 0.5487804878048781, 0.5487804878048781, 0.5487804878048781, 0.5487804878048781, 0.5487804878048781, 0.5487804878048781, 0.5487804878048781, 0.5487804878048781, 0.5487804878048781, 0.5487804878048781, 0.5487804878048781, 0.5487804878048781, 0.5487804878048781, 0.5487804878048781, 0.5487804878048781, 0.5487804878048781, 0.5487804878048781, 0.5487804878048781, 0.5487804878048781, 0.5487804878048781, 0.5487804878048781, 0.5487804878048781, 0.5487804878048781, 0.5714285714285714, 0.5714285714285714]}], \"average_precision_score_micro\": [{\"categories\": [\"0\", \"1\", \"2\", \"3\", \"4\", \"5\", \"6\", \"7\", \"8\", \"9\", \"10\", \"11\", \"12\", \"13\", \"14\", \"15\", \"16\", \"17\", \"18\", \"19\", \"20\", \"21\", \"22\", \"23\", \"24\", \"25\", \"26\", \"27\", \"28\", \"29\", \"38\", \"39\"], \"mode\": \"markers\", \"name\": \"average_precision_score_micro\", \"stepped\": false, \"type\": \"scatter\", \"data\": [0.5308816725852726, 0.5290509104366974, 0.5261736548193187, 0.5467756681213753, 0.5295388185710307, 0.5112650677273457, 0.5648135724517478, 0.5493494400262668, 0.5467926477374581, 0.49615107893515853, 0.5397667839338088, 0.5485738372999751, 0.5413410643457359, 0.5150482082483612, 0.5015857394663099, 0.5150412187255046, 0.5248736549544761, 0.5371730392652969, 0.5546211089847387, 0.5034348852204343, 0.5144637351223892, 0.5172664578939163, 0.5270691794754196, 0.5186059368140685, 0.5309174799636622, 0.5371064311043183, 0.5233512830003754, 0.5155703421626284, 0.5306419177589701, 0.5296051983875444, 0.5658493652349601, 0.5244014920134789]}, {\"categories\": [\"0\", \"1\", \"2\", \"3\", \"4\", \"5\", \"6\", \"7\", \"8\", \"9\", \"10\", \"11\", \"12\", \"13\", \"14\", \"15\", \"16\", \"17\", \"18\", \"19\", \"20\", \"21\", \"22\", \"23\", \"24\", \"25\", \"26\", \"27\", \"28\", \"29\", \"38\", \"39\"], \"mode\": \"lines\", \"name\": \"average_precision_score_micro_max\", \"stepped\": true, \"type\": \"scatter\", \"data\": [0.5308816725852726, 0.5308816725852726, 0.5308816725852726, 0.5467756681213753, 0.5467756681213753, 0.5467756681213753, 0.5648135724517478, 0.5648135724517478, 0.5648135724517478, 0.5648135724517478, 0.5648135724517478, 0.5648135724517478, 0.5648135724517478, 0.5648135724517478, 0.5648135724517478, 0.5648135724517478, 0.5648135724517478, 0.5648135724517478, 0.5648135724517478, 0.5648135724517478, 0.5648135724517478, 0.5648135724517478, 0.5648135724517478, 0.5648135724517478, 0.5648135724517478, 0.5648135724517478, 0.5648135724517478, 0.5648135724517478, 0.5648135724517478, 0.5648135724517478, 0.5658493652349601, 0.5658493652349601]}], \"AUC_micro\": [{\"categories\": [\"0\", \"1\", \"2\", \"3\", \"4\", \"5\", \"6\", \"7\", \"8\", \"9\", \"10\", \"11\", \"12\", \"13\", \"14\", \"15\", \"16\", \"17\", \"18\", \"19\", \"20\", \"21\", \"22\", \"23\", \"24\", \"25\", \"26\", \"27\", \"28\", \"29\", \"38\", \"39\"], \"mode\": \"markers\", \"name\": \"AUC_micro\", \"stepped\": false, \"type\": \"scatter\", \"data\": [0.52241134407362, 0.5285513967633454, 0.5404308659811337, 0.5480884798892788, 0.5408375723876702, 0.511846082870983, 0.5658409110223506, 0.5494239337614879, 0.5400818269008971, 0.49597239252631453, 0.548856365865799, 0.5544500965168935, 0.5448408988818608, 0.517260741298304, 0.4992017627991114, 0.5179861355607085, 0.5296015491264917, 0.5275862278284306, 0.5601591618205878, 0.4912042151780403, 0.5209150287122583, 0.5189725503526812, 0.5398754385751922, 0.5299581760128204, 0.5360177979579697, 0.5412594544063907, 0.5360633247945221, 0.5137642802510654, 0.5339690903131032, 0.5326488120530782, 0.5828891937500759, 0.5330160618679357]}, {\"categories\": [\"0\", \"1\", \"2\", \"3\", \"4\", \"5\", \"6\", \"7\", \"8\", \"9\", \"10\", \"11\", \"12\", \"13\", \"14\", \"15\", \"16\", \"17\", \"18\", \"19\", \"20\", \"21\", \"22\", \"23\", \"24\", \"25\", \"26\", \"27\", \"28\", \"29\", \"38\", \"39\"], \"mode\": \"lines\", \"name\": \"AUC_micro_max\", \"stepped\": true, \"type\": \"scatter\", \"data\": [0.52241134407362, 0.5285513967633454, 0.5404308659811337, 0.5480884798892788, 0.5480884798892788, 0.5480884798892788, 0.5658409110223506, 0.5658409110223506, 0.5658409110223506, 0.5658409110223506, 0.5658409110223506, 0.5658409110223506, 0.5658409110223506, 0.5658409110223506, 0.5658409110223506, 0.5658409110223506, 0.5658409110223506, 0.5658409110223506, 0.5658409110223506, 0.5658409110223506, 0.5658409110223506, 0.5658409110223506, 0.5658409110223506, 0.5658409110223506, 0.5658409110223506, 0.5658409110223506, 0.5658409110223506, 0.5658409110223506, 0.5658409110223506, 0.5658409110223506, 0.5828891937500759, 0.5828891937500759]}], \"AUC_macro\": [{\"categories\": [\"0\", \"1\", \"2\", \"3\", \"4\", \"5\", \"6\", \"7\", \"8\", \"9\", \"10\", \"11\", \"12\", \"13\", \"14\", \"15\", \"16\", \"17\", \"18\", \"19\", \"20\", \"21\", \"22\", \"23\", \"24\", \"25\", \"26\", \"27\", \"28\", \"29\", \"38\", \"39\"], \"mode\": \"markers\", \"name\": \"AUC_macro\", \"stepped\": false, \"type\": \"scatter\", \"data\": [0.5086942737293922, 0.5146205248268462, 0.5148887913374305, 0.5297288069456638, 0.5332162715832602, 0.4840869183494293, 0.5509462491464248, 0.5339479075212175, 0.5204370305336065, 0.48620866256950546, 0.5300214613208467, 0.5430201931518877, 0.5380084869768803, 0.5020363866939811, 0.48929372744122523, 0.5124012291483757, 0.5047678275290215, 0.5236440347283191, 0.5522509999024485, 0.4723563554775144, 0.5087552433908887, 0.5154558091893474, 0.5354965369232271, 0.4888547458784509, 0.5221929567847039, 0.5329723929372744, 0.5056092088576725, 0.507791922739245, 0.5234367378792313, 0.5117427568042142, 0.5681762754853186, 0.5070846746658864]}, {\"categories\": [\"0\", \"1\", \"2\", \"3\", \"4\", \"5\", \"6\", \"7\", \"8\", \"9\", \"10\", \"11\", \"12\", \"13\", \"14\", \"15\", \"16\", \"17\", \"18\", \"19\", \"20\", \"21\", \"22\", \"23\", \"24\", \"25\", \"26\", \"27\", \"28\", \"29\", \"38\", \"39\"], \"mode\": \"lines\", \"name\": \"AUC_macro_max\", \"stepped\": true, \"type\": \"scatter\", \"data\": [0.5086942737293922, 0.5146205248268462, 0.5148887913374305, 0.5297288069456638, 0.5332162715832602, 0.5332162715832602, 0.5509462491464248, 0.5509462491464248, 0.5509462491464248, 0.5509462491464248, 0.5509462491464248, 0.5509462491464248, 0.5509462491464248, 0.5509462491464248, 0.5509462491464248, 0.5509462491464248, 0.5509462491464248, 0.5509462491464248, 0.5522509999024485, 0.5522509999024485, 0.5522509999024485, 0.5522509999024485, 0.5522509999024485, 0.5522509999024485, 0.5522509999024485, 0.5522509999024485, 0.5522509999024485, 0.5522509999024485, 0.5522509999024485, 0.5522509999024485, 0.5681762754853186, 0.5681762754853186]}], \"matthews_correlation\": [{\"categories\": [\"0\", \"1\", \"2\", \"3\", \"4\", \"5\", \"6\", \"7\", \"8\", \"9\", \"10\", \"11\", \"12\", \"13\", \"14\", \"15\", \"16\", \"17\", \"18\", \"19\", \"20\", \"21\", \"22\", \"23\", \"24\", \"25\", \"26\", \"27\", \"28\", \"29\", \"38\", \"39\"], \"mode\": \"markers\", \"name\": \"matthews_correlation\", \"stepped\": false, \"type\": \"scatter\", \"data\": [0.03223514310847208, -0.03887465539634789, 0.07401221472154274, 0.07548861399560478, 0.014833680747510049, 0.004325418182007204, 0.05865038755565287, 0.02037662898402374, -0.035898840202564036, -0.058735600419726995, 0.0610737982398072, -0.0011861670153816325, 0.04462159264334531, 0.017992722216924446, -0.011254996753921895, 0.030548628809674867, 0.012914551937708137, -0.020061001947753027, 0.07568922459612552, -0.03856366145513492, 0.05865038755565287, -0.007901668129938543, 0.03932841386870761, 0.018642077956325158, 0.061447796070422195, 0.051237728758283994, 0.008834580629230687, 0.021565787006497025, 0.03711999683953571, 0.0018848206632594861, 0.12687501284339656, -0.002851481247605931]}, {\"categories\": [\"0\", \"1\", \"2\", \"3\", \"4\", \"5\", \"6\", \"7\", \"8\", \"9\", \"10\", \"11\", \"12\", \"13\", \"14\", \"15\", \"16\", \"17\", \"18\", \"19\", \"20\", \"21\", \"22\", \"23\", \"24\", \"25\", \"26\", \"27\", \"28\", \"29\", \"38\", \"39\"], \"mode\": \"lines\", \"name\": \"matthews_correlation_max\", \"stepped\": true, \"type\": \"scatter\", \"data\": [0.03223514310847208, 0.03223514310847208, 0.07401221472154274, 0.07548861399560478, 0.07548861399560478, 0.07548861399560478, 0.07548861399560478, 0.07548861399560478, 0.07548861399560478, 0.07548861399560478, 0.07548861399560478, 0.07548861399560478, 0.07548861399560478, 0.07548861399560478, 0.07548861399560478, 0.07548861399560478, 0.07548861399560478, 0.07548861399560478, 0.07568922459612552, 0.07568922459612552, 0.07568922459612552, 0.07568922459612552, 0.07568922459612552, 0.07568922459612552, 0.07568922459612552, 0.07568922459612552, 0.07568922459612552, 0.07568922459612552, 0.07568922459612552, 0.07568922459612552, 0.12687501284339656, 0.12687501284339656]}], \"recall_score_weighted\": [{\"categories\": [\"0\", \"1\", \"2\", \"3\", \"4\", \"5\", \"6\", \"7\", \"8\", \"9\", \"10\", \"11\", \"12\", \"13\", \"14\", \"15\", \"16\", \"17\", \"18\", \"19\", \"20\", \"21\", \"22\", \"23\", \"24\", \"25\", \"26\", \"27\", \"28\", \"29\", \"38\", \"39\"], \"mode\": \"markers\", \"name\": \"recall_score_weighted\", \"stepped\": false, \"type\": \"scatter\", \"data\": [0.5261324041811847, 0.4965156794425087, 0.5487804878048781, 0.5400696864111498, 0.5139372822299652, 0.5209059233449478, 0.5383275261324042, 0.5296167247386759, 0.5121951219512195, 0.47909407665505227, 0.5418118466898955, 0.5296167247386759, 0.5261324041811847, 0.5174216027874564, 0.5, 0.519163763066202, 0.5278745644599303, 0.4930313588850174, 0.5418118466898955, 0.49477351916376305, 0.5383275261324042, 0.49825783972125437, 0.5226480836236934, 0.5331010452961672, 0.5383275261324042, 0.5296167247386759, 0.5331010452961672, 0.5139372822299652, 0.5261324041811847, 0.5174216027874564, 0.5714285714285714, 0.5121951219512195]}, {\"categories\": [\"0\", \"1\", \"2\", \"3\", \"4\", \"5\", \"6\", \"7\", \"8\", \"9\", \"10\", \"11\", \"12\", \"13\", \"14\", \"15\", \"16\", \"17\", \"18\", \"19\", \"20\", \"21\", \"22\", \"23\", \"24\", \"25\", \"26\", \"27\", \"28\", \"29\", \"38\", \"39\"], \"mode\": \"lines\", \"name\": \"recall_score_weighted_max\", \"stepped\": true, \"type\": \"scatter\", \"data\": [0.5261324041811847, 0.5261324041811847, 0.5487804878048781, 0.5487804878048781, 0.5487804878048781, 0.5487804878048781, 0.5487804878048781, 0.5487804878048781, 0.5487804878048781, 0.5487804878048781, 0.5487804878048781, 0.5487804878048781, 0.5487804878048781, 0.5487804878048781, 0.5487804878048781, 0.5487804878048781, 0.5487804878048781, 0.5487804878048781, 0.5487804878048781, 0.5487804878048781, 0.5487804878048781, 0.5487804878048781, 0.5487804878048781, 0.5487804878048781, 0.5487804878048781, 0.5487804878048781, 0.5487804878048781, 0.5487804878048781, 0.5487804878048781, 0.5487804878048781, 0.5714285714285714, 0.5714285714285714]}], \"average_precision_score_weighted\": [{\"categories\": [\"0\", \"1\", \"2\", \"3\", \"4\", \"5\", \"6\", \"7\", \"8\", \"9\", \"10\", \"11\", \"12\", \"13\", \"14\", \"15\", \"16\", \"17\", \"18\", \"19\", \"20\", \"21\", \"22\", \"23\", \"24\", \"25\", \"26\", \"27\", \"28\", \"29\", \"38\", \"39\"], \"mode\": \"markers\", \"name\": \"average_precision_score_weighted\", \"stepped\": false, \"type\": \"scatter\", \"data\": [0.5235274887478477, 0.5186091318820715, 0.514491727920369, 0.5408843064836414, 0.5279939163517252, 0.4940518412558309, 0.5596620320015095, 0.5390842232878248, 0.5300423726109651, 0.491835121260278, 0.5384179407078723, 0.5381894678650653, 0.5401933683592289, 0.5116171352717073, 0.4994664295138419, 0.5139855355471802, 0.5080646840630969, 0.5372683986058623, 0.5551396264231084, 0.4923223541261973, 0.5046019447695442, 0.5192915451525527, 0.5280702112520728, 0.5021054836034152, 0.5274468520653188, 0.5378285262334286, 0.5062729286893703, 0.5149824697887359, 0.5264988996290185, 0.5201716421731877, 0.5629734227910141, 0.5176489032760242]}, {\"categories\": [\"0\", \"1\", \"2\", \"3\", \"4\", \"5\", \"6\", \"7\", \"8\", \"9\", \"10\", \"11\", \"12\", \"13\", \"14\", \"15\", \"16\", \"17\", \"18\", \"19\", \"20\", \"21\", \"22\", \"23\", \"24\", \"25\", \"26\", \"27\", \"28\", \"29\", \"38\", \"39\"], \"mode\": \"lines\", \"name\": \"average_precision_score_weighted_max\", \"stepped\": true, \"type\": \"scatter\", \"data\": [0.5235274887478477, 0.5235274887478477, 0.5235274887478477, 0.5408843064836414, 0.5408843064836414, 0.5408843064836414, 0.5596620320015095, 0.5596620320015095, 0.5596620320015095, 0.5596620320015095, 0.5596620320015095, 0.5596620320015095, 0.5596620320015095, 0.5596620320015095, 0.5596620320015095, 0.5596620320015095, 0.5596620320015095, 0.5596620320015095, 0.5596620320015095, 0.5596620320015095, 0.5596620320015095, 0.5596620320015095, 0.5596620320015095, 0.5596620320015095, 0.5596620320015095, 0.5596620320015095, 0.5596620320015095, 0.5596620320015095, 0.5596620320015095, 0.5596620320015095, 0.5629734227910141, 0.5629734227910141]}], \"norm_macro_recall\": [{\"categories\": [\"0\", \"1\", \"2\", \"3\", \"4\", \"5\", \"6\", \"7\", \"8\", \"9\", \"10\", \"11\", \"12\", \"13\", \"14\", \"15\", \"16\", \"17\", \"18\", \"19\", \"20\", \"21\", \"22\", \"23\", \"24\", \"25\", \"26\", \"27\", \"28\", \"29\", \"38\", \"39\"], \"mode\": \"markers\", \"name\": \"norm_macro_recall\", \"stepped\": false, \"type\": \"scatter\", \"data\": [0.030484830748219727, 0.0, 0.06323773290410695, 0.015388742561701196, 0.01455955516534968, 0.003536240366793564, 0.05567749487854856, 0.015242415374109974, 0.0, 0.0, 0.02190030240952101, 0.0, 0.0443859135694078, 0.017388547458784487, 0.0, 0.03038727928982521, 0.009194224953662955, 0.0, 0.0751877865574091, 0.0, 0.05567749487854856, 0.0, 0.03924007413910835, 0.009730757974831805, 0.05938445029753181, 0.050921861281826075, 0.0023168471368646415, 0.021510096575943827, 0.03604526387669482, 0.0016339869281045694, 0.11220856501804688, 0.0]}, {\"categories\": [\"0\", \"1\", \"2\", \"3\", \"4\", \"5\", \"6\", \"7\", \"8\", \"9\", \"10\", \"11\", \"12\", \"13\", \"14\", \"15\", \"16\", \"17\", \"18\", \"19\", \"20\", \"21\", \"22\", \"23\", \"24\", \"25\", \"26\", \"27\", \"28\", \"29\", \"38\", \"39\"], \"mode\": \"lines\", \"name\": \"norm_macro_recall_max\", \"stepped\": true, \"type\": \"scatter\", \"data\": [0.030484830748219727, 0.030484830748219727, 0.06323773290410695, 0.06323773290410695, 0.06323773290410695, 0.06323773290410695, 0.06323773290410695, 0.06323773290410695, 0.06323773290410695, 0.06323773290410695, 0.06323773290410695, 0.06323773290410695, 0.06323773290410695, 0.06323773290410695, 0.06323773290410695, 0.06323773290410695, 0.06323773290410695, 0.06323773290410695, 0.0751877865574091, 0.0751877865574091, 0.0751877865574091, 0.0751877865574091, 0.0751877865574091, 0.0751877865574091, 0.0751877865574091, 0.0751877865574091, 0.0751877865574091, 0.0751877865574091, 0.0751877865574091, 0.0751877865574091, 0.11220856501804688, 0.11220856501804688]}], \"balanced_accuracy\": [{\"categories\": [\"0\", \"1\", \"2\", \"3\", \"4\", \"5\", \"6\", \"7\", \"8\", \"9\", \"10\", \"11\", \"12\", \"13\", \"14\", \"15\", \"16\", \"17\", \"18\", \"19\", \"20\", \"21\", \"22\", \"23\", \"24\", \"25\", \"26\", \"27\", \"28\", \"29\", \"38\", \"39\"], \"mode\": \"markers\", \"name\": \"balanced_accuracy\", \"stepped\": false, \"type\": \"scatter\", \"data\": [0.5152424153741099, 0.4823675738952297, 0.5316188664520535, 0.5076943712808506, 0.5072797775826748, 0.5017681201833968, 0.5278387474392743, 0.507621207687055, 0.4878060677007121, 0.4713564530289728, 0.5109501512047605, 0.4997439274217149, 0.5221929567847039, 0.5086942737293922, 0.4944395668715248, 0.5151936396449126, 0.5045971124768315, 0.48998878158228465, 0.5375938932787045, 0.48212369524924403, 0.5278387474392743, 0.49604916593503073, 0.5196200370695542, 0.5048653789874159, 0.5296922251487659, 0.525460930640913, 0.5011584235684323, 0.5107550482879719, 0.5180226319383474, 0.5008169934640523, 0.5561042825090234, 0.4986952492439762]}, {\"categories\": [\"0\", \"1\", \"2\", \"3\", \"4\", \"5\", \"6\", \"7\", \"8\", \"9\", \"10\", \"11\", \"12\", \"13\", \"14\", \"15\", \"16\", \"17\", \"18\", \"19\", \"20\", \"21\", \"22\", \"23\", \"24\", \"25\", \"26\", \"27\", \"28\", \"29\", \"38\", \"39\"], \"mode\": \"lines\", \"name\": \"balanced_accuracy_max\", \"stepped\": true, \"type\": \"scatter\", \"data\": [0.5152424153741099, 0.5152424153741099, 0.5316188664520535, 0.5316188664520535, 0.5316188664520535, 0.5316188664520535, 0.5316188664520535, 0.5316188664520535, 0.5316188664520535, 0.5316188664520535, 0.5316188664520535, 0.5316188664520535, 0.5316188664520535, 0.5316188664520535, 0.5316188664520535, 0.5316188664520535, 0.5316188664520535, 0.5316188664520535, 0.5375938932787045, 0.5375938932787045, 0.5375938932787045, 0.5375938932787045, 0.5375938932787045, 0.5375938932787045, 0.5375938932787045, 0.5375938932787045, 0.5375938932787045, 0.5375938932787045, 0.5375938932787045, 0.5375938932787045, 0.5561042825090234, 0.5561042825090234]}], \"accuracy\": [{\"categories\": [\"0\", \"1\", \"2\", \"3\", \"4\", \"5\", \"6\", \"7\", \"8\", \"9\", \"10\", \"11\", \"12\", \"13\", \"14\", \"15\", \"16\", \"17\", \"18\", \"19\", \"20\", \"21\", \"22\", \"23\", \"24\", \"25\", \"26\", \"27\", \"28\", \"29\", \"38\", \"39\"], \"mode\": \"markers\", \"name\": \"accuracy\", \"stepped\": false, \"type\": \"scatter\", \"data\": [0.5261324041811847, 0.4965156794425087, 0.5487804878048781, 0.5400696864111498, 0.5139372822299652, 0.5209059233449478, 0.5383275261324042, 0.5296167247386759, 0.5121951219512195, 0.47909407665505227, 0.5418118466898955, 0.5296167247386759, 0.5261324041811847, 0.5174216027874564, 0.5, 0.519163763066202, 0.5278745644599303, 0.4930313588850174, 0.5418118466898955, 0.49477351916376305, 0.5383275261324042, 0.49825783972125437, 0.5226480836236934, 0.5331010452961672, 0.5383275261324042, 0.5296167247386759, 0.5331010452961672, 0.5139372822299652, 0.5261324041811847, 0.5174216027874564, 0.5714285714285714, 0.5121951219512195]}, {\"categories\": [\"0\", \"1\", \"2\", \"3\", \"4\", \"5\", \"6\", \"7\", \"8\", \"9\", \"10\", \"11\", \"12\", \"13\", \"14\", \"15\", \"16\", \"17\", \"18\", \"19\", \"20\", \"21\", \"22\", \"23\", \"24\", \"25\", \"26\", \"27\", \"28\", \"29\", \"38\", \"39\"], \"mode\": \"lines\", \"name\": \"accuracy_max\", \"stepped\": true, \"type\": \"scatter\", \"data\": [0.5261324041811847, 0.5261324041811847, 0.5487804878048781, 0.5487804878048781, 0.5487804878048781, 0.5487804878048781, 0.5487804878048781, 0.5487804878048781, 0.5487804878048781, 0.5487804878048781, 0.5487804878048781, 0.5487804878048781, 0.5487804878048781, 0.5487804878048781, 0.5487804878048781, 0.5487804878048781, 0.5487804878048781, 0.5487804878048781, 0.5487804878048781, 0.5487804878048781, 0.5487804878048781, 0.5487804878048781, 0.5487804878048781, 0.5487804878048781, 0.5487804878048781, 0.5487804878048781, 0.5487804878048781, 0.5487804878048781, 0.5487804878048781, 0.5487804878048781, 0.5714285714285714, 0.5714285714285714]}], \"recall_score_macro\": [{\"categories\": [\"0\", \"1\", \"2\", \"3\", \"4\", \"5\", \"6\", \"7\", \"8\", \"9\", \"10\", \"11\", \"12\", \"13\", \"14\", \"15\", \"16\", \"17\", \"18\", \"19\", \"20\", \"21\", \"22\", \"23\", \"24\", \"25\", \"26\", \"27\", \"28\", \"29\", \"38\", \"39\"], \"mode\": \"markers\", \"name\": \"recall_score_macro\", \"stepped\": false, \"type\": \"scatter\", \"data\": [0.5152424153741099, 0.4823675738952297, 0.5316188664520535, 0.5076943712808506, 0.5072797775826748, 0.5017681201833968, 0.5278387474392743, 0.507621207687055, 0.4878060677007121, 0.4713564530289728, 0.5109501512047605, 0.4997439274217149, 0.5221929567847039, 0.5086942737293922, 0.4944395668715248, 0.5151936396449126, 0.5045971124768315, 0.48998878158228465, 0.5375938932787045, 0.48212369524924403, 0.5278387474392743, 0.49604916593503073, 0.5196200370695542, 0.5048653789874159, 0.5296922251487659, 0.525460930640913, 0.5011584235684323, 0.5107550482879719, 0.5180226319383474, 0.5008169934640523, 0.5561042825090234, 0.4986952492439762]}, {\"categories\": [\"0\", \"1\", \"2\", \"3\", \"4\", \"5\", \"6\", \"7\", \"8\", \"9\", \"10\", \"11\", \"12\", \"13\", \"14\", \"15\", \"16\", \"17\", \"18\", \"19\", \"20\", \"21\", \"22\", \"23\", \"24\", \"25\", \"26\", \"27\", \"28\", \"29\", \"38\", \"39\"], \"mode\": \"lines\", \"name\": \"recall_score_macro_max\", \"stepped\": true, \"type\": \"scatter\", \"data\": [0.5152424153741099, 0.5152424153741099, 0.5316188664520535, 0.5316188664520535, 0.5316188664520535, 0.5316188664520535, 0.5316188664520535, 0.5316188664520535, 0.5316188664520535, 0.5316188664520535, 0.5316188664520535, 0.5316188664520535, 0.5316188664520535, 0.5316188664520535, 0.5316188664520535, 0.5316188664520535, 0.5316188664520535, 0.5316188664520535, 0.5375938932787045, 0.5375938932787045, 0.5375938932787045, 0.5375938932787045, 0.5375938932787045, 0.5375938932787045, 0.5375938932787045, 0.5375938932787045, 0.5375938932787045, 0.5375938932787045, 0.5375938932787045, 0.5375938932787045, 0.5561042825090234, 0.5561042825090234]}], \"average_precision_score_macro\": [{\"categories\": [\"0\", \"1\", \"2\", \"3\", \"4\", \"5\", \"6\", \"7\", \"8\", \"9\", \"10\", \"11\", \"12\", \"13\", \"14\", \"15\", \"16\", \"17\", \"18\", \"19\", \"20\", \"21\", \"22\", \"23\", \"24\", \"25\", \"26\", \"27\", \"28\", \"29\", \"38\", \"39\"], \"mode\": \"markers\", \"name\": \"average_precision_score_macro\", \"stepped\": false, \"type\": \"scatter\", \"data\": [0.521157669574193, 0.5169318951013102, 0.5133756101820961, 0.5387380524009325, 0.5264665106892445, 0.4917551176186541, 0.5579200294755394, 0.5365397019860125, 0.5267462962889864, 0.4896206164234328, 0.5370990741080162, 0.535748673115515, 0.5391336179882358, 0.5104618899524377, 0.49773763536257254, 0.5115257624251579, 0.5056418809942491, 0.5349796959689676, 0.554188152507762, 0.48962160706933283, 0.5020600569322633, 0.5171800371920423, 0.5266757086282294, 0.5006787204713661, 0.5254893972881775, 0.5371476517583844, 0.5044972935924356, 0.5128039444658947, 0.5244604454613571, 0.5179371675359075, 0.5617153945299261, 0.5164833568923257]}, {\"categories\": [\"0\", \"1\", \"2\", \"3\", \"4\", \"5\", \"6\", \"7\", \"8\", \"9\", \"10\", \"11\", \"12\", \"13\", \"14\", \"15\", \"16\", \"17\", \"18\", \"19\", \"20\", \"21\", \"22\", \"23\", \"24\", \"25\", \"26\", \"27\", \"28\", \"29\", \"38\", \"39\"], \"mode\": \"lines\", \"name\": \"average_precision_score_macro_max\", \"stepped\": true, \"type\": \"scatter\", \"data\": [0.521157669574193, 0.521157669574193, 0.521157669574193, 0.5387380524009325, 0.5387380524009325, 0.5387380524009325, 0.5579200294755394, 0.5579200294755394, 0.5579200294755394, 0.5579200294755394, 0.5579200294755394, 0.5579200294755394, 0.5579200294755394, 0.5579200294755394, 0.5579200294755394, 0.5579200294755394, 0.5579200294755394, 0.5579200294755394, 0.5579200294755394, 0.5579200294755394, 0.5579200294755394, 0.5579200294755394, 0.5579200294755394, 0.5579200294755394, 0.5579200294755394, 0.5579200294755394, 0.5579200294755394, 0.5579200294755394, 0.5579200294755394, 0.5579200294755394, 0.5617153945299261, 0.5617153945299261]}], \"precision_score_weighted\": [{\"categories\": [\"0\", \"1\", \"2\", \"3\", \"4\", \"5\", \"6\", \"7\", \"8\", \"9\", \"10\", \"11\", \"12\", \"13\", \"14\", \"15\", \"16\", \"17\", \"18\", \"19\", \"20\", \"21\", \"22\", \"23\", \"24\", \"25\", \"26\", \"27\", \"28\", \"29\", \"38\", \"39\"], \"mode\": \"markers\", \"name\": \"precision_score_weighted\", \"stepped\": false, \"type\": \"scatter\", \"data\": [0.5188608612899891, 0.481367365415311, 0.5440040022341461, 0.6753427066463824, 0.5096467453323534, 0.5047354225780386, 0.5324268112349714, 0.5152114039819418, 0.47705584855468086, 0.47253939763724717, 0.5820857351024231, 0.5008997970670445, 0.52443953898279, 0.5113371092080857, 0.4965590457753076, 0.5174228051064893, 0.5108388649489424, 0.4922018105432633, 0.5399544250440519, 0.4819164118972285, 0.5324268112349714, 0.49825783972125437, 0.521777088842492, 0.5190393230462917, 0.5334254442607654, 0.5277491289198606, 0.5179590777670695, 0.512932344988094, 0.5209917156367626, 0.5032423295113578, 0.5716869187185974, 0.500675454919954]}, {\"categories\": [\"0\", \"1\", \"2\", \"3\", \"4\", \"5\", \"6\", \"7\", \"8\", \"9\", \"10\", \"11\", \"12\", \"13\", \"14\", \"15\", \"16\", \"17\", \"18\", \"19\", \"20\", \"21\", \"22\", \"23\", \"24\", \"25\", \"26\", \"27\", \"28\", \"29\", \"38\", \"39\"], \"mode\": \"lines\", \"name\": \"precision_score_weighted_max\", \"stepped\": true, \"type\": \"scatter\", \"data\": [0.5188608612899891, 0.5188608612899891, 0.5440040022341461, 0.6753427066463824, 0.6753427066463824, 0.6753427066463824, 0.6753427066463824, 0.6753427066463824, 0.6753427066463824, 0.6753427066463824, 0.6753427066463824, 0.6753427066463824, 0.6753427066463824, 0.6753427066463824, 0.6753427066463824, 0.6753427066463824, 0.6753427066463824, 0.6753427066463824, 0.6753427066463824, 0.6753427066463824, 0.6753427066463824, 0.6753427066463824, 0.6753427066463824, 0.6753427066463824, 0.6753427066463824, 0.6753427066463824, 0.6753427066463824, 0.6753427066463824, 0.6753427066463824, 0.6753427066463824, 0.6753427066463824, 0.6753427066463824]}], \"f1_score_micro\": [{\"categories\": [\"0\", \"1\", \"2\", \"3\", \"4\", \"5\", \"6\", \"7\", \"8\", \"9\", \"10\", \"11\", \"12\", \"13\", \"14\", \"15\", \"16\", \"17\", \"18\", \"19\", \"20\", \"21\", \"22\", \"23\", \"24\", \"25\", \"26\", \"27\", \"28\", \"29\", \"38\", \"39\"], \"mode\": \"markers\", \"name\": \"f1_score_micro\", \"stepped\": false, \"type\": \"scatter\", \"data\": [0.5261324041811847, 0.4965156794425087, 0.5487804878048781, 0.5400696864111498, 0.5139372822299652, 0.5209059233449478, 0.5383275261324042, 0.5296167247386759, 0.5121951219512195, 0.47909407665505227, 0.5418118466898955, 0.5296167247386759, 0.5261324041811847, 0.5174216027874564, 0.5, 0.519163763066202, 0.5278745644599303, 0.4930313588850174, 0.5418118466898955, 0.49477351916376305, 0.5383275261324042, 0.49825783972125437, 0.5226480836236934, 0.5331010452961672, 0.5383275261324042, 0.5296167247386759, 0.5331010452961672, 0.5139372822299652, 0.5261324041811847, 0.5174216027874564, 0.5714285714285714, 0.5121951219512195]}, {\"categories\": [\"0\", \"1\", \"2\", \"3\", \"4\", \"5\", \"6\", \"7\", \"8\", \"9\", \"10\", \"11\", \"12\", \"13\", \"14\", \"15\", \"16\", \"17\", \"18\", \"19\", \"20\", \"21\", \"22\", \"23\", \"24\", \"25\", \"26\", \"27\", \"28\", \"29\", \"38\", \"39\"], \"mode\": \"lines\", \"name\": \"f1_score_micro_max\", \"stepped\": true, \"type\": \"scatter\", \"data\": [0.5261324041811847, 0.5261324041811847, 0.5487804878048781, 0.5487804878048781, 0.5487804878048781, 0.5487804878048781, 0.5487804878048781, 0.5487804878048781, 0.5487804878048781, 0.5487804878048781, 0.5487804878048781, 0.5487804878048781, 0.5487804878048781, 0.5487804878048781, 0.5487804878048781, 0.5487804878048781, 0.5487804878048781, 0.5487804878048781, 0.5487804878048781, 0.5487804878048781, 0.5487804878048781, 0.5487804878048781, 0.5487804878048781, 0.5487804878048781, 0.5487804878048781, 0.5487804878048781, 0.5487804878048781, 0.5487804878048781, 0.5487804878048781, 0.5487804878048781, 0.5714285714285714, 0.5714285714285714]}], \"AUC_weighted\": [{\"categories\": [\"0\", \"1\", \"2\", \"3\", \"4\", \"5\", \"6\", \"7\", \"8\", \"9\", \"10\", \"11\", \"12\", \"13\", \"14\", \"15\", \"16\", \"17\", \"18\", \"19\", \"20\", \"21\", \"22\", \"23\", \"24\", \"25\", \"26\", \"27\", \"28\", \"29\", \"38\", \"39\"], \"mode\": \"markers\", \"name\": \"AUC_weighted\", \"stepped\": false, \"type\": \"scatter\", \"data\": [0.5086942737293922, 0.5146205248268462, 0.5148887913374306, 0.5297288069456638, 0.5332162715832601, 0.4840869183494293, 0.5509462491464246, 0.5339479075212175, 0.5204370305336066, 0.48620866256950546, 0.5300214613208467, 0.5430201931518875, 0.5380084869768803, 0.5020363866939811, 0.48929372744122523, 0.5124012291483758, 0.5047678275290215, 0.5236440347283191, 0.5522509999024485, 0.47235635547751437, 0.5087552433908887, 0.5154558091893473, 0.5354965369232271, 0.48885474587845096, 0.5221929567847039, 0.5329723929372744, 0.5056092088576725, 0.5077919227392449, 0.5234367378792313, 0.5117427568042143, 0.5681762754853185, 0.5070846746658862]}, {\"categories\": [\"0\", \"1\", \"2\", \"3\", \"4\", \"5\", \"6\", \"7\", \"8\", \"9\", \"10\", \"11\", \"12\", \"13\", \"14\", \"15\", \"16\", \"17\", \"18\", \"19\", \"20\", \"21\", \"22\", \"23\", \"24\", \"25\", \"26\", \"27\", \"28\", \"29\", \"38\", \"39\"], \"mode\": \"lines\", \"name\": \"AUC_weighted_max\", \"stepped\": true, \"type\": \"scatter\", \"data\": [0.5086942737293922, 0.5146205248268462, 0.5148887913374306, 0.5297288069456638, 0.5332162715832601, 0.5332162715832601, 0.5509462491464246, 0.5509462491464246, 0.5509462491464246, 0.5509462491464246, 0.5509462491464246, 0.5509462491464246, 0.5509462491464246, 0.5509462491464246, 0.5509462491464246, 0.5509462491464246, 0.5509462491464246, 0.5509462491464246, 0.5522509999024485, 0.5522509999024485, 0.5522509999024485, 0.5522509999024485, 0.5522509999024485, 0.5522509999024485, 0.5522509999024485, 0.5522509999024485, 0.5522509999024485, 0.5522509999024485, 0.5522509999024485, 0.5522509999024485, 0.5681762754853185, 0.5681762754853185]}], \"precision_score_micro\": [{\"categories\": [\"0\", \"1\", \"2\", \"3\", \"4\", \"5\", \"6\", \"7\", \"8\", \"9\", \"10\", \"11\", \"12\", \"13\", \"14\", \"15\", \"16\", \"17\", \"18\", \"19\", \"20\", \"21\", \"22\", \"23\", \"24\", \"25\", \"26\", \"27\", \"28\", \"29\", \"38\", \"39\"], \"mode\": \"markers\", \"name\": \"precision_score_micro\", \"stepped\": false, \"type\": \"scatter\", \"data\": [0.5261324041811847, 0.4965156794425087, 0.5487804878048781, 0.5400696864111498, 0.5139372822299652, 0.5209059233449478, 0.5383275261324042, 0.5296167247386759, 0.5121951219512195, 0.47909407665505227, 0.5418118466898955, 0.5296167247386759, 0.5261324041811847, 0.5174216027874564, 0.5, 0.519163763066202, 0.5278745644599303, 0.4930313588850174, 0.5418118466898955, 0.49477351916376305, 0.5383275261324042, 0.49825783972125437, 0.5226480836236934, 0.5331010452961672, 0.5383275261324042, 0.5296167247386759, 0.5331010452961672, 0.5139372822299652, 0.5261324041811847, 0.5174216027874564, 0.5714285714285714, 0.5121951219512195]}, {\"categories\": [\"0\", \"1\", \"2\", \"3\", \"4\", \"5\", \"6\", \"7\", \"8\", \"9\", \"10\", \"11\", \"12\", \"13\", \"14\", \"15\", \"16\", \"17\", \"18\", \"19\", \"20\", \"21\", \"22\", \"23\", \"24\", \"25\", \"26\", \"27\", \"28\", \"29\", \"38\", \"39\"], \"mode\": \"lines\", \"name\": \"precision_score_micro_max\", \"stepped\": true, \"type\": \"scatter\", \"data\": [0.5261324041811847, 0.5261324041811847, 0.5487804878048781, 0.5487804878048781, 0.5487804878048781, 0.5487804878048781, 0.5487804878048781, 0.5487804878048781, 0.5487804878048781, 0.5487804878048781, 0.5487804878048781, 0.5487804878048781, 0.5487804878048781, 0.5487804878048781, 0.5487804878048781, 0.5487804878048781, 0.5487804878048781, 0.5487804878048781, 0.5487804878048781, 0.5487804878048781, 0.5487804878048781, 0.5487804878048781, 0.5487804878048781, 0.5487804878048781, 0.5487804878048781, 0.5487804878048781, 0.5487804878048781, 0.5487804878048781, 0.5487804878048781, 0.5487804878048781, 0.5714285714285714, 0.5714285714285714]}], \"f1_score_weighted\": [{\"categories\": [\"0\", \"1\", \"2\", \"3\", \"4\", \"5\", \"6\", \"7\", \"8\", \"9\", \"10\", \"11\", \"12\", \"13\", \"14\", \"15\", \"16\", \"17\", \"18\", \"19\", \"20\", \"21\", \"22\", \"23\", \"24\", \"25\", \"26\", \"27\", \"28\", \"29\", \"38\", \"39\"], \"mode\": \"markers\", \"name\": \"f1_score_weighted\", \"stepped\": false, \"type\": \"scatter\", \"data\": [0.5131597397152652, 0.47289739495000577, 0.5155832434651548, 0.38911291977030216, 0.5094258933391289, 0.4767774922316437, 0.5265322460461715, 0.47008038004802555, 0.43430888665012995, 0.4726363180638824, 0.409304471342374, 0.40517196786520043, 0.524878663359322, 0.5092669644155807, 0.4970106496567556, 0.5178915848793121, 0.45983540687250524, 0.4925436672244294, 0.5402907654488123, 0.47618406603422464, 0.5265322460461715, 0.49825783972125437, 0.5221114710099761, 0.42586777393790454, 0.5305261572928841, 0.5281638034251275, 0.385676339380256, 0.5133090351729238, 0.5192317633479175, 0.4849610295976471, 0.5463893249607534, 0.4912887504333272]}, {\"categories\": [\"0\", \"1\", \"2\", \"3\", \"4\", \"5\", \"6\", \"7\", \"8\", \"9\", \"10\", \"11\", \"12\", \"13\", \"14\", \"15\", \"16\", \"17\", \"18\", \"19\", \"20\", \"21\", \"22\", \"23\", \"24\", \"25\", \"26\", \"27\", \"28\", \"29\", \"38\", \"39\"], \"mode\": \"lines\", \"name\": \"f1_score_weighted_max\", \"stepped\": true, \"type\": \"scatter\", \"data\": [0.5131597397152652, 0.5131597397152652, 0.5155832434651548, 0.5155832434651548, 0.5155832434651548, 0.5155832434651548, 0.5265322460461715, 0.5265322460461715, 0.5265322460461715, 0.5265322460461715, 0.5265322460461715, 0.5265322460461715, 0.5265322460461715, 0.5265322460461715, 0.5265322460461715, 0.5265322460461715, 0.5265322460461715, 0.5265322460461715, 0.5402907654488123, 0.5402907654488123, 0.5402907654488123, 0.5402907654488123, 0.5402907654488123, 0.5402907654488123, 0.5402907654488123, 0.5402907654488123, 0.5402907654488123, 0.5402907654488123, 0.5402907654488123, 0.5402907654488123, 0.5463893249607534, 0.5463893249607534]}], \"weighted_accuracy\": [{\"categories\": [\"0\", \"1\", \"2\", \"3\", \"4\", \"5\", \"6\", \"7\", \"8\", \"9\", \"10\", \"11\", \"12\", \"13\", \"14\", \"15\", \"16\", \"17\", \"18\", \"19\", \"20\", \"21\", \"22\", \"23\", \"24\", \"25\", \"26\", \"27\", \"28\", \"29\", \"38\", \"39\"], \"mode\": \"markers\", \"name\": \"weighted_accuracy\", \"stepped\": false, \"type\": \"scatter\", \"data\": [0.5369273540432732, 0.5105403118578508, 0.5657923365163784, 0.572162456182763, 0.5205366856037712, 0.5398767073612956, 0.548724767315363, 0.5514202828478181, 0.5363713284177443, 0.486764172609694, 0.5724042064547321, 0.5592288166324185, 0.5300374712921551, 0.5260727668318624, 0.5055119062008944, 0.5230992384866432, 0.5509488698174783, 0.4960473830533058, 0.5459929892421127, 0.5073129457270638, 0.548724767315363, 0.5004472380031426, 0.5256497038559166, 0.5610902937265803, 0.5468874652483982, 0.5337362504532817, 0.5647648978605099, 0.5170917442282121, 0.5341714009428259, 0.5338813006164629, 0.5866191224465125, 0.525577178774326]}, {\"categories\": [\"0\", \"1\", \"2\", \"3\", \"4\", \"5\", \"6\", \"7\", \"8\", \"9\", \"10\", \"11\", \"12\", \"13\", \"14\", \"15\", \"16\", \"17\", \"18\", \"19\", \"20\", \"21\", \"22\", \"23\", \"24\", \"25\", \"26\", \"27\", \"28\", \"29\", \"38\", \"39\"], \"mode\": \"lines\", \"name\": \"weighted_accuracy_max\", \"stepped\": true, \"type\": \"scatter\", \"data\": [0.5369273540432732, 0.5369273540432732, 0.5657923365163784, 0.572162456182763, 0.572162456182763, 0.572162456182763, 0.572162456182763, 0.572162456182763, 0.572162456182763, 0.572162456182763, 0.5724042064547321, 0.5724042064547321, 0.5724042064547321, 0.5724042064547321, 0.5724042064547321, 0.5724042064547321, 0.5724042064547321, 0.5724042064547321, 0.5724042064547321, 0.5724042064547321, 0.5724042064547321, 0.5724042064547321, 0.5724042064547321, 0.5724042064547321, 0.5724042064547321, 0.5724042064547321, 0.5724042064547321, 0.5724042064547321, 0.5724042064547321, 0.5724042064547321, 0.5866191224465125, 0.5866191224465125]}], \"f1_score_macro\": [{\"categories\": [\"0\", \"1\", \"2\", \"3\", \"4\", \"5\", \"6\", \"7\", \"8\", \"9\", \"10\", \"11\", \"12\", \"13\", \"14\", \"15\", \"16\", \"17\", \"18\", \"19\", \"20\", \"21\", \"22\", \"23\", \"24\", \"25\", \"26\", \"27\", \"28\", \"29\", \"38\", \"39\"], \"mode\": \"markers\", \"name\": \"f1_score_macro\", \"stepped\": false, \"type\": \"scatter\", \"data\": [0.5066734074823054, 0.46418385309840277, 0.5059535084658457, 0.36721842689872886, 0.5050301810865191, 0.46537014269215005, 0.52039223723416, 0.45692700156985866, 0.41889390258012266, 0.4674151515433621, 0.389082462253194, 0.3854682146935668, 0.5219010289073983, 0.5038305388343304, 0.4930935698966421, 0.5148701616854483, 0.4457070572095426, 0.48989619820980856, 0.5372486029666459, 0.4683351858239751, 0.52039223723416, 0.49604916593503073, 0.5195625610948191, 0.4078374008776657, 0.5253252447332042, 0.5250965250965252, 0.36396262300504423, 0.5106564364876385, 0.5141889873543761, 0.4750930153479451, 0.538186813186813, 0.4831821982121037]}, {\"categories\": [\"0\", \"1\", \"2\", \"3\", \"4\", \"5\", \"6\", \"7\", \"8\", \"9\", \"10\", \"11\", \"12\", \"13\", \"14\", \"15\", \"16\", \"17\", \"18\", \"19\", \"20\", \"21\", \"22\", \"23\", \"24\", \"25\", \"26\", \"27\", \"28\", \"29\", \"38\", \"39\"], \"mode\": \"lines\", \"name\": \"f1_score_macro_max\", \"stepped\": true, \"type\": \"scatter\", \"data\": [0.5066734074823054, 0.5066734074823054, 0.5066734074823054, 0.5066734074823054, 0.5066734074823054, 0.5066734074823054, 0.52039223723416, 0.52039223723416, 0.52039223723416, 0.52039223723416, 0.52039223723416, 0.52039223723416, 0.5219010289073983, 0.5219010289073983, 0.5219010289073983, 0.5219010289073983, 0.5219010289073983, 0.5219010289073983, 0.5372486029666459, 0.5372486029666459, 0.5372486029666459, 0.5372486029666459, 0.5372486029666459, 0.5372486029666459, 0.5372486029666459, 0.5372486029666459, 0.5372486029666459, 0.5372486029666459, 0.5372486029666459, 0.5372486029666459, 0.538186813186813, 0.538186813186813]}]}, \"metricName\": null, \"primaryMetricName\": \"AUC_weighted\", \"showLegend\": false}, \"run_metrics\": [{\"name\": \"experiment_status\", \"run_id\": \"AutoML_d8a958f3-4fb5-4989-baa2-51e6a2a6d1ea\", \"categories\": [0, 1, 2, 3, 4, 5, 6, 7, 8, 9, 10, 11, 12], \"series\": [{\"data\": [\"DatasetEvaluation\", \"FeaturesGeneration\", \"DatasetFeaturization\", \"DatasetFeaturizationCompleted\", \"ModelSelection\", \"BestRunExplainModel\", \"ModelExplanationDataSetSetup\", \"PickSurrogateModel\", \"EngineeredFeatureExplanations\", \"EngineeredFeatureExplanations\", \"RawFeaturesExplanations\", \"RawFeaturesExplanations\", \"BestRunExplainModel\"]}]}, {\"name\": \"experiment_status_description\", \"run_id\": \"AutoML_d8a958f3-4fb5-4989-baa2-51e6a2a6d1ea\", \"categories\": [0, 1, 2, 3, 4, 5, 6, 7, 8, 9, 10, 11, 12], \"series\": [{\"data\": [\"Gathering dataset statistics.\", \"Generating features for the dataset.\", \"Beginning to fit featurizers and featurize the dataset.\", \"Completed fit featurizers and featurizing the dataset.\", \"Beginning model selection.\", \"Best run model explanations started\", \"Model explanations data setup completed\", \"Choosing LightGBM as the surrogate model for explanations\", \"Computation of engineered features started\", \"Computation of engineered features completed\", \"Computation of raw features started\", \"Computation of raw features completed\", \"Best run model explanations completed\"]}]}, {\"name\": \"recall_score_weighted\", \"run_id\": \"AutoML_d8a958f3-4fb5-4989-baa2-51e6a2a6d1ea\", \"categories\": [0], \"series\": [{\"data\": [0.5714285714285714]}]}, {\"name\": \"AUC_macro\", \"run_id\": \"AutoML_d8a958f3-4fb5-4989-baa2-51e6a2a6d1ea\", \"categories\": [0], \"series\": [{\"data\": [0.5681762754853186]}]}, {\"name\": \"recall_score_macro\", \"run_id\": \"AutoML_d8a958f3-4fb5-4989-baa2-51e6a2a6d1ea\", \"categories\": [0], \"series\": [{\"data\": [0.5561042825090234]}]}, {\"name\": \"precision_score_micro\", \"run_id\": \"AutoML_d8a958f3-4fb5-4989-baa2-51e6a2a6d1ea\", \"categories\": [0], \"series\": [{\"data\": [0.5714285714285714]}]}, {\"name\": \"matthews_correlation\", \"run_id\": \"AutoML_d8a958f3-4fb5-4989-baa2-51e6a2a6d1ea\", \"categories\": [0], \"series\": [{\"data\": [0.12687501284339656]}]}, {\"name\": \"f1_score_micro\", \"run_id\": \"AutoML_d8a958f3-4fb5-4989-baa2-51e6a2a6d1ea\", \"categories\": [0], \"series\": [{\"data\": [0.5714285714285714]}]}, {\"name\": \"average_precision_score_macro\", \"run_id\": \"AutoML_d8a958f3-4fb5-4989-baa2-51e6a2a6d1ea\", \"categories\": [0], \"series\": [{\"data\": [0.5617153945299261]}]}, {\"name\": \"AUC_weighted\", \"run_id\": \"AutoML_d8a958f3-4fb5-4989-baa2-51e6a2a6d1ea\", \"categories\": [0], \"series\": [{\"data\": [0.5681762754853185]}]}, {\"name\": \"log_loss\", \"run_id\": \"AutoML_d8a958f3-4fb5-4989-baa2-51e6a2a6d1ea\", \"categories\": [0], \"series\": [{\"data\": [0.68568552337421]}]}, {\"name\": \"balanced_accuracy\", \"run_id\": \"AutoML_d8a958f3-4fb5-4989-baa2-51e6a2a6d1ea\", \"categories\": [0], \"series\": [{\"data\": [0.5561042825090234]}]}, {\"name\": \"precision_score_macro\", \"run_id\": \"AutoML_d8a958f3-4fb5-4989-baa2-51e6a2a6d1ea\", \"categories\": [0], \"series\": [{\"data\": [0.5717292342229983]}]}, {\"name\": \"AUC_micro\", \"run_id\": \"AutoML_d8a958f3-4fb5-4989-baa2-51e6a2a6d1ea\", \"categories\": [0], \"series\": [{\"data\": [0.5828891937500759]}]}, {\"name\": \"accuracy\", \"run_id\": \"AutoML_d8a958f3-4fb5-4989-baa2-51e6a2a6d1ea\", \"categories\": [0], \"series\": [{\"data\": [0.5714285714285714]}]}, {\"name\": \"average_precision_score_micro\", \"run_id\": \"AutoML_d8a958f3-4fb5-4989-baa2-51e6a2a6d1ea\", \"categories\": [0], \"series\": [{\"data\": [0.5658493652349601]}]}, {\"name\": \"precision_score_weighted\", \"run_id\": \"AutoML_d8a958f3-4fb5-4989-baa2-51e6a2a6d1ea\", \"categories\": [0], \"series\": [{\"data\": [0.5716869187185974]}]}, {\"name\": \"f1_score_weighted\", \"run_id\": \"AutoML_d8a958f3-4fb5-4989-baa2-51e6a2a6d1ea\", \"categories\": [0], \"series\": [{\"data\": [0.5463893249607534]}]}, {\"name\": \"weighted_accuracy\", \"run_id\": \"AutoML_d8a958f3-4fb5-4989-baa2-51e6a2a6d1ea\", \"categories\": [0], \"series\": [{\"data\": [0.5866191224465125]}]}, {\"name\": \"average_precision_score_weighted\", \"run_id\": \"AutoML_d8a958f3-4fb5-4989-baa2-51e6a2a6d1ea\", \"categories\": [0], \"series\": [{\"data\": [0.5629734227910141]}]}, {\"name\": \"norm_macro_recall\", \"run_id\": \"AutoML_d8a958f3-4fb5-4989-baa2-51e6a2a6d1ea\", \"categories\": [0], \"series\": [{\"data\": [0.11220856501804688]}]}, {\"name\": \"recall_score_micro\", \"run_id\": \"AutoML_d8a958f3-4fb5-4989-baa2-51e6a2a6d1ea\", \"categories\": [0], \"series\": [{\"data\": [0.5714285714285714]}]}, {\"name\": \"f1_score_macro\", \"run_id\": \"AutoML_d8a958f3-4fb5-4989-baa2-51e6a2a6d1ea\", \"categories\": [0], \"series\": [{\"data\": [0.538186813186813]}]}], \"run_logs\": \"\\nRun is completed.\", \"graph\": {}, \"widget_settings\": {\"childWidgetDisplay\": \"popup\", \"send_telemetry\": false, \"log_level\": \"INFO\", \"sdk_version\": \"1.22.0\"}, \"loading\": false}"
          },
          "metadata": {}
        }
      ],
      "execution_count": 9,
      "metadata": {
        "collapsed": false,
        "gather": {
          "logged": 1615710792816
        },
        "jupyter": {
          "outputs_hidden": false,
          "source_hidden": false
        },
        "nteract": {
          "transient": {
            "deleting": false
          }
        }
      }
    },
    {
      "cell_type": "markdown",
      "source": [
        "## Best Model\n",
        "\n",
        "TODO: In the cell below, get the best model from the automl experiments and display all the properties of the model.\n",
        "\n"
      ],
      "metadata": {}
    },
    {
      "cell_type": "code",
      "source": [
        "best_run, fitted_model = remote_run.get_output()"
      ],
      "outputs": [
        {
          "output_type": "stream",
          "name": "stderr",
          "text": [
            "WARNING:root:The version of the SDK does not match the version the model was trained on.\n",
            "WARNING:root:The consistency in the result may not be guaranteed.\n",
            "WARNING:root:Package:azureml-automl-core, training version:1.23.0, current version:1.22.0\n",
            "Package:azureml-automl-runtime, training version:1.23.0, current version:1.22.0\n",
            "Package:azureml-core, training version:1.23.0, current version:1.22.0\n",
            "Package:azureml-dataprep, training version:2.10.1, current version:2.9.1\n",
            "Package:azureml-dataprep-native, training version:30.0.0, current version:29.0.0\n",
            "Package:azureml-dataprep-rslex, training version:1.8.0, current version:1.7.0\n",
            "Package:azureml-dataset-runtime, training version:1.23.0, current version:1.22.0\n",
            "Package:azureml-defaults, training version:1.23.0, current version:1.22.0\n",
            "Package:azureml-interpret, training version:1.23.0, current version:1.22.0\n",
            "Package:azureml-mlflow, training version:1.23.0, current version:1.22.0\n",
            "Package:azureml-pipeline-core, training version:1.23.0, current version:1.22.0\n",
            "Package:azureml-telemetry, training version:1.23.0, current version:1.22.0\n",
            "Package:azureml-train-automl-client, training version:1.23.0, current version:1.22.0\n",
            "Package:azureml-train-automl-runtime, training version:1.23.0, current version:1.22.0\n",
            "WARNING:root:Please ensure the version of your local conda dependencies match the version on which your model was trained in order to properly retrieve your model.\n"
          ]
        }
      ],
      "execution_count": 25,
      "metadata": {
        "collapsed": false,
        "gather": {
          "logged": 1615716345572
        },
        "jupyter": {
          "outputs_hidden": false,
          "source_hidden": false
        },
        "nteract": {
          "transient": {
            "deleting": false
          }
        }
      }
    },
    {
      "cell_type": "code",
      "source": [
        "print(best_run)"
      ],
      "outputs": [
        {
          "output_type": "stream",
          "name": "stdout",
          "text": [
            "Run(Experiment: uda3experiment,\n",
            "Id: AutoML_d8a958f3-4fb5-4989-baa2-51e6a2a6d1ea_38,\n",
            "Type: azureml.scriptrun,\n",
            "Status: Completed)\n"
          ]
        }
      ],
      "execution_count": 31,
      "metadata": {
        "collapsed": true,
        "jupyter": {
          "source_hidden": false,
          "outputs_hidden": false
        },
        "nteract": {
          "transient": {
            "deleting": false
          }
        },
        "gather": {
          "logged": 1615716980080
        }
      }
    },
    {
      "cell_type": "code",
      "source": [
        "print(best_run.properties['score'])"
      ],
      "outputs": [
        {
          "output_type": "stream",
          "name": "stdout",
          "text": [
            "0.5681762754853185\n"
          ]
        }
      ],
      "execution_count": 32,
      "metadata": {
        "collapsed": true,
        "jupyter": {
          "source_hidden": false,
          "outputs_hidden": false
        },
        "nteract": {
          "transient": {
            "deleting": false
          }
        },
        "gather": {
          "logged": 1615717057627
        }
      }
    },
    {
      "cell_type": "code",
      "source": [
        "print(fitted_model)"
      ],
      "outputs": [
        {
          "output_type": "stream",
          "name": "stdout",
          "text": [
            "Pipeline(memory=None,\n",
            "         steps=[('datatransformer',\n",
            "                 DataTransformer(enable_dnn=None, enable_feature_sweeping=None,\n",
            "                                 feature_sweeping_config=None,\n",
            "                                 feature_sweeping_timeout=None,\n",
            "                                 featurization_config=None, force_text_dnn=None,\n",
            "                                 is_cross_validation=None,\n",
            "                                 is_onnx_compatible=None, logger=None,\n",
            "                                 observer=None, task=None, working_dir=None)),\n",
            "                ('prefittedsoftvotingclassifier',...\n",
            "                                                                                                  l1_ratio=0.7959183673469387,\n",
            "                                                                                                  learning_rate='constant',\n",
            "                                                                                                  loss='log',\n",
            "                                                                                                  max_iter=1000,\n",
            "                                                                                                  n_jobs=1,\n",
            "                                                                                                  penalty='none',\n",
            "                                                                                                  power_t=0.4444444444444444,\n",
            "                                                                                                  random_state=None,\n",
            "                                                                                                  tol=0.01))],\n",
            "                                                                     verbose=False))],\n",
            "                                               flatten_transform=None,\n",
            "                                               weights=[0.4666666666666667,\n",
            "                                                        0.13333333333333333,\n",
            "                                                        0.06666666666666667,\n",
            "                                                        0.06666666666666667,\n",
            "                                                        0.06666666666666667,\n",
            "                                                        0.13333333333333333,\n",
            "                                                        0.06666666666666667]))],\n",
            "         verbose=False)\n",
            "Y_transformer(['LabelEncoder', LabelEncoder()])\n"
          ]
        }
      ],
      "execution_count": 33,
      "metadata": {
        "collapsed": false,
        "jupyter": {
          "source_hidden": false,
          "outputs_hidden": false
        },
        "nteract": {
          "transient": {
            "deleting": false
          }
        },
        "gather": {
          "logged": 1615717234645
        }
      }
    },
    {
      "cell_type": "code",
      "source": [
        "fitted_model.steps[1][1].estimators"
      ],
      "outputs": [
        {
          "output_type": "execute_result",
          "execution_count": 34,
          "data": {
            "text/plain": "[('18',\n  Pipeline(memory=None,\n           steps=[('maxabsscaler', MaxAbsScaler(copy=True)),\n                  ('randomforestclassifier',\n                   RandomForestClassifier(bootstrap=False, ccp_alpha=0.0,\n                                          class_weight='balanced',\n                                          criterion='gini', max_depth=None,\n                                          max_features=0.05, max_leaf_nodes=None,\n                                          max_samples=None,\n                                          min_impurity_decrease=0.0,\n                                          min_impurity_split=None,\n                                          min_samples_leaf=0.06157894736842105,\n                                          min_samples_split=0.056842105263157895,\n                                          min_weight_fraction_leaf=0.0,\n                                          n_estimators=50, n_jobs=1,\n                                          oob_score=False, random_state=None,\n                                          verbose=0, warm_start=False))],\n           verbose=False)),\n ('6',\n  Pipeline(memory=None,\n           steps=[('standardscalerwrapper',\n                   <azureml.automl.runtime.shared.model_wrappers.StandardScalerWrapper object at 0x7f9f09a7e080>),\n                  ('randomforestclassifier',\n                   RandomForestClassifier(bootstrap=False, ccp_alpha=0.0,\n                                          class_weight=None, criterion='entropy',\n                                          max_depth=None, max_features='log2',\n                                          max_leaf_nodes=None, max_samples=None,\n                                          min_impurity_decrease=0.0,\n                                          min_impurity_split=None,\n                                          min_samples_leaf=0.01,\n                                          min_samples_split=0.01,\n                                          min_weight_fraction_leaf=0.0,\n                                          n_estimators=10, n_jobs=1,\n                                          oob_score=False, random_state=None,\n                                          verbose=0, warm_start=False))],\n           verbose=False)),\n ('11',\n  Pipeline(memory=None,\n           steps=[('robustscaler',\n                   RobustScaler(copy=True, quantile_range=[10, 90],\n                                with_centering=True, with_scaling=False)),\n                  ('extratreesclassifier',\n                   ExtraTreesClassifier(bootstrap=True, ccp_alpha=0.0,\n                                        class_weight=None, criterion='entropy',\n                                        max_depth=None, max_features=0.5,\n                                        max_leaf_nodes=None, max_samples=None,\n                                        min_impurity_decrease=0.0,\n                                        min_impurity_split=None,\n                                        min_samples_leaf=0.01,\n                                        min_samples_split=0.15052631578947367,\n                                        min_weight_fraction_leaf=0.0,\n                                        n_estimators=25, n_jobs=1,\n                                        oob_score=False, random_state=None,\n                                        verbose=0, warm_start=False))],\n           verbose=False)),\n ('12',\n  Pipeline(memory=None,\n           steps=[('standardscalerwrapper',\n                   <azureml.automl.runtime.shared.model_wrappers.StandardScalerWrapper object at 0x7f9f09a8a978>),\n                  ('randomforestclassifier',\n                   RandomForestClassifier(bootstrap=False, ccp_alpha=0.0,\n                                          class_weight='balanced',\n                                          criterion='entropy', max_depth=None,\n                                          max_features='log2',\n                                          max_leaf_nodes=None, max_samples=None,\n                                          min_impurity_decrease=0.0,\n                                          min_impurity_split=None,\n                                          min_samples_leaf=0.01,\n                                          min_samples_split=0.29105263157894734,\n                                          min_weight_fraction_leaf=0.0,\n                                          n_estimators=25, n_jobs=1,\n                                          oob_score=False, random_state=None,\n                                          verbose=0, warm_start=False))],\n           verbose=False)),\n ('22',\n  Pipeline(memory=None,\n           steps=[('maxabsscaler', MaxAbsScaler(copy=True)),\n                  ('extratreesclassifier',\n                   ExtraTreesClassifier(bootstrap=True, ccp_alpha=0.0,\n                                        class_weight='balanced', criterion='gini',\n                                        max_depth=None, max_features='log2',\n                                        max_leaf_nodes=None, max_samples=None,\n                                        min_impurity_decrease=0.0,\n                                        min_impurity_split=None,\n                                        min_samples_leaf=0.01,\n                                        min_samples_split=0.01,\n                                        min_weight_fraction_leaf=0.0,\n                                        n_estimators=50, n_jobs=1, oob_score=True,\n                                        random_state=None, verbose=0,\n                                        warm_start=False))],\n           verbose=False)),\n ('7',\n  Pipeline(memory=None,\n           steps=[('minmaxscaler', MinMaxScaler(copy=True, feature_range=(0, 1))),\n                  ('extratreesclassifier',\n                   ExtraTreesClassifier(bootstrap=True, ccp_alpha=0.0,\n                                        class_weight=None, criterion='gini',\n                                        max_depth=None, max_features=0.9,\n                                        max_leaf_nodes=None, max_samples=None,\n                                        min_impurity_decrease=0.0,\n                                        min_impurity_split=None,\n                                        min_samples_leaf=0.01,\n                                        min_samples_split=0.15052631578947367,\n                                        min_weight_fraction_leaf=0.0,\n                                        n_estimators=10, n_jobs=1, oob_score=True,\n                                        random_state=None, verbose=0,\n                                        warm_start=False))],\n           verbose=False)),\n ('13',\n  Pipeline(memory=None,\n           steps=[('standardscalerwrapper',\n                   <azureml.automl.runtime.shared.model_wrappers.StandardScalerWrapper object at 0x7f9f09a37ba8>),\n                  ('sgdclassifierwrapper',\n                   SGDClassifierWrapper(alpha=10, class_weight=None, eta0=0.01,\n                                        fit_intercept=True,\n                                        l1_ratio=0.7959183673469387,\n                                        learning_rate='constant', loss='log',\n                                        max_iter=1000, n_jobs=1, penalty='none',\n                                        power_t=0.4444444444444444,\n                                        random_state=None, tol=0.01))],\n           verbose=False))]"
          },
          "metadata": {}
        }
      ],
      "execution_count": 34,
      "metadata": {
        "collapsed": false,
        "jupyter": {
          "source_hidden": false,
          "outputs_hidden": false
        },
        "nteract": {
          "transient": {
            "deleting": false
          }
        },
        "gather": {
          "logged": 1615717234690
        }
      }
    },
    {
      "cell_type": "code",
      "source": [
        "best_run.properties['run_properties']"
      ],
      "outputs": [
        {
          "output_type": "execute_result",
          "execution_count": 43,
          "data": {
            "text/plain": "\"classification_labels=None,\\n                              estimators=[('18',\\n                                           Pipeline(memory=None,\\n                                                    steps=[('maxabsscaler',\\n                                                            MaxAbsScaler(copy=True\""
          },
          "metadata": {}
        }
      ],
      "execution_count": 43,
      "metadata": {
        "collapsed": true,
        "jupyter": {
          "source_hidden": false,
          "outputs_hidden": false
        },
        "nteract": {
          "transient": {
            "deleting": false
          }
        },
        "gather": {
          "logged": 1615718188202
        }
      }
    },
    {
      "cell_type": "code",
      "source": [
        "#TODO: Save the best model\r\n",
        "model_name = best_run.properties[\"model_name\"]\r\n",
        "\r\n",
        "registered_model = remote_run.register_model(model_name=model_name, description=\"DJI AutoML\")\r\n",
        "best_model = Model(ws, model_name)\r\n",
        "best_model.download(exist_ok=True)"
      ],
      "outputs": [
        {
          "output_type": "execute_result",
          "execution_count": 36,
          "data": {
            "text/plain": "'model.pkl'"
          },
          "metadata": {}
        }
      ],
      "execution_count": 36,
      "metadata": {
        "collapsed": false,
        "gather": {
          "logged": 1615717243044
        },
        "jupyter": {
          "outputs_hidden": false,
          "source_hidden": false
        },
        "nteract": {
          "transient": {
            "deleting": false
          }
        }
      }
    },
    {
      "cell_type": "markdown",
      "source": [
        "## Model Deployment\n",
        "\n",
        "Remember you have to deploy only one of the two models you trained.. Perform the steps in the rest of this notebook only if you wish to deploy this model.\n",
        "\n",
        "TODO: In the cell below, register the model, create an inference config and deploy the model as a web service."
      ],
      "metadata": {}
    },
    {
      "cell_type": "code",
      "source": [
        "best_run.download_file(\"outputs/scoring_file_v_1_0_0.py\", \"inference/score.py\")\r\n",
        "\r\n",
        "best_run.download_file(constants.CONDA_ENV_FILE_PATH, \"myenv.yml\")\r\n",
        "env = Environment.from_conda_specification(name=\"myenv\", file_path=\"myenv.yml\")\r\n",
        "\r\n",
        "inference_config = InferenceConfig(entry_script=\"inference/score.py\", environment=env)\r\n",
        "aciconfig = AciWebservice.deploy_configuration(cpu_cores=1, memory_gb=1, description=\"DJI Prediction\", enable_app_insights= True)\r\n",
        "service = Model.deploy(ws, \"automl-dji\", [registered_model], inference_config, aciconfig, overwrite=True)\r\n",
        "service.wait_for_deployment(True)"
      ],
      "outputs": [
        {
          "output_type": "stream",
          "name": "stdout",
          "text": [
            "Tips: You can try get_logs(): https://aka.ms/debugimage#dockerlog or local deployment: https://aka.ms/debugimage#debug-locally to debug if deployment takes longer than 10 minutes.\n",
            "Running...........................................\n",
            "Succeeded\n",
            "ACI service creation operation finished, operation \"Succeeded\"\n"
          ]
        }
      ],
      "execution_count": 42,
      "metadata": {
        "collapsed": false,
        "gather": {
          "logged": 1615718188120
        },
        "jupyter": {
          "outputs_hidden": false,
          "source_hidden": false
        },
        "nteract": {
          "transient": {
            "deleting": false
          }
        }
      }
    },
    {
      "cell_type": "code",
      "source": [],
      "outputs": [],
      "execution_count": null,
      "metadata": {
        "collapsed": true,
        "jupyter": {
          "source_hidden": false,
          "outputs_hidden": false
        },
        "nteract": {
          "transient": {
            "deleting": false
          }
        },
        "gather": {
          "logged": 1615656848676
        }
      }
    },
    {
      "cell_type": "markdown",
      "source": [
        "TODO: In the cell below, send a request to the web service you deployed to test it."
      ],
      "metadata": {
        "gather": {
          "logged": 1598431657736
        },
        "jupyter": {
          "outputs_hidden": false,
          "source_hidden": false
        },
        "nteract": {
          "transient": {
            "deleting": false
          }
        }
      }
    },
    {
      "cell_type": "code",
      "source": [
        "test_df = test_ds.to_pandas_dataframe()\r\n",
        "data = {}\r\n",
        "data[\"data\"] = json.loads(test_df.iloc[101:104,:].drop('y', axis=1).to_json(orient=\"records\"))\r\n",
        "data"
      ],
      "outputs": [
        {
          "output_type": "execute_result",
          "execution_count": 38,
          "data": {
            "text/plain": "{'data': [{'Column1': 408,\n   'Volume': 0.1305078756,\n   'mom': 1.0507590541,\n   'mom1': 0.8714380537,\n   'mom2': 1.5286026927,\n   'mom3': -0.4686418116,\n   'ROC_5': 1.407135642,\n   'ROC_10': -0.1696156822,\n   'ROC_15': -0.20950716,\n   'ROC_20': -0.0598636721,\n   'EMA_10': 6.0394001868,\n   'EMA_20': 6.8606916156,\n   'DTB4WK': -0.5,\n   'DTB3': -1.75,\n   'DTB6': -2.0,\n   'DGS5': -4.96,\n   'DGS10': -6.1904761905,\n   'Oil': 0.919204956,\n   'Gold': 0.5119415377,\n   'DAAA': -2.8928571429,\n   'DBAA': -2.5666666667,\n   'GBP': 0.9696076544,\n   'JPY': 0.6580117137,\n   'CAD': 0.0583643028,\n   'CNY': -2.5106086133,\n   'AAPL': 0.924610071,\n   'AMZN': 0.5322905941,\n   'GE': 0.9361519103,\n   'JNJ': 1.1725930792,\n   'JPM': 0.929344597,\n   'MSFT': 1.0304254556,\n   'WFC': 1.2185841617,\n   'XOM': 1.0838482703,\n   'FCHI': 0.7828818606,\n   'FTSE': 0.6620325256,\n   'GDAXI': 0.6343438635,\n   'GSPC': 1.0769996618,\n   'HSI': 1.1447951281,\n   'IXIC': 1.0668425413,\n   'SSEC': 0.7489837306,\n   'RUT': 1.1387563068,\n   'NYSE': 1.0762082087,\n   'TE1': -5.5909090909,\n   'TE2': -5.7619047619,\n   'TE3': -6.3684210526,\n   'TE5': -0.1666666667,\n   'TE6': -0.5,\n   'DE1': 1.0,\n   'DE2': 3.4705882353,\n   'DE4': -2.3448275862,\n   'DE5': -2.1935483871,\n   'DE6': -2.3333333333,\n   'CTB3M': 1.0495626826,\n   'CTB6M': 0.2347826087,\n   'CTB1Y': 0.959749553,\n   'AUD': 0.9120603015,\n   'Brent': 0.719017094,\n   'CAC-F': 0.8045112782,\n   'copper-F': 0.5040650407,\n   'WIT-oil': 0.8918918919,\n   'DAX-F': 0.6484716157,\n   'DJI-F': 0.9537712895,\n   'EUR': 1.0534979424,\n   'FTSE-F': 0.7416666667,\n   'gold-F': 0.7398601399,\n   'HSI-F': 1.1311728395,\n   'KOSPI-F': 0.5750487329,\n   'NASDAQ-F': 0.9065217391,\n   'GAS-F': 0.3117408907,\n   'Nikkei-F': 0.7140255009,\n   'NZD': 0.5732647815,\n   'silver-F': 0.6760280843,\n   'RUSSELL-F': 1.009310987,\n   'S&P-F': 1.0818965517,\n   'CHF': 0.876146789,\n   'Dollar index-F': -0.125,\n   'Dollar index': -0.1533742331,\n   'wheat-F': 0.3985765125,\n   'XAG': 0.8270321361,\n   'XAU': 0.8},\n  {'Column1': 409,\n   'Volume': 0.1927279439,\n   'mom': 0.4525219422,\n   'mom1': 1.0507590541,\n   'mom2': 0.8714380537,\n   'mom3': 1.5286026927,\n   'ROC_5': 0.6604203852,\n   'ROC_10': 0.0144100079,\n   'ROC_15': -0.204591762,\n   'ROC_20': -0.2694279151,\n   'EMA_10': 6.0391311541,\n   'EMA_20': 6.7334517035,\n   'DTB4WK': -0.1666666667,\n   'DTB3': -1.5,\n   'DTB6': -2.25,\n   'DGS5': -5.12,\n   'DGS10': -6.4761904762,\n   'Oil': 0.4042130381,\n   'Gold': 0.9038128419,\n   'DAAA': -3.2142857143,\n   'DBAA': -2.8666666667,\n   'GBP': 0.8291113254,\n   'JPY': 0.5640812065,\n   'CAD': 0.5359611644,\n   'CNY': -0.3147612859,\n   'AAPL': 0.4947563647,\n   'AMZN': 0.2517324457,\n   'GE': 0.3151215055,\n   'JNJ': 0.4022882698,\n   'JPM': 0.3103858564,\n   'MSFT': 0.5001372839,\n   'WFC': 0.3172546027,\n   'XOM': 0.3176447972,\n   'FCHI': 0.5891882182,\n   'FTSE': 0.5547995071,\n   'GDAXI': 0.442808835,\n   'GSPC': 0.4355211998,\n   'HSI': 0.5367356632,\n   'IXIC': 0.3824005203,\n   'SSEC': 0.2743407823,\n   'RUT': 0.2651918913,\n   'NYSE': 0.4326288553,\n   'TE1': -5.9545454545,\n   'TE2': -6.0952380952,\n   'TE3': -6.6315789474,\n   'TE5': -0.3333333333,\n   'TE6': -1.25,\n   'DE1': 1.0,\n   'DE2': 3.2941176471,\n   'DE4': -2.6206896552,\n   'DE5': -2.5161290323,\n   'DE6': -2.7,\n   'CTB3M': -0.3443877552,\n   'CTB6M': 0.8237986269,\n   'CTB1Y': 0.0675990673,\n   'AUD': 0.4623115578,\n   'Brent': 0.4903846154,\n   'CAC-F': 0.6052631579,\n   'copper-F': 0.331010453,\n   'WIT-oil': 0.4042792793,\n   'DAX-F': 0.4323144105,\n   'DJI-F': 0.5888077859,\n   'EUR': 0.378600823,\n   'FTSE-F': 0.6611111111,\n   'gold-F': 0.8307692308,\n   'HSI-F': 0.5617283951,\n   'KOSPI-F': 1.5438596491,\n   'NASDAQ-F': 0.5434782609,\n   'GAS-F': 0.1700404858,\n   'Nikkei-F': 0.5300546448,\n   'NZD': 0.529562982,\n   'silver-F': 0.7281845537,\n   'RUSSELL-F': 0.4432029795,\n   'S&P-F': 0.5711206897,\n   'CHF': 1.1834862385,\n   'Dollar index-F': 0.6136363636,\n   'Dollar index': 0.6196319018,\n   'wheat-F': 0.6666666667,\n   'XAG': 0.6313799622,\n   'XAU': 0.8152671756},\n  {'Column1': 411,\n   'Volume': 0.1236539267,\n   'mom': -0.2479970847,\n   'mom1': 0.6174009783,\n   'mom2': 0.4525219422,\n   'mom3': 1.0507590541,\n   'ROC_5': 0.2123680676,\n   'ROC_10': 0.0680527851,\n   'ROC_15': -0.3420799019,\n   'ROC_20': -0.692265922,\n   'EMA_10': 5.691261006,\n   'EMA_20': 6.3302090987,\n   'DTB4WK': -0.3333333333,\n   'DTB3': -2.0,\n   'DTB6': -2.75,\n   'DGS5': -5.32,\n   'DGS10': -7.1904761905,\n   'Oil': -0.1085763488,\n   'Gold': 0.8025063171,\n   'DAAA': -3.3571428571,\n   'DBAA': -3.3666666667,\n   'GBP': 0.6119216319,\n   'JPY': 0.6526118819,\n   'CAD': 0.9364850747,\n   'CNY': 1.6123867485,\n   'AAPL': -0.0311159689,\n   'AMZN': -0.1566605224,\n   'GE': -0.218713903,\n   'JNJ': -0.0522818515,\n   'JPM': 0.128776418,\n   'MSFT': 0.1084446343,\n   'WFC': -0.1334827593,\n   'XOM': -0.274266588,\n   'FCHI': -0.388605264,\n   'FTSE': -0.5603406125,\n   'GDAXI': -0.7485222216,\n   'GSPC': -0.2737616313,\n   'HSI': 0.3443231104,\n   'IXIC': -0.4882156959,\n   'SSEC': 0.061575958,\n   'RUT': -0.4336342964,\n   'NYSE': -0.1701682879,\n   'TE1': -6.5909090909,\n   'TE2': -6.7142857143,\n   'TE3': -7.3157894737,\n   'TE5': -0.5,\n   'TE6': -1.5,\n   'DE1': -0.2222222222,\n   'DE2': 3.2941176471,\n   'DE4': -3.0689655172,\n   'DE5': -2.935483871,\n   'DE6': -3.1666666667,\n   'CTB3M': -0.5612244902,\n   'CTB6M': 0.8237986269,\n   'CTB1Y': 0.2999922224,\n   'AUD': 0.1733668342,\n   'Brent': 0.1848290598,\n   'CAC-F': -0.3458646617,\n   'copper-F': 0.2555168409,\n   'WIT-oil': -0.106981982,\n   'DAX-F': -0.7860262009,\n   'DJI-F': -0.1557177616,\n   'EUR': 0.2181069959,\n   'FTSE-F': -0.725,\n   'gold-F': 0.8335664336,\n   'HSI-F': 0.450617284,\n   'KOSPI-F': 0.2183235867,\n   'NASDAQ-F': -0.3152173913,\n   'GAS-F': 0.2965587045,\n   'Nikkei-F': 0.3078324226,\n   'NZD': -0.0411311054,\n   'silver-F': 0.6469408225,\n   'RUSSELL-F': -0.3296089385,\n   'S&P-F': -0.1594827586,\n   'CHF': 0.7247706422,\n   'Dollar index-F': 0.9147727273,\n   'Dollar index': 0.9509202454,\n   'wheat-F': 0.0948991696,\n   'XAG': 0.724952741,\n   'XAU': 0.9404580153}]}"
          },
          "metadata": {}
        }
      ],
      "execution_count": 38,
      "metadata": {
        "collapsed": true,
        "jupyter": {
          "source_hidden": false,
          "outputs_hidden": false
        },
        "nteract": {
          "transient": {
            "deleting": false
          }
        },
        "gather": {
          "logged": 1615717531918
        }
      }
    },
    {
      "cell_type": "code",
      "source": [
        "import requests\r\n",
        "import json\r\n",
        "\r\n",
        "# URL for the web service\r\n",
        "#scoring_uri = \"http://333ed5ba-9f19-4f23-a460-04d6ad4303a2.westeurope.azurecontainer.io/score\"\r\n",
        "#scoring_uri = \"http://333ed5ba-9f19-4f23-a460-04d6ad4303a2.westeurope.azurecontainer.io/score\"\r\n",
        "scoring_uri = \"http://021291c5-3542-4a9b-869d-c41ff7554579.westeurope.azurecontainer.io/score\"\r\n",
        "# Create a test dataset, 3 rows from the test set:\r\n",
        "# Converting the Pandas dataframe into correct shape got bit convoluted... maybe there are easier ways\r\n",
        "data = {}\r\n",
        "data[\"data\"] = json.loads(test_df.iloc[101:104,:].drop('y', axis=1).to_json(orient=\"records\"))\r\n",
        "input_data = str.encode(json.dumps(data))\r\n",
        "\r\n",
        "# Set the content type\r\n",
        "headers = {'Content-Type': 'application/json'}\r\n",
        "\r\n",
        "# Make the request and display the response\r\n",
        "resp = requests.post(scoring_uri, input_data, headers=headers)\r\n",
        "print(resp.text)"
      ],
      "outputs": [
        {
          "output_type": "stream",
          "name": "stdout",
          "text": [
            "\"{\\\"result\\\": [1.0, 1.0, 1.0]}\"\n"
          ]
        }
      ],
      "execution_count": 45,
      "metadata": {
        "collapsed": false,
        "gather": {
          "logged": 1615720646373
        },
        "jupyter": {
          "outputs_hidden": false,
          "source_hidden": false
        },
        "nteract": {
          "transient": {
            "deleting": false
          }
        }
      }
    },
    {
      "cell_type": "markdown",
      "source": [
        "TODO: In the cell below, print the logs of the web service and delete the service"
      ],
      "metadata": {
        "gather": {
          "logged": 1598432765711
        },
        "jupyter": {
          "outputs_hidden": false,
          "source_hidden": false
        },
        "nteract": {
          "transient": {
            "deleting": false
          }
        }
      }
    },
    {
      "cell_type": "code",
      "source": [
        "service.get_logs()"
      ],
      "outputs": [
        {
          "output_type": "execute_result",
          "execution_count": 46,
          "data": {
            "text/plain": "'2021-03-14T10:35:23,602264000+00:00 - iot-server/run \\n2021-03-14T10:35:23,599362500+00:00 - rsyslog/run \\n2021-03-14T10:35:23,603838900+00:00 - nginx/run \\n2021-03-14T10:35:23,602247200+00:00 - gunicorn/run \\n/usr/sbin/nginx: /azureml-envs/azureml_1b0bdc80e61f4d59929283043c512952/lib/libcrypto.so.1.0.0: no version information available (required by /usr/sbin/nginx)\\n/usr/sbin/nginx: /azureml-envs/azureml_1b0bdc80e61f4d59929283043c512952/lib/libcrypto.so.1.0.0: no version information available (required by /usr/sbin/nginx)\\n/usr/sbin/nginx: /azureml-envs/azureml_1b0bdc80e61f4d59929283043c512952/lib/libssl.so.1.0.0: no version information available (required by /usr/sbin/nginx)\\n/usr/sbin/nginx: /azureml-envs/azureml_1b0bdc80e61f4d59929283043c512952/lib/libssl.so.1.0.0: no version information available (required by /usr/sbin/nginx)\\n/usr/sbin/nginx: /azureml-envs/azureml_1b0bdc80e61f4d59929283043c512952/lib/libssl.so.1.0.0: no version information available (required by /usr/sbin/nginx)\\nrsyslogd: /azureml-envs/azureml_1b0bdc80e61f4d59929283043c512952/lib/libuuid.so.1: no version information available (required by rsyslogd)\\nStarting gunicorn 19.9.0\\nListening at: http://127.0.0.1:31311 (69)\\nUsing worker: sync\\nworker timeout is set to 300\\nBooting worker with pid: 93\\nEdgeHubConnectionString and IOTEDGE_IOTHUBHOSTNAME are not set. Exiting...\\n2021-03-14T10:35:27,595743700+00:00 - iot-server/finish 1 0\\n2021-03-14T10:35:27,601607400+00:00 - Exit code 1 is normal. Not restarting iot-server.\\nSPARK_HOME not set. Skipping PySpark Initialization.\\nGenerating new fontManager, this may take some time...\\nInitializing logger\\n2021-03-14 10:35:33,549 | root | INFO | Starting up app insights client\\n2021-03-14 10:35:33,550 | root | INFO | Starting up request id generator\\n2021-03-14 10:35:33,550 | root | INFO | Starting up app insight hooks\\n2021-03-14 10:35:33,550 | root | INFO | Invoking user\\'s init function\\n2021-03-14 10:35:46,677 | azureml.core | WARNING | Failure while loading azureml_run_type_providers. Failed to load entrypoint automl = azureml.train.automl.run:AutoMLRun._from_run_dto with exception (cryptography 3.4.6 (/azureml-envs/azureml_1b0bdc80e61f4d59929283043c512952/lib/python3.6/site-packages), Requirement.parse(\\'cryptography!=1.9,!=2.0.*,!=2.1.*,!=2.2.*,<=3.2\\'), {\\'azureml-core\\'}).\\nFailure while loading azureml_run_type_providers. Failed to load entrypoint automl = azureml.train.automl.run:AutoMLRun._from_run_dto with exception (cryptography 3.4.6 (/azureml-envs/azureml_1b0bdc80e61f4d59929283043c512952/lib/python3.6/site-packages), Requirement.parse(\\'cryptography!=1.9,!=2.0.*,!=2.1.*,!=2.2.*,<=3.2\\'), {\\'azureml-core\\'}).\\n2021-03-14 10:35:46,682 | azureml.core | WARNING | Failure while loading azureml_run_type_providers. Failed to load entrypoint azureml.scriptrun = azureml.core.script_run:ScriptRun._from_run_dto with exception (cryptography 3.4.6 (/azureml-envs/azureml_1b0bdc80e61f4d59929283043c512952/lib/python3.6/site-packages), Requirement.parse(\\'cryptography!=1.9,!=2.0.*,!=2.1.*,!=2.2.*,<=3.2\\')).\\nFailure while loading azureml_run_type_providers. Failed to load entrypoint azureml.scriptrun = azureml.core.script_run:ScriptRun._from_run_dto with exception (cryptography 3.4.6 (/azureml-envs/azureml_1b0bdc80e61f4d59929283043c512952/lib/python3.6/site-packages), Requirement.parse(\\'cryptography!=1.9,!=2.0.*,!=2.1.*,!=2.2.*,<=3.2\\')).\\n2021-03-14 10:35:46,909 | root | INFO | Users\\'s init has completed successfully\\n2021-03-14 10:35:46,935 | root | INFO | Skipping middleware: dbg_model_info as it\\'s not enabled.\\n2021-03-14 10:35:46,936 | root | INFO | Skipping middleware: dbg_resource_usage as it\\'s not enabled.\\n2021-03-14 10:35:46,955 | root | INFO | Scoring timeout is found from os.environ: 60000 ms\\n2021-03-14 10:36:24,129 | root | INFO | 200\\n127.0.0.1 - - [14/Mar/2021:10:36:24 +0000] \"GET /swagger.json HTTP/1.0\" 200 6938 \"-\" \"Go-http-client/1.1\"\\n2021-03-14 10:36:26,169 | root | INFO | 200\\n127.0.0.1 - - [14/Mar/2021:10:36:26 +0000] \"GET /swagger.json HTTP/1.0\" 200 6938 \"-\" \"Go-http-client/1.1\"\\n2021-03-14 10:42:04,839 | root | INFO | 200\\n127.0.0.1 - - [14/Mar/2021:10:42:04 +0000] \"GET /swagger.json HTTP/1.0\" 200 6938 \"-\" \"Go-http-client/1.1\"\\n2021-03-14 11:17:24,012 | root | INFO | Validation Request Content-Type\\n2021-03-14 11:17:24,016 | root | INFO | Scoring Timer is set to 60.0 seconds\\n2021-03-14 11:17:24,602 | root | INFO | 200\\n127.0.0.1 - - [14/Mar/2021:11:17:24 +0000] \"POST /score HTTP/1.0\" 200 31 \"-\" \"python-requests/2.25.1\"\\n'"
          },
          "metadata": {}
        }
      ],
      "execution_count": 46,
      "metadata": {
        "collapsed": true,
        "jupyter": {
          "source_hidden": false,
          "outputs_hidden": false
        },
        "nteract": {
          "transient": {
            "deleting": false
          }
        },
        "gather": {
          "logged": 1615720651915
        }
      }
    },
    {
      "cell_type": "code",
      "source": [
        "\r\n",
        "service.delete()\r\n",
        "training_cluster.delete()"
      ],
      "outputs": [],
      "execution_count": null,
      "metadata": {
        "collapsed": true,
        "jupyter": {
          "source_hidden": false,
          "outputs_hidden": false
        },
        "nteract": {
          "transient": {
            "deleting": false
          }
        },
        "gather": {
          "logged": 1615656510791
        }
      }
    },
    {
      "cell_type": "code",
      "source": [
        "# above message because I already deleted the cl"
      ],
      "outputs": [],
      "execution_count": null,
      "metadata": {
        "collapsed": true,
        "jupyter": {
          "source_hidden": false,
          "outputs_hidden": false
        },
        "nteract": {
          "transient": {
            "deleting": false
          }
        }
      }
    }
  ],
  "metadata": {
    "kernel_info": {
      "name": "python3"
    },
    "kernelspec": {
      "name": "python3",
      "language": "python",
      "display_name": "Python 3"
    },
    "language_info": {
      "name": "python",
      "version": "3.6.9",
      "mimetype": "text/x-python",
      "codemirror_mode": {
        "name": "ipython",
        "version": 3
      },
      "pygments_lexer": "ipython3",
      "nbconvert_exporter": "python",
      "file_extension": ".py"
    },
    "nteract": {
      "version": "nteract-front-end@1.0.0"
    },
    "microsoft": {
      "host": {
        "AzureML": {
          "notebookHasBeenCompleted": true
        }
      }
    }
  },
  "nbformat": 4,
  "nbformat_minor": 4
}