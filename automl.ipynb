{
  "cells": [
    {
      "cell_type": "markdown",
      "source": [
        "# Automated ML\n",
        "\n",
        "TODO: Import Dependencies. In the cell below, import all the dependencies that you will need to complete the project."
      ],
      "metadata": {}
    },
    {
      "cell_type": "code",
      "source": [
        "import azureml.core\r\n",
        "from azureml.core import Experiment, Workspace, Dataset, Datastore\r\n",
        "from azureml.train.automl import AutoMLConfig\r\n",
        "\r\n",
        "import time\r\n",
        "import logging\r\n",
        "\r\n",
        "\r\n",
        "from azureml.core.model import InferenceConfig\r\n",
        "from azureml.core.webservice import AciWebservice\r\n",
        "from azureml.core.webservice import Webservice\r\n",
        "from azureml.core.model import Model\r\n",
        "from azureml.core.environment import Environment\r\n",
        "\r\n",
        "from azureml.automl.core.shared import constants\r\n"
      ],
      "outputs": [],
      "execution_count": 151,
      "metadata": {
        "collapsed": false,
        "gather": {
          "logged": 1615651025989
        },
        "jupyter": {
          "outputs_hidden": false,
          "source_hidden": false
        },
        "nteract": {
          "transient": {
            "deleting": false
          }
        }
      }
    },
    {
      "cell_type": "markdown",
      "source": [
        "## Dataset\n",
        "\n",
        "### Overview\n",
        "TODO: In this markdown cell, give an overview of the dataset you are using. Also mention the task you will be performing.\n",
        "\n",
        "This dataset is part of a data from UCI Machine Learning repository: https://archive.ics.uci.edu/ml/datasets/CNNpred%3A+CNN-based+stock+market+prediction+using+a+diverse+set+of+variables\n",
        "\n",
        "In the original study they used not just DOW but also Nasdaq and other indexes in attempt to create a convolutional neural network for cross market prediction.\n",
        "In this study I took a slightly less ambitious goal, and tried to just predict the movement of DOW.\n",
        "\n",
        "I pre-processed the data a little bit by creating a new binary indicator feature that measured whether the stock index would go up or down the following trading day.\n",
        "This indicator was then used as the label I tried to predict.\n",
        "\n",
        "\n",
        "The task is to predict the overall movement of the stock market, as measured by the Dow. The dataset contains 82 pre-calculated features, full list of\n",
        "which can be found in the appendix of this paper https://arxiv.org/pdf/1810.08923.pdf. In summary, these features include things like  \n",
        "* Relative change of volume\n",
        "* 10 days Exponential Moving Average\n",
        "* Relative change of oil price(Brent) \n",
        "* Relative change in US dollar to Japanese yen exchange rate \n",
        "\n",
        "and so on, for each of the days.  in total the dataset contained data for 1984 days.\n",
        "\n",
        "One important thing to keep in mind when doing prediction is not to accidentally \"look into future\". To avoid using future\n",
        "data, I made sure that even the pre-processing steps only used data from the past. That is, when doing the normal\n",
        "z-score standardization, I first calculated the mean and std from the first month of data (20 trading days), and\n",
        "then used them in centering and normalizing the data:\n",
        "\n",
        "``\n",
        "normalized_df=(df3-df3.iloc[0:20].min())/(df3.iloc[0:20].max()-df3.iloc[0:20].min())\n",
        "``\n",
        "\n",
        "Similarly, when imputting missing features, I did not use things like median of all values for the feature (including \n",
        "the future), but a padding strategy where datapoints were filled based on last previously seen value. That way the\n",
        "same approach could be used in real-life scenario where only past is known.\n",
        "\n",
        "TODO: Get data. In the cell below, write code to access the data you will be using in this project. Remember that the dataset needs to be external."
      ],
      "metadata": {}
    },
    {
      "cell_type": "code",
      "source": [
        "ws = Workspace.from_config()\n",
        "\n",
        "# choose a name for experiment\n",
        "experiment_name = 'uda3experiment'\n",
        "\n",
        "experiment=Experiment(ws, experiment_name)\n",
        "\n",
        "import pandas as pd\n",
        "import numpy as np\n",
        "data = pd.read_csv('data/Processed_DJI.csv')\n",
        "# calculate the difference to next date\n",
        "df = pd.concat([data,data[['Close']].diff(periods=-1).rename({'Close':'Close Diff'}, axis=1)], axis=1)\n",
        "# create label 1 if stock goes up, or 0 if it goes down\n",
        "df['y']= np.where(df['Close Diff'] < 0, 1, 0)\n",
        "#  Use padding to fill NA: this way I am not using future data for the missing data handling\n",
        "df2 = df.fillna(method='pad')\n",
        "# Remove the close and close diff as we are now on interested in the binary indicator of up/down\n",
        "# Removing also the EMA's that are calculated from several past values: these would generate \n",
        "# several nan values in the beginnign of the data, as EMA_200 can only be calculated once we have\n",
        "# observed 200 days... we only have 2000 points of data so having 200 data points with nan on a feature\n",
        "# is not worth it.\n",
        "# Also removing Date as it seems like a variable that even if it is predictive, would not generalize\n",
        "# to future.\n",
        "df3 = df2.drop(columns= ['EMA_50','EMA_200', 'Close Diff', 'Close', 'Date', 'Name' ])\n",
        "# and then removing any data points with missing features\n",
        "df3 = df3.dropna()\n",
        "normalized_df=(df3-df3.iloc[0:20].min())/(df3.iloc[0:20].max()-df3.iloc[0:20].min())\n",
        "normalized_df.reset_index()\n",
        "normalized_df = normalized_df.drop(normalized_df.index[0:20])\n",
        "normalized_df['y'] = normalized_df['y'].astype(int)\n",
        "normalized_df.to_csv('data/normalized_data.csv')"
      ],
      "outputs": [],
      "execution_count": 152,
      "metadata": {
        "collapsed": false,
        "gather": {
          "logged": 1615651052556
        },
        "jupyter": {
          "outputs_hidden": false,
          "source_hidden": false
        },
        "nteract": {
          "transient": {
            "deleting": false
          }
        }
      }
    },
    {
      "cell_type": "markdown",
      "source": [
        "Now have the dataset as a pandas dataframe. I'm going to register it as a Tabular dataset in the datastore."
      ],
      "metadata": {
        "nteract": {
          "transient": {
            "deleting": false
          }
        }
      }
    },
    {
      "cell_type": "code",
      "source": [
        "datastore = ws.get_default_datastore()\r\n",
        "\r\n",
        "\r\n",
        "# upload the local file from src_dir to the target_path in datastore\r\n",
        "datastore.upload(src_dir='data', target_path='data')\r\n",
        "# create a dataset referencing the cloud location\r\n",
        "dataset = Dataset.Tabular.from_delimited_files(datastore.path('data/normalized_data.csv'))"
      ],
      "outputs": [
        {
          "output_type": "stream",
          "name": "stdout",
          "text": [
            "Uploading an estimated of 2 files\n",
            "Target already exists. Skipping upload for data/normalized_data.csv\n",
            "Target already exists. Skipping upload for data/Processed_DJI.csv\n",
            "Uploaded 0 files\n"
          ]
        }
      ],
      "execution_count": 153,
      "metadata": {
        "collapsed": true,
        "jupyter": {
          "source_hidden": false,
          "outputs_hidden": false
        },
        "nteract": {
          "transient": {
            "deleting": false
          }
        },
        "gather": {
          "logged": 1615651072970
        }
      }
    },
    {
      "cell_type": "code",
      "source": [
        "dji_ds = dataset.register(workspace=ws,\r\n",
        "name='dji_ds',\r\n",
        "description='DJI closing prices')"
      ],
      "outputs": [],
      "execution_count": 154,
      "metadata": {
        "collapsed": true,
        "jupyter": {
          "source_hidden": false,
          "outputs_hidden": false
        },
        "nteract": {
          "transient": {
            "deleting": false
          }
        },
        "gather": {
          "logged": 1615651078358
        }
      }
    },
    {
      "cell_type": "code",
      "source": [
        "train_ds, test_ds = dji_ds.random_split(percentage=0.7, seed=42)"
      ],
      "outputs": [],
      "execution_count": 155,
      "metadata": {
        "collapsed": true,
        "jupyter": {
          "source_hidden": false,
          "outputs_hidden": false
        },
        "nteract": {
          "transient": {
            "deleting": false
          }
        },
        "gather": {
          "logged": 1615651080436
        }
      }
    },
    {
      "cell_type": "markdown",
      "source": [
        "## For the AutoML we need a training cluster:"
      ],
      "metadata": {
        "nteract": {
          "transient": {
            "deleting": false
          }
        }
      }
    },
    {
      "cell_type": "code",
      "source": [
        "from azureml.core.compute import ComputeTarget, AmlCompute\r\n",
        "from azureml.core.compute_target import ComputeTargetException\r\n",
        "\r\n",
        "cluster_name = \"cheap-compute\"\r\n",
        "\r\n",
        "try:\r\n",
        "    # Check for existing compute target\r\n",
        "    training_cluster = ComputeTarget(workspace=ws, name=cluster_name)\r\n",
        "    print('Found existing cluster, use it.')\r\n",
        "except ComputeTargetException:\r\n",
        "    # If it doesn't already exist, create it\r\n",
        "    try:\r\n",
        "        compute_config = AmlCompute.provisioning_configuration(vm_size='STANDARD_DS11_V2', max_nodes=2)\r\n",
        "        training_cluster = ComputeTarget.create(ws, cluster_name, compute_config)\r\n",
        "        training_cluster.wait_for_completion(show_output=True)\r\n",
        "    except Exception as ex:\r\n",
        "        print(ex)"
      ],
      "outputs": [
        {
          "output_type": "stream",
          "name": "stdout",
          "text": [
            "Found existing cluster, use it.\n"
          ]
        }
      ],
      "execution_count": 156,
      "metadata": {
        "collapsed": true,
        "jupyter": {
          "source_hidden": false,
          "outputs_hidden": false
        },
        "nteract": {
          "transient": {
            "deleting": false
          }
        },
        "gather": {
          "logged": 1615651083805
        }
      }
    },
    {
      "cell_type": "markdown",
      "source": [
        "## AutoML Configuration\n",
        "\n",
        "TODO: Explain why you chose the automl settings and cofiguration you used below.\n",
        "\n",
        "I chose AUC_weighted as the primary metric as it is suitable for a classification task.\n",
        "Some of the settings like experiment time out were chosen as something that felt sensible.\n",
        "The task was classification because I try to classify between situations where the DOW goes\n",
        "up and down, and this label was stored in feature 'y' which was set as the label_column_name."
      ],
      "metadata": {}
    },
    {
      "cell_type": "code",
      "source": [
        "# TODO: Put your automl settings here\n",
        "automl_settings = {\"name\" : 'project 3 automl experiment_{0}'.format(time.time()),\n",
        "  \"experiment_timeout_minutes\" : 20,\n",
        "    \"enable_early_stopping\" : True,\n",
        "    \"iteration_timeout_minutes\": 10,\n",
        "    \"n_cross_validations\": 5,\n",
        "    \"primary_metric\": 'AUC_weighted',\n",
        "    \"max_concurrent_iterations\": 10,\n",
        "}\n",
        "\n",
        "\n",
        "# TODO: Put your automl config here\n",
        "automl_config =AutoMLConfig(compute_target = training_cluster,\n",
        "    task='classification',\n",
        "    training_data = train_ds,\n",
        "    validation_data = test_ds,\n",
        "    label_column_name ='y',\n",
        "    featurization = 'auto',\n",
        "    **automl_settings)"
      ],
      "outputs": [],
      "execution_count": 157,
      "metadata": {
        "collapsed": false,
        "gather": {
          "logged": 1615651253010
        },
        "jupyter": {
          "outputs_hidden": false,
          "source_hidden": false
        },
        "nteract": {
          "transient": {
            "deleting": false
          }
        }
      }
    },
    {
      "cell_type": "code",
      "source": [
        "# TODO: Submit your experiment\n",
        "remote_run = experiment.submit(automl_config)"
      ],
      "outputs": [
        {
          "output_type": "stream",
          "name": "stdout",
          "text": [
            "Running on remote.\n"
          ]
        }
      ],
      "execution_count": 158,
      "metadata": {
        "collapsed": false,
        "gather": {
          "logged": 1615651259983
        },
        "jupyter": {
          "outputs_hidden": false,
          "source_hidden": false
        },
        "nteract": {
          "transient": {
            "deleting": false
          }
        }
      }
    },
    {
      "cell_type": "markdown",
      "source": [
        "## Run Details\n",
        "\n",
        "OPTIONAL: Write about the different models trained and their performance. Why do you think some models did better than others?\n",
        "\n",
        "TODO: In the cell below, use the `RunDetails` widget to show the different experiments."
      ],
      "metadata": {}
    },
    {
      "cell_type": "code",
      "source": [
        "from azureml.widgets import RunDetails\r\n",
        "RunDetails(remote_run).show()"
      ],
      "outputs": [
        {
          "output_type": "display_data",
          "data": {
            "text/plain": "_AutoMLWidget(widget_settings={'childWidgetDisplay': 'popup', 'send_telemetry': False, 'log_level': 'INFO', 's…",
            "application/vnd.jupyter.widget-view+json": {
              "version_major": 2,
              "version_minor": 0,
              "model_id": "befb9d0370964103b7f2f2a529a761ff"
            }
          },
          "metadata": {}
        },
        {
          "output_type": "display_data",
          "data": {
            "application/aml.mini.widget.v1": "{\"status\": \"Completed\", \"workbench_run_details_uri\": \"https://ml.azure.com/experiments/uda3experiment/runs/AutoML_cb05725f-8930-4351-add6-ee67e887f633?wsid=/subscriptions/1f63a07e-5703-4d10-925f-b1c603594482/resourcegroups/uda3rg/workspaces/uda3ws\", \"run_id\": \"AutoML_cb05725f-8930-4351-add6-ee67e887f633\", \"run_properties\": {\"run_id\": \"AutoML_cb05725f-8930-4351-add6-ee67e887f633\", \"created_utc\": \"2021-03-13T16:00:57.812775Z\", \"properties\": {\"num_iterations\": \"1000\", \"training_type\": \"TrainFull\", \"acquisition_function\": \"EI\", \"primary_metric\": \"AUC_weighted\", \"train_split\": \"0\", \"acquisition_parameter\": \"0\", \"num_cross_validation\": \"5\", \"target\": \"cheap-compute\", \"AMLSettingsJsonString\": \"{\\\"path\\\":null,\\\"name\\\":\\\"project 3 automl experiment_1615651252.7430763\\\",\\\"subscription_id\\\":\\\"1f63a07e-5703-4d10-925f-b1c603594482\\\",\\\"resource_group\\\":\\\"uda3rg\\\",\\\"workspace_name\\\":\\\"uda3ws\\\",\\\"region\\\":\\\"westeurope\\\",\\\"compute_target\\\":\\\"cheap-compute\\\",\\\"spark_service\\\":null,\\\"azure_service\\\":\\\"remote\\\",\\\"many_models\\\":false,\\\"pipeline_fetch_max_batch_size\\\":1,\\\"iterations\\\":1000,\\\"primary_metric\\\":\\\"AUC_weighted\\\",\\\"task_type\\\":\\\"classification\\\",\\\"data_script\\\":null,\\\"validation_size\\\":0.0,\\\"n_cross_validations\\\":5,\\\"y_min\\\":null,\\\"y_max\\\":null,\\\"num_classes\\\":null,\\\"featurization\\\":\\\"auto\\\",\\\"_ignore_package_version_incompatibilities\\\":false,\\\"is_timeseries\\\":false,\\\"max_cores_per_iteration\\\":1,\\\"max_concurrent_iterations\\\":10,\\\"iteration_timeout_minutes\\\":10,\\\"mem_in_mb\\\":null,\\\"enforce_time_on_windows\\\":false,\\\"experiment_timeout_minutes\\\":20,\\\"experiment_exit_score\\\":null,\\\"whitelist_models\\\":null,\\\"blacklist_algos\\\":[\\\"TensorFlowLinearClassifier\\\",\\\"TensorFlowDNN\\\"],\\\"supported_models\\\":[\\\"LinearSVM\\\",\\\"DecisionTree\\\",\\\"AveragedPerceptronClassifier\\\",\\\"BernoulliNaiveBayes\\\",\\\"KNN\\\",\\\"LogisticRegression\\\",\\\"SVM\\\",\\\"TensorFlowLinearClassifier\\\",\\\"ExtremeRandomTrees\\\",\\\"MultinomialNaiveBayes\\\",\\\"LightGBM\\\",\\\"TensorFlowDNN\\\",\\\"SGD\\\",\\\"GradientBoosting\\\",\\\"XGBoostClassifier\\\",\\\"RandomForest\\\"],\\\"private_models\\\":[],\\\"auto_blacklist\\\":true,\\\"blacklist_samples_reached\\\":false,\\\"exclude_nan_labels\\\":true,\\\"verbosity\\\":20,\\\"_debug_log\\\":\\\"azureml_automl.log\\\",\\\"show_warnings\\\":false,\\\"model_explainability\\\":true,\\\"service_url\\\":null,\\\"sdk_url\\\":null,\\\"sdk_packages\\\":null,\\\"enable_onnx_compatible_models\\\":false,\\\"enable_split_onnx_featurizer_estimator_models\\\":false,\\\"vm_type\\\":\\\"STANDARD_DS11_V2\\\",\\\"telemetry_verbosity\\\":20,\\\"send_telemetry\\\":true,\\\"enable_dnn\\\":false,\\\"scenario\\\":\\\"SDK-1.13.0\\\",\\\"environment_label\\\":null,\\\"force_text_dnn\\\":false,\\\"enable_feature_sweeping\\\":true,\\\"enable_early_stopping\\\":true,\\\"early_stopping_n_iters\\\":10,\\\"metrics\\\":null,\\\"enable_ensembling\\\":true,\\\"enable_stack_ensembling\\\":true,\\\"ensemble_iterations\\\":15,\\\"enable_tf\\\":false,\\\"enable_subsampling\\\":null,\\\"subsample_seed\\\":null,\\\"enable_nimbusml\\\":false,\\\"enable_streaming\\\":false,\\\"force_streaming\\\":false,\\\"track_child_runs\\\":true,\\\"allowed_private_models\\\":[],\\\"label_column_name\\\":\\\"y\\\",\\\"weight_column_name\\\":null,\\\"cv_split_column_names\\\":null,\\\"enable_local_managed\\\":false,\\\"_local_managed_run_id\\\":null,\\\"cost_mode\\\":1,\\\"lag_length\\\":0,\\\"metric_operation\\\":\\\"maximize\\\",\\\"preprocess\\\":true}\", \"DataPrepJsonString\": \"{\\\\\\\"training_data\\\\\\\": \\\\\\\"{\\\\\\\\\\\\\\\"blocks\\\\\\\\\\\\\\\": [{\\\\\\\\\\\\\\\"id\\\\\\\\\\\\\\\": \\\\\\\\\\\\\\\"4a33864b-fa1e-4c83-a4cf-3eb53a65fa63\\\\\\\\\\\\\\\", \\\\\\\\\\\\\\\"type\\\\\\\\\\\\\\\": \\\\\\\\\\\\\\\"Microsoft.DPrep.GetDatastoreFilesBlock\\\\\\\\\\\\\\\", \\\\\\\\\\\\\\\"arguments\\\\\\\\\\\\\\\": {\\\\\\\\\\\\\\\"datastores\\\\\\\\\\\\\\\": [{\\\\\\\\\\\\\\\"datastoreName\\\\\\\\\\\\\\\": \\\\\\\\\\\\\\\"workspaceblobstore\\\\\\\\\\\\\\\", \\\\\\\\\\\\\\\"path\\\\\\\\\\\\\\\": \\\\\\\\\\\\\\\"data/normalized_data.csv\\\\\\\\\\\\\\\", \\\\\\\\\\\\\\\"resourceGroup\\\\\\\\\\\\\\\": \\\\\\\\\\\\\\\"uda3rg\\\\\\\\\\\\\\\", \\\\\\\\\\\\\\\"subscription\\\\\\\\\\\\\\\": \\\\\\\\\\\\\\\"1f63a07e-5703-4d10-925f-b1c603594482\\\\\\\\\\\\\\\", \\\\\\\\\\\\\\\"workspaceName\\\\\\\\\\\\\\\": \\\\\\\\\\\\\\\"uda3ws\\\\\\\\\\\\\\\"}]}, \\\\\\\\\\\\\\\"localData\\\\\\\\\\\\\\\": {}, \\\\\\\\\\\\\\\"isEnabled\\\\\\\\\\\\\\\": true, \\\\\\\\\\\\\\\"name\\\\\\\\\\\\\\\": null, \\\\\\\\\\\\\\\"annotation\\\\\\\\\\\\\\\": null}, {\\\\\\\\\\\\\\\"id\\\\\\\\\\\\\\\": \\\\\\\\\\\\\\\"4ecb5178-92de-4719-9eb1-bb3edc54a49a\\\\\\\\\\\\\\\", \\\\\\\\\\\\\\\"type\\\\\\\\\\\\\\\": \\\\\\\\\\\\\\\"Microsoft.DPrep.ParseDelimitedBlock\\\\\\\\\\\\\\\", \\\\\\\\\\\\\\\"arguments\\\\\\\\\\\\\\\": {\\\\\\\\\\\\\\\"columnHeadersMode\\\\\\\\\\\\\\\": 3, \\\\\\\\\\\\\\\"fileEncoding\\\\\\\\\\\\\\\": 0, \\\\\\\\\\\\\\\"handleQuotedLineBreaks\\\\\\\\\\\\\\\": false, \\\\\\\\\\\\\\\"preview\\\\\\\\\\\\\\\": false, \\\\\\\\\\\\\\\"separator\\\\\\\\\\\\\\\": \\\\\\\\\\\\\\\",\\\\\\\\\\\\\\\", \\\\\\\\\\\\\\\"skipRows\\\\\\\\\\\\\\\": 0, \\\\\\\\\\\\\\\"skipRowsMode\\\\\\\\\\\\\\\": 0}, \\\\\\\\\\\\\\\"localData\\\\\\\\\\\\\\\": {}, \\\\\\\\\\\\\\\"isEnabled\\\\\\\\\\\\\\\": true, \\\\\\\\\\\\\\\"name\\\\\\\\\\\\\\\": null, \\\\\\\\\\\\\\\"annotation\\\\\\\\\\\\\\\": null}, {\\\\\\\\\\\\\\\"id\\\\\\\\\\\\\\\": \\\\\\\\\\\\\\\"9f7db1ec-9c49-4bf4-8f18-05a1949aa3f9\\\\\\\\\\\\\\\", \\\\\\\\\\\\\\\"type\\\\\\\\\\\\\\\": \\\\\\\\\\\\\\\"Microsoft.DPrep.DropColumnsBlock\\\\\\\\\\\\\\\", \\\\\\\\\\\\\\\"arguments\\\\\\\\\\\\\\\": {\\\\\\\\\\\\\\\"columns\\\\\\\\\\\\\\\": {\\\\\\\\\\\\\\\"type\\\\\\\\\\\\\\\": 0, \\\\\\\\\\\\\\\"details\\\\\\\\\\\\\\\": {\\\\\\\\\\\\\\\"selectedColumns\\\\\\\\\\\\\\\": [\\\\\\\\\\\\\\\"Path\\\\\\\\\\\\\\\"]}}}, \\\\\\\\\\\\\\\"localData\\\\\\\\\\\\\\\": {}, \\\\\\\\\\\\\\\"isEnabled\\\\\\\\\\\\\\\": true, \\\\\\\\\\\\\\\"name\\\\\\\\\\\\\\\": null, \\\\\\\\\\\\\\\"annotation\\\\\\\\\\\\\\\": null}, {\\\\\\\\\\\\\\\"id\\\\\\\\\\\\\\\": \\\\\\\\\\\\\\\"bb6467ae-c7ac-47ff-bdda-87faf0bea585\\\\\\\\\\\\\\\", \\\\\\\\\\\\\\\"type\\\\\\\\\\\\\\\": \\\\\\\\\\\\\\\"Microsoft.DPrep.SetColumnTypesBlock\\\\\\\\\\\\\\\", \\\\\\\\\\\\\\\"arguments\\\\\\\\\\\\\\\": {\\\\\\\\\\\\\\\"columnConversion\\\\\\\\\\\\\\\": [{\\\\\\\\\\\\\\\"column\\\\\\\\\\\\\\\": {\\\\\\\\\\\\\\\"type\\\\\\\\\\\\\\\": 2, \\\\\\\\\\\\\\\"details\\\\\\\\\\\\\\\": {\\\\\\\\\\\\\\\"selectedColumn\\\\\\\\\\\\\\\": \\\\\\\\\\\\\\\"Column1\\\\\\\\\\\\\\\"}}, \\\\\\\\\\\\\\\"typeProperty\\\\\\\\\\\\\\\": 2}, {\\\\\\\\\\\\\\\"column\\\\\\\\\\\\\\\": {\\\\\\\\\\\\\\\"type\\\\\\\\\\\\\\\": 2, \\\\\\\\\\\\\\\"details\\\\\\\\\\\\\\\": {\\\\\\\\\\\\\\\"selectedColumn\\\\\\\\\\\\\\\": \\\\\\\\\\\\\\\"Volume\\\\\\\\\\\\\\\"}}, \\\\\\\\\\\\\\\"typeProperty\\\\\\\\\\\\\\\": 3}, {\\\\\\\\\\\\\\\"column\\\\\\\\\\\\\\\": {\\\\\\\\\\\\\\\"type\\\\\\\\\\\\\\\": 2, \\\\\\\\\\\\\\\"details\\\\\\\\\\\\\\\": {\\\\\\\\\\\\\\\"selectedColumn\\\\\\\\\\\\\\\": \\\\\\\\\\\\\\\"mom\\\\\\\\\\\\\\\"}}, \\\\\\\\\\\\\\\"typeProperty\\\\\\\\\\\\\\\": 3}, {\\\\\\\\\\\\\\\"column\\\\\\\\\\\\\\\": {\\\\\\\\\\\\\\\"type\\\\\\\\\\\\\\\": 2, \\\\\\\\\\\\\\\"details\\\\\\\\\\\\\\\": {\\\\\\\\\\\\\\\"selectedColumn\\\\\\\\\\\\\\\": \\\\\\\\\\\\\\\"mom1\\\\\\\\\\\\\\\"}}, \\\\\\\\\\\\\\\"typeProperty\\\\\\\\\\\\\\\": 3}, {\\\\\\\\\\\\\\\"column\\\\\\\\\\\\\\\": {\\\\\\\\\\\\\\\"type\\\\\\\\\\\\\\\": 2, \\\\\\\\\\\\\\\"details\\\\\\\\\\\\\\\": {\\\\\\\\\\\\\\\"selectedColumn\\\\\\\\\\\\\\\": \\\\\\\\\\\\\\\"mom2\\\\\\\\\\\\\\\"}}, \\\\\\\\\\\\\\\"typeProperty\\\\\\\\\\\\\\\": 3}, {\\\\\\\\\\\\\\\"column\\\\\\\\\\\\\\\": {\\\\\\\\\\\\\\\"type\\\\\\\\\\\\\\\": 2, \\\\\\\\\\\\\\\"details\\\\\\\\\\\\\\\": {\\\\\\\\\\\\\\\"selectedColumn\\\\\\\\\\\\\\\": \\\\\\\\\\\\\\\"mom3\\\\\\\\\\\\\\\"}}, \\\\\\\\\\\\\\\"typeProperty\\\\\\\\\\\\\\\": 3}, {\\\\\\\\\\\\\\\"column\\\\\\\\\\\\\\\": {\\\\\\\\\\\\\\\"type\\\\\\\\\\\\\\\": 2, \\\\\\\\\\\\\\\"details\\\\\\\\\\\\\\\": {\\\\\\\\\\\\\\\"selectedColumn\\\\\\\\\\\\\\\": \\\\\\\\\\\\\\\"ROC_5\\\\\\\\\\\\\\\"}}, \\\\\\\\\\\\\\\"typeProperty\\\\\\\\\\\\\\\": 3}, {\\\\\\\\\\\\\\\"column\\\\\\\\\\\\\\\": {\\\\\\\\\\\\\\\"type\\\\\\\\\\\\\\\": 2, \\\\\\\\\\\\\\\"details\\\\\\\\\\\\\\\": {\\\\\\\\\\\\\\\"selectedColumn\\\\\\\\\\\\\\\": \\\\\\\\\\\\\\\"ROC_10\\\\\\\\\\\\\\\"}}, \\\\\\\\\\\\\\\"typeProperty\\\\\\\\\\\\\\\": 3}, {\\\\\\\\\\\\\\\"column\\\\\\\\\\\\\\\": {\\\\\\\\\\\\\\\"type\\\\\\\\\\\\\\\": 2, \\\\\\\\\\\\\\\"details\\\\\\\\\\\\\\\": {\\\\\\\\\\\\\\\"selectedColumn\\\\\\\\\\\\\\\": \\\\\\\\\\\\\\\"ROC_15\\\\\\\\\\\\\\\"}}, \\\\\\\\\\\\\\\"typeProperty\\\\\\\\\\\\\\\": 3}, {\\\\\\\\\\\\\\\"column\\\\\\\\\\\\\\\": {\\\\\\\\\\\\\\\"type\\\\\\\\\\\\\\\": 2, \\\\\\\\\\\\\\\"details\\\\\\\\\\\\\\\": {\\\\\\\\\\\\\\\"selectedColumn\\\\\\\\\\\\\\\": \\\\\\\\\\\\\\\"ROC_20\\\\\\\\\\\\\\\"}}, \\\\\\\\\\\\\\\"typeProperty\\\\\\\\\\\\\\\": 3}, {\\\\\\\\\\\\\\\"column\\\\\\\\\\\\\\\": {\\\\\\\\\\\\\\\"type\\\\\\\\\\\\\\\": 2, \\\\\\\\\\\\\\\"details\\\\\\\\\\\\\\\": {\\\\\\\\\\\\\\\"selectedColumn\\\\\\\\\\\\\\\": \\\\\\\\\\\\\\\"EMA_10\\\\\\\\\\\\\\\"}}, \\\\\\\\\\\\\\\"typeProperty\\\\\\\\\\\\\\\": 3}, {\\\\\\\\\\\\\\\"column\\\\\\\\\\\\\\\": {\\\\\\\\\\\\\\\"type\\\\\\\\\\\\\\\": 2, \\\\\\\\\\\\\\\"details\\\\\\\\\\\\\\\": {\\\\\\\\\\\\\\\"selectedColumn\\\\\\\\\\\\\\\": \\\\\\\\\\\\\\\"EMA_20\\\\\\\\\\\\\\\"}}, \\\\\\\\\\\\\\\"typeProperty\\\\\\\\\\\\\\\": 3}, {\\\\\\\\\\\\\\\"column\\\\\\\\\\\\\\\": {\\\\\\\\\\\\\\\"type\\\\\\\\\\\\\\\": 2, \\\\\\\\\\\\\\\"details\\\\\\\\\\\\\\\": {\\\\\\\\\\\\\\\"selectedColumn\\\\\\\\\\\\\\\": \\\\\\\\\\\\\\\"DTB4WK\\\\\\\\\\\\\\\"}}, \\\\\\\\\\\\\\\"typeProperty\\\\\\\\\\\\\\\": 3}, {\\\\\\\\\\\\\\\"column\\\\\\\\\\\\\\\": {\\\\\\\\\\\\\\\"type\\\\\\\\\\\\\\\": 2, \\\\\\\\\\\\\\\"details\\\\\\\\\\\\\\\": {\\\\\\\\\\\\\\\"selectedColumn\\\\\\\\\\\\\\\": \\\\\\\\\\\\\\\"DTB3\\\\\\\\\\\\\\\"}}, \\\\\\\\\\\\\\\"typeProperty\\\\\\\\\\\\\\\": 3}, {\\\\\\\\\\\\\\\"column\\\\\\\\\\\\\\\": {\\\\\\\\\\\\\\\"type\\\\\\\\\\\\\\\": 2, \\\\\\\\\\\\\\\"details\\\\\\\\\\\\\\\": {\\\\\\\\\\\\\\\"selectedColumn\\\\\\\\\\\\\\\": \\\\\\\\\\\\\\\"DTB6\\\\\\\\\\\\\\\"}}, \\\\\\\\\\\\\\\"typeProperty\\\\\\\\\\\\\\\": 3}, {\\\\\\\\\\\\\\\"column\\\\\\\\\\\\\\\": {\\\\\\\\\\\\\\\"type\\\\\\\\\\\\\\\": 2, \\\\\\\\\\\\\\\"details\\\\\\\\\\\\\\\": {\\\\\\\\\\\\\\\"selectedColumn\\\\\\\\\\\\\\\": \\\\\\\\\\\\\\\"DGS5\\\\\\\\\\\\\\\"}}, \\\\\\\\\\\\\\\"typeProperty\\\\\\\\\\\\\\\": 3}, {\\\\\\\\\\\\\\\"column\\\\\\\\\\\\\\\": {\\\\\\\\\\\\\\\"type\\\\\\\\\\\\\\\": 2, \\\\\\\\\\\\\\\"details\\\\\\\\\\\\\\\": {\\\\\\\\\\\\\\\"selectedColumn\\\\\\\\\\\\\\\": \\\\\\\\\\\\\\\"DGS10\\\\\\\\\\\\\\\"}}, \\\\\\\\\\\\\\\"typeProperty\\\\\\\\\\\\\\\": 3}, {\\\\\\\\\\\\\\\"column\\\\\\\\\\\\\\\": {\\\\\\\\\\\\\\\"type\\\\\\\\\\\\\\\": 2, \\\\\\\\\\\\\\\"details\\\\\\\\\\\\\\\": {\\\\\\\\\\\\\\\"selectedColumn\\\\\\\\\\\\\\\": \\\\\\\\\\\\\\\"Oil\\\\\\\\\\\\\\\"}}, \\\\\\\\\\\\\\\"typeProperty\\\\\\\\\\\\\\\": 3}, {\\\\\\\\\\\\\\\"column\\\\\\\\\\\\\\\": {\\\\\\\\\\\\\\\"type\\\\\\\\\\\\\\\": 2, \\\\\\\\\\\\\\\"details\\\\\\\\\\\\\\\": {\\\\\\\\\\\\\\\"selectedColumn\\\\\\\\\\\\\\\": \\\\\\\\\\\\\\\"Gold\\\\\\\\\\\\\\\"}}, \\\\\\\\\\\\\\\"typeProperty\\\\\\\\\\\\\\\": 3}, {\\\\\\\\\\\\\\\"column\\\\\\\\\\\\\\\": {\\\\\\\\\\\\\\\"type\\\\\\\\\\\\\\\": 2, \\\\\\\\\\\\\\\"details\\\\\\\\\\\\\\\": {\\\\\\\\\\\\\\\"selectedColumn\\\\\\\\\\\\\\\": \\\\\\\\\\\\\\\"DAAA\\\\\\\\\\\\\\\"}}, \\\\\\\\\\\\\\\"typeProperty\\\\\\\\\\\\\\\": 3}, {\\\\\\\\\\\\\\\"column\\\\\\\\\\\\\\\": {\\\\\\\\\\\\\\\"type\\\\\\\\\\\\\\\": 2, \\\\\\\\\\\\\\\"details\\\\\\\\\\\\\\\": {\\\\\\\\\\\\\\\"selectedColumn\\\\\\\\\\\\\\\": \\\\\\\\\\\\\\\"DBAA\\\\\\\\\\\\\\\"}}, \\\\\\\\\\\\\\\"typeProperty\\\\\\\\\\\\\\\": 3}, {\\\\\\\\\\\\\\\"column\\\\\\\\\\\\\\\": {\\\\\\\\\\\\\\\"type\\\\\\\\\\\\\\\": 2, \\\\\\\\\\\\\\\"details\\\\\\\\\\\\\\\": {\\\\\\\\\\\\\\\"selectedColumn\\\\\\\\\\\\\\\": \\\\\\\\\\\\\\\"GBP\\\\\\\\\\\\\\\"}}, \\\\\\\\\\\\\\\"typeProperty\\\\\\\\\\\\\\\": 3}, {\\\\\\\\\\\\\\\"column\\\\\\\\\\\\\\\": {\\\\\\\\\\\\\\\"type\\\\\\\\\\\\\\\": 2, \\\\\\\\\\\\\\\"details\\\\\\\\\\\\\\\": {\\\\\\\\\\\\\\\"selectedColumn\\\\\\\\\\\\\\\": \\\\\\\\\\\\\\\"JPY\\\\\\\\\\\\\\\"}}, \\\\\\\\\\\\\\\"typeProperty\\\\\\\\\\\\\\\": 3}, {\\\\\\\\\\\\\\\"column\\\\\\\\\\\\\\\": {\\\\\\\\\\\\\\\"type\\\\\\\\\\\\\\\": 2, \\\\\\\\\\\\\\\"details\\\\\\\\\\\\\\\": {\\\\\\\\\\\\\\\"selectedColumn\\\\\\\\\\\\\\\": \\\\\\\\\\\\\\\"CAD\\\\\\\\\\\\\\\"}}, \\\\\\\\\\\\\\\"typeProperty\\\\\\\\\\\\\\\": 3}, {\\\\\\\\\\\\\\\"column\\\\\\\\\\\\\\\": {\\\\\\\\\\\\\\\"type\\\\\\\\\\\\\\\": 2, \\\\\\\\\\\\\\\"details\\\\\\\\\\\\\\\": {\\\\\\\\\\\\\\\"selectedColumn\\\\\\\\\\\\\\\": \\\\\\\\\\\\\\\"CNY\\\\\\\\\\\\\\\"}}, \\\\\\\\\\\\\\\"typeProperty\\\\\\\\\\\\\\\": 3}, {\\\\\\\\\\\\\\\"column\\\\\\\\\\\\\\\": {\\\\\\\\\\\\\\\"type\\\\\\\\\\\\\\\": 2, \\\\\\\\\\\\\\\"details\\\\\\\\\\\\\\\": {\\\\\\\\\\\\\\\"selectedColumn\\\\\\\\\\\\\\\": \\\\\\\\\\\\\\\"AAPL\\\\\\\\\\\\\\\"}}, \\\\\\\\\\\\\\\"typeProperty\\\\\\\\\\\\\\\": 3}, {\\\\\\\\\\\\\\\"column\\\\\\\\\\\\\\\": {\\\\\\\\\\\\\\\"type\\\\\\\\\\\\\\\": 2, \\\\\\\\\\\\\\\"details\\\\\\\\\\\\\\\": {\\\\\\\\\\\\\\\"selectedColumn\\\\\\\\\\\\\\\": \\\\\\\\\\\\\\\"AMZN\\\\\\\\\\\\\\\"}}, \\\\\\\\\\\\\\\"typeProperty\\\\\\\\\\\\\\\": 3}, {\\\\\\\\\\\\\\\"column\\\\\\\\\\\\\\\": {\\\\\\\\\\\\\\\"type\\\\\\\\\\\\\\\": 2, \\\\\\\\\\\\\\\"details\\\\\\\\\\\\\\\": {\\\\\\\\\\\\\\\"selectedColumn\\\\\\\\\\\\\\\": \\\\\\\\\\\\\\\"GE\\\\\\\\\\\\\\\"}}, \\\\\\\\\\\\\\\"typeProperty\\\\\\\\\\\\\\\": 3}, {\\\\\\\\\\\\\\\"column\\\\\\\\\\\\\\\": {\\\\\\\\\\\\\\\"type\\\\\\\\\\\\\\\": 2, \\\\\\\\\\\\\\\"details\\\\\\\\\\\\\\\": {\\\\\\\\\\\\\\\"selectedColumn\\\\\\\\\\\\\\\": \\\\\\\\\\\\\\\"JNJ\\\\\\\\\\\\\\\"}}, \\\\\\\\\\\\\\\"typeProperty\\\\\\\\\\\\\\\": 3}, {\\\\\\\\\\\\\\\"column\\\\\\\\\\\\\\\": {\\\\\\\\\\\\\\\"type\\\\\\\\\\\\\\\": 2, \\\\\\\\\\\\\\\"details\\\\\\\\\\\\\\\": {\\\\\\\\\\\\\\\"selectedColumn\\\\\\\\\\\\\\\": \\\\\\\\\\\\\\\"JPM\\\\\\\\\\\\\\\"}}, \\\\\\\\\\\\\\\"typeProperty\\\\\\\\\\\\\\\": 3}, {\\\\\\\\\\\\\\\"column\\\\\\\\\\\\\\\": {\\\\\\\\\\\\\\\"type\\\\\\\\\\\\\\\": 2, \\\\\\\\\\\\\\\"details\\\\\\\\\\\\\\\": {\\\\\\\\\\\\\\\"selectedColumn\\\\\\\\\\\\\\\": \\\\\\\\\\\\\\\"MSFT\\\\\\\\\\\\\\\"}}, \\\\\\\\\\\\\\\"typeProperty\\\\\\\\\\\\\\\": 3}, {\\\\\\\\\\\\\\\"column\\\\\\\\\\\\\\\": {\\\\\\\\\\\\\\\"type\\\\\\\\\\\\\\\": 2, \\\\\\\\\\\\\\\"details\\\\\\\\\\\\\\\": {\\\\\\\\\\\\\\\"selectedColumn\\\\\\\\\\\\\\\": \\\\\\\\\\\\\\\"WFC\\\\\\\\\\\\\\\"}}, \\\\\\\\\\\\\\\"typeProperty\\\\\\\\\\\\\\\": 3}, {\\\\\\\\\\\\\\\"column\\\\\\\\\\\\\\\": {\\\\\\\\\\\\\\\"type\\\\\\\\\\\\\\\": 2, \\\\\\\\\\\\\\\"details\\\\\\\\\\\\\\\": {\\\\\\\\\\\\\\\"selectedColumn\\\\\\\\\\\\\\\": \\\\\\\\\\\\\\\"XOM\\\\\\\\\\\\\\\"}}, \\\\\\\\\\\\\\\"typeProperty\\\\\\\\\\\\\\\": 3}, {\\\\\\\\\\\\\\\"column\\\\\\\\\\\\\\\": {\\\\\\\\\\\\\\\"type\\\\\\\\\\\\\\\": 2, \\\\\\\\\\\\\\\"details\\\\\\\\\\\\\\\": {\\\\\\\\\\\\\\\"selectedColumn\\\\\\\\\\\\\\\": \\\\\\\\\\\\\\\"FCHI\\\\\\\\\\\\\\\"}}, \\\\\\\\\\\\\\\"typeProperty\\\\\\\\\\\\\\\": 3}, {\\\\\\\\\\\\\\\"column\\\\\\\\\\\\\\\": {\\\\\\\\\\\\\\\"type\\\\\\\\\\\\\\\": 2, \\\\\\\\\\\\\\\"details\\\\\\\\\\\\\\\": {\\\\\\\\\\\\\\\"selectedColumn\\\\\\\\\\\\\\\": \\\\\\\\\\\\\\\"FTSE\\\\\\\\\\\\\\\"}}, \\\\\\\\\\\\\\\"typeProperty\\\\\\\\\\\\\\\": 3}, {\\\\\\\\\\\\\\\"column\\\\\\\\\\\\\\\": {\\\\\\\\\\\\\\\"type\\\\\\\\\\\\\\\": 2, \\\\\\\\\\\\\\\"details\\\\\\\\\\\\\\\": {\\\\\\\\\\\\\\\"selectedColumn\\\\\\\\\\\\\\\": \\\\\\\\\\\\\\\"GDAXI\\\\\\\\\\\\\\\"}}, \\\\\\\\\\\\\\\"typeProperty\\\\\\\\\\\\\\\": 3}, {\\\\\\\\\\\\\\\"column\\\\\\\\\\\\\\\": {\\\\\\\\\\\\\\\"type\\\\\\\\\\\\\\\": 2, \\\\\\\\\\\\\\\"details\\\\\\\\\\\\\\\": {\\\\\\\\\\\\\\\"selectedColumn\\\\\\\\\\\\\\\": \\\\\\\\\\\\\\\"GSPC\\\\\\\\\\\\\\\"}}, \\\\\\\\\\\\\\\"typeProperty\\\\\\\\\\\\\\\": 3}, {\\\\\\\\\\\\\\\"column\\\\\\\\\\\\\\\": {\\\\\\\\\\\\\\\"type\\\\\\\\\\\\\\\": 2, \\\\\\\\\\\\\\\"details\\\\\\\\\\\\\\\": {\\\\\\\\\\\\\\\"selectedColumn\\\\\\\\\\\\\\\": \\\\\\\\\\\\\\\"HSI\\\\\\\\\\\\\\\"}}, \\\\\\\\\\\\\\\"typeProperty\\\\\\\\\\\\\\\": 3}, {\\\\\\\\\\\\\\\"column\\\\\\\\\\\\\\\": {\\\\\\\\\\\\\\\"type\\\\\\\\\\\\\\\": 2, \\\\\\\\\\\\\\\"details\\\\\\\\\\\\\\\": {\\\\\\\\\\\\\\\"selectedColumn\\\\\\\\\\\\\\\": \\\\\\\\\\\\\\\"IXIC\\\\\\\\\\\\\\\"}}, \\\\\\\\\\\\\\\"typeProperty\\\\\\\\\\\\\\\": 3}, {\\\\\\\\\\\\\\\"column\\\\\\\\\\\\\\\": {\\\\\\\\\\\\\\\"type\\\\\\\\\\\\\\\": 2, \\\\\\\\\\\\\\\"details\\\\\\\\\\\\\\\": {\\\\\\\\\\\\\\\"selectedColumn\\\\\\\\\\\\\\\": \\\\\\\\\\\\\\\"SSEC\\\\\\\\\\\\\\\"}}, \\\\\\\\\\\\\\\"typeProperty\\\\\\\\\\\\\\\": 3}, {\\\\\\\\\\\\\\\"column\\\\\\\\\\\\\\\": {\\\\\\\\\\\\\\\"type\\\\\\\\\\\\\\\": 2, \\\\\\\\\\\\\\\"details\\\\\\\\\\\\\\\": {\\\\\\\\\\\\\\\"selectedColumn\\\\\\\\\\\\\\\": \\\\\\\\\\\\\\\"RUT\\\\\\\\\\\\\\\"}}, \\\\\\\\\\\\\\\"typeProperty\\\\\\\\\\\\\\\": 3}, {\\\\\\\\\\\\\\\"column\\\\\\\\\\\\\\\": {\\\\\\\\\\\\\\\"type\\\\\\\\\\\\\\\": 2, \\\\\\\\\\\\\\\"details\\\\\\\\\\\\\\\": {\\\\\\\\\\\\\\\"selectedColumn\\\\\\\\\\\\\\\": \\\\\\\\\\\\\\\"NYSE\\\\\\\\\\\\\\\"}}, \\\\\\\\\\\\\\\"typeProperty\\\\\\\\\\\\\\\": 3}, {\\\\\\\\\\\\\\\"column\\\\\\\\\\\\\\\": {\\\\\\\\\\\\\\\"type\\\\\\\\\\\\\\\": 2, \\\\\\\\\\\\\\\"details\\\\\\\\\\\\\\\": {\\\\\\\\\\\\\\\"selectedColumn\\\\\\\\\\\\\\\": \\\\\\\\\\\\\\\"TE1\\\\\\\\\\\\\\\"}}, \\\\\\\\\\\\\\\"typeProperty\\\\\\\\\\\\\\\": 3}, {\\\\\\\\\\\\\\\"column\\\\\\\\\\\\\\\": {\\\\\\\\\\\\\\\"type\\\\\\\\\\\\\\\": 2, \\\\\\\\\\\\\\\"details\\\\\\\\\\\\\\\": {\\\\\\\\\\\\\\\"selectedColumn\\\\\\\\\\\\\\\": \\\\\\\\\\\\\\\"TE2\\\\\\\\\\\\\\\"}}, \\\\\\\\\\\\\\\"typeProperty\\\\\\\\\\\\\\\": 3}, {\\\\\\\\\\\\\\\"column\\\\\\\\\\\\\\\": {\\\\\\\\\\\\\\\"type\\\\\\\\\\\\\\\": 2, \\\\\\\\\\\\\\\"details\\\\\\\\\\\\\\\": {\\\\\\\\\\\\\\\"selectedColumn\\\\\\\\\\\\\\\": \\\\\\\\\\\\\\\"TE3\\\\\\\\\\\\\\\"}}, \\\\\\\\\\\\\\\"typeProperty\\\\\\\\\\\\\\\": 3}, {\\\\\\\\\\\\\\\"column\\\\\\\\\\\\\\\": {\\\\\\\\\\\\\\\"type\\\\\\\\\\\\\\\": 2, \\\\\\\\\\\\\\\"details\\\\\\\\\\\\\\\": {\\\\\\\\\\\\\\\"selectedColumn\\\\\\\\\\\\\\\": \\\\\\\\\\\\\\\"TE5\\\\\\\\\\\\\\\"}}, \\\\\\\\\\\\\\\"typeProperty\\\\\\\\\\\\\\\": 3}, {\\\\\\\\\\\\\\\"column\\\\\\\\\\\\\\\": {\\\\\\\\\\\\\\\"type\\\\\\\\\\\\\\\": 2, \\\\\\\\\\\\\\\"details\\\\\\\\\\\\\\\": {\\\\\\\\\\\\\\\"selectedColumn\\\\\\\\\\\\\\\": \\\\\\\\\\\\\\\"TE6\\\\\\\\\\\\\\\"}}, \\\\\\\\\\\\\\\"typeProperty\\\\\\\\\\\\\\\": 3}, {\\\\\\\\\\\\\\\"column\\\\\\\\\\\\\\\": {\\\\\\\\\\\\\\\"type\\\\\\\\\\\\\\\": 2, \\\\\\\\\\\\\\\"details\\\\\\\\\\\\\\\": {\\\\\\\\\\\\\\\"selectedColumn\\\\\\\\\\\\\\\": \\\\\\\\\\\\\\\"DE1\\\\\\\\\\\\\\\"}}, \\\\\\\\\\\\\\\"typeProperty\\\\\\\\\\\\\\\": 3}, {\\\\\\\\\\\\\\\"column\\\\\\\\\\\\\\\": {\\\\\\\\\\\\\\\"type\\\\\\\\\\\\\\\": 2, \\\\\\\\\\\\\\\"details\\\\\\\\\\\\\\\": {\\\\\\\\\\\\\\\"selectedColumn\\\\\\\\\\\\\\\": \\\\\\\\\\\\\\\"DE2\\\\\\\\\\\\\\\"}}, \\\\\\\\\\\\\\\"typeProperty\\\\\\\\\\\\\\\": 3}, {\\\\\\\\\\\\\\\"column\\\\\\\\\\\\\\\": {\\\\\\\\\\\\\\\"type\\\\\\\\\\\\\\\": 2, \\\\\\\\\\\\\\\"details\\\\\\\\\\\\\\\": {\\\\\\\\\\\\\\\"selectedColumn\\\\\\\\\\\\\\\": \\\\\\\\\\\\\\\"DE4\\\\\\\\\\\\\\\"}}, \\\\\\\\\\\\\\\"typeProperty\\\\\\\\\\\\\\\": 3}, {\\\\\\\\\\\\\\\"column\\\\\\\\\\\\\\\": {\\\\\\\\\\\\\\\"type\\\\\\\\\\\\\\\": 2, \\\\\\\\\\\\\\\"details\\\\\\\\\\\\\\\": {\\\\\\\\\\\\\\\"selectedColumn\\\\\\\\\\\\\\\": \\\\\\\\\\\\\\\"DE5\\\\\\\\\\\\\\\"}}, \\\\\\\\\\\\\\\"typeProperty\\\\\\\\\\\\\\\": 3}, {\\\\\\\\\\\\\\\"column\\\\\\\\\\\\\\\": {\\\\\\\\\\\\\\\"type\\\\\\\\\\\\\\\": 2, \\\\\\\\\\\\\\\"details\\\\\\\\\\\\\\\": {\\\\\\\\\\\\\\\"selectedColumn\\\\\\\\\\\\\\\": \\\\\\\\\\\\\\\"DE6\\\\\\\\\\\\\\\"}}, \\\\\\\\\\\\\\\"typeProperty\\\\\\\\\\\\\\\": 3}, {\\\\\\\\\\\\\\\"column\\\\\\\\\\\\\\\": {\\\\\\\\\\\\\\\"type\\\\\\\\\\\\\\\": 2, \\\\\\\\\\\\\\\"details\\\\\\\\\\\\\\\": {\\\\\\\\\\\\\\\"selectedColumn\\\\\\\\\\\\\\\": \\\\\\\\\\\\\\\"CTB3M\\\\\\\\\\\\\\\"}}, \\\\\\\\\\\\\\\"typeProperty\\\\\\\\\\\\\\\": 3}, {\\\\\\\\\\\\\\\"column\\\\\\\\\\\\\\\": {\\\\\\\\\\\\\\\"type\\\\\\\\\\\\\\\": 2, \\\\\\\\\\\\\\\"details\\\\\\\\\\\\\\\": {\\\\\\\\\\\\\\\"selectedColumn\\\\\\\\\\\\\\\": \\\\\\\\\\\\\\\"CTB6M\\\\\\\\\\\\\\\"}}, \\\\\\\\\\\\\\\"typeProperty\\\\\\\\\\\\\\\": 3}, {\\\\\\\\\\\\\\\"column\\\\\\\\\\\\\\\": {\\\\\\\\\\\\\\\"type\\\\\\\\\\\\\\\": 2, \\\\\\\\\\\\\\\"details\\\\\\\\\\\\\\\": {\\\\\\\\\\\\\\\"selectedColumn\\\\\\\\\\\\\\\": \\\\\\\\\\\\\\\"CTB1Y\\\\\\\\\\\\\\\"}}, \\\\\\\\\\\\\\\"typeProperty\\\\\\\\\\\\\\\": 3}, {\\\\\\\\\\\\\\\"column\\\\\\\\\\\\\\\": {\\\\\\\\\\\\\\\"type\\\\\\\\\\\\\\\": 2, \\\\\\\\\\\\\\\"details\\\\\\\\\\\\\\\": {\\\\\\\\\\\\\\\"selectedColumn\\\\\\\\\\\\\\\": \\\\\\\\\\\\\\\"AUD\\\\\\\\\\\\\\\"}}, \\\\\\\\\\\\\\\"typeProperty\\\\\\\\\\\\\\\": 3}, {\\\\\\\\\\\\\\\"column\\\\\\\\\\\\\\\": {\\\\\\\\\\\\\\\"type\\\\\\\\\\\\\\\": 2, \\\\\\\\\\\\\\\"details\\\\\\\\\\\\\\\": {\\\\\\\\\\\\\\\"selectedColumn\\\\\\\\\\\\\\\": \\\\\\\\\\\\\\\"Brent\\\\\\\\\\\\\\\"}}, \\\\\\\\\\\\\\\"typeProperty\\\\\\\\\\\\\\\": 3}, {\\\\\\\\\\\\\\\"column\\\\\\\\\\\\\\\": {\\\\\\\\\\\\\\\"type\\\\\\\\\\\\\\\": 2, \\\\\\\\\\\\\\\"details\\\\\\\\\\\\\\\": {\\\\\\\\\\\\\\\"selectedColumn\\\\\\\\\\\\\\\": \\\\\\\\\\\\\\\"CAC-F\\\\\\\\\\\\\\\"}}, \\\\\\\\\\\\\\\"typeProperty\\\\\\\\\\\\\\\": 3}, {\\\\\\\\\\\\\\\"column\\\\\\\\\\\\\\\": {\\\\\\\\\\\\\\\"type\\\\\\\\\\\\\\\": 2, \\\\\\\\\\\\\\\"details\\\\\\\\\\\\\\\": {\\\\\\\\\\\\\\\"selectedColumn\\\\\\\\\\\\\\\": \\\\\\\\\\\\\\\"copper-F\\\\\\\\\\\\\\\"}}, \\\\\\\\\\\\\\\"typeProperty\\\\\\\\\\\\\\\": 3}, {\\\\\\\\\\\\\\\"column\\\\\\\\\\\\\\\": {\\\\\\\\\\\\\\\"type\\\\\\\\\\\\\\\": 2, \\\\\\\\\\\\\\\"details\\\\\\\\\\\\\\\": {\\\\\\\\\\\\\\\"selectedColumn\\\\\\\\\\\\\\\": \\\\\\\\\\\\\\\"WIT-oil\\\\\\\\\\\\\\\"}}, \\\\\\\\\\\\\\\"typeProperty\\\\\\\\\\\\\\\": 3}, {\\\\\\\\\\\\\\\"column\\\\\\\\\\\\\\\": {\\\\\\\\\\\\\\\"type\\\\\\\\\\\\\\\": 2, \\\\\\\\\\\\\\\"details\\\\\\\\\\\\\\\": {\\\\\\\\\\\\\\\"selectedColumn\\\\\\\\\\\\\\\": \\\\\\\\\\\\\\\"DAX-F\\\\\\\\\\\\\\\"}}, \\\\\\\\\\\\\\\"typeProperty\\\\\\\\\\\\\\\": 3}, {\\\\\\\\\\\\\\\"column\\\\\\\\\\\\\\\": {\\\\\\\\\\\\\\\"type\\\\\\\\\\\\\\\": 2, \\\\\\\\\\\\\\\"details\\\\\\\\\\\\\\\": {\\\\\\\\\\\\\\\"selectedColumn\\\\\\\\\\\\\\\": \\\\\\\\\\\\\\\"DJI-F\\\\\\\\\\\\\\\"}}, \\\\\\\\\\\\\\\"typeProperty\\\\\\\\\\\\\\\": 3}, {\\\\\\\\\\\\\\\"column\\\\\\\\\\\\\\\": {\\\\\\\\\\\\\\\"type\\\\\\\\\\\\\\\": 2, \\\\\\\\\\\\\\\"details\\\\\\\\\\\\\\\": {\\\\\\\\\\\\\\\"selectedColumn\\\\\\\\\\\\\\\": \\\\\\\\\\\\\\\"EUR\\\\\\\\\\\\\\\"}}, \\\\\\\\\\\\\\\"typeProperty\\\\\\\\\\\\\\\": 3}, {\\\\\\\\\\\\\\\"column\\\\\\\\\\\\\\\": {\\\\\\\\\\\\\\\"type\\\\\\\\\\\\\\\": 2, \\\\\\\\\\\\\\\"details\\\\\\\\\\\\\\\": {\\\\\\\\\\\\\\\"selectedColumn\\\\\\\\\\\\\\\": \\\\\\\\\\\\\\\"FTSE-F\\\\\\\\\\\\\\\"}}, \\\\\\\\\\\\\\\"typeProperty\\\\\\\\\\\\\\\": 3}, {\\\\\\\\\\\\\\\"column\\\\\\\\\\\\\\\": {\\\\\\\\\\\\\\\"type\\\\\\\\\\\\\\\": 2, \\\\\\\\\\\\\\\"details\\\\\\\\\\\\\\\": {\\\\\\\\\\\\\\\"selectedColumn\\\\\\\\\\\\\\\": \\\\\\\\\\\\\\\"gold-F\\\\\\\\\\\\\\\"}}, \\\\\\\\\\\\\\\"typeProperty\\\\\\\\\\\\\\\": 3}, {\\\\\\\\\\\\\\\"column\\\\\\\\\\\\\\\": {\\\\\\\\\\\\\\\"type\\\\\\\\\\\\\\\": 2, \\\\\\\\\\\\\\\"details\\\\\\\\\\\\\\\": {\\\\\\\\\\\\\\\"selectedColumn\\\\\\\\\\\\\\\": \\\\\\\\\\\\\\\"HSI-F\\\\\\\\\\\\\\\"}}, \\\\\\\\\\\\\\\"typeProperty\\\\\\\\\\\\\\\": 3}, {\\\\\\\\\\\\\\\"column\\\\\\\\\\\\\\\": {\\\\\\\\\\\\\\\"type\\\\\\\\\\\\\\\": 2, \\\\\\\\\\\\\\\"details\\\\\\\\\\\\\\\": {\\\\\\\\\\\\\\\"selectedColumn\\\\\\\\\\\\\\\": \\\\\\\\\\\\\\\"KOSPI-F\\\\\\\\\\\\\\\"}}, \\\\\\\\\\\\\\\"typeProperty\\\\\\\\\\\\\\\": 3}, {\\\\\\\\\\\\\\\"column\\\\\\\\\\\\\\\": {\\\\\\\\\\\\\\\"type\\\\\\\\\\\\\\\": 2, \\\\\\\\\\\\\\\"details\\\\\\\\\\\\\\\": {\\\\\\\\\\\\\\\"selectedColumn\\\\\\\\\\\\\\\": \\\\\\\\\\\\\\\"NASDAQ-F\\\\\\\\\\\\\\\"}}, \\\\\\\\\\\\\\\"typeProperty\\\\\\\\\\\\\\\": 3}, {\\\\\\\\\\\\\\\"column\\\\\\\\\\\\\\\": {\\\\\\\\\\\\\\\"type\\\\\\\\\\\\\\\": 2, \\\\\\\\\\\\\\\"details\\\\\\\\\\\\\\\": {\\\\\\\\\\\\\\\"selectedColumn\\\\\\\\\\\\\\\": \\\\\\\\\\\\\\\"GAS-F\\\\\\\\\\\\\\\"}}, \\\\\\\\\\\\\\\"typeProperty\\\\\\\\\\\\\\\": 3}, {\\\\\\\\\\\\\\\"column\\\\\\\\\\\\\\\": {\\\\\\\\\\\\\\\"type\\\\\\\\\\\\\\\": 2, \\\\\\\\\\\\\\\"details\\\\\\\\\\\\\\\": {\\\\\\\\\\\\\\\"selectedColumn\\\\\\\\\\\\\\\": \\\\\\\\\\\\\\\"Nikkei-F\\\\\\\\\\\\\\\"}}, \\\\\\\\\\\\\\\"typeProperty\\\\\\\\\\\\\\\": 3}, {\\\\\\\\\\\\\\\"column\\\\\\\\\\\\\\\": {\\\\\\\\\\\\\\\"type\\\\\\\\\\\\\\\": 2, \\\\\\\\\\\\\\\"details\\\\\\\\\\\\\\\": {\\\\\\\\\\\\\\\"selectedColumn\\\\\\\\\\\\\\\": \\\\\\\\\\\\\\\"NZD\\\\\\\\\\\\\\\"}}, \\\\\\\\\\\\\\\"typeProperty\\\\\\\\\\\\\\\": 3}, {\\\\\\\\\\\\\\\"column\\\\\\\\\\\\\\\": {\\\\\\\\\\\\\\\"type\\\\\\\\\\\\\\\": 2, \\\\\\\\\\\\\\\"details\\\\\\\\\\\\\\\": {\\\\\\\\\\\\\\\"selectedColumn\\\\\\\\\\\\\\\": \\\\\\\\\\\\\\\"silver-F\\\\\\\\\\\\\\\"}}, \\\\\\\\\\\\\\\"typeProperty\\\\\\\\\\\\\\\": 3}, {\\\\\\\\\\\\\\\"column\\\\\\\\\\\\\\\": {\\\\\\\\\\\\\\\"type\\\\\\\\\\\\\\\": 2, \\\\\\\\\\\\\\\"details\\\\\\\\\\\\\\\": {\\\\\\\\\\\\\\\"selectedColumn\\\\\\\\\\\\\\\": \\\\\\\\\\\\\\\"RUSSELL-F\\\\\\\\\\\\\\\"}}, \\\\\\\\\\\\\\\"typeProperty\\\\\\\\\\\\\\\": 3}, {\\\\\\\\\\\\\\\"column\\\\\\\\\\\\\\\": {\\\\\\\\\\\\\\\"type\\\\\\\\\\\\\\\": 2, \\\\\\\\\\\\\\\"details\\\\\\\\\\\\\\\": {\\\\\\\\\\\\\\\"selectedColumn\\\\\\\\\\\\\\\": \\\\\\\\\\\\\\\"S&P-F\\\\\\\\\\\\\\\"}}, \\\\\\\\\\\\\\\"typeProperty\\\\\\\\\\\\\\\": 3}, {\\\\\\\\\\\\\\\"column\\\\\\\\\\\\\\\": {\\\\\\\\\\\\\\\"type\\\\\\\\\\\\\\\": 2, \\\\\\\\\\\\\\\"details\\\\\\\\\\\\\\\": {\\\\\\\\\\\\\\\"selectedColumn\\\\\\\\\\\\\\\": \\\\\\\\\\\\\\\"CHF\\\\\\\\\\\\\\\"}}, \\\\\\\\\\\\\\\"typeProperty\\\\\\\\\\\\\\\": 3}, {\\\\\\\\\\\\\\\"column\\\\\\\\\\\\\\\": {\\\\\\\\\\\\\\\"type\\\\\\\\\\\\\\\": 2, \\\\\\\\\\\\\\\"details\\\\\\\\\\\\\\\": {\\\\\\\\\\\\\\\"selectedColumn\\\\\\\\\\\\\\\": \\\\\\\\\\\\\\\"Dollar index-F\\\\\\\\\\\\\\\"}}, \\\\\\\\\\\\\\\"typeProperty\\\\\\\\\\\\\\\": 3}, {\\\\\\\\\\\\\\\"column\\\\\\\\\\\\\\\": {\\\\\\\\\\\\\\\"type\\\\\\\\\\\\\\\": 2, \\\\\\\\\\\\\\\"details\\\\\\\\\\\\\\\": {\\\\\\\\\\\\\\\"selectedColumn\\\\\\\\\\\\\\\": \\\\\\\\\\\\\\\"Dollar index\\\\\\\\\\\\\\\"}}, \\\\\\\\\\\\\\\"typeProperty\\\\\\\\\\\\\\\": 3}, {\\\\\\\\\\\\\\\"column\\\\\\\\\\\\\\\": {\\\\\\\\\\\\\\\"type\\\\\\\\\\\\\\\": 2, \\\\\\\\\\\\\\\"details\\\\\\\\\\\\\\\": {\\\\\\\\\\\\\\\"selectedColumn\\\\\\\\\\\\\\\": \\\\\\\\\\\\\\\"wheat-F\\\\\\\\\\\\\\\"}}, \\\\\\\\\\\\\\\"typeProperty\\\\\\\\\\\\\\\": 3}, {\\\\\\\\\\\\\\\"column\\\\\\\\\\\\\\\": {\\\\\\\\\\\\\\\"type\\\\\\\\\\\\\\\": 2, \\\\\\\\\\\\\\\"details\\\\\\\\\\\\\\\": {\\\\\\\\\\\\\\\"selectedColumn\\\\\\\\\\\\\\\": \\\\\\\\\\\\\\\"XAG\\\\\\\\\\\\\\\"}}, \\\\\\\\\\\\\\\"typeProperty\\\\\\\\\\\\\\\": 3}, {\\\\\\\\\\\\\\\"column\\\\\\\\\\\\\\\": {\\\\\\\\\\\\\\\"type\\\\\\\\\\\\\\\": 2, \\\\\\\\\\\\\\\"details\\\\\\\\\\\\\\\": {\\\\\\\\\\\\\\\"selectedColumn\\\\\\\\\\\\\\\": \\\\\\\\\\\\\\\"XAU\\\\\\\\\\\\\\\"}}, \\\\\\\\\\\\\\\"typeProperty\\\\\\\\\\\\\\\": 3}, {\\\\\\\\\\\\\\\"column\\\\\\\\\\\\\\\": {\\\\\\\\\\\\\\\"type\\\\\\\\\\\\\\\": 2, \\\\\\\\\\\\\\\"details\\\\\\\\\\\\\\\": {\\\\\\\\\\\\\\\"selectedColumn\\\\\\\\\\\\\\\": \\\\\\\\\\\\\\\"y\\\\\\\\\\\\\\\"}}, \\\\\\\\\\\\\\\"typeProperty\\\\\\\\\\\\\\\": 3}]}, \\\\\\\\\\\\\\\"localData\\\\\\\\\\\\\\\": {}, \\\\\\\\\\\\\\\"isEnabled\\\\\\\\\\\\\\\": true, \\\\\\\\\\\\\\\"name\\\\\\\\\\\\\\\": null, \\\\\\\\\\\\\\\"annotation\\\\\\\\\\\\\\\": null}, {\\\\\\\\\\\\\\\"id\\\\\\\\\\\\\\\": \\\\\\\\\\\\\\\"38e9b32c-03ef-4fc4-8427-fe18dfc67a23\\\\\\\\\\\\\\\", \\\\\\\\\\\\\\\"type\\\\\\\\\\\\\\\": \\\\\\\\\\\\\\\"Microsoft.DPrep.TakeSampleBlock\\\\\\\\\\\\\\\", \\\\\\\\\\\\\\\"arguments\\\\\\\\\\\\\\\": {\\\\\\\\\\\\\\\"probability\\\\\\\\\\\\\\\": 0.7, \\\\\\\\\\\\\\\"probabilityLowerBound\\\\\\\\\\\\\\\": 0.0, \\\\\\\\\\\\\\\"seed\\\\\\\\\\\\\\\": 42}, \\\\\\\\\\\\\\\"localData\\\\\\\\\\\\\\\": {}, \\\\\\\\\\\\\\\"isEnabled\\\\\\\\\\\\\\\": true, \\\\\\\\\\\\\\\"name\\\\\\\\\\\\\\\": null, \\\\\\\\\\\\\\\"annotation\\\\\\\\\\\\\\\": null}], \\\\\\\\\\\\\\\"inspectors\\\\\\\\\\\\\\\": [], \\\\\\\\\\\\\\\"meta\\\\\\\\\\\\\\\": {\\\\\\\\\\\\\\\"savedDatasetId\\\\\\\\\\\\\\\": \\\\\\\\\\\\\\\"35670d52-57ff-4d87-8a62-4294aa4820d9\\\\\\\\\\\\\\\", \\\\\\\\\\\\\\\"datasetType\\\\\\\\\\\\\\\": \\\\\\\\\\\\\\\"tabular\\\\\\\\\\\\\\\", \\\\\\\\\\\\\\\"subscriptionId\\\\\\\\\\\\\\\": \\\\\\\\\\\\\\\"1f63a07e-5703-4d10-925f-b1c603594482\\\\\\\\\\\\\\\", \\\\\\\\\\\\\\\"workspaceId\\\\\\\\\\\\\\\": \\\\\\\\\\\\\\\"a01807fd-f5e9-4092-ad34-5148a177d9c3\\\\\\\\\\\\\\\", \\\\\\\\\\\\\\\"workspaceLocation\\\\\\\\\\\\\\\": \\\\\\\\\\\\\\\"westeurope\\\\\\\\\\\\\\\"}}\\\\\\\", \\\\\\\"validation_data\\\\\\\": \\\\\\\"{\\\\\\\\\\\\\\\"blocks\\\\\\\\\\\\\\\": [{\\\\\\\\\\\\\\\"id\\\\\\\\\\\\\\\": \\\\\\\\\\\\\\\"4a33864b-fa1e-4c83-a4cf-3eb53a65fa63\\\\\\\\\\\\\\\", \\\\\\\\\\\\\\\"type\\\\\\\\\\\\\\\": \\\\\\\\\\\\\\\"Microsoft.DPrep.GetDatastoreFilesBlock\\\\\\\\\\\\\\\", \\\\\\\\\\\\\\\"arguments\\\\\\\\\\\\\\\": {\\\\\\\\\\\\\\\"datastores\\\\\\\\\\\\\\\": [{\\\\\\\\\\\\\\\"datastoreName\\\\\\\\\\\\\\\": \\\\\\\\\\\\\\\"workspaceblobstore\\\\\\\\\\\\\\\", \\\\\\\\\\\\\\\"path\\\\\\\\\\\\\\\": \\\\\\\\\\\\\\\"data/normalized_data.csv\\\\\\\\\\\\\\\", \\\\\\\\\\\\\\\"resourceGroup\\\\\\\\\\\\\\\": \\\\\\\\\\\\\\\"uda3rg\\\\\\\\\\\\\\\", \\\\\\\\\\\\\\\"subscription\\\\\\\\\\\\\\\": \\\\\\\\\\\\\\\"1f63a07e-5703-4d10-925f-b1c603594482\\\\\\\\\\\\\\\", \\\\\\\\\\\\\\\"workspaceName\\\\\\\\\\\\\\\": \\\\\\\\\\\\\\\"uda3ws\\\\\\\\\\\\\\\"}]}, \\\\\\\\\\\\\\\"localData\\\\\\\\\\\\\\\": {}, \\\\\\\\\\\\\\\"isEnabled\\\\\\\\\\\\\\\": true, \\\\\\\\\\\\\\\"name\\\\\\\\\\\\\\\": null, \\\\\\\\\\\\\\\"annotation\\\\\\\\\\\\\\\": null}, {\\\\\\\\\\\\\\\"id\\\\\\\\\\\\\\\": \\\\\\\\\\\\\\\"4ecb5178-92de-4719-9eb1-bb3edc54a49a\\\\\\\\\\\\\\\", \\\\\\\\\\\\\\\"type\\\\\\\\\\\\\\\": \\\\\\\\\\\\\\\"Microsoft.DPrep.ParseDelimitedBlock\\\\\\\\\\\\\\\", \\\\\\\\\\\\\\\"arguments\\\\\\\\\\\\\\\": {\\\\\\\\\\\\\\\"columnHeadersMode\\\\\\\\\\\\\\\": 3, \\\\\\\\\\\\\\\"fileEncoding\\\\\\\\\\\\\\\": 0, \\\\\\\\\\\\\\\"handleQuotedLineBreaks\\\\\\\\\\\\\\\": false, \\\\\\\\\\\\\\\"preview\\\\\\\\\\\\\\\": false, \\\\\\\\\\\\\\\"separator\\\\\\\\\\\\\\\": \\\\\\\\\\\\\\\",\\\\\\\\\\\\\\\", \\\\\\\\\\\\\\\"skipRows\\\\\\\\\\\\\\\": 0, \\\\\\\\\\\\\\\"skipRowsMode\\\\\\\\\\\\\\\": 0}, \\\\\\\\\\\\\\\"localData\\\\\\\\\\\\\\\": {}, \\\\\\\\\\\\\\\"isEnabled\\\\\\\\\\\\\\\": true, \\\\\\\\\\\\\\\"name\\\\\\\\\\\\\\\": null, \\\\\\\\\\\\\\\"annotation\\\\\\\\\\\\\\\": null}, {\\\\\\\\\\\\\\\"id\\\\\\\\\\\\\\\": \\\\\\\\\\\\\\\"9f7db1ec-9c49-4bf4-8f18-05a1949aa3f9\\\\\\\\\\\\\\\", \\\\\\\\\\\\\\\"type\\\\\\\\\\\\\\\": \\\\\\\\\\\\\\\"Microsoft.DPrep.DropColumnsBlock\\\\\\\\\\\\\\\", \\\\\\\\\\\\\\\"arguments\\\\\\\\\\\\\\\": {\\\\\\\\\\\\\\\"columns\\\\\\\\\\\\\\\": {\\\\\\\\\\\\\\\"type\\\\\\\\\\\\\\\": 0, \\\\\\\\\\\\\\\"details\\\\\\\\\\\\\\\": {\\\\\\\\\\\\\\\"selectedColumns\\\\\\\\\\\\\\\": [\\\\\\\\\\\\\\\"Path\\\\\\\\\\\\\\\"]}}}, \\\\\\\\\\\\\\\"localData\\\\\\\\\\\\\\\": {}, \\\\\\\\\\\\\\\"isEnabled\\\\\\\\\\\\\\\": true, \\\\\\\\\\\\\\\"name\\\\\\\\\\\\\\\": null, \\\\\\\\\\\\\\\"annotation\\\\\\\\\\\\\\\": null}, {\\\\\\\\\\\\\\\"id\\\\\\\\\\\\\\\": \\\\\\\\\\\\\\\"bb6467ae-c7ac-47ff-bdda-87faf0bea585\\\\\\\\\\\\\\\", \\\\\\\\\\\\\\\"type\\\\\\\\\\\\\\\": \\\\\\\\\\\\\\\"Microsoft.DPrep.SetColumnTypesBlock\\\\\\\\\\\\\\\", \\\\\\\\\\\\\\\"arguments\\\\\\\\\\\\\\\": {\\\\\\\\\\\\\\\"columnConversion\\\\\\\\\\\\\\\": [{\\\\\\\\\\\\\\\"column\\\\\\\\\\\\\\\": {\\\\\\\\\\\\\\\"type\\\\\\\\\\\\\\\": 2, \\\\\\\\\\\\\\\"details\\\\\\\\\\\\\\\": {\\\\\\\\\\\\\\\"selectedColumn\\\\\\\\\\\\\\\": \\\\\\\\\\\\\\\"Column1\\\\\\\\\\\\\\\"}}, \\\\\\\\\\\\\\\"typeProperty\\\\\\\\\\\\\\\": 2}, {\\\\\\\\\\\\\\\"column\\\\\\\\\\\\\\\": {\\\\\\\\\\\\\\\"type\\\\\\\\\\\\\\\": 2, \\\\\\\\\\\\\\\"details\\\\\\\\\\\\\\\": {\\\\\\\\\\\\\\\"selectedColumn\\\\\\\\\\\\\\\": \\\\\\\\\\\\\\\"Volume\\\\\\\\\\\\\\\"}}, \\\\\\\\\\\\\\\"typeProperty\\\\\\\\\\\\\\\": 3}, {\\\\\\\\\\\\\\\"column\\\\\\\\\\\\\\\": {\\\\\\\\\\\\\\\"type\\\\\\\\\\\\\\\": 2, \\\\\\\\\\\\\\\"details\\\\\\\\\\\\\\\": {\\\\\\\\\\\\\\\"selectedColumn\\\\\\\\\\\\\\\": \\\\\\\\\\\\\\\"mom\\\\\\\\\\\\\\\"}}, \\\\\\\\\\\\\\\"typeProperty\\\\\\\\\\\\\\\": 3}, {\\\\\\\\\\\\\\\"column\\\\\\\\\\\\\\\": {\\\\\\\\\\\\\\\"type\\\\\\\\\\\\\\\": 2, \\\\\\\\\\\\\\\"details\\\\\\\\\\\\\\\": {\\\\\\\\\\\\\\\"selectedColumn\\\\\\\\\\\\\\\": \\\\\\\\\\\\\\\"mom1\\\\\\\\\\\\\\\"}}, \\\\\\\\\\\\\\\"typeProperty\\\\\\\\\\\\\\\": 3}, {\\\\\\\\\\\\\\\"column\\\\\\\\\\\\\\\": {\\\\\\\\\\\\\\\"type\\\\\\\\\\\\\\\": 2, \\\\\\\\\\\\\\\"details\\\\\\\\\\\\\\\": {\\\\\\\\\\\\\\\"selectedColumn\\\\\\\\\\\\\\\": \\\\\\\\\\\\\\\"mom2\\\\\\\\\\\\\\\"}}, \\\\\\\\\\\\\\\"typeProperty\\\\\\\\\\\\\\\": 3}, {\\\\\\\\\\\\\\\"column\\\\\\\\\\\\\\\": {\\\\\\\\\\\\\\\"type\\\\\\\\\\\\\\\": 2, \\\\\\\\\\\\\\\"details\\\\\\\\\\\\\\\": {\\\\\\\\\\\\\\\"selectedColumn\\\\\\\\\\\\\\\": \\\\\\\\\\\\\\\"mom3\\\\\\\\\\\\\\\"}}, \\\\\\\\\\\\\\\"typeProperty\\\\\\\\\\\\\\\": 3}, {\\\\\\\\\\\\\\\"column\\\\\\\\\\\\\\\": {\\\\\\\\\\\\\\\"type\\\\\\\\\\\\\\\": 2, \\\\\\\\\\\\\\\"details\\\\\\\\\\\\\\\": {\\\\\\\\\\\\\\\"selectedColumn\\\\\\\\\\\\\\\": \\\\\\\\\\\\\\\"ROC_5\\\\\\\\\\\\\\\"}}, \\\\\\\\\\\\\\\"typeProperty\\\\\\\\\\\\\\\": 3}, {\\\\\\\\\\\\\\\"column\\\\\\\\\\\\\\\": {\\\\\\\\\\\\\\\"type\\\\\\\\\\\\\\\": 2, \\\\\\\\\\\\\\\"details\\\\\\\\\\\\\\\": {\\\\\\\\\\\\\\\"selectedColumn\\\\\\\\\\\\\\\": \\\\\\\\\\\\\\\"ROC_10\\\\\\\\\\\\\\\"}}, \\\\\\\\\\\\\\\"typeProperty\\\\\\\\\\\\\\\": 3}, {\\\\\\\\\\\\\\\"column\\\\\\\\\\\\\\\": {\\\\\\\\\\\\\\\"type\\\\\\\\\\\\\\\": 2, \\\\\\\\\\\\\\\"details\\\\\\\\\\\\\\\": {\\\\\\\\\\\\\\\"selectedColumn\\\\\\\\\\\\\\\": \\\\\\\\\\\\\\\"ROC_15\\\\\\\\\\\\\\\"}}, \\\\\\\\\\\\\\\"typeProperty\\\\\\\\\\\\\\\": 3}, {\\\\\\\\\\\\\\\"column\\\\\\\\\\\\\\\": {\\\\\\\\\\\\\\\"type\\\\\\\\\\\\\\\": 2, \\\\\\\\\\\\\\\"details\\\\\\\\\\\\\\\": {\\\\\\\\\\\\\\\"selectedColumn\\\\\\\\\\\\\\\": \\\\\\\\\\\\\\\"ROC_20\\\\\\\\\\\\\\\"}}, \\\\\\\\\\\\\\\"typeProperty\\\\\\\\\\\\\\\": 3}, {\\\\\\\\\\\\\\\"column\\\\\\\\\\\\\\\": {\\\\\\\\\\\\\\\"type\\\\\\\\\\\\\\\": 2, \\\\\\\\\\\\\\\"details\\\\\\\\\\\\\\\": {\\\\\\\\\\\\\\\"selectedColumn\\\\\\\\\\\\\\\": \\\\\\\\\\\\\\\"EMA_10\\\\\\\\\\\\\\\"}}, \\\\\\\\\\\\\\\"typeProperty\\\\\\\\\\\\\\\": 3}, {\\\\\\\\\\\\\\\"column\\\\\\\\\\\\\\\": {\\\\\\\\\\\\\\\"type\\\\\\\\\\\\\\\": 2, \\\\\\\\\\\\\\\"details\\\\\\\\\\\\\\\": {\\\\\\\\\\\\\\\"selectedColumn\\\\\\\\\\\\\\\": \\\\\\\\\\\\\\\"EMA_20\\\\\\\\\\\\\\\"}}, \\\\\\\\\\\\\\\"typeProperty\\\\\\\\\\\\\\\": 3}, {\\\\\\\\\\\\\\\"column\\\\\\\\\\\\\\\": {\\\\\\\\\\\\\\\"type\\\\\\\\\\\\\\\": 2, \\\\\\\\\\\\\\\"details\\\\\\\\\\\\\\\": {\\\\\\\\\\\\\\\"selectedColumn\\\\\\\\\\\\\\\": \\\\\\\\\\\\\\\"DTB4WK\\\\\\\\\\\\\\\"}}, \\\\\\\\\\\\\\\"typeProperty\\\\\\\\\\\\\\\": 3}, {\\\\\\\\\\\\\\\"column\\\\\\\\\\\\\\\": {\\\\\\\\\\\\\\\"type\\\\\\\\\\\\\\\": 2, \\\\\\\\\\\\\\\"details\\\\\\\\\\\\\\\": {\\\\\\\\\\\\\\\"selectedColumn\\\\\\\\\\\\\\\": \\\\\\\\\\\\\\\"DTB3\\\\\\\\\\\\\\\"}}, \\\\\\\\\\\\\\\"typeProperty\\\\\\\\\\\\\\\": 3}, {\\\\\\\\\\\\\\\"column\\\\\\\\\\\\\\\": {\\\\\\\\\\\\\\\"type\\\\\\\\\\\\\\\": 2, \\\\\\\\\\\\\\\"details\\\\\\\\\\\\\\\": {\\\\\\\\\\\\\\\"selectedColumn\\\\\\\\\\\\\\\": \\\\\\\\\\\\\\\"DTB6\\\\\\\\\\\\\\\"}}, \\\\\\\\\\\\\\\"typeProperty\\\\\\\\\\\\\\\": 3}, {\\\\\\\\\\\\\\\"column\\\\\\\\\\\\\\\": {\\\\\\\\\\\\\\\"type\\\\\\\\\\\\\\\": 2, \\\\\\\\\\\\\\\"details\\\\\\\\\\\\\\\": {\\\\\\\\\\\\\\\"selectedColumn\\\\\\\\\\\\\\\": \\\\\\\\\\\\\\\"DGS5\\\\\\\\\\\\\\\"}}, \\\\\\\\\\\\\\\"typeProperty\\\\\\\\\\\\\\\": 3}, {\\\\\\\\\\\\\\\"column\\\\\\\\\\\\\\\": {\\\\\\\\\\\\\\\"type\\\\\\\\\\\\\\\": 2, \\\\\\\\\\\\\\\"details\\\\\\\\\\\\\\\": {\\\\\\\\\\\\\\\"selectedColumn\\\\\\\\\\\\\\\": \\\\\\\\\\\\\\\"DGS10\\\\\\\\\\\\\\\"}}, \\\\\\\\\\\\\\\"typeProperty\\\\\\\\\\\\\\\": 3}, {\\\\\\\\\\\\\\\"column\\\\\\\\\\\\\\\": {\\\\\\\\\\\\\\\"type\\\\\\\\\\\\\\\": 2, \\\\\\\\\\\\\\\"details\\\\\\\\\\\\\\\": {\\\\\\\\\\\\\\\"selectedColumn\\\\\\\\\\\\\\\": \\\\\\\\\\\\\\\"Oil\\\\\\\\\\\\\\\"}}, \\\\\\\\\\\\\\\"typeProperty\\\\\\\\\\\\\\\": 3}, {\\\\\\\\\\\\\\\"column\\\\\\\\\\\\\\\": {\\\\\\\\\\\\\\\"type\\\\\\\\\\\\\\\": 2, \\\\\\\\\\\\\\\"details\\\\\\\\\\\\\\\": {\\\\\\\\\\\\\\\"selectedColumn\\\\\\\\\\\\\\\": \\\\\\\\\\\\\\\"Gold\\\\\\\\\\\\\\\"}}, \\\\\\\\\\\\\\\"typeProperty\\\\\\\\\\\\\\\": 3}, {\\\\\\\\\\\\\\\"column\\\\\\\\\\\\\\\": {\\\\\\\\\\\\\\\"type\\\\\\\\\\\\\\\": 2, \\\\\\\\\\\\\\\"details\\\\\\\\\\\\\\\": {\\\\\\\\\\\\\\\"selectedColumn\\\\\\\\\\\\\\\": \\\\\\\\\\\\\\\"DAAA\\\\\\\\\\\\\\\"}}, \\\\\\\\\\\\\\\"typeProperty\\\\\\\\\\\\\\\": 3}, {\\\\\\\\\\\\\\\"column\\\\\\\\\\\\\\\": {\\\\\\\\\\\\\\\"type\\\\\\\\\\\\\\\": 2, \\\\\\\\\\\\\\\"details\\\\\\\\\\\\\\\": {\\\\\\\\\\\\\\\"selectedColumn\\\\\\\\\\\\\\\": \\\\\\\\\\\\\\\"DBAA\\\\\\\\\\\\\\\"}}, \\\\\\\\\\\\\\\"typeProperty\\\\\\\\\\\\\\\": 3}, {\\\\\\\\\\\\\\\"column\\\\\\\\\\\\\\\": {\\\\\\\\\\\\\\\"type\\\\\\\\\\\\\\\": 2, \\\\\\\\\\\\\\\"details\\\\\\\\\\\\\\\": {\\\\\\\\\\\\\\\"selectedColumn\\\\\\\\\\\\\\\": \\\\\\\\\\\\\\\"GBP\\\\\\\\\\\\\\\"}}, \\\\\\\\\\\\\\\"typeProperty\\\\\\\\\\\\\\\": 3}, {\\\\\\\\\\\\\\\"column\\\\\\\\\\\\\\\": {\\\\\\\\\\\\\\\"type\\\\\\\\\\\\\\\": 2, \\\\\\\\\\\\\\\"details\\\\\\\\\\\\\\\": {\\\\\\\\\\\\\\\"selectedColumn\\\\\\\\\\\\\\\": \\\\\\\\\\\\\\\"JPY\\\\\\\\\\\\\\\"}}, \\\\\\\\\\\\\\\"typeProperty\\\\\\\\\\\\\\\": 3}, {\\\\\\\\\\\\\\\"column\\\\\\\\\\\\\\\": {\\\\\\\\\\\\\\\"type\\\\\\\\\\\\\\\": 2, \\\\\\\\\\\\\\\"details\\\\\\\\\\\\\\\": {\\\\\\\\\\\\\\\"selectedColumn\\\\\\\\\\\\\\\": \\\\\\\\\\\\\\\"CAD\\\\\\\\\\\\\\\"}}, \\\\\\\\\\\\\\\"typeProperty\\\\\\\\\\\\\\\": 3}, {\\\\\\\\\\\\\\\"column\\\\\\\\\\\\\\\": {\\\\\\\\\\\\\\\"type\\\\\\\\\\\\\\\": 2, \\\\\\\\\\\\\\\"details\\\\\\\\\\\\\\\": {\\\\\\\\\\\\\\\"selectedColumn\\\\\\\\\\\\\\\": \\\\\\\\\\\\\\\"CNY\\\\\\\\\\\\\\\"}}, \\\\\\\\\\\\\\\"typeProperty\\\\\\\\\\\\\\\": 3}, {\\\\\\\\\\\\\\\"column\\\\\\\\\\\\\\\": {\\\\\\\\\\\\\\\"type\\\\\\\\\\\\\\\": 2, \\\\\\\\\\\\\\\"details\\\\\\\\\\\\\\\": {\\\\\\\\\\\\\\\"selectedColumn\\\\\\\\\\\\\\\": \\\\\\\\\\\\\\\"AAPL\\\\\\\\\\\\\\\"}}, \\\\\\\\\\\\\\\"typeProperty\\\\\\\\\\\\\\\": 3}, {\\\\\\\\\\\\\\\"column\\\\\\\\\\\\\\\": {\\\\\\\\\\\\\\\"type\\\\\\\\\\\\\\\": 2, \\\\\\\\\\\\\\\"details\\\\\\\\\\\\\\\": {\\\\\\\\\\\\\\\"selectedColumn\\\\\\\\\\\\\\\": \\\\\\\\\\\\\\\"AMZN\\\\\\\\\\\\\\\"}}, \\\\\\\\\\\\\\\"typeProperty\\\\\\\\\\\\\\\": 3}, {\\\\\\\\\\\\\\\"column\\\\\\\\\\\\\\\": {\\\\\\\\\\\\\\\"type\\\\\\\\\\\\\\\": 2, \\\\\\\\\\\\\\\"details\\\\\\\\\\\\\\\": {\\\\\\\\\\\\\\\"selectedColumn\\\\\\\\\\\\\\\": \\\\\\\\\\\\\\\"GE\\\\\\\\\\\\\\\"}}, \\\\\\\\\\\\\\\"typeProperty\\\\\\\\\\\\\\\": 3}, {\\\\\\\\\\\\\\\"column\\\\\\\\\\\\\\\": {\\\\\\\\\\\\\\\"type\\\\\\\\\\\\\\\": 2, \\\\\\\\\\\\\\\"details\\\\\\\\\\\\\\\": {\\\\\\\\\\\\\\\"selectedColumn\\\\\\\\\\\\\\\": \\\\\\\\\\\\\\\"JNJ\\\\\\\\\\\\\\\"}}, \\\\\\\\\\\\\\\"typeProperty\\\\\\\\\\\\\\\": 3}, {\\\\\\\\\\\\\\\"column\\\\\\\\\\\\\\\": {\\\\\\\\\\\\\\\"type\\\\\\\\\\\\\\\": 2, \\\\\\\\\\\\\\\"details\\\\\\\\\\\\\\\": {\\\\\\\\\\\\\\\"selectedColumn\\\\\\\\\\\\\\\": \\\\\\\\\\\\\\\"JPM\\\\\\\\\\\\\\\"}}, \\\\\\\\\\\\\\\"typeProperty\\\\\\\\\\\\\\\": 3}, {\\\\\\\\\\\\\\\"column\\\\\\\\\\\\\\\": {\\\\\\\\\\\\\\\"type\\\\\\\\\\\\\\\": 2, \\\\\\\\\\\\\\\"details\\\\\\\\\\\\\\\": {\\\\\\\\\\\\\\\"selectedColumn\\\\\\\\\\\\\\\": \\\\\\\\\\\\\\\"MSFT\\\\\\\\\\\\\\\"}}, \\\\\\\\\\\\\\\"typeProperty\\\\\\\\\\\\\\\": 3}, {\\\\\\\\\\\\\\\"column\\\\\\\\\\\\\\\": {\\\\\\\\\\\\\\\"type\\\\\\\\\\\\\\\": 2, \\\\\\\\\\\\\\\"details\\\\\\\\\\\\\\\": {\\\\\\\\\\\\\\\"selectedColumn\\\\\\\\\\\\\\\": \\\\\\\\\\\\\\\"WFC\\\\\\\\\\\\\\\"}}, \\\\\\\\\\\\\\\"typeProperty\\\\\\\\\\\\\\\": 3}, {\\\\\\\\\\\\\\\"column\\\\\\\\\\\\\\\": {\\\\\\\\\\\\\\\"type\\\\\\\\\\\\\\\": 2, \\\\\\\\\\\\\\\"details\\\\\\\\\\\\\\\": {\\\\\\\\\\\\\\\"selectedColumn\\\\\\\\\\\\\\\": \\\\\\\\\\\\\\\"XOM\\\\\\\\\\\\\\\"}}, \\\\\\\\\\\\\\\"typeProperty\\\\\\\\\\\\\\\": 3}, {\\\\\\\\\\\\\\\"column\\\\\\\\\\\\\\\": {\\\\\\\\\\\\\\\"type\\\\\\\\\\\\\\\": 2, \\\\\\\\\\\\\\\"details\\\\\\\\\\\\\\\": {\\\\\\\\\\\\\\\"selectedColumn\\\\\\\\\\\\\\\": \\\\\\\\\\\\\\\"FCHI\\\\\\\\\\\\\\\"}}, \\\\\\\\\\\\\\\"typeProperty\\\\\\\\\\\\\\\": 3}, {\\\\\\\\\\\\\\\"column\\\\\\\\\\\\\\\": {\\\\\\\\\\\\\\\"type\\\\\\\\\\\\\\\": 2, \\\\\\\\\\\\\\\"details\\\\\\\\\\\\\\\": {\\\\\\\\\\\\\\\"selectedColumn\\\\\\\\\\\\\\\": \\\\\\\\\\\\\\\"FTSE\\\\\\\\\\\\\\\"}}, \\\\\\\\\\\\\\\"typeProperty\\\\\\\\\\\\\\\": 3}, {\\\\\\\\\\\\\\\"column\\\\\\\\\\\\\\\": {\\\\\\\\\\\\\\\"type\\\\\\\\\\\\\\\": 2, \\\\\\\\\\\\\\\"details\\\\\\\\\\\\\\\": {\\\\\\\\\\\\\\\"selectedColumn\\\\\\\\\\\\\\\": \\\\\\\\\\\\\\\"GDAXI\\\\\\\\\\\\\\\"}}, \\\\\\\\\\\\\\\"typeProperty\\\\\\\\\\\\\\\": 3}, {\\\\\\\\\\\\\\\"column\\\\\\\\\\\\\\\": {\\\\\\\\\\\\\\\"type\\\\\\\\\\\\\\\": 2, \\\\\\\\\\\\\\\"details\\\\\\\\\\\\\\\": {\\\\\\\\\\\\\\\"selectedColumn\\\\\\\\\\\\\\\": \\\\\\\\\\\\\\\"GSPC\\\\\\\\\\\\\\\"}}, \\\\\\\\\\\\\\\"typeProperty\\\\\\\\\\\\\\\": 3}, {\\\\\\\\\\\\\\\"column\\\\\\\\\\\\\\\": {\\\\\\\\\\\\\\\"type\\\\\\\\\\\\\\\": 2, \\\\\\\\\\\\\\\"details\\\\\\\\\\\\\\\": {\\\\\\\\\\\\\\\"selectedColumn\\\\\\\\\\\\\\\": \\\\\\\\\\\\\\\"HSI\\\\\\\\\\\\\\\"}}, \\\\\\\\\\\\\\\"typeProperty\\\\\\\\\\\\\\\": 3}, {\\\\\\\\\\\\\\\"column\\\\\\\\\\\\\\\": {\\\\\\\\\\\\\\\"type\\\\\\\\\\\\\\\": 2, \\\\\\\\\\\\\\\"details\\\\\\\\\\\\\\\": {\\\\\\\\\\\\\\\"selectedColumn\\\\\\\\\\\\\\\": \\\\\\\\\\\\\\\"IXIC\\\\\\\\\\\\\\\"}}, \\\\\\\\\\\\\\\"typeProperty\\\\\\\\\\\\\\\": 3}, {\\\\\\\\\\\\\\\"column\\\\\\\\\\\\\\\": {\\\\\\\\\\\\\\\"type\\\\\\\\\\\\\\\": 2, \\\\\\\\\\\\\\\"details\\\\\\\\\\\\\\\": {\\\\\\\\\\\\\\\"selectedColumn\\\\\\\\\\\\\\\": \\\\\\\\\\\\\\\"SSEC\\\\\\\\\\\\\\\"}}, \\\\\\\\\\\\\\\"typeProperty\\\\\\\\\\\\\\\": 3}, {\\\\\\\\\\\\\\\"column\\\\\\\\\\\\\\\": {\\\\\\\\\\\\\\\"type\\\\\\\\\\\\\\\": 2, \\\\\\\\\\\\\\\"details\\\\\\\\\\\\\\\": {\\\\\\\\\\\\\\\"selectedColumn\\\\\\\\\\\\\\\": \\\\\\\\\\\\\\\"RUT\\\\\\\\\\\\\\\"}}, \\\\\\\\\\\\\\\"typeProperty\\\\\\\\\\\\\\\": 3}, {\\\\\\\\\\\\\\\"column\\\\\\\\\\\\\\\": {\\\\\\\\\\\\\\\"type\\\\\\\\\\\\\\\": 2, \\\\\\\\\\\\\\\"details\\\\\\\\\\\\\\\": {\\\\\\\\\\\\\\\"selectedColumn\\\\\\\\\\\\\\\": \\\\\\\\\\\\\\\"NYSE\\\\\\\\\\\\\\\"}}, \\\\\\\\\\\\\\\"typeProperty\\\\\\\\\\\\\\\": 3}, {\\\\\\\\\\\\\\\"column\\\\\\\\\\\\\\\": {\\\\\\\\\\\\\\\"type\\\\\\\\\\\\\\\": 2, \\\\\\\\\\\\\\\"details\\\\\\\\\\\\\\\": {\\\\\\\\\\\\\\\"selectedColumn\\\\\\\\\\\\\\\": \\\\\\\\\\\\\\\"TE1\\\\\\\\\\\\\\\"}}, \\\\\\\\\\\\\\\"typeProperty\\\\\\\\\\\\\\\": 3}, {\\\\\\\\\\\\\\\"column\\\\\\\\\\\\\\\": {\\\\\\\\\\\\\\\"type\\\\\\\\\\\\\\\": 2, \\\\\\\\\\\\\\\"details\\\\\\\\\\\\\\\": {\\\\\\\\\\\\\\\"selectedColumn\\\\\\\\\\\\\\\": \\\\\\\\\\\\\\\"TE2\\\\\\\\\\\\\\\"}}, \\\\\\\\\\\\\\\"typeProperty\\\\\\\\\\\\\\\": 3}, {\\\\\\\\\\\\\\\"column\\\\\\\\\\\\\\\": {\\\\\\\\\\\\\\\"type\\\\\\\\\\\\\\\": 2, \\\\\\\\\\\\\\\"details\\\\\\\\\\\\\\\": {\\\\\\\\\\\\\\\"selectedColumn\\\\\\\\\\\\\\\": \\\\\\\\\\\\\\\"TE3\\\\\\\\\\\\\\\"}}, \\\\\\\\\\\\\\\"typeProperty\\\\\\\\\\\\\\\": 3}, {\\\\\\\\\\\\\\\"column\\\\\\\\\\\\\\\": {\\\\\\\\\\\\\\\"type\\\\\\\\\\\\\\\": 2, \\\\\\\\\\\\\\\"details\\\\\\\\\\\\\\\": {\\\\\\\\\\\\\\\"selectedColumn\\\\\\\\\\\\\\\": \\\\\\\\\\\\\\\"TE5\\\\\\\\\\\\\\\"}}, \\\\\\\\\\\\\\\"typeProperty\\\\\\\\\\\\\\\": 3}, {\\\\\\\\\\\\\\\"column\\\\\\\\\\\\\\\": {\\\\\\\\\\\\\\\"type\\\\\\\\\\\\\\\": 2, \\\\\\\\\\\\\\\"details\\\\\\\\\\\\\\\": {\\\\\\\\\\\\\\\"selectedColumn\\\\\\\\\\\\\\\": \\\\\\\\\\\\\\\"TE6\\\\\\\\\\\\\\\"}}, \\\\\\\\\\\\\\\"typeProperty\\\\\\\\\\\\\\\": 3}, {\\\\\\\\\\\\\\\"column\\\\\\\\\\\\\\\": {\\\\\\\\\\\\\\\"type\\\\\\\\\\\\\\\": 2, \\\\\\\\\\\\\\\"details\\\\\\\\\\\\\\\": {\\\\\\\\\\\\\\\"selectedColumn\\\\\\\\\\\\\\\": \\\\\\\\\\\\\\\"DE1\\\\\\\\\\\\\\\"}}, \\\\\\\\\\\\\\\"typeProperty\\\\\\\\\\\\\\\": 3}, {\\\\\\\\\\\\\\\"column\\\\\\\\\\\\\\\": {\\\\\\\\\\\\\\\"type\\\\\\\\\\\\\\\": 2, \\\\\\\\\\\\\\\"details\\\\\\\\\\\\\\\": {\\\\\\\\\\\\\\\"selectedColumn\\\\\\\\\\\\\\\": \\\\\\\\\\\\\\\"DE2\\\\\\\\\\\\\\\"}}, \\\\\\\\\\\\\\\"typeProperty\\\\\\\\\\\\\\\": 3}, {\\\\\\\\\\\\\\\"column\\\\\\\\\\\\\\\": {\\\\\\\\\\\\\\\"type\\\\\\\\\\\\\\\": 2, \\\\\\\\\\\\\\\"details\\\\\\\\\\\\\\\": {\\\\\\\\\\\\\\\"selectedColumn\\\\\\\\\\\\\\\": \\\\\\\\\\\\\\\"DE4\\\\\\\\\\\\\\\"}}, \\\\\\\\\\\\\\\"typeProperty\\\\\\\\\\\\\\\": 3}, {\\\\\\\\\\\\\\\"column\\\\\\\\\\\\\\\": {\\\\\\\\\\\\\\\"type\\\\\\\\\\\\\\\": 2, \\\\\\\\\\\\\\\"details\\\\\\\\\\\\\\\": {\\\\\\\\\\\\\\\"selectedColumn\\\\\\\\\\\\\\\": \\\\\\\\\\\\\\\"DE5\\\\\\\\\\\\\\\"}}, \\\\\\\\\\\\\\\"typeProperty\\\\\\\\\\\\\\\": 3}, {\\\\\\\\\\\\\\\"column\\\\\\\\\\\\\\\": {\\\\\\\\\\\\\\\"type\\\\\\\\\\\\\\\": 2, \\\\\\\\\\\\\\\"details\\\\\\\\\\\\\\\": {\\\\\\\\\\\\\\\"selectedColumn\\\\\\\\\\\\\\\": \\\\\\\\\\\\\\\"DE6\\\\\\\\\\\\\\\"}}, \\\\\\\\\\\\\\\"typeProperty\\\\\\\\\\\\\\\": 3}, {\\\\\\\\\\\\\\\"column\\\\\\\\\\\\\\\": {\\\\\\\\\\\\\\\"type\\\\\\\\\\\\\\\": 2, \\\\\\\\\\\\\\\"details\\\\\\\\\\\\\\\": {\\\\\\\\\\\\\\\"selectedColumn\\\\\\\\\\\\\\\": \\\\\\\\\\\\\\\"CTB3M\\\\\\\\\\\\\\\"}}, \\\\\\\\\\\\\\\"typeProperty\\\\\\\\\\\\\\\": 3}, {\\\\\\\\\\\\\\\"column\\\\\\\\\\\\\\\": {\\\\\\\\\\\\\\\"type\\\\\\\\\\\\\\\": 2, \\\\\\\\\\\\\\\"details\\\\\\\\\\\\\\\": {\\\\\\\\\\\\\\\"selectedColumn\\\\\\\\\\\\\\\": \\\\\\\\\\\\\\\"CTB6M\\\\\\\\\\\\\\\"}}, \\\\\\\\\\\\\\\"typeProperty\\\\\\\\\\\\\\\": 3}, {\\\\\\\\\\\\\\\"column\\\\\\\\\\\\\\\": {\\\\\\\\\\\\\\\"type\\\\\\\\\\\\\\\": 2, \\\\\\\\\\\\\\\"details\\\\\\\\\\\\\\\": {\\\\\\\\\\\\\\\"selectedColumn\\\\\\\\\\\\\\\": \\\\\\\\\\\\\\\"CTB1Y\\\\\\\\\\\\\\\"}}, \\\\\\\\\\\\\\\"typeProperty\\\\\\\\\\\\\\\": 3}, {\\\\\\\\\\\\\\\"column\\\\\\\\\\\\\\\": {\\\\\\\\\\\\\\\"type\\\\\\\\\\\\\\\": 2, \\\\\\\\\\\\\\\"details\\\\\\\\\\\\\\\": {\\\\\\\\\\\\\\\"selectedColumn\\\\\\\\\\\\\\\": \\\\\\\\\\\\\\\"AUD\\\\\\\\\\\\\\\"}}, \\\\\\\\\\\\\\\"typeProperty\\\\\\\\\\\\\\\": 3}, {\\\\\\\\\\\\\\\"column\\\\\\\\\\\\\\\": {\\\\\\\\\\\\\\\"type\\\\\\\\\\\\\\\": 2, \\\\\\\\\\\\\\\"details\\\\\\\\\\\\\\\": {\\\\\\\\\\\\\\\"selectedColumn\\\\\\\\\\\\\\\": \\\\\\\\\\\\\\\"Brent\\\\\\\\\\\\\\\"}}, \\\\\\\\\\\\\\\"typeProperty\\\\\\\\\\\\\\\": 3}, {\\\\\\\\\\\\\\\"column\\\\\\\\\\\\\\\": {\\\\\\\\\\\\\\\"type\\\\\\\\\\\\\\\": 2, \\\\\\\\\\\\\\\"details\\\\\\\\\\\\\\\": {\\\\\\\\\\\\\\\"selectedColumn\\\\\\\\\\\\\\\": \\\\\\\\\\\\\\\"CAC-F\\\\\\\\\\\\\\\"}}, \\\\\\\\\\\\\\\"typeProperty\\\\\\\\\\\\\\\": 3}, {\\\\\\\\\\\\\\\"column\\\\\\\\\\\\\\\": {\\\\\\\\\\\\\\\"type\\\\\\\\\\\\\\\": 2, \\\\\\\\\\\\\\\"details\\\\\\\\\\\\\\\": {\\\\\\\\\\\\\\\"selectedColumn\\\\\\\\\\\\\\\": \\\\\\\\\\\\\\\"copper-F\\\\\\\\\\\\\\\"}}, \\\\\\\\\\\\\\\"typeProperty\\\\\\\\\\\\\\\": 3}, {\\\\\\\\\\\\\\\"column\\\\\\\\\\\\\\\": {\\\\\\\\\\\\\\\"type\\\\\\\\\\\\\\\": 2, \\\\\\\\\\\\\\\"details\\\\\\\\\\\\\\\": {\\\\\\\\\\\\\\\"selectedColumn\\\\\\\\\\\\\\\": \\\\\\\\\\\\\\\"WIT-oil\\\\\\\\\\\\\\\"}}, \\\\\\\\\\\\\\\"typeProperty\\\\\\\\\\\\\\\": 3}, {\\\\\\\\\\\\\\\"column\\\\\\\\\\\\\\\": {\\\\\\\\\\\\\\\"type\\\\\\\\\\\\\\\": 2, \\\\\\\\\\\\\\\"details\\\\\\\\\\\\\\\": {\\\\\\\\\\\\\\\"selectedColumn\\\\\\\\\\\\\\\": \\\\\\\\\\\\\\\"DAX-F\\\\\\\\\\\\\\\"}}, \\\\\\\\\\\\\\\"typeProperty\\\\\\\\\\\\\\\": 3}, {\\\\\\\\\\\\\\\"column\\\\\\\\\\\\\\\": {\\\\\\\\\\\\\\\"type\\\\\\\\\\\\\\\": 2, \\\\\\\\\\\\\\\"details\\\\\\\\\\\\\\\": {\\\\\\\\\\\\\\\"selectedColumn\\\\\\\\\\\\\\\": \\\\\\\\\\\\\\\"DJI-F\\\\\\\\\\\\\\\"}}, \\\\\\\\\\\\\\\"typeProperty\\\\\\\\\\\\\\\": 3}, {\\\\\\\\\\\\\\\"column\\\\\\\\\\\\\\\": {\\\\\\\\\\\\\\\"type\\\\\\\\\\\\\\\": 2, \\\\\\\\\\\\\\\"details\\\\\\\\\\\\\\\": {\\\\\\\\\\\\\\\"selectedColumn\\\\\\\\\\\\\\\": \\\\\\\\\\\\\\\"EUR\\\\\\\\\\\\\\\"}}, \\\\\\\\\\\\\\\"typeProperty\\\\\\\\\\\\\\\": 3}, {\\\\\\\\\\\\\\\"column\\\\\\\\\\\\\\\": {\\\\\\\\\\\\\\\"type\\\\\\\\\\\\\\\": 2, \\\\\\\\\\\\\\\"details\\\\\\\\\\\\\\\": {\\\\\\\\\\\\\\\"selectedColumn\\\\\\\\\\\\\\\": \\\\\\\\\\\\\\\"FTSE-F\\\\\\\\\\\\\\\"}}, \\\\\\\\\\\\\\\"typeProperty\\\\\\\\\\\\\\\": 3}, {\\\\\\\\\\\\\\\"column\\\\\\\\\\\\\\\": {\\\\\\\\\\\\\\\"type\\\\\\\\\\\\\\\": 2, \\\\\\\\\\\\\\\"details\\\\\\\\\\\\\\\": {\\\\\\\\\\\\\\\"selectedColumn\\\\\\\\\\\\\\\": \\\\\\\\\\\\\\\"gold-F\\\\\\\\\\\\\\\"}}, \\\\\\\\\\\\\\\"typeProperty\\\\\\\\\\\\\\\": 3}, {\\\\\\\\\\\\\\\"column\\\\\\\\\\\\\\\": {\\\\\\\\\\\\\\\"type\\\\\\\\\\\\\\\": 2, \\\\\\\\\\\\\\\"details\\\\\\\\\\\\\\\": {\\\\\\\\\\\\\\\"selectedColumn\\\\\\\\\\\\\\\": \\\\\\\\\\\\\\\"HSI-F\\\\\\\\\\\\\\\"}}, \\\\\\\\\\\\\\\"typeProperty\\\\\\\\\\\\\\\": 3}, {\\\\\\\\\\\\\\\"column\\\\\\\\\\\\\\\": {\\\\\\\\\\\\\\\"type\\\\\\\\\\\\\\\": 2, \\\\\\\\\\\\\\\"details\\\\\\\\\\\\\\\": {\\\\\\\\\\\\\\\"selectedColumn\\\\\\\\\\\\\\\": \\\\\\\\\\\\\\\"KOSPI-F\\\\\\\\\\\\\\\"}}, \\\\\\\\\\\\\\\"typeProperty\\\\\\\\\\\\\\\": 3}, {\\\\\\\\\\\\\\\"column\\\\\\\\\\\\\\\": {\\\\\\\\\\\\\\\"type\\\\\\\\\\\\\\\": 2, \\\\\\\\\\\\\\\"details\\\\\\\\\\\\\\\": {\\\\\\\\\\\\\\\"selectedColumn\\\\\\\\\\\\\\\": \\\\\\\\\\\\\\\"NASDAQ-F\\\\\\\\\\\\\\\"}}, \\\\\\\\\\\\\\\"typeProperty\\\\\\\\\\\\\\\": 3}, {\\\\\\\\\\\\\\\"column\\\\\\\\\\\\\\\": {\\\\\\\\\\\\\\\"type\\\\\\\\\\\\\\\": 2, \\\\\\\\\\\\\\\"details\\\\\\\\\\\\\\\": {\\\\\\\\\\\\\\\"selectedColumn\\\\\\\\\\\\\\\": \\\\\\\\\\\\\\\"GAS-F\\\\\\\\\\\\\\\"}}, \\\\\\\\\\\\\\\"typeProperty\\\\\\\\\\\\\\\": 3}, {\\\\\\\\\\\\\\\"column\\\\\\\\\\\\\\\": {\\\\\\\\\\\\\\\"type\\\\\\\\\\\\\\\": 2, \\\\\\\\\\\\\\\"details\\\\\\\\\\\\\\\": {\\\\\\\\\\\\\\\"selectedColumn\\\\\\\\\\\\\\\": \\\\\\\\\\\\\\\"Nikkei-F\\\\\\\\\\\\\\\"}}, \\\\\\\\\\\\\\\"typeProperty\\\\\\\\\\\\\\\": 3}, {\\\\\\\\\\\\\\\"column\\\\\\\\\\\\\\\": {\\\\\\\\\\\\\\\"type\\\\\\\\\\\\\\\": 2, \\\\\\\\\\\\\\\"details\\\\\\\\\\\\\\\": {\\\\\\\\\\\\\\\"selectedColumn\\\\\\\\\\\\\\\": \\\\\\\\\\\\\\\"NZD\\\\\\\\\\\\\\\"}}, \\\\\\\\\\\\\\\"typeProperty\\\\\\\\\\\\\\\": 3}, {\\\\\\\\\\\\\\\"column\\\\\\\\\\\\\\\": {\\\\\\\\\\\\\\\"type\\\\\\\\\\\\\\\": 2, \\\\\\\\\\\\\\\"details\\\\\\\\\\\\\\\": {\\\\\\\\\\\\\\\"selectedColumn\\\\\\\\\\\\\\\": \\\\\\\\\\\\\\\"silver-F\\\\\\\\\\\\\\\"}}, \\\\\\\\\\\\\\\"typeProperty\\\\\\\\\\\\\\\": 3}, {\\\\\\\\\\\\\\\"column\\\\\\\\\\\\\\\": {\\\\\\\\\\\\\\\"type\\\\\\\\\\\\\\\": 2, \\\\\\\\\\\\\\\"details\\\\\\\\\\\\\\\": {\\\\\\\\\\\\\\\"selectedColumn\\\\\\\\\\\\\\\": \\\\\\\\\\\\\\\"RUSSELL-F\\\\\\\\\\\\\\\"}}, \\\\\\\\\\\\\\\"typeProperty\\\\\\\\\\\\\\\": 3}, {\\\\\\\\\\\\\\\"column\\\\\\\\\\\\\\\": {\\\\\\\\\\\\\\\"type\\\\\\\\\\\\\\\": 2, \\\\\\\\\\\\\\\"details\\\\\\\\\\\\\\\": {\\\\\\\\\\\\\\\"selectedColumn\\\\\\\\\\\\\\\": \\\\\\\\\\\\\\\"S&P-F\\\\\\\\\\\\\\\"}}, \\\\\\\\\\\\\\\"typeProperty\\\\\\\\\\\\\\\": 3}, {\\\\\\\\\\\\\\\"column\\\\\\\\\\\\\\\": {\\\\\\\\\\\\\\\"type\\\\\\\\\\\\\\\": 2, \\\\\\\\\\\\\\\"details\\\\\\\\\\\\\\\": {\\\\\\\\\\\\\\\"selectedColumn\\\\\\\\\\\\\\\": \\\\\\\\\\\\\\\"CHF\\\\\\\\\\\\\\\"}}, \\\\\\\\\\\\\\\"typeProperty\\\\\\\\\\\\\\\": 3}, {\\\\\\\\\\\\\\\"column\\\\\\\\\\\\\\\": {\\\\\\\\\\\\\\\"type\\\\\\\\\\\\\\\": 2, \\\\\\\\\\\\\\\"details\\\\\\\\\\\\\\\": {\\\\\\\\\\\\\\\"selectedColumn\\\\\\\\\\\\\\\": \\\\\\\\\\\\\\\"Dollar index-F\\\\\\\\\\\\\\\"}}, \\\\\\\\\\\\\\\"typeProperty\\\\\\\\\\\\\\\": 3}, {\\\\\\\\\\\\\\\"column\\\\\\\\\\\\\\\": {\\\\\\\\\\\\\\\"type\\\\\\\\\\\\\\\": 2, \\\\\\\\\\\\\\\"details\\\\\\\\\\\\\\\": {\\\\\\\\\\\\\\\"selectedColumn\\\\\\\\\\\\\\\": \\\\\\\\\\\\\\\"Dollar index\\\\\\\\\\\\\\\"}}, \\\\\\\\\\\\\\\"typeProperty\\\\\\\\\\\\\\\": 3}, {\\\\\\\\\\\\\\\"column\\\\\\\\\\\\\\\": {\\\\\\\\\\\\\\\"type\\\\\\\\\\\\\\\": 2, \\\\\\\\\\\\\\\"details\\\\\\\\\\\\\\\": {\\\\\\\\\\\\\\\"selectedColumn\\\\\\\\\\\\\\\": \\\\\\\\\\\\\\\"wheat-F\\\\\\\\\\\\\\\"}}, \\\\\\\\\\\\\\\"typeProperty\\\\\\\\\\\\\\\": 3}, {\\\\\\\\\\\\\\\"column\\\\\\\\\\\\\\\": {\\\\\\\\\\\\\\\"type\\\\\\\\\\\\\\\": 2, \\\\\\\\\\\\\\\"details\\\\\\\\\\\\\\\": {\\\\\\\\\\\\\\\"selectedColumn\\\\\\\\\\\\\\\": \\\\\\\\\\\\\\\"XAG\\\\\\\\\\\\\\\"}}, \\\\\\\\\\\\\\\"typeProperty\\\\\\\\\\\\\\\": 3}, {\\\\\\\\\\\\\\\"column\\\\\\\\\\\\\\\": {\\\\\\\\\\\\\\\"type\\\\\\\\\\\\\\\": 2, \\\\\\\\\\\\\\\"details\\\\\\\\\\\\\\\": {\\\\\\\\\\\\\\\"selectedColumn\\\\\\\\\\\\\\\": \\\\\\\\\\\\\\\"XAU\\\\\\\\\\\\\\\"}}, \\\\\\\\\\\\\\\"typeProperty\\\\\\\\\\\\\\\": 3}, {\\\\\\\\\\\\\\\"column\\\\\\\\\\\\\\\": {\\\\\\\\\\\\\\\"type\\\\\\\\\\\\\\\": 2, \\\\\\\\\\\\\\\"details\\\\\\\\\\\\\\\": {\\\\\\\\\\\\\\\"selectedColumn\\\\\\\\\\\\\\\": \\\\\\\\\\\\\\\"y\\\\\\\\\\\\\\\"}}, \\\\\\\\\\\\\\\"typeProperty\\\\\\\\\\\\\\\": 3}]}, \\\\\\\\\\\\\\\"localData\\\\\\\\\\\\\\\": {}, \\\\\\\\\\\\\\\"isEnabled\\\\\\\\\\\\\\\": true, \\\\\\\\\\\\\\\"name\\\\\\\\\\\\\\\": null, \\\\\\\\\\\\\\\"annotation\\\\\\\\\\\\\\\": null}, {\\\\\\\\\\\\\\\"id\\\\\\\\\\\\\\\": \\\\\\\\\\\\\\\"a6e7c120-3e85-4e3b-9c6b-7210cecd3d00\\\\\\\\\\\\\\\", \\\\\\\\\\\\\\\"type\\\\\\\\\\\\\\\": \\\\\\\\\\\\\\\"Microsoft.DPrep.TakeSampleBlock\\\\\\\\\\\\\\\", \\\\\\\\\\\\\\\"arguments\\\\\\\\\\\\\\\": {\\\\\\\\\\\\\\\"probability\\\\\\\\\\\\\\\": 1.0, \\\\\\\\\\\\\\\"probabilityLowerBound\\\\\\\\\\\\\\\": 0.7, \\\\\\\\\\\\\\\"seed\\\\\\\\\\\\\\\": 42}, \\\\\\\\\\\\\\\"localData\\\\\\\\\\\\\\\": {}, \\\\\\\\\\\\\\\"isEnabled\\\\\\\\\\\\\\\": true, \\\\\\\\\\\\\\\"name\\\\\\\\\\\\\\\": null, \\\\\\\\\\\\\\\"annotation\\\\\\\\\\\\\\\": null}], \\\\\\\\\\\\\\\"inspectors\\\\\\\\\\\\\\\": [], \\\\\\\\\\\\\\\"meta\\\\\\\\\\\\\\\": {\\\\\\\\\\\\\\\"savedDatasetId\\\\\\\\\\\\\\\": \\\\\\\\\\\\\\\"85487734-f095-459e-98b3-b962ee747b4d\\\\\\\\\\\\\\\", \\\\\\\\\\\\\\\"datasetType\\\\\\\\\\\\\\\": \\\\\\\\\\\\\\\"tabular\\\\\\\\\\\\\\\", \\\\\\\\\\\\\\\"subscriptionId\\\\\\\\\\\\\\\": \\\\\\\\\\\\\\\"1f63a07e-5703-4d10-925f-b1c603594482\\\\\\\\\\\\\\\", \\\\\\\\\\\\\\\"workspaceId\\\\\\\\\\\\\\\": \\\\\\\\\\\\\\\"a01807fd-f5e9-4092-ad34-5148a177d9c3\\\\\\\\\\\\\\\", \\\\\\\\\\\\\\\"workspaceLocation\\\\\\\\\\\\\\\": \\\\\\\\\\\\\\\"westeurope\\\\\\\\\\\\\\\"}}\\\\\\\", \\\\\\\"activities\\\\\\\": 0}\", \"EnableSubsampling\": null, \"runTemplate\": \"AutoML\", \"azureml.runsource\": \"automl\", \"display_task_type\": \"classification\", \"dependencies_versions\": \"{\\\"azureml-widgets\\\": \\\"1.22.0\\\", \\\"azureml-train\\\": \\\"1.22.0\\\", \\\"azureml-train-restclients-hyperdrive\\\": \\\"1.22.0\\\", \\\"azureml-train-core\\\": \\\"1.22.0\\\", \\\"azureml-train-automl\\\": \\\"1.22.0\\\", \\\"azureml-train-automl-runtime\\\": \\\"1.22.0\\\", \\\"azureml-train-automl-client\\\": \\\"1.22.0\\\", \\\"azureml-tensorboard\\\": \\\"1.22.0\\\", \\\"azureml-telemetry\\\": \\\"1.22.0\\\", \\\"azureml-sdk\\\": \\\"1.22.0\\\", \\\"azureml-samples\\\": \\\"0+unknown\\\", \\\"azureml-pipeline\\\": \\\"1.22.0\\\", \\\"azureml-pipeline-steps\\\": \\\"1.22.0\\\", \\\"azureml-pipeline-core\\\": \\\"1.22.0\\\", \\\"azureml-opendatasets\\\": \\\"1.22.0\\\", \\\"azureml-model-management-sdk\\\": \\\"1.0.1b6.post1\\\", \\\"azureml-mlflow\\\": \\\"1.22.0\\\", \\\"azureml-interpret\\\": \\\"1.22.0\\\", \\\"azureml-explain-model\\\": \\\"1.22.0\\\", \\\"azureml-defaults\\\": \\\"1.22.0\\\", \\\"azureml-dataset-runtime\\\": \\\"1.22.0\\\", \\\"azureml-dataprep\\\": \\\"2.9.1\\\", \\\"azureml-dataprep-rslex\\\": \\\"1.7.0\\\", \\\"azureml-dataprep-native\\\": \\\"29.0.0\\\", \\\"azureml-datadrift\\\": \\\"1.22.0\\\", \\\"azureml-core\\\": \\\"1.22.0\\\", \\\"azureml-contrib-services\\\": \\\"1.22.0\\\", \\\"azureml-contrib-server\\\": \\\"1.22.0\\\", \\\"azureml-contrib-reinforcementlearning\\\": \\\"1.22.0\\\", \\\"azureml-contrib-pipeline-steps\\\": \\\"1.22.0\\\", \\\"azureml-contrib-notebook\\\": \\\"1.22.0\\\", \\\"azureml-contrib-interpret\\\": \\\"1.22.0\\\", \\\"azureml-contrib-gbdt\\\": \\\"1.22.0\\\", \\\"azureml-contrib-fairness\\\": \\\"1.22.0\\\", \\\"azureml-contrib-dataset\\\": \\\"1.22.0\\\", \\\"azureml-cli-common\\\": \\\"1.22.0\\\", \\\"azureml-automl-runtime\\\": \\\"1.22.0\\\", \\\"azureml-automl-core\\\": \\\"1.22.0\\\", \\\"azureml-accel-models\\\": \\\"1.22.0\\\"}\", \"_aml_system_scenario_identification\": \"Remote.Parent\", \"ClientType\": \"SDK\", \"environment_cpu_name\": \"AzureML-AutoML\", \"environment_cpu_label\": \"prod\", \"environment_gpu_name\": \"AzureML-AutoML-GPU\", \"environment_gpu_label\": \"prod\", \"root_attribution\": \"automl\", \"attribution\": \"AutoML\", \"Orchestrator\": \"AutoML\", \"CancelUri\": \"https://westeurope.experiments.azureml.net/jasmine/v1.0/subscriptions/1f63a07e-5703-4d10-925f-b1c603594482/resourceGroups/uda3rg/providers/Microsoft.MachineLearningServices/workspaces/uda3ws/experimentids/c8fa775e-70a2-48eb-ac91-4f70ad3ed773/cancel/AutoML_cb05725f-8930-4351-add6-ee67e887f633\", \"ClientSdkVersion\": \"1.23.0\", \"snapshotId\": \"00000000-0000-0000-0000-000000000000\", \"SetupRunId\": \"AutoML_cb05725f-8930-4351-add6-ee67e887f633_setup\", \"SetupRunContainerId\": \"dcid.AutoML_cb05725f-8930-4351-add6-ee67e887f633_setup\", \"FeaturizationRunJsonPath\": \"featurizer_container.json\", \"FeaturizationRunId\": \"AutoML_cb05725f-8930-4351-add6-ee67e887f633_featurize\", \"ProblemInfoJsonString\": \"{\\\"dataset_num_categorical\\\": 0, \\\"is_sparse\\\": false, \\\"subsampling\\\": false, \\\"dataset_classes\\\": 2, \\\"dataset_features\\\": 80, \\\"dataset_samples\\\": 1370, \\\"single_frequency_class_detected\\\": false}\", \"ModelExplainRunId\": \"AutoML_cb05725f-8930-4351-add6-ee67e887f633_ModelExplain\"}, \"tags\": {\"model_explain_run\": \"best_run\", \"_aml_system_azureml.automlComponent\": \"AutoML\", \"pipeline_id\": \"\", \"score\": \"\", \"predicted_cost\": \"\", \"fit_time\": \"\", \"training_percent\": \"\", \"iteration\": \"\", \"run_preprocessor\": \"\", \"run_algorithm\": \"\", \"dynamic_whitelisting_iterations\": \"<25>;<30>;<35>;\", \"automl_best_child_run_id\": \"AutoML_cb05725f-8930-4351-add6-ee67e887f633_37\", \"model_explain_best_run_child_id\": \"AutoML_cb05725f-8930-4351-add6-ee67e887f633_37\"}, \"end_time_utc\": \"2021-03-13T16:44:01.577335Z\", \"status\": \"Completed\", \"log_files\": {}, \"log_groups\": [], \"run_duration\": \"0:43:03\", \"run_number\": \"46\", \"run_queued_details\": {\"status\": \"Completed\", \"details\": null}}, \"child_runs\": [{\"run_id\": \"AutoML_cb05725f-8930-4351-add6-ee67e887f633_8\", \"run_number\": 50, \"metric\": null, \"status\": \"Completed\", \"run_type\": \"azureml.scriptrun\", \"training_percent\": \"100\", \"start_time\": \"2021-03-13T16:28:35.107492Z\", \"end_time\": \"2021-03-13T16:29:34.039395Z\", \"created_time\": \"2021-03-13T16:22:06.560336Z\", \"created_time_dt\": \"2021-03-13T16:22:06.560336Z\", \"duration\": \"0:07:27\", \"iteration\": \"8\", \"goal\": \"AUC_weighted_max\", \"run_name\": \"MinMaxScaler, ExtremeRandomTrees\", \"run_properties\": \"copy=True, feature_range=(0, 1\", \"primary_metric\": 0.51992489, \"best_metric\": 0.55173885}, {\"run_id\": \"AutoML_cb05725f-8930-4351-add6-ee67e887f633_6\", \"run_number\": 51, \"metric\": null, \"status\": \"Completed\", \"run_type\": \"azureml.scriptrun\", \"training_percent\": \"100\", \"start_time\": \"2021-03-13T16:24:43.00386Z\", \"end_time\": \"2021-03-13T16:25:46.461751Z\", \"created_time\": \"2021-03-13T16:22:06.562319Z\", \"created_time_dt\": \"2021-03-13T16:22:06.562319Z\", \"duration\": \"0:03:39\", \"iteration\": \"6\", \"goal\": \"AUC_weighted_max\", \"run_name\": \"StandardScalerWrapper, RandomForest\", \"run_properties\": \"<azureml.automl.runtime.shared.model_wrappers.StandardScalerWrapper object at 0x7f28826a0160\", \"primary_metric\": 0.52765584, \"best_metric\": 0.55173885}, {\"run_id\": \"AutoML_cb05725f-8930-4351-add6-ee67e887f633_7\", \"run_number\": 52, \"metric\": null, \"status\": \"Completed\", \"run_type\": \"azureml.scriptrun\", \"training_percent\": \"100\", \"start_time\": \"2021-03-13T16:27:27.299717Z\", \"end_time\": \"2021-03-13T16:28:18.494924Z\", \"created_time\": \"2021-03-13T16:22:06.562706Z\", \"created_time_dt\": \"2021-03-13T16:22:06.562706Z\", \"duration\": \"0:06:11\", \"iteration\": \"7\", \"goal\": \"AUC_weighted_max\", \"run_name\": \"MinMaxScaler, ExtremeRandomTrees\", \"run_properties\": \"copy=True, feature_range=(0, 1\", \"primary_metric\": 0.52399156, \"best_metric\": 0.55173885}, {\"run_id\": \"AutoML_cb05725f-8930-4351-add6-ee67e887f633_4\", \"run_number\": 53, \"metric\": null, \"status\": \"Completed\", \"run_type\": \"azureml.scriptrun\", \"training_percent\": \"100\", \"start_time\": \"2021-03-13T16:22:21.362884Z\", \"end_time\": \"2021-03-13T16:23:16.144595Z\", \"created_time\": \"2021-03-13T16:22:06.593184Z\", \"created_time_dt\": \"2021-03-13T16:22:06.593184Z\", \"duration\": \"0:01:09\", \"iteration\": \"4\", \"goal\": \"AUC_weighted_max\", \"run_name\": \"MinMaxScaler, RandomForest\", \"run_properties\": \"copy=True, feature_range=(0, 1\", \"primary_metric\": 0.55173885, \"best_metric\": 0.55173885}, {\"run_id\": \"AutoML_cb05725f-8930-4351-add6-ee67e887f633_5\", \"run_number\": 54, \"metric\": null, \"status\": \"Completed\", \"run_type\": \"azureml.scriptrun\", \"training_percent\": \"100\", \"start_time\": \"2021-03-13T16:23:35.305255Z\", \"end_time\": \"2021-03-13T16:24:27.627281Z\", \"created_time\": \"2021-03-13T16:22:06.61626Z\", \"created_time_dt\": \"2021-03-13T16:22:06.61626Z\", \"duration\": \"0:02:21\", \"iteration\": \"5\", \"goal\": \"AUC_weighted_max\", \"run_name\": \"MinMaxScaler, RandomForest\", \"run_properties\": \"copy=True, feature_range=(0, 1\", \"primary_metric\": 0.51160862, \"best_metric\": 0.55173885}, {\"run_id\": \"AutoML_cb05725f-8930-4351-add6-ee67e887f633_0\", \"run_number\": 55, \"metric\": null, \"status\": \"Completed\", \"run_type\": \"azureml.scriptrun\", \"training_percent\": \"100\", \"start_time\": \"2021-03-13T16:26:03.742348Z\", \"end_time\": \"2021-03-13T16:26:58.636384Z\", \"created_time\": \"2021-03-13T16:22:06.651437Z\", \"created_time_dt\": \"2021-03-13T16:22:06.651437Z\", \"duration\": \"0:04:51\", \"iteration\": \"0\", \"goal\": \"AUC_weighted_max\", \"run_name\": \"MaxAbsScaler, LightGBM\", \"run_properties\": \"copy=True\", \"primary_metric\": 0.50869427, \"best_metric\": 0.50869427}, {\"run_id\": \"AutoML_cb05725f-8930-4351-add6-ee67e887f633_2\", \"run_number\": 56, \"metric\": null, \"status\": \"Completed\", \"run_type\": \"azureml.scriptrun\", \"training_percent\": \"100\", \"start_time\": \"2021-03-13T16:24:12.557975Z\", \"end_time\": \"2021-03-13T16:27:08.757667Z\", \"created_time\": \"2021-03-13T16:22:06.688064Z\", \"created_time_dt\": \"2021-03-13T16:22:06.688064Z\", \"duration\": \"0:05:02\", \"iteration\": \"2\", \"goal\": \"AUC_weighted_max\", \"run_name\": \"MinMaxScaler, RandomForest\", \"run_properties\": \"copy=True, feature_range=(0, 1\", \"primary_metric\": 0.52477807, \"best_metric\": 0.52477807}, {\"run_id\": \"AutoML_cb05725f-8930-4351-add6-ee67e887f633_3\", \"run_number\": 57, \"metric\": null, \"status\": \"Completed\", \"run_type\": \"azureml.scriptrun\", \"training_percent\": \"100\", \"start_time\": \"2021-03-13T16:27:07.725054Z\", \"end_time\": \"2021-03-13T16:28:04.090619Z\", \"created_time\": \"2021-03-13T16:22:06.586949Z\", \"created_time_dt\": \"2021-03-13T16:22:06.586949Z\", \"duration\": \"0:05:57\", \"iteration\": \"3\", \"goal\": \"AUC_weighted_max\", \"run_name\": \"RobustScaler, ExtremeRandomTrees\", \"run_properties\": \"copy=True, quantile_range=[10, 90], with_centering=False,\\n             with_scaling=False\", \"primary_metric\": 0.5395815, \"best_metric\": 0.5395815}, {\"run_id\": \"AutoML_cb05725f-8930-4351-add6-ee67e887f633_9\", \"run_number\": 58, \"metric\": null, \"status\": \"Completed\", \"run_type\": \"azureml.scriptrun\", \"training_percent\": \"100\", \"start_time\": \"2021-03-13T16:28:22.399039Z\", \"end_time\": \"2021-03-13T16:29:20.033372Z\", \"created_time\": \"2021-03-13T16:22:06.576635Z\", \"created_time_dt\": \"2021-03-13T16:22:06.576635Z\", \"duration\": \"0:07:13\", \"iteration\": \"9\", \"goal\": \"AUC_weighted_max\", \"run_name\": \"SparseNormalizer, KNN\", \"run_properties\": \"<azureml.automl.runtime.shared.model_wrappers.SparseNormalizer object at 0x7f33596bd5c0\", \"primary_metric\": 0.48620866, \"best_metric\": 0.55173885}, {\"run_id\": \"AutoML_cb05725f-8930-4351-add6-ee67e887f633_1\", \"run_number\": 59, \"metric\": null, \"status\": \"Completed\", \"run_type\": \"azureml.scriptrun\", \"training_percent\": \"100\", \"start_time\": \"2021-03-13T16:29:33.651212Z\", \"end_time\": \"2021-03-13T16:30:29.369358Z\", \"created_time\": \"2021-03-13T16:22:06.575636Z\", \"created_time_dt\": \"2021-03-13T16:22:06.575636Z\", \"duration\": \"0:08:22\", \"iteration\": \"1\", \"goal\": \"AUC_weighted_max\", \"run_name\": \"MaxAbsScaler, XGBoostClassifier\", \"run_properties\": \"copy=True\", \"primary_metric\": 0.51462052, \"best_metric\": 0.51462052}, {\"run_id\": \"AutoML_cb05725f-8930-4351-add6-ee67e887f633_10\", \"run_number\": 60, \"metric\": null, \"status\": \"Completed\", \"run_type\": \"azureml.scriptrun\", \"training_percent\": \"100\", \"start_time\": \"2021-03-13T16:29:51.345866Z\", \"end_time\": \"2021-03-13T16:30:50.568972Z\", \"created_time\": \"2021-03-13T16:23:22.33171Z\", \"created_time_dt\": \"2021-03-13T16:23:22.33171Z\", \"duration\": \"0:07:28\", \"iteration\": \"10\", \"goal\": \"AUC_weighted_max\", \"run_name\": \"MinMaxScaler, ExtremeRandomTrees\", \"run_properties\": \"copy=True, feature_range=(0, 1\", \"primary_metric\": 0.5399839, \"best_metric\": 0.55173885}, {\"run_id\": \"AutoML_cb05725f-8930-4351-add6-ee67e887f633_11\", \"run_number\": 61, \"metric\": null, \"status\": \"Completed\", \"run_type\": \"azureml.scriptrun\", \"training_percent\": \"100\", \"start_time\": \"2021-03-13T16:30:43.590056Z\", \"end_time\": \"2021-03-13T16:31:58.030105Z\", \"created_time\": \"2021-03-13T16:24:32.769359Z\", \"created_time_dt\": \"2021-03-13T16:24:32.769359Z\", \"duration\": \"0:07:25\", \"iteration\": \"11\", \"goal\": \"AUC_weighted_max\", \"run_name\": \"RobustScaler, ExtremeRandomTrees\", \"run_properties\": \"copy=True, quantile_range=[10, 90], with_centering=True,\\n             with_scaling=False\", \"primary_metric\": 0.54794654, \"best_metric\": 0.55173885}, {\"run_id\": \"AutoML_cb05725f-8930-4351-add6-ee67e887f633_12\", \"run_number\": 62, \"metric\": null, \"status\": \"Completed\", \"run_type\": \"azureml.scriptrun\", \"training_percent\": \"100\", \"start_time\": \"2021-03-13T16:31:06.718411Z\", \"end_time\": \"2021-03-13T16:32:05.047571Z\", \"created_time\": \"2021-03-13T16:25:51.0653Z\", \"created_time_dt\": \"2021-03-13T16:25:51.0653Z\", \"duration\": \"0:06:13\", \"iteration\": \"12\", \"goal\": \"AUC_weighted_max\", \"run_name\": \"StandardScalerWrapper, RandomForest\", \"run_properties\": \"<azureml.automl.runtime.shared.model_wrappers.StandardScalerWrapper object at 0x7f2b30c9abe0\", \"primary_metric\": 0.51049898, \"best_metric\": 0.55173885}, {\"run_id\": \"AutoML_cb05725f-8930-4351-add6-ee67e887f633_13\", \"run_number\": 63, \"metric\": null, \"status\": \"Completed\", \"run_type\": \"azureml.scriptrun\", \"training_percent\": \"100\", \"start_time\": \"2021-03-13T16:32:13.937194Z\", \"end_time\": \"2021-03-13T16:33:04.084668Z\", \"created_time\": \"2021-03-13T16:27:03.456213Z\", \"created_time_dt\": \"2021-03-13T16:27:03.456213Z\", \"duration\": \"0:06:00\", \"iteration\": \"13\", \"goal\": \"AUC_weighted_max\", \"run_name\": \"StandardScalerWrapper, SGD\", \"run_properties\": \"<azureml.automl.runtime.shared.model_wrappers.StandardScalerWrapper object at 0x7f12a0caba90\", \"primary_metric\": 0.50335333, \"best_metric\": 0.55173885}, {\"run_id\": \"AutoML_cb05725f-8930-4351-add6-ee67e887f633_14\", \"run_number\": 64, \"metric\": null, \"status\": \"Completed\", \"run_type\": \"azureml.scriptrun\", \"training_percent\": \"100\", \"start_time\": \"2021-03-13T16:32:18.230853Z\", \"end_time\": \"2021-03-13T16:33:15.286116Z\", \"created_time\": \"2021-03-13T16:27:13.593406Z\", \"created_time_dt\": \"2021-03-13T16:27:13.593406Z\", \"duration\": \"0:06:01\", \"iteration\": \"14\", \"goal\": \"AUC_weighted_max\", \"run_name\": \"RobustScaler, RandomForest\", \"run_properties\": \"copy=True, quantile_range=[10, 90], with_centering=True,\\n             with_scaling=False\", \"primary_metric\": 0.56092089, \"best_metric\": 0.56092089}, {\"run_id\": \"AutoML_cb05725f-8930-4351-add6-ee67e887f633_15\", \"run_number\": 65, \"metric\": null, \"status\": \"Completed\", \"run_type\": \"azureml.scriptrun\", \"training_percent\": \"100\", \"start_time\": \"2021-03-13T16:33:16.3686Z\", \"end_time\": \"2021-03-13T16:34:13.73947Z\", \"created_time\": \"2021-03-13T16:28:09.331832Z\", \"created_time_dt\": \"2021-03-13T16:28:09.331832Z\", \"duration\": \"0:06:04\", \"iteration\": \"15\", \"goal\": \"AUC_weighted_max\", \"run_name\": \"StandardScalerWrapper, KNN\", \"run_properties\": \"<azureml.automl.runtime.shared.model_wrappers.StandardScalerWrapper object at 0x7f4d710db748\", \"primary_metric\": 0.51240123, \"best_metric\": 0.56092089}, {\"run_id\": \"AutoML_cb05725f-8930-4351-add6-ee67e887f633_16\", \"run_number\": 66, \"metric\": null, \"status\": \"Completed\", \"run_type\": \"azureml.scriptrun\", \"training_percent\": \"100\", \"start_time\": \"2021-03-13T16:33:31.599554Z\", \"end_time\": \"2021-03-13T16:34:28.960243Z\", \"created_time\": \"2021-03-13T16:28:24.410739Z\", \"created_time_dt\": \"2021-03-13T16:28:24.410739Z\", \"duration\": \"0:06:04\", \"iteration\": \"16\", \"goal\": \"AUC_weighted_max\", \"run_name\": \"MinMaxScaler, RandomForest\", \"run_properties\": \"copy=True, feature_range=(0, 1\", \"primary_metric\": 0.53304556, \"best_metric\": 0.56092089}, {\"run_id\": \"AutoML_cb05725f-8930-4351-add6-ee67e887f633_17\", \"run_number\": 67, \"metric\": null, \"status\": \"Completed\", \"run_type\": \"azureml.scriptrun\", \"training_percent\": \"100\", \"start_time\": \"2021-03-13T16:34:27.163837Z\", \"end_time\": \"2021-03-13T16:35:23.880645Z\", \"created_time\": \"2021-03-13T16:29:25.311571Z\", \"created_time_dt\": \"2021-03-13T16:29:25.311571Z\", \"duration\": \"0:05:58\", \"iteration\": \"17\", \"goal\": \"AUC_weighted_max\", \"run_name\": \"MinMaxScaler, ExtremeRandomTrees\", \"run_properties\": \"copy=True, feature_range=(0, 1\", \"primary_metric\": 0.50170715, \"best_metric\": 0.56092089}, {\"run_id\": \"AutoML_cb05725f-8930-4351-add6-ee67e887f633_18\", \"run_number\": 68, \"metric\": null, \"status\": \"Completed\", \"run_type\": \"azureml.scriptrun\", \"training_percent\": \"100\", \"start_time\": \"2021-03-13T16:34:48.2293Z\", \"end_time\": \"2021-03-13T16:35:53.485039Z\", \"created_time\": \"2021-03-13T16:29:39.405349Z\", \"created_time_dt\": \"2021-03-13T16:29:39.405349Z\", \"duration\": \"0:06:14\", \"iteration\": \"18\", \"goal\": \"AUC_weighted_max\", \"run_name\": \"MaxAbsScaler, RandomForest\", \"run_properties\": \"copy=True\", \"primary_metric\": 0.51349868, \"best_metric\": 0.56092089}, {\"run_id\": \"AutoML_cb05725f-8930-4351-add6-ee67e887f633_19\", \"run_number\": 69, \"metric\": null, \"status\": \"Completed\", \"run_type\": \"azureml.scriptrun\", \"training_percent\": \"100\", \"start_time\": \"2021-03-13T16:35:36.773544Z\", \"end_time\": \"2021-03-13T16:36:33.302494Z\", \"created_time\": \"2021-03-13T16:30:33.769421Z\", \"created_time_dt\": \"2021-03-13T16:30:33.769421Z\", \"duration\": \"0:05:59\", \"iteration\": \"19\", \"goal\": \"AUC_weighted_max\", \"run_name\": \"StandardScalerWrapper, XGBoostClassifier\", \"run_properties\": \"<azureml.automl.runtime.shared.model_wrappers.StandardScalerWrapper object at 0x7fd798e4e630\", \"primary_metric\": 0.47235636, \"best_metric\": 0.56092089}, {\"run_id\": \"AutoML_cb05725f-8930-4351-add6-ee67e887f633_20\", \"run_number\": 70, \"metric\": null, \"status\": \"Completed\", \"run_type\": \"azureml.scriptrun\", \"training_percent\": \"100\", \"start_time\": \"2021-03-13T16:36:07.401576Z\", \"end_time\": \"2021-03-13T16:37:12.579796Z\", \"created_time\": \"2021-03-13T16:30:55.47498Z\", \"created_time_dt\": \"2021-03-13T16:30:55.47498Z\", \"duration\": \"0:06:17\", \"iteration\": \"20\", \"goal\": \"AUC_weighted_max\", \"run_name\": \"MaxAbsScaler, RandomForest\", \"run_properties\": \"copy=True\", \"primary_metric\": 0.50976734, \"best_metric\": 0.56092089}, {\"run_id\": \"AutoML_cb05725f-8930-4351-add6-ee67e887f633_21\", \"run_number\": 71, \"metric\": null, \"status\": \"Completed\", \"run_type\": \"azureml.scriptrun\", \"training_percent\": \"100\", \"start_time\": \"2021-03-13T16:36:48.161515Z\", \"end_time\": \"2021-03-13T16:37:42.785046Z\", \"created_time\": \"2021-03-13T16:32:03.182794Z\", \"created_time_dt\": \"2021-03-13T16:32:03.182794Z\", \"duration\": \"0:05:39\", \"iteration\": \"21\", \"goal\": \"AUC_weighted_max\", \"run_name\": \"MaxAbsScaler, ExtremeRandomTrees\", \"run_properties\": \"copy=True\", \"primary_metric\": 0.5339723, \"best_metric\": 0.56092089}, {\"run_id\": \"AutoML_cb05725f-8930-4351-add6-ee67e887f633_22\", \"run_number\": 72, \"metric\": null, \"status\": \"Completed\", \"run_type\": \"azureml.scriptrun\", \"training_percent\": \"100\", \"start_time\": \"2021-03-13T16:37:27.747591Z\", \"end_time\": \"2021-03-13T16:38:26.699753Z\", \"created_time\": \"2021-03-13T16:32:10.103841Z\", \"created_time_dt\": \"2021-03-13T16:32:10.103841Z\", \"duration\": \"0:06:16\", \"iteration\": \"22\", \"goal\": \"AUC_weighted_max\", \"run_name\": \"MaxAbsScaler, ExtremeRandomTrees\", \"run_properties\": \"copy=True\", \"primary_metric\": 0.52119305, \"best_metric\": 0.56092089}, {\"run_id\": \"AutoML_cb05725f-8930-4351-add6-ee67e887f633_23\", \"run_number\": 73, \"metric\": null, \"status\": \"Completed\", \"run_type\": \"azureml.scriptrun\", \"training_percent\": \"100\", \"start_time\": \"2021-03-13T16:37:59.360427Z\", \"end_time\": \"2021-03-13T16:39:41.125898Z\", \"created_time\": \"2021-03-13T16:33:08.469791Z\", \"created_time_dt\": \"2021-03-13T16:33:08.469791Z\", \"duration\": \"0:06:32\", \"iteration\": \"23\", \"goal\": \"AUC_weighted_max\", \"run_name\": \"StandardScalerWrapper, SVM\", \"run_properties\": \"<azureml.automl.runtime.shared.model_wrappers.StandardScalerWrapper object at 0x7f74c08ee518\", \"primary_metric\": 0.48904985, \"best_metric\": 0.56092089}, {\"run_id\": \"AutoML_cb05725f-8930-4351-add6-ee67e887f633_24\", \"run_number\": 74, \"metric\": null, \"status\": \"Completed\", \"run_type\": \"azureml.scriptrun\", \"training_percent\": \"100\", \"start_time\": \"2021-03-13T16:38:40.751562Z\", \"end_time\": \"2021-03-13T16:39:40.018212Z\", \"created_time\": \"2021-03-13T16:33:19.390468Z\", \"created_time_dt\": \"2021-03-13T16:33:19.390468Z\", \"duration\": \"0:06:20\", \"iteration\": \"24\", \"goal\": \"AUC_weighted_max\", \"run_name\": \"SparseNormalizer, XGBoostClassifier\", \"run_properties\": \"<azureml.automl.runtime.shared.model_wrappers.SparseNormalizer object at 0x7f16e1715898\", \"primary_metric\": 0.52878987, \"best_metric\": 0.56092089}, {\"run_id\": \"AutoML_cb05725f-8930-4351-add6-ee67e887f633_25\", \"run_number\": 75, \"metric\": null, \"status\": \"Completed\", \"run_type\": \"azureml.scriptrun\", \"training_percent\": \"100\", \"start_time\": \"2021-03-13T16:39:51.741779Z\", \"end_time\": \"2021-03-13T16:40:52.378598Z\", \"created_time\": \"2021-03-13T16:34:19.757388Z\", \"created_time_dt\": \"2021-03-13T16:34:19.757388Z\", \"duration\": \"0:06:32\", \"iteration\": \"25\", \"goal\": \"AUC_weighted_max\", \"run_name\": \"MinMaxScaler, RandomForest\", \"run_properties\": \"copy=True, feature_range=(0, 1\", \"primary_metric\": 0.49762828, \"best_metric\": 0.56092089}, {\"run_id\": \"AutoML_cb05725f-8930-4351-add6-ee67e887f633_26\", \"run_number\": 76, \"metric\": null, \"status\": \"Completed\", \"run_type\": \"azureml.scriptrun\", \"training_percent\": \"100\", \"start_time\": \"2021-03-13T16:39:59.002881Z\", \"end_time\": \"2021-03-13T16:41:23.246031Z\", \"created_time\": \"2021-03-13T16:34:32.903957Z\", \"created_time_dt\": \"2021-03-13T16:34:32.903957Z\", \"duration\": \"0:06:50\", \"iteration\": \"26\", \"goal\": \"AUC_weighted_max\", \"run_name\": \"StandardScalerWrapper, SVM\", \"run_properties\": \"<azureml.automl.runtime.shared.model_wrappers.StandardScalerWrapper object at 0x7f62db37e240\", \"primary_metric\": 0.48128231, \"best_metric\": 0.56092089}, {\"run_id\": \"AutoML_cb05725f-8930-4351-add6-ee67e887f633_27\", \"run_number\": 77, \"metric\": null, \"status\": \"Completed\", \"run_type\": \"azureml.scriptrun\", \"training_percent\": \"100\", \"start_time\": \"2021-03-13T16:41:07.103527Z\", \"end_time\": \"2021-03-13T16:42:09.167252Z\", \"created_time\": \"2021-03-13T16:35:27.575354Z\", \"created_time_dt\": \"2021-03-13T16:35:27.575354Z\", \"duration\": \"0:06:41\", \"iteration\": \"27\", \"goal\": \"AUC_weighted_max\", \"run_name\": \"SparseNormalizer, XGBoostClassifier\", \"run_properties\": \"<azureml.automl.runtime.shared.model_wrappers.SparseNormalizer object at 0x7f83a9acd278\", \"primary_metric\": 0.52343674, \"best_metric\": 0.56092089}, {\"run_id\": \"AutoML_cb05725f-8930-4351-add6-ee67e887f633_28\", \"run_number\": 78, \"metric\": null, \"status\": \"Canceled\", \"run_type\": \"azureml.scriptrun\", \"training_percent\": \"100\", \"start_time\": \"2021-03-13T16:41:43.561246Z\", \"end_time\": \"2021-03-13T16:42:19.307432Z\", \"created_time\": \"2021-03-13T16:35:56.908377Z\", \"created_time_dt\": \"2021-03-13T16:35:56.908377Z\", \"duration\": \"0:06:22\", \"iteration\": \"28\", \"goal\": \"AUC_weighted_max\", \"run_name\": \"StandardScalerWrapper, SVM\", \"run_properties\": \"<azureml.automl.runtime.shared.model_wrappers.StandardScalerWrapper object at 0x7f03b7a0b9b0\", \"primary_metric\": 0.50560921, \"best_metric\": 0.56092089}, {\"run_id\": \"AutoML_cb05725f-8930-4351-add6-ee67e887f633_29\", \"run_number\": 79, \"metric\": null, \"status\": \"Canceled\", \"run_type\": \"azureml.scriptrun\", \"training_percent\": \"100\", \"start_time\": \"2021-03-13T16:36:36.414753Z\", \"end_time\": \"2021-03-13T16:42:20.289299Z\", \"created_time\": \"2021-03-13T16:36:36.414753Z\", \"created_time_dt\": \"2021-03-13T16:36:36.414753Z\", \"duration\": \"0:05:43\", \"iteration\": \"29\", \"goal\": null, \"run_name\": \"Canceled\", \"run_properties\": null}, {\"run_id\": \"AutoML_cb05725f-8930-4351-add6-ee67e887f633_30\", \"run_number\": 80, \"metric\": null, \"status\": \"Canceled\", \"run_type\": \"azureml.scriptrun\", \"training_percent\": \"100\", \"start_time\": \"2021-03-13T16:37:16.958077Z\", \"end_time\": \"2021-03-13T16:42:18.816176Z\", \"created_time\": \"2021-03-13T16:37:16.958077Z\", \"created_time_dt\": \"2021-03-13T16:37:16.958077Z\", \"duration\": \"0:05:01\", \"iteration\": \"30\", \"goal\": null, \"run_name\": \"Canceled\", \"run_properties\": null}, {\"run_id\": \"AutoML_cb05725f-8930-4351-add6-ee67e887f633_31\", \"run_number\": 81, \"metric\": null, \"status\": \"Canceled\", \"run_type\": \"azureml.scriptrun\", \"training_percent\": \"100\", \"start_time\": \"2021-03-13T16:37:45.475844Z\", \"end_time\": \"2021-03-13T16:42:17.8687Z\", \"created_time\": \"2021-03-13T16:37:45.475844Z\", \"created_time_dt\": \"2021-03-13T16:37:45.475844Z\", \"duration\": \"0:04:32\", \"iteration\": \"31\", \"goal\": null, \"run_name\": \"Canceled\", \"run_properties\": null}, {\"run_id\": \"AutoML_cb05725f-8930-4351-add6-ee67e887f633_32\", \"run_number\": 82, \"metric\": null, \"status\": \"Canceled\", \"run_type\": \"azureml.scriptrun\", \"training_percent\": \"100\", \"start_time\": \"2021-03-13T16:38:30.260873Z\", \"end_time\": \"2021-03-13T16:42:20.319481Z\", \"created_time\": \"2021-03-13T16:38:30.260873Z\", \"created_time_dt\": \"2021-03-13T16:38:30.260873Z\", \"duration\": \"0:03:50\", \"iteration\": \"32\", \"goal\": null, \"run_name\": \"Canceled\", \"run_properties\": null}, {\"run_id\": \"AutoML_cb05725f-8930-4351-add6-ee67e887f633_33\", \"run_number\": 83, \"metric\": null, \"status\": \"Canceled\", \"run_type\": \"azureml.scriptrun\", \"training_percent\": \"100\", \"start_time\": \"2021-03-13T16:39:42.714244Z\", \"end_time\": \"2021-03-13T16:42:19.97477Z\", \"created_time\": \"2021-03-13T16:39:42.714244Z\", \"created_time_dt\": \"2021-03-13T16:39:42.714244Z\", \"duration\": \"0:02:37\", \"iteration\": \"33\", \"goal\": null, \"run_name\": \"Canceled\", \"run_properties\": null}, {\"run_id\": \"AutoML_cb05725f-8930-4351-add6-ee67e887f633_34\", \"run_number\": 84, \"metric\": null, \"status\": \"Canceled\", \"run_type\": \"azureml.scriptrun\", \"training_percent\": \"100\", \"start_time\": \"2021-03-13T16:39:47.258312Z\", \"end_time\": \"2021-03-13T16:42:19.221016Z\", \"created_time\": \"2021-03-13T16:39:47.258312Z\", \"created_time_dt\": \"2021-03-13T16:39:47.258312Z\", \"duration\": \"0:02:31\", \"iteration\": \"34\", \"goal\": null, \"run_name\": \"Canceled\", \"run_properties\": null}, {\"run_id\": \"AutoML_cb05725f-8930-4351-add6-ee67e887f633_35\", \"run_number\": 85, \"metric\": null, \"status\": \"Canceled\", \"run_type\": \"azureml.scriptrun\", \"training_percent\": \"100\", \"start_time\": \"2021-03-13T16:40:55.906784Z\", \"end_time\": \"2021-03-13T16:42:17.708091Z\", \"created_time\": \"2021-03-13T16:40:55.906784Z\", \"created_time_dt\": \"2021-03-13T16:40:55.906784Z\", \"duration\": \"0:01:21\", \"iteration\": \"35\", \"goal\": null, \"run_name\": \"Canceled\", \"run_properties\": null}, {\"run_id\": \"AutoML_cb05725f-8930-4351-add6-ee67e887f633_36\", \"run_number\": 86, \"metric\": null, \"status\": \"Canceled\", \"run_type\": \"azureml.scriptrun\", \"training_percent\": \"100\", \"start_time\": \"2021-03-13T16:41:25.652784Z\", \"end_time\": \"2021-03-13T16:42:16.246228Z\", \"created_time\": \"2021-03-13T16:41:25.652784Z\", \"created_time_dt\": \"2021-03-13T16:41:25.652784Z\", \"duration\": \"0:00:50\", \"iteration\": \"36\", \"goal\": null, \"run_name\": \"Canceled\", \"run_properties\": null}, {\"run_id\": \"AutoML_cb05725f-8930-4351-add6-ee67e887f633_37\", \"run_number\": 87, \"metric\": null, \"status\": \"Completed\", \"run_type\": \"azureml.scriptrun\", \"training_percent\": \"100\", \"start_time\": \"2021-03-13T16:42:35.454299Z\", \"end_time\": \"2021-03-13T16:43:41.837047Z\", \"created_time\": \"2021-03-13T16:42:22.304321Z\", \"created_time_dt\": \"2021-03-13T16:42:22.304321Z\", \"duration\": \"0:01:19\", \"iteration\": \"37\", \"goal\": \"AUC_weighted_max\", \"run_name\": \"VotingEnsemble\", \"run_properties\": \"classification_labels=None,\\n                              estimators=[('14',\\n                                           Pipeline(memory=None,\\n                                                    steps=[('robustscaler',\\n                                                            RobustScaler(copy=True,\\n                                                                         quantile_range=[10,\\n                                                                                         90],\\n                                                                         with_centering=True,\\n                                                                         with_scaling=False\", \"primary_metric\": 0.58167496, \"best_metric\": 0.58167496}, {\"run_id\": \"AutoML_cb05725f-8930-4351-add6-ee67e887f633_38\", \"run_number\": 88, \"metric\": null, \"status\": \"Completed\", \"run_type\": \"azureml.scriptrun\", \"training_percent\": \"100\", \"start_time\": \"2021-03-13T16:42:35.950734Z\", \"end_time\": \"2021-03-13T16:43:49.798461Z\", \"created_time\": \"2021-03-13T16:42:22.355519Z\", \"created_time_dt\": \"2021-03-13T16:42:22.355519Z\", \"duration\": \"0:01:27\", \"iteration\": \"38\", \"goal\": \"AUC_weighted_max\", \"run_name\": \"StackEnsemble\", \"run_properties\": \"base_learners=[('14',\\n                                        Pipeline(memory=None,\\n                                                 steps=[('robustscaler',\\n                                                         RobustScaler(copy=True,\\n                                                                      quantile_range=[10,\\n                                                                                      90],\\n                                                                      with_centering=True,\\n                                                                      with_scaling=False\", \"primary_metric\": 0.42862891, \"best_metric\": 0.58167496}], \"children_metrics\": {\"categories\": [0], \"series\": {\"balanced_accuracy\": [{\"categories\": [\"0\", \"1\", \"2\", \"3\", \"4\", \"5\", \"6\", \"7\", \"8\", \"9\", \"10\", \"11\", \"12\", \"13\", \"14\", \"15\", \"16\", \"17\", \"18\", \"19\", \"20\", \"21\", \"22\", \"23\", \"24\", \"25\", \"26\", \"27\", \"28\", \"37\", \"38\"], \"mode\": \"markers\", \"name\": \"balanced_accuracy\", \"stepped\": false, \"type\": \"scatter\", \"data\": [0.5152424153741099, 0.4823675738952297, 0.510377036386694, 0.5095600429226417, 0.5406423763535264, 0.5008413813286509, 0.5339113257243195, 0.5050604819042045, 0.5076334016193542, 0.4713564530289728, 0.510718466491074, 0.5097673397717296, 0.49417130036094037, 0.5000853575260951, 0.5483367476343771, 0.5151936396449126, 0.5017925080479954, 0.4909277143693298, 0.49863427958247974, 0.48212369524924403, 0.5047678275290215, 0.5170958930836016, 0.5049263486489123, 0.5128036289142522, 0.5187420739440055, 0.5165715539947322, 0.5, 0.5180226319383474, 0.5067554384938054, 0.5051214515657009, 0.5]}, {\"categories\": [\"0\", \"1\", \"2\", \"3\", \"4\", \"5\", \"6\", \"7\", \"8\", \"9\", \"10\", \"11\", \"12\", \"13\", \"14\", \"15\", \"16\", \"17\", \"18\", \"19\", \"20\", \"21\", \"22\", \"23\", \"24\", \"25\", \"26\", \"27\", \"28\", \"37\", \"38\"], \"mode\": \"lines\", \"name\": \"balanced_accuracy_max\", \"stepped\": true, \"type\": \"scatter\", \"data\": [0.5152424153741099, 0.5152424153741099, 0.5152424153741099, 0.5152424153741099, 0.5406423763535264, 0.5406423763535264, 0.5406423763535264, 0.5406423763535264, 0.5406423763535264, 0.5406423763535264, 0.5406423763535264, 0.5406423763535264, 0.5406423763535264, 0.5406423763535264, 0.5483367476343771, 0.5483367476343771, 0.5483367476343771, 0.5483367476343771, 0.5483367476343771, 0.5483367476343771, 0.5483367476343771, 0.5483367476343771, 0.5483367476343771, 0.5483367476343771, 0.5483367476343771, 0.5483367476343771, 0.5483367476343771, 0.5483367476343771, 0.5483367476343771, 0.5483367476343771, 0.5483367476343771]}], \"AUC_micro\": [{\"categories\": [\"0\", \"1\", \"2\", \"3\", \"4\", \"5\", \"6\", \"7\", \"8\", \"9\", \"10\", \"11\", \"12\", \"13\", \"14\", \"15\", \"16\", \"17\", \"18\", \"19\", \"20\", \"21\", \"22\", \"23\", \"24\", \"25\", \"26\", \"27\", \"28\", \"37\", \"38\"], \"mode\": \"markers\", \"name\": \"AUC_micro\", \"stepped\": false, \"type\": \"scatter\", \"data\": [0.52241134407362, 0.5285513967633454, 0.5366582087921427, 0.5531298182568685, 0.5591848875183625, 0.5343484806177081, 0.5473570153820004, 0.5438818001918198, 0.5430835629909311, 0.49597239252631453, 0.5539978632738045, 0.5595217861088516, 0.5121708409717247, 0.5211183819155264, 0.5664813218565238, 0.5179861355607085, 0.5487288907234518, 0.5051900593669948, 0.5225175733589094, 0.4912042151780403, 0.5290461217205502, 0.5476210710340055, 0.5259988587939637, 0.5298625696560599, 0.5402578640022339, 0.49806966213017034, 0.5237832194150712, 0.5339690903131032, 0.5361149218759484, 0.5762179946339036, 0.4975719020505287]}, {\"categories\": [\"0\", \"1\", \"2\", \"3\", \"4\", \"5\", \"6\", \"7\", \"8\", \"9\", \"10\", \"11\", \"12\", \"13\", \"14\", \"15\", \"16\", \"17\", \"18\", \"19\", \"20\", \"21\", \"22\", \"23\", \"24\", \"25\", \"26\", \"27\", \"28\", \"37\", \"38\"], \"mode\": \"lines\", \"name\": \"AUC_micro_max\", \"stepped\": true, \"type\": \"scatter\", \"data\": [0.52241134407362, 0.5285513967633454, 0.5366582087921427, 0.5531298182568685, 0.5591848875183625, 0.5591848875183625, 0.5591848875183625, 0.5591848875183625, 0.5591848875183625, 0.5591848875183625, 0.5591848875183625, 0.5595217861088516, 0.5595217861088516, 0.5595217861088516, 0.5664813218565238, 0.5664813218565238, 0.5664813218565238, 0.5664813218565238, 0.5664813218565238, 0.5664813218565238, 0.5664813218565238, 0.5664813218565238, 0.5664813218565238, 0.5664813218565238, 0.5664813218565238, 0.5664813218565238, 0.5664813218565238, 0.5664813218565238, 0.5664813218565238, 0.5762179946339036, 0.5762179946339036]}], \"precision_score_macro\": [{\"categories\": [\"0\", \"1\", \"2\", \"3\", \"4\", \"5\", \"6\", \"7\", \"8\", \"9\", \"10\", \"11\", \"12\", \"13\", \"14\", \"15\", \"16\", \"17\", \"18\", \"19\", \"20\", \"21\", \"22\", \"23\", \"24\", \"25\", \"26\", \"27\", \"28\", \"37\", \"38\"], \"mode\": \"markers\", \"name\": \"precision_score_macro\", \"stepped\": false, \"type\": \"scatter\", \"data\": [0.5170429755671903, 0.47857301622582793, 0.5133805031446541, 0.6975308641975309, 0.5421258847320526, 0.5013245541627473, 0.5384280562119139, 0.5096142708212672, 0.5156762577317006, 0.46988963377898557, 0.5928292322314923, 0.5383896477354422, 0.4941950840376955, 0.5000981161695448, 0.5496941129274897, 0.5153554175293306, 0.5033444816053512, 0.4908464566929134, 0.49861050803300044, 0.47920213369651576, 0.5058582044828, 0.5184163514081547, 0.5049704724409448, 0.5556586270871985, 0.5209560427574171, 0.5165117550574084, 0.2665505226480836, 0.5191133871301469, 0.5759632524338407, 0.5535714285714286, 0.2665505226480836]}, {\"categories\": [\"0\", \"1\", \"2\", \"3\", \"4\", \"5\", \"6\", \"7\", \"8\", \"9\", \"10\", \"11\", \"12\", \"13\", \"14\", \"15\", \"16\", \"17\", \"18\", \"19\", \"20\", \"21\", \"22\", \"23\", \"24\", \"25\", \"26\", \"27\", \"28\", \"37\", \"38\"], \"mode\": \"lines\", \"name\": \"precision_score_macro_max\", \"stepped\": true, \"type\": \"scatter\", \"data\": [0.5170429755671903, 0.5170429755671903, 0.5170429755671903, 0.6975308641975309, 0.6975308641975309, 0.6975308641975309, 0.6975308641975309, 0.6975308641975309, 0.6975308641975309, 0.6975308641975309, 0.6975308641975309, 0.6975308641975309, 0.6975308641975309, 0.6975308641975309, 0.6975308641975309, 0.6975308641975309, 0.6975308641975309, 0.6975308641975309, 0.6975308641975309, 0.6975308641975309, 0.6975308641975309, 0.6975308641975309, 0.6975308641975309, 0.6975308641975309, 0.6975308641975309, 0.6975308641975309, 0.6975308641975309, 0.6975308641975309, 0.6975308641975309, 0.6975308641975309, 0.6975308641975309]}], \"f1_score_micro\": [{\"categories\": [\"0\", \"1\", \"2\", \"3\", \"4\", \"5\", \"6\", \"7\", \"8\", \"9\", \"10\", \"11\", \"12\", \"13\", \"14\", \"15\", \"16\", \"17\", \"18\", \"19\", \"20\", \"21\", \"22\", \"23\", \"24\", \"25\", \"26\", \"27\", \"28\", \"37\", \"38\"], \"mode\": \"markers\", \"name\": \"f1_score_micro\", \"stepped\": false, \"type\": \"scatter\", \"data\": [0.5261324041811847, 0.4965156794425087, 0.5261324041811847, 0.5418118466898955, 0.5470383275261324, 0.5209059233449478, 0.5452961672473867, 0.5278745644599303, 0.5313588850174216, 0.47909407665505227, 0.5418118466898955, 0.5383275261324042, 0.49477351916376305, 0.5121951219512195, 0.554006968641115, 0.519163763066202, 0.524390243902439, 0.49477351916376305, 0.5034843205574913, 0.49477351916376305, 0.519163763066202, 0.5261324041811847, 0.5087108013937283, 0.5418118466898955, 0.5296167247386759, 0.5174216027874564, 0.5331010452961672, 0.5261324041811847, 0.5383275261324042, 0.5365853658536586, 0.5331010452961672]}, {\"categories\": [\"0\", \"1\", \"2\", \"3\", \"4\", \"5\", \"6\", \"7\", \"8\", \"9\", \"10\", \"11\", \"12\", \"13\", \"14\", \"15\", \"16\", \"17\", \"18\", \"19\", \"20\", \"21\", \"22\", \"23\", \"24\", \"25\", \"26\", \"27\", \"28\", \"37\", \"38\"], \"mode\": \"lines\", \"name\": \"f1_score_micro_max\", \"stepped\": true, \"type\": \"scatter\", \"data\": [0.5261324041811847, 0.5261324041811847, 0.5261324041811847, 0.5418118466898955, 0.5470383275261324, 0.5470383275261324, 0.5470383275261324, 0.5470383275261324, 0.5470383275261324, 0.5470383275261324, 0.5470383275261324, 0.5470383275261324, 0.5470383275261324, 0.5470383275261324, 0.554006968641115, 0.554006968641115, 0.554006968641115, 0.554006968641115, 0.554006968641115, 0.554006968641115, 0.554006968641115, 0.554006968641115, 0.554006968641115, 0.554006968641115, 0.554006968641115, 0.554006968641115, 0.554006968641115, 0.554006968641115, 0.554006968641115, 0.554006968641115, 0.554006968641115]}], \"weighted_accuracy\": [{\"categories\": [\"0\", \"1\", \"2\", \"3\", \"4\", \"5\", \"6\", \"7\", \"8\", \"9\", \"10\", \"11\", \"12\", \"13\", \"14\", \"15\", \"16\", \"17\", \"18\", \"19\", \"20\", \"21\", \"22\", \"23\", \"24\", \"25\", \"26\", \"27\", \"28\", \"37\", \"38\"], \"mode\": \"markers\", \"name\": \"weighted_accuracy\", \"stepped\": false, \"type\": \"scatter\", \"data\": [0.5369273540432732, 0.5105403118578508, 0.5417502719690558, 0.5737821830049558, 0.5533784600507674, 0.540795358394778, 0.5565816511543574, 0.5504895443007372, 0.5548773117369755, 0.486764172609694, 0.5726338692131027, 0.56663846246827, 0.4953704822917925, 0.5241992022241023, 0.5596277045811675, 0.5230992384866432, 0.5467907651396106, 0.4985857609089808, 0.5082920343285384, 0.5073129457270638, 0.5334340626133203, 0.5350900519763084, 0.5124622265200046, 0.5705669043877671, 0.5403964704460291, 0.5182642330472621, 0.5659132116523629, 0.5341714009428259, 0.569624078327088, 0.5677746887465247, 0.5659132116523629]}, {\"categories\": [\"0\", \"1\", \"2\", \"3\", \"4\", \"5\", \"6\", \"7\", \"8\", \"9\", \"10\", \"11\", \"12\", \"13\", \"14\", \"15\", \"16\", \"17\", \"18\", \"19\", \"20\", \"21\", \"22\", \"23\", \"24\", \"25\", \"26\", \"27\", \"28\", \"37\", \"38\"], \"mode\": \"lines\", \"name\": \"weighted_accuracy_max\", \"stepped\": true, \"type\": \"scatter\", \"data\": [0.5369273540432732, 0.5369273540432732, 0.5417502719690558, 0.5737821830049558, 0.5737821830049558, 0.5737821830049558, 0.5737821830049558, 0.5737821830049558, 0.5737821830049558, 0.5737821830049558, 0.5737821830049558, 0.5737821830049558, 0.5737821830049558, 0.5737821830049558, 0.5737821830049558, 0.5737821830049558, 0.5737821830049558, 0.5737821830049558, 0.5737821830049558, 0.5737821830049558, 0.5737821830049558, 0.5737821830049558, 0.5737821830049558, 0.5737821830049558, 0.5737821830049558, 0.5737821830049558, 0.5737821830049558, 0.5737821830049558, 0.5737821830049558, 0.5737821830049558, 0.5737821830049558]}], \"AUC_macro\": [{\"categories\": [\"0\", \"1\", \"2\", \"3\", \"4\", \"5\", \"6\", \"7\", \"8\", \"9\", \"10\", \"11\", \"12\", \"13\", \"14\", \"15\", \"16\", \"17\", \"18\", \"19\", \"20\", \"21\", \"22\", \"23\", \"24\", \"25\", \"26\", \"27\", \"28\", \"37\", \"38\"], \"mode\": \"markers\", \"name\": \"AUC_macro\", \"stepped\": false, \"type\": \"scatter\", \"data\": [0.5086942737293922, 0.5146205248268462, 0.524778070432153, 0.5395815042434884, 0.5517388547458784, 0.5116086235489221, 0.5276558384547849, 0.5239915617988489, 0.5199248853770364, 0.48620866256950546, 0.5399839040093649, 0.5479465418007998, 0.5104989757096869, 0.5033533313823042, 0.5609208857672422, 0.5124012291483757, 0.5330455565310701, 0.5017071505219003, 0.5134986830553117, 0.4723563554775144, 0.5097673397717296, 0.5339722953858161, 0.5211930543361624, 0.4890498487952395, 0.5287898741586188, 0.4976282801677885, 0.4812823139205931, 0.5234367378792313, 0.5056092088576725, 0.5816749585406302, 0.42862891425226807]}, {\"categories\": [\"0\", \"1\", \"2\", \"3\", \"4\", \"5\", \"6\", \"7\", \"8\", \"9\", \"10\", \"11\", \"12\", \"13\", \"14\", \"15\", \"16\", \"17\", \"18\", \"19\", \"20\", \"21\", \"22\", \"23\", \"24\", \"25\", \"26\", \"27\", \"28\", \"37\", \"38\"], \"mode\": \"lines\", \"name\": \"AUC_macro_max\", \"stepped\": true, \"type\": \"scatter\", \"data\": [0.5086942737293922, 0.5146205248268462, 0.524778070432153, 0.5395815042434884, 0.5517388547458784, 0.5517388547458784, 0.5517388547458784, 0.5517388547458784, 0.5517388547458784, 0.5517388547458784, 0.5517388547458784, 0.5517388547458784, 0.5517388547458784, 0.5517388547458784, 0.5609208857672422, 0.5609208857672422, 0.5609208857672422, 0.5609208857672422, 0.5609208857672422, 0.5609208857672422, 0.5609208857672422, 0.5609208857672422, 0.5609208857672422, 0.5609208857672422, 0.5609208857672422, 0.5609208857672422, 0.5609208857672422, 0.5609208857672422, 0.5609208857672422, 0.5816749585406302, 0.5816749585406302]}], \"precision_score_weighted\": [{\"categories\": [\"0\", \"1\", \"2\", \"3\", \"4\", \"5\", \"6\", \"7\", \"8\", \"9\", \"10\", \"11\", \"12\", \"13\", \"14\", \"15\", \"16\", \"17\", \"18\", \"19\", \"20\", \"21\", \"22\", \"23\", \"24\", \"25\", \"26\", \"27\", \"28\", \"37\", \"38\"], \"mode\": \"markers\", \"name\": \"precision_score_weighted\", \"stepped\": false, \"type\": \"scatter\", \"data\": [0.5188608612899891, 0.481367365415311, 0.5151490149672386, 0.6869642165809413, 0.5437633656634125, 0.5034627496481601, 0.5397329973086538, 0.5113665212209368, 0.517122713646403, 0.47253939763724717, 0.5892391199156021, 0.5383848884190803, 0.4963931375167522, 0.5022870981681336, 0.551300863095311, 0.5174228051064893, 0.5053846320321097, 0.49310749266097836, 0.5008153279845557, 0.4819164118972285, 0.5078806493874771, 0.5202721109358454, 0.5071239951713353, 0.5546146238032749, 0.5226881791536688, 0.5186726434162725, 0.28419672449586614, 0.5209917156367626, 0.5733534757925002, 0.5523892483822798, 0.28419672449586614]}, {\"categories\": [\"0\", \"1\", \"2\", \"3\", \"4\", \"5\", \"6\", \"7\", \"8\", \"9\", \"10\", \"11\", \"12\", \"13\", \"14\", \"15\", \"16\", \"17\", \"18\", \"19\", \"20\", \"21\", \"22\", \"23\", \"24\", \"25\", \"26\", \"27\", \"28\", \"37\", \"38\"], \"mode\": \"lines\", \"name\": \"precision_score_weighted_max\", \"stepped\": true, \"type\": \"scatter\", \"data\": [0.5188608612899891, 0.5188608612899891, 0.5188608612899891, 0.6869642165809413, 0.6869642165809413, 0.6869642165809413, 0.6869642165809413, 0.6869642165809413, 0.6869642165809413, 0.6869642165809413, 0.6869642165809413, 0.6869642165809413, 0.6869642165809413, 0.6869642165809413, 0.6869642165809413, 0.6869642165809413, 0.6869642165809413, 0.6869642165809413, 0.6869642165809413, 0.6869642165809413, 0.6869642165809413, 0.6869642165809413, 0.6869642165809413, 0.6869642165809413, 0.6869642165809413, 0.6869642165809413, 0.6869642165809413, 0.6869642165809413, 0.6869642165809413, 0.6869642165809413, 0.6869642165809413]}], \"recall_score_weighted\": [{\"categories\": [\"0\", \"1\", \"2\", \"3\", \"4\", \"5\", \"6\", \"7\", \"8\", \"9\", \"10\", \"11\", \"12\", \"13\", \"14\", \"15\", \"16\", \"17\", \"18\", \"19\", \"20\", \"21\", \"22\", \"23\", \"24\", \"25\", \"26\", \"27\", \"28\", \"37\", \"38\"], \"mode\": \"markers\", \"name\": \"recall_score_weighted\", \"stepped\": false, \"type\": \"scatter\", \"data\": [0.5261324041811847, 0.4965156794425087, 0.5261324041811847, 0.5418118466898955, 0.5470383275261324, 0.5209059233449478, 0.5452961672473867, 0.5278745644599303, 0.5313588850174216, 0.47909407665505227, 0.5418118466898955, 0.5383275261324042, 0.49477351916376305, 0.5121951219512195, 0.554006968641115, 0.519163763066202, 0.524390243902439, 0.49477351916376305, 0.5034843205574913, 0.49477351916376305, 0.519163763066202, 0.5261324041811847, 0.5087108013937283, 0.5418118466898955, 0.5296167247386759, 0.5174216027874564, 0.5331010452961672, 0.5261324041811847, 0.5383275261324042, 0.5365853658536586, 0.5331010452961672]}, {\"categories\": [\"0\", \"1\", \"2\", \"3\", \"4\", \"5\", \"6\", \"7\", \"8\", \"9\", \"10\", \"11\", \"12\", \"13\", \"14\", \"15\", \"16\", \"17\", \"18\", \"19\", \"20\", \"21\", \"22\", \"23\", \"24\", \"25\", \"26\", \"27\", \"28\", \"37\", \"38\"], \"mode\": \"lines\", \"name\": \"recall_score_weighted_max\", \"stepped\": true, \"type\": \"scatter\", \"data\": [0.5261324041811847, 0.5261324041811847, 0.5261324041811847, 0.5418118466898955, 0.5470383275261324, 0.5470383275261324, 0.5470383275261324, 0.5470383275261324, 0.5470383275261324, 0.5470383275261324, 0.5470383275261324, 0.5470383275261324, 0.5470383275261324, 0.5470383275261324, 0.554006968641115, 0.554006968641115, 0.554006968641115, 0.554006968641115, 0.554006968641115, 0.554006968641115, 0.554006968641115, 0.554006968641115, 0.554006968641115, 0.554006968641115, 0.554006968641115, 0.554006968641115, 0.554006968641115, 0.554006968641115, 0.554006968641115, 0.554006968641115, 0.554006968641115]}], \"recall_score_micro\": [{\"categories\": [\"0\", \"1\", \"2\", \"3\", \"4\", \"5\", \"6\", \"7\", \"8\", \"9\", \"10\", \"11\", \"12\", \"13\", \"14\", \"15\", \"16\", \"17\", \"18\", \"19\", \"20\", \"21\", \"22\", \"23\", \"24\", \"25\", \"26\", \"27\", \"28\", \"37\", \"38\"], \"mode\": \"markers\", \"name\": \"recall_score_micro\", \"stepped\": false, \"type\": \"scatter\", \"data\": [0.5261324041811847, 0.4965156794425087, 0.5261324041811847, 0.5418118466898955, 0.5470383275261324, 0.5209059233449478, 0.5452961672473867, 0.5278745644599303, 0.5313588850174216, 0.47909407665505227, 0.5418118466898955, 0.5383275261324042, 0.49477351916376305, 0.5121951219512195, 0.554006968641115, 0.519163763066202, 0.524390243902439, 0.49477351916376305, 0.5034843205574913, 0.49477351916376305, 0.519163763066202, 0.5261324041811847, 0.5087108013937283, 0.5418118466898955, 0.5296167247386759, 0.5174216027874564, 0.5331010452961672, 0.5261324041811847, 0.5383275261324042, 0.5365853658536586, 0.5331010452961672]}, {\"categories\": [\"0\", \"1\", \"2\", \"3\", \"4\", \"5\", \"6\", \"7\", \"8\", \"9\", \"10\", \"11\", \"12\", \"13\", \"14\", \"15\", \"16\", \"17\", \"18\", \"19\", \"20\", \"21\", \"22\", \"23\", \"24\", \"25\", \"26\", \"27\", \"28\", \"37\", \"38\"], \"mode\": \"lines\", \"name\": \"recall_score_micro_max\", \"stepped\": true, \"type\": \"scatter\", \"data\": [0.5261324041811847, 0.5261324041811847, 0.5261324041811847, 0.5418118466898955, 0.5470383275261324, 0.5470383275261324, 0.5470383275261324, 0.5470383275261324, 0.5470383275261324, 0.5470383275261324, 0.5470383275261324, 0.5470383275261324, 0.5470383275261324, 0.5470383275261324, 0.554006968641115, 0.554006968641115, 0.554006968641115, 0.554006968641115, 0.554006968641115, 0.554006968641115, 0.554006968641115, 0.554006968641115, 0.554006968641115, 0.554006968641115, 0.554006968641115, 0.554006968641115, 0.554006968641115, 0.554006968641115, 0.554006968641115, 0.554006968641115, 0.554006968641115]}], \"f1_score_macro\": [{\"categories\": [\"0\", \"1\", \"2\", \"3\", \"4\", \"5\", \"6\", \"7\", \"8\", \"9\", \"10\", \"11\", \"12\", \"13\", \"14\", \"15\", \"16\", \"17\", \"18\", \"19\", \"20\", \"21\", \"22\", \"23\", \"24\", \"25\", \"26\", \"27\", \"28\", \"37\", \"38\"], \"mode\": \"markers\", \"name\": \"f1_score_macro\", \"stepped\": false, \"type\": \"scatter\", \"data\": [0.5066734074823054, 0.46418385309840277, 0.4883397784623451, 0.3711881703634281, 0.5389558232931727, 0.4598377288888432, 0.5248751248751249, 0.44914603009345333, 0.4462777612416667, 0.4674151515433621, 0.38622105669736334, 0.4108533737174993, 0.4938887199756765, 0.48831582298631016, 0.5472739820565908, 0.5148701616854483, 0.4467733564930044, 0.4905928292509762, 0.4978127734033246, 0.4683351858239751, 0.4868692103387964, 0.511904761904762, 0.5046454408578458, 0.41038529888491804, 0.5103008088978767, 0.5163514800135058, 0.3477272727272727, 0.5141889873543761, 0.37564391467284003, 0.37478911765187617, 0.3477272727272727]}, {\"categories\": [\"0\", \"1\", \"2\", \"3\", \"4\", \"5\", \"6\", \"7\", \"8\", \"9\", \"10\", \"11\", \"12\", \"13\", \"14\", \"15\", \"16\", \"17\", \"18\", \"19\", \"20\", \"21\", \"22\", \"23\", \"24\", \"25\", \"26\", \"27\", \"28\", \"37\", \"38\"], \"mode\": \"lines\", \"name\": \"f1_score_macro_max\", \"stepped\": true, \"type\": \"scatter\", \"data\": [0.5066734074823054, 0.5066734074823054, 0.5066734074823054, 0.5066734074823054, 0.5389558232931727, 0.5389558232931727, 0.5389558232931727, 0.5389558232931727, 0.5389558232931727, 0.5389558232931727, 0.5389558232931727, 0.5389558232931727, 0.5389558232931727, 0.5389558232931727, 0.5472739820565908, 0.5472739820565908, 0.5472739820565908, 0.5472739820565908, 0.5472739820565908, 0.5472739820565908, 0.5472739820565908, 0.5472739820565908, 0.5472739820565908, 0.5472739820565908, 0.5472739820565908, 0.5472739820565908, 0.5472739820565908, 0.5472739820565908, 0.5472739820565908, 0.5472739820565908, 0.5472739820565908]}], \"average_precision_score_macro\": [{\"categories\": [\"0\", \"1\", \"2\", \"3\", \"4\", \"5\", \"6\", \"7\", \"8\", \"9\", \"10\", \"11\", \"12\", \"13\", \"14\", \"15\", \"16\", \"17\", \"18\", \"19\", \"20\", \"21\", \"22\", \"23\", \"24\", \"25\", \"26\", \"27\", \"28\", \"37\", \"38\"], \"mode\": \"markers\", \"name\": \"average_precision_score_macro\", \"stepped\": false, \"type\": \"scatter\", \"data\": [0.521157669574193, 0.5169318951013102, 0.5240682526377702, 0.5569262950471091, 0.5480844095984669, 0.5058965554624764, 0.5273516172284929, 0.5269055141086302, 0.5197002377680006, 0.4896206164234328, 0.5504857841982946, 0.5513063336721831, 0.5140499031636337, 0.5156358986693501, 0.558710753921785, 0.5115257624251579, 0.5268004933599606, 0.507169026645641, 0.5167292816699728, 0.48962160706933283, 0.515942269593993, 0.5375984822400763, 0.5269762424753831, 0.5011763196864385, 0.5282064908444841, 0.4984659382736307, 0.4882708338369308, 0.5244604454613571, 0.5051431644477706, 0.5782909196693703, 0.4502394315014944]}, {\"categories\": [\"0\", \"1\", \"2\", \"3\", \"4\", \"5\", \"6\", \"7\", \"8\", \"9\", \"10\", \"11\", \"12\", \"13\", \"14\", \"15\", \"16\", \"17\", \"18\", \"19\", \"20\", \"21\", \"22\", \"23\", \"24\", \"25\", \"26\", \"27\", \"28\", \"37\", \"38\"], \"mode\": \"lines\", \"name\": \"average_precision_score_macro_max\", \"stepped\": true, \"type\": \"scatter\", \"data\": [0.521157669574193, 0.521157669574193, 0.5240682526377702, 0.5569262950471091, 0.5569262950471091, 0.5569262950471091, 0.5569262950471091, 0.5569262950471091, 0.5569262950471091, 0.5569262950471091, 0.5569262950471091, 0.5569262950471091, 0.5569262950471091, 0.5569262950471091, 0.558710753921785, 0.558710753921785, 0.558710753921785, 0.558710753921785, 0.558710753921785, 0.558710753921785, 0.558710753921785, 0.558710753921785, 0.558710753921785, 0.558710753921785, 0.558710753921785, 0.558710753921785, 0.558710753921785, 0.558710753921785, 0.558710753921785, 0.5782909196693703, 0.5782909196693703]}], \"precision_score_micro\": [{\"categories\": [\"0\", \"1\", \"2\", \"3\", \"4\", \"5\", \"6\", \"7\", \"8\", \"9\", \"10\", \"11\", \"12\", \"13\", \"14\", \"15\", \"16\", \"17\", \"18\", \"19\", \"20\", \"21\", \"22\", \"23\", \"24\", \"25\", \"26\", \"27\", \"28\", \"37\", \"38\"], \"mode\": \"markers\", \"name\": \"precision_score_micro\", \"stepped\": false, \"type\": \"scatter\", \"data\": [0.5261324041811847, 0.4965156794425087, 0.5261324041811847, 0.5418118466898955, 0.5470383275261324, 0.5209059233449478, 0.5452961672473867, 0.5278745644599303, 0.5313588850174216, 0.47909407665505227, 0.5418118466898955, 0.5383275261324042, 0.49477351916376305, 0.5121951219512195, 0.554006968641115, 0.519163763066202, 0.524390243902439, 0.49477351916376305, 0.5034843205574913, 0.49477351916376305, 0.519163763066202, 0.5261324041811847, 0.5087108013937283, 0.5418118466898955, 0.5296167247386759, 0.5174216027874564, 0.5331010452961672, 0.5261324041811847, 0.5383275261324042, 0.5365853658536586, 0.5331010452961672]}, {\"categories\": [\"0\", \"1\", \"2\", \"3\", \"4\", \"5\", \"6\", \"7\", \"8\", \"9\", \"10\", \"11\", \"12\", \"13\", \"14\", \"15\", \"16\", \"17\", \"18\", \"19\", \"20\", \"21\", \"22\", \"23\", \"24\", \"25\", \"26\", \"27\", \"28\", \"37\", \"38\"], \"mode\": \"lines\", \"name\": \"precision_score_micro_max\", \"stepped\": true, \"type\": \"scatter\", \"data\": [0.5261324041811847, 0.5261324041811847, 0.5261324041811847, 0.5418118466898955, 0.5470383275261324, 0.5470383275261324, 0.5470383275261324, 0.5470383275261324, 0.5470383275261324, 0.5470383275261324, 0.5470383275261324, 0.5470383275261324, 0.5470383275261324, 0.5470383275261324, 0.554006968641115, 0.554006968641115, 0.554006968641115, 0.554006968641115, 0.554006968641115, 0.554006968641115, 0.554006968641115, 0.554006968641115, 0.554006968641115, 0.554006968641115, 0.554006968641115, 0.554006968641115, 0.554006968641115, 0.554006968641115, 0.554006968641115, 0.554006968641115, 0.554006968641115]}], \"recall_score_macro\": [{\"categories\": [\"0\", \"1\", \"2\", \"3\", \"4\", \"5\", \"6\", \"7\", \"8\", \"9\", \"10\", \"11\", \"12\", \"13\", \"14\", \"15\", \"16\", \"17\", \"18\", \"19\", \"20\", \"21\", \"22\", \"23\", \"24\", \"25\", \"26\", \"27\", \"28\", \"37\", \"38\"], \"mode\": \"markers\", \"name\": \"recall_score_macro\", \"stepped\": false, \"type\": \"scatter\", \"data\": [0.5152424153741099, 0.4823675738952297, 0.510377036386694, 0.5095600429226417, 0.5406423763535264, 0.5008413813286509, 0.5339113257243195, 0.5050604819042045, 0.5076334016193542, 0.4713564530289728, 0.510718466491074, 0.5097673397717296, 0.49417130036094037, 0.5000853575260951, 0.5483367476343771, 0.5151936396449126, 0.5017925080479954, 0.4909277143693298, 0.49863427958247974, 0.48212369524924403, 0.5047678275290215, 0.5170958930836016, 0.5049263486489123, 0.5128036289142522, 0.5187420739440055, 0.5165715539947322, 0.5, 0.5180226319383474, 0.5067554384938054, 0.5051214515657009, 0.5]}, {\"categories\": [\"0\", \"1\", \"2\", \"3\", \"4\", \"5\", \"6\", \"7\", \"8\", \"9\", \"10\", \"11\", \"12\", \"13\", \"14\", \"15\", \"16\", \"17\", \"18\", \"19\", \"20\", \"21\", \"22\", \"23\", \"24\", \"25\", \"26\", \"27\", \"28\", \"37\", \"38\"], \"mode\": \"lines\", \"name\": \"recall_score_macro_max\", \"stepped\": true, \"type\": \"scatter\", \"data\": [0.5152424153741099, 0.5152424153741099, 0.5152424153741099, 0.5152424153741099, 0.5406423763535264, 0.5406423763535264, 0.5406423763535264, 0.5406423763535264, 0.5406423763535264, 0.5406423763535264, 0.5406423763535264, 0.5406423763535264, 0.5406423763535264, 0.5406423763535264, 0.5483367476343771, 0.5483367476343771, 0.5483367476343771, 0.5483367476343771, 0.5483367476343771, 0.5483367476343771, 0.5483367476343771, 0.5483367476343771, 0.5483367476343771, 0.5483367476343771, 0.5483367476343771, 0.5483367476343771, 0.5483367476343771, 0.5483367476343771, 0.5483367476343771, 0.5483367476343771, 0.5483367476343771]}], \"log_loss\": [{\"categories\": [\"0\", \"1\", \"2\", \"3\", \"4\", \"5\", \"6\", \"7\", \"8\", \"9\", \"10\", \"11\", \"12\", \"13\", \"14\", \"15\", \"16\", \"17\", \"18\", \"19\", \"20\", \"21\", \"22\", \"23\", \"24\", \"25\", \"26\", \"27\", \"28\", \"37\", \"38\"], \"mode\": \"markers\", \"name\": \"log_loss\", \"stepped\": false, \"type\": \"scatter\", \"data\": [0.8063152603362849, 0.715831314030163, 0.6969691740704611, 0.6883674737636536, 0.6887162466910852, 0.6969294638346278, 0.7043121232121791, 0.6904378917291188, 0.6924379729126269, 0.9430938493461245, 0.6881372019604501, 0.6874095879436565, 0.6947794097579417, 0.738382014461108, 0.6855841365659391, 0.8574388235846946, 0.6909079983983432, 0.6932509341928141, 0.6925056991047266, 0.7022973795340424, 0.7067075697730599, 0.689573318366075, 0.6914527241610687, 0.6928140394398795, 0.7114531605164857, 0.6974456524632863, 0.6919385622370425, 0.7274379638222015, 0.6915931295702994, 0.6864793785840129, 0.693459386074722]}, {\"categories\": [\"0\", \"1\", \"2\", \"3\", \"4\", \"5\", \"6\", \"7\", \"8\", \"9\", \"10\", \"11\", \"12\", \"13\", \"14\", \"15\", \"16\", \"17\", \"18\", \"19\", \"20\", \"21\", \"22\", \"23\", \"24\", \"25\", \"26\", \"27\", \"28\", \"37\", \"38\"], \"mode\": \"lines\", \"name\": \"log_loss_min\", \"stepped\": true, \"type\": \"scatter\", \"data\": [0.8063152603362849, 0.715831314030163, 0.6969691740704611, 0.6883674737636536, 0.6883674737636536, 0.6883674737636536, 0.6883674737636536, 0.6883674737636536, 0.6883674737636536, 0.6883674737636536, 0.6881372019604501, 0.6874095879436565, 0.6874095879436565, 0.6874095879436565, 0.6855841365659391, 0.6855841365659391, 0.6855841365659391, 0.6855841365659391, 0.6855841365659391, 0.6855841365659391, 0.6855841365659391, 0.6855841365659391, 0.6855841365659391, 0.6855841365659391, 0.6855841365659391, 0.6855841365659391, 0.6855841365659391, 0.6855841365659391, 0.6855841365659391, 0.6855841365659391, 0.6855841365659391]}], \"f1_score_weighted\": [{\"categories\": [\"0\", \"1\", \"2\", \"3\", \"4\", \"5\", \"6\", \"7\", \"8\", \"9\", \"10\", \"11\", \"12\", \"13\", \"14\", \"15\", \"16\", \"17\", \"18\", \"19\", \"20\", \"21\", \"22\", \"23\", \"24\", \"25\", \"26\", \"27\", \"28\", \"37\", \"38\"], \"mode\": \"markers\", \"name\": \"f1_score_weighted\", \"stepped\": false, \"type\": \"scatter\", \"data\": [0.5131597397152652, 0.47289739495000577, 0.4975456744707804, 0.3928727847460561, 0.5429970754096526, 0.4718615184708741, 0.5313961300024017, 0.46293259371523265, 0.46064701770157196, 0.4726363180638824, 0.40667936126385545, 0.42899576245070675, 0.4952896520234802, 0.49563367266910496, 0.5509290319167611, 0.5178915848793121, 0.4604916900816487, 0.4936479488026281, 0.5013458683518218, 0.47618406603422464, 0.4953913839751951, 0.5174216027874564, 0.5076162812494522, 0.4288141137062802, 0.5167394475114764, 0.5178575787323992, 0.37074754513778907, 0.5192317633479175, 0.39674281308739096, 0.3958447937877246, 0.37074754513778907]}, {\"categories\": [\"0\", \"1\", \"2\", \"3\", \"4\", \"5\", \"6\", \"7\", \"8\", \"9\", \"10\", \"11\", \"12\", \"13\", \"14\", \"15\", \"16\", \"17\", \"18\", \"19\", \"20\", \"21\", \"22\", \"23\", \"24\", \"25\", \"26\", \"27\", \"28\", \"37\", \"38\"], \"mode\": \"lines\", \"name\": \"f1_score_weighted_max\", \"stepped\": true, \"type\": \"scatter\", \"data\": [0.5131597397152652, 0.5131597397152652, 0.5131597397152652, 0.5131597397152652, 0.5429970754096526, 0.5429970754096526, 0.5429970754096526, 0.5429970754096526, 0.5429970754096526, 0.5429970754096526, 0.5429970754096526, 0.5429970754096526, 0.5429970754096526, 0.5429970754096526, 0.5509290319167611, 0.5509290319167611, 0.5509290319167611, 0.5509290319167611, 0.5509290319167611, 0.5509290319167611, 0.5509290319167611, 0.5509290319167611, 0.5509290319167611, 0.5509290319167611, 0.5509290319167611, 0.5509290319167611, 0.5509290319167611, 0.5509290319167611, 0.5509290319167611, 0.5509290319167611, 0.5509290319167611]}], \"accuracy\": [{\"categories\": [\"0\", \"1\", \"2\", \"3\", \"4\", \"5\", \"6\", \"7\", \"8\", \"9\", \"10\", \"11\", \"12\", \"13\", \"14\", \"15\", \"16\", \"17\", \"18\", \"19\", \"20\", \"21\", \"22\", \"23\", \"24\", \"25\", \"26\", \"27\", \"28\", \"37\", \"38\"], \"mode\": \"markers\", \"name\": \"accuracy\", \"stepped\": false, \"type\": \"scatter\", \"data\": [0.5261324041811847, 0.4965156794425087, 0.5261324041811847, 0.5418118466898955, 0.5470383275261324, 0.5209059233449478, 0.5452961672473867, 0.5278745644599303, 0.5313588850174216, 0.47909407665505227, 0.5418118466898955, 0.5383275261324042, 0.49477351916376305, 0.5121951219512195, 0.554006968641115, 0.519163763066202, 0.524390243902439, 0.49477351916376305, 0.5034843205574913, 0.49477351916376305, 0.519163763066202, 0.5261324041811847, 0.5087108013937283, 0.5418118466898955, 0.5296167247386759, 0.5174216027874564, 0.5331010452961672, 0.5261324041811847, 0.5383275261324042, 0.5365853658536586, 0.5331010452961672]}, {\"categories\": [\"0\", \"1\", \"2\", \"3\", \"4\", \"5\", \"6\", \"7\", \"8\", \"9\", \"10\", \"11\", \"12\", \"13\", \"14\", \"15\", \"16\", \"17\", \"18\", \"19\", \"20\", \"21\", \"22\", \"23\", \"24\", \"25\", \"26\", \"27\", \"28\", \"37\", \"38\"], \"mode\": \"lines\", \"name\": \"accuracy_max\", \"stepped\": true, \"type\": \"scatter\", \"data\": [0.5261324041811847, 0.5261324041811847, 0.5261324041811847, 0.5418118466898955, 0.5470383275261324, 0.5470383275261324, 0.5470383275261324, 0.5470383275261324, 0.5470383275261324, 0.5470383275261324, 0.5470383275261324, 0.5470383275261324, 0.5470383275261324, 0.5470383275261324, 0.554006968641115, 0.554006968641115, 0.554006968641115, 0.554006968641115, 0.554006968641115, 0.554006968641115, 0.554006968641115, 0.554006968641115, 0.554006968641115, 0.554006968641115, 0.554006968641115, 0.554006968641115, 0.554006968641115, 0.554006968641115, 0.554006968641115, 0.554006968641115, 0.554006968641115]}], \"matthews_correlation\": [{\"categories\": [\"0\", \"1\", \"2\", \"3\", \"4\", \"5\", \"6\", \"7\", \"8\", \"9\", \"10\", \"11\", \"12\", \"13\", \"14\", \"15\", \"16\", \"17\", \"18\", \"19\", \"20\", \"21\", \"22\", \"23\", \"24\", \"25\", \"26\", \"27\", \"28\", \"37\", \"38\"], \"mode\": \"markers\", \"name\": \"matthews_correlation\", \"stepped\": false, \"type\": \"scatter\", \"data\": [0.03223514310847208, -0.03887465539634789, 0.023566923261584122, 0.08691153065675239, 0.08275496508380283, 0.0021113551490191643, 0.07219823629853228, 0.013950318062774605, 0.021878132566979045, -0.058735600419726995, 0.06308682953090541, 0.03872801224690328, -0.011633591289753213, 0.00018302954408792212, 0.09802146286380975, 0.030548628809674867, 0.004896941982079949, -0.018225647798045377, -0.0027551098339715385, -0.03856366145513492, 0.010569940132986774, 0.03548768657795818, 0.009896722729046147, 0.05339035145421837, 0.039636331966177274, 0.03308325500803308, 0.0, 0.03711999683953571, 0.045306294468041866, 0.03312784186958017, 0.0]}, {\"categories\": [\"0\", \"1\", \"2\", \"3\", \"4\", \"5\", \"6\", \"7\", \"8\", \"9\", \"10\", \"11\", \"12\", \"13\", \"14\", \"15\", \"16\", \"17\", \"18\", \"19\", \"20\", \"21\", \"22\", \"23\", \"24\", \"25\", \"26\", \"27\", \"28\", \"37\", \"38\"], \"mode\": \"lines\", \"name\": \"matthews_correlation_max\", \"stepped\": true, \"type\": \"scatter\", \"data\": [0.03223514310847208, 0.03223514310847208, 0.03223514310847208, 0.08691153065675239, 0.08691153065675239, 0.08691153065675239, 0.08691153065675239, 0.08691153065675239, 0.08691153065675239, 0.08691153065675239, 0.08691153065675239, 0.08691153065675239, 0.08691153065675239, 0.08691153065675239, 0.09802146286380975, 0.09802146286380975, 0.09802146286380975, 0.09802146286380975, 0.09802146286380975, 0.09802146286380975, 0.09802146286380975, 0.09802146286380975, 0.09802146286380975, 0.09802146286380975, 0.09802146286380975, 0.09802146286380975, 0.09802146286380975, 0.09802146286380975, 0.09802146286380975, 0.09802146286380975, 0.09802146286380975]}], \"AUC_weighted\": [{\"categories\": [\"0\", \"1\", \"2\", \"3\", \"4\", \"5\", \"6\", \"7\", \"8\", \"9\", \"10\", \"11\", \"12\", \"13\", \"14\", \"15\", \"16\", \"17\", \"18\", \"19\", \"20\", \"21\", \"22\", \"23\", \"24\", \"25\", \"26\", \"27\", \"28\", \"37\", \"38\"], \"mode\": \"markers\", \"name\": \"AUC_weighted\", \"stepped\": false, \"type\": \"scatter\", \"data\": [0.5086942737293922, 0.5146205248268462, 0.524778070432153, 0.5395815042434884, 0.5517388547458784, 0.5116086235489221, 0.5276558384547849, 0.5239915617988489, 0.5199248853770364, 0.48620866256950546, 0.5399839040093649, 0.5479465418007999, 0.5104989757096869, 0.5033533313823041, 0.5609208857672423, 0.5124012291483758, 0.53304555653107, 0.5017071505219002, 0.5134986830553118, 0.47235635547751437, 0.5097673397717296, 0.5339722953858161, 0.5211930543361624, 0.4890498487952395, 0.5287898741586188, 0.4976282801677885, 0.48128231392059306, 0.5234367378792313, 0.5056092088576725, 0.5816749585406303, 0.428628914252268]}, {\"categories\": [\"0\", \"1\", \"2\", \"3\", \"4\", \"5\", \"6\", \"7\", \"8\", \"9\", \"10\", \"11\", \"12\", \"13\", \"14\", \"15\", \"16\", \"17\", \"18\", \"19\", \"20\", \"21\", \"22\", \"23\", \"24\", \"25\", \"26\", \"27\", \"28\", \"37\", \"38\"], \"mode\": \"lines\", \"name\": \"AUC_weighted_max\", \"stepped\": true, \"type\": \"scatter\", \"data\": [0.5086942737293922, 0.5146205248268462, 0.524778070432153, 0.5395815042434884, 0.5517388547458784, 0.5517388547458784, 0.5517388547458784, 0.5517388547458784, 0.5517388547458784, 0.5517388547458784, 0.5517388547458784, 0.5517388547458784, 0.5517388547458784, 0.5517388547458784, 0.5609208857672423, 0.5609208857672423, 0.5609208857672423, 0.5609208857672423, 0.5609208857672423, 0.5609208857672423, 0.5609208857672423, 0.5609208857672423, 0.5609208857672423, 0.5609208857672423, 0.5609208857672423, 0.5609208857672423, 0.5609208857672423, 0.5609208857672423, 0.5609208857672423, 0.5816749585406303, 0.5816749585406303]}], \"average_precision_score_weighted\": [{\"categories\": [\"0\", \"1\", \"2\", \"3\", \"4\", \"5\", \"6\", \"7\", \"8\", \"9\", \"10\", \"11\", \"12\", \"13\", \"14\", \"15\", \"16\", \"17\", \"18\", \"19\", \"20\", \"21\", \"22\", \"23\", \"24\", \"25\", \"26\", \"27\", \"28\", \"37\", \"38\"], \"mode\": \"markers\", \"name\": \"average_precision_score_weighted\", \"stepped\": false, \"type\": \"scatter\", \"data\": [0.5235274887478477, 0.5186091318820715, 0.5267312832164092, 0.5584898782270691, 0.5501333068188998, 0.5076033879918899, 0.528006139586505, 0.5294651791982805, 0.5213589605479246, 0.491835121260278, 0.5524760773190001, 0.5535084390028864, 0.5159648473191429, 0.5181020979521342, 0.5610750135103737, 0.5139855355471802, 0.5288103424729411, 0.5098892030502955, 0.5186696156316231, 0.4923223541261973, 0.5178038699449624, 0.5391679452030239, 0.5294114560533832, 0.5025679552890457, 0.5306151532792124, 0.5001626940823951, 0.4902912035534234, 0.5264988996290185, 0.5068755602398898, 0.5807936519483995, 0.4525792976104521]}, {\"categories\": [\"0\", \"1\", \"2\", \"3\", \"4\", \"5\", \"6\", \"7\", \"8\", \"9\", \"10\", \"11\", \"12\", \"13\", \"14\", \"15\", \"16\", \"17\", \"18\", \"19\", \"20\", \"21\", \"22\", \"23\", \"24\", \"25\", \"26\", \"27\", \"28\", \"37\", \"38\"], \"mode\": \"lines\", \"name\": \"average_precision_score_weighted_max\", \"stepped\": true, \"type\": \"scatter\", \"data\": [0.5235274887478477, 0.5235274887478477, 0.5267312832164092, 0.5584898782270691, 0.5584898782270691, 0.5584898782270691, 0.5584898782270691, 0.5584898782270691, 0.5584898782270691, 0.5584898782270691, 0.5584898782270691, 0.5584898782270691, 0.5584898782270691, 0.5584898782270691, 0.5610750135103737, 0.5610750135103737, 0.5610750135103737, 0.5610750135103737, 0.5610750135103737, 0.5610750135103737, 0.5610750135103737, 0.5610750135103737, 0.5610750135103737, 0.5610750135103737, 0.5610750135103737, 0.5610750135103737, 0.5610750135103737, 0.5610750135103737, 0.5610750135103737, 0.5807936519483995, 0.5807936519483995]}], \"norm_macro_recall\": [{\"categories\": [\"0\", \"1\", \"2\", \"3\", \"4\", \"5\", \"6\", \"7\", \"8\", \"9\", \"10\", \"11\", \"12\", \"13\", \"14\", \"15\", \"16\", \"17\", \"18\", \"19\", \"20\", \"21\", \"22\", \"23\", \"24\", \"25\", \"26\", \"27\", \"28\", \"37\", \"38\"], \"mode\": \"markers\", \"name\": \"norm_macro_recall\", \"stepped\": false, \"type\": \"scatter\", \"data\": [0.030484830748219727, 0.0, 0.02075407277338792, 0.019120085845283352, 0.08128475270705282, 0.0016827626573017174, 0.06782265144863908, 0.01012096380840899, 0.015266803238708437, 0.0, 0.021436932982147994, 0.01953467954345922, 0.0, 0.00017071505219012906, 0.09667349526875424, 0.03038727928982521, 0.003585016095990712, 0.0, 0.0, 0.0, 0.009535655058042991, 0.0341917861672032, 0.009852697297824564, 0.02560725782850448, 0.03748414788801102, 0.033143107989464404, 0.0, 0.03604526387669482, 0.013510876987610887, 0.010242903131401748, 0.0]}, {\"categories\": [\"0\", \"1\", \"2\", \"3\", \"4\", \"5\", \"6\", \"7\", \"8\", \"9\", \"10\", \"11\", \"12\", \"13\", \"14\", \"15\", \"16\", \"17\", \"18\", \"19\", \"20\", \"21\", \"22\", \"23\", \"24\", \"25\", \"26\", \"27\", \"28\", \"37\", \"38\"], \"mode\": \"lines\", \"name\": \"norm_macro_recall_max\", \"stepped\": true, \"type\": \"scatter\", \"data\": [0.030484830748219727, 0.030484830748219727, 0.030484830748219727, 0.030484830748219727, 0.08128475270705282, 0.08128475270705282, 0.08128475270705282, 0.08128475270705282, 0.08128475270705282, 0.08128475270705282, 0.08128475270705282, 0.08128475270705282, 0.08128475270705282, 0.08128475270705282, 0.09667349526875424, 0.09667349526875424, 0.09667349526875424, 0.09667349526875424, 0.09667349526875424, 0.09667349526875424, 0.09667349526875424, 0.09667349526875424, 0.09667349526875424, 0.09667349526875424, 0.09667349526875424, 0.09667349526875424, 0.09667349526875424, 0.09667349526875424, 0.09667349526875424, 0.09667349526875424, 0.09667349526875424]}], \"average_precision_score_micro\": [{\"categories\": [\"0\", \"1\", \"2\", \"3\", \"4\", \"5\", \"6\", \"7\", \"8\", \"9\", \"10\", \"11\", \"12\", \"13\", \"14\", \"15\", \"16\", \"17\", \"18\", \"19\", \"20\", \"21\", \"22\", \"23\", \"24\", \"25\", \"26\", \"27\", \"28\", \"37\", \"38\"], \"mode\": \"markers\", \"name\": \"average_precision_score_micro\", \"stepped\": false, \"type\": \"scatter\", \"data\": [0.5308816725852726, 0.5290509104366974, 0.536451598477087, 0.5529047347563487, 0.5519598507959991, 0.5206489684227189, 0.5313107501258102, 0.5422471934400575, 0.5319624802474412, 0.49615107893515853, 0.5532456820276598, 0.55676140921416, 0.5151319626680346, 0.5222280362074727, 0.5647070462014052, 0.5150412187255046, 0.5393300036798478, 0.5094505243984739, 0.5197551450120449, 0.5034348852204343, 0.5268229564285279, 0.5437128945548232, 0.5306990429215892, 0.5184788966810553, 0.5392038434294921, 0.49706996510395063, 0.5146743520993169, 0.5306419177589701, 0.5233785982024344, 0.5767948312129626, 0.4921844707906882]}, {\"categories\": [\"0\", \"1\", \"2\", \"3\", \"4\", \"5\", \"6\", \"7\", \"8\", \"9\", \"10\", \"11\", \"12\", \"13\", \"14\", \"15\", \"16\", \"17\", \"18\", \"19\", \"20\", \"21\", \"22\", \"23\", \"24\", \"25\", \"26\", \"27\", \"28\", \"37\", \"38\"], \"mode\": \"lines\", \"name\": \"average_precision_score_micro_max\", \"stepped\": true, \"type\": \"scatter\", \"data\": [0.5308816725852726, 0.5308816725852726, 0.536451598477087, 0.5529047347563487, 0.5529047347563487, 0.5529047347563487, 0.5529047347563487, 0.5529047347563487, 0.5529047347563487, 0.5529047347563487, 0.5532456820276598, 0.55676140921416, 0.55676140921416, 0.55676140921416, 0.5647070462014052, 0.5647070462014052, 0.5647070462014052, 0.5647070462014052, 0.5647070462014052, 0.5647070462014052, 0.5647070462014052, 0.5647070462014052, 0.5647070462014052, 0.5647070462014052, 0.5647070462014052, 0.5647070462014052, 0.5647070462014052, 0.5647070462014052, 0.5647070462014052, 0.5767948312129626, 0.5767948312129626]}]}, \"metricName\": null, \"primaryMetricName\": \"AUC_weighted\", \"showLegend\": false}, \"run_metrics\": [{\"name\": \"experiment_status\", \"run_id\": \"AutoML_cb05725f-8930-4351-add6-ee67e887f633\", \"categories\": [0, 1, 2, 3, 4, 5, 6, 7, 8, 9, 10, 11, 12], \"series\": [{\"data\": [\"DatasetEvaluation\", \"FeaturesGeneration\", \"DatasetFeaturization\", \"DatasetFeaturizationCompleted\", \"ModelSelection\", \"BestRunExplainModel\", \"ModelExplanationDataSetSetup\", \"PickSurrogateModel\", \"EngineeredFeatureExplanations\", \"EngineeredFeatureExplanations\", \"RawFeaturesExplanations\", \"RawFeaturesExplanations\", \"BestRunExplainModel\"]}]}, {\"name\": \"experiment_status_description\", \"run_id\": \"AutoML_cb05725f-8930-4351-add6-ee67e887f633\", \"categories\": [0, 1, 2, 3, 4, 5, 6, 7, 8, 9, 10, 11, 12], \"series\": [{\"data\": [\"Gathering dataset statistics.\", \"Generating features for the dataset.\", \"Beginning to fit featurizers and featurize the dataset.\", \"Completed fit featurizers and featurizing the dataset.\", \"Beginning model selection.\", \"Best run model explanations started\", \"Model explanations data setup completed\", \"Choosing LightGBM as the surrogate model for explanations\", \"Computation of engineered features started\", \"Computation of engineered features completed\", \"Computation of raw features started\", \"Computation of raw features completed\", \"Best run model explanations completed\"]}]}, {\"name\": \"matthews_correlation\", \"run_id\": \"AutoML_cb05725f-8930-4351-add6-ee67e887f633\", \"categories\": [0], \"series\": [{\"data\": [0.03312784186958017]}]}, {\"name\": \"precision_score_micro\", \"run_id\": \"AutoML_cb05725f-8930-4351-add6-ee67e887f633\", \"categories\": [0], \"series\": [{\"data\": [0.5365853658536586]}]}, {\"name\": \"recall_score_macro\", \"run_id\": \"AutoML_cb05725f-8930-4351-add6-ee67e887f633\", \"categories\": [0], \"series\": [{\"data\": [0.5051214515657009]}]}, {\"name\": \"f1_score_micro\", \"run_id\": \"AutoML_cb05725f-8930-4351-add6-ee67e887f633\", \"categories\": [0], \"series\": [{\"data\": [0.5365853658536586]}]}, {\"name\": \"balanced_accuracy\", \"run_id\": \"AutoML_cb05725f-8930-4351-add6-ee67e887f633\", \"categories\": [0], \"series\": [{\"data\": [0.5051214515657009]}]}, {\"name\": \"weighted_accuracy\", \"run_id\": \"AutoML_cb05725f-8930-4351-add6-ee67e887f633\", \"categories\": [0], \"series\": [{\"data\": [0.5677746887465247]}]}, {\"name\": \"norm_macro_recall\", \"run_id\": \"AutoML_cb05725f-8930-4351-add6-ee67e887f633\", \"categories\": [0], \"series\": [{\"data\": [0.010242903131401748]}]}, {\"name\": \"AUC_weighted\", \"run_id\": \"AutoML_cb05725f-8930-4351-add6-ee67e887f633\", \"categories\": [0], \"series\": [{\"data\": [0.5816749585406303]}]}, {\"name\": \"AUC_macro\", \"run_id\": \"AutoML_cb05725f-8930-4351-add6-ee67e887f633\", \"categories\": [0], \"series\": [{\"data\": [0.5816749585406302]}]}, {\"name\": \"average_precision_score_macro\", \"run_id\": \"AutoML_cb05725f-8930-4351-add6-ee67e887f633\", \"categories\": [0], \"series\": [{\"data\": [0.5782909196693703]}]}, {\"name\": \"average_precision_score_weighted\", \"run_id\": \"AutoML_cb05725f-8930-4351-add6-ee67e887f633\", \"categories\": [0], \"series\": [{\"data\": [0.5807936519483995]}]}, {\"name\": \"precision_score_macro\", \"run_id\": \"AutoML_cb05725f-8930-4351-add6-ee67e887f633\", \"categories\": [0], \"series\": [{\"data\": [0.5535714285714286]}]}, {\"name\": \"AUC_micro\", \"run_id\": \"AutoML_cb05725f-8930-4351-add6-ee67e887f633\", \"categories\": [0], \"series\": [{\"data\": [0.5762179946339036]}]}, {\"name\": \"recall_score_weighted\", \"run_id\": \"AutoML_cb05725f-8930-4351-add6-ee67e887f633\", \"categories\": [0], \"series\": [{\"data\": [0.5365853658536586]}]}, {\"name\": \"log_loss\", \"run_id\": \"AutoML_cb05725f-8930-4351-add6-ee67e887f633\", \"categories\": [0], \"series\": [{\"data\": [0.6864793785840129]}]}, {\"name\": \"f1_score_macro\", \"run_id\": \"AutoML_cb05725f-8930-4351-add6-ee67e887f633\", \"categories\": [0], \"series\": [{\"data\": [0.37478911765187617]}]}, {\"name\": \"recall_score_micro\", \"run_id\": \"AutoML_cb05725f-8930-4351-add6-ee67e887f633\", \"categories\": [0], \"series\": [{\"data\": [0.5365853658536586]}]}, {\"name\": \"f1_score_weighted\", \"run_id\": \"AutoML_cb05725f-8930-4351-add6-ee67e887f633\", \"categories\": [0], \"series\": [{\"data\": [0.3958447937877246]}]}, {\"name\": \"precision_score_weighted\", \"run_id\": \"AutoML_cb05725f-8930-4351-add6-ee67e887f633\", \"categories\": [0], \"series\": [{\"data\": [0.5523892483822798]}]}, {\"name\": \"accuracy\", \"run_id\": \"AutoML_cb05725f-8930-4351-add6-ee67e887f633\", \"categories\": [0], \"series\": [{\"data\": [0.5365853658536586]}]}, {\"name\": \"average_precision_score_micro\", \"run_id\": \"AutoML_cb05725f-8930-4351-add6-ee67e887f633\", \"categories\": [0], \"series\": [{\"data\": [0.5767948312129626]}]}], \"run_logs\": \"\\nRun is completed.\", \"graph\": {}, \"widget_settings\": {\"childWidgetDisplay\": \"popup\", \"send_telemetry\": false, \"log_level\": \"INFO\", \"sdk_version\": \"1.22.0\"}, \"loading\": false}"
          },
          "metadata": {}
        }
      ],
      "execution_count": 159,
      "metadata": {
        "collapsed": false,
        "gather": {
          "logged": 1615651260445
        },
        "jupyter": {
          "outputs_hidden": false,
          "source_hidden": false
        },
        "nteract": {
          "transient": {
            "deleting": false
          }
        }
      }
    },
    {
      "cell_type": "markdown",
      "source": [
        "## Best Model\n",
        "\n",
        "TODO: In the cell below, get the best model from the automl experiments and display all the properties of the model.\n",
        "\n"
      ],
      "metadata": {}
    },
    {
      "cell_type": "code",
      "source": [
        "best_run, fitted_model = remote_run.get_output()"
      ],
      "outputs": [
        {
          "output_type": "stream",
          "name": "stderr",
          "text": [
            "WARNING:root:The version of the SDK does not match the version the model was trained on.\n",
            "WARNING:root:The consistency in the result may not be guaranteed.\n",
            "WARNING:root:Package:azureml-automl-core, training version:1.23.0, current version:1.22.0\n",
            "Package:azureml-automl-runtime, training version:1.23.0, current version:1.22.0\n",
            "Package:azureml-core, training version:1.23.0, current version:1.22.0\n",
            "Package:azureml-dataprep, training version:2.10.1, current version:2.9.1\n",
            "Package:azureml-dataprep-native, training version:30.0.0, current version:29.0.0\n",
            "Package:azureml-dataprep-rslex, training version:1.8.0, current version:1.7.0\n",
            "Package:azureml-dataset-runtime, training version:1.23.0, current version:1.22.0\n",
            "Package:azureml-defaults, training version:1.23.0, current version:1.22.0\n",
            "Package:azureml-interpret, training version:1.23.0, current version:1.22.0\n",
            "Package:azureml-mlflow, training version:1.23.0, current version:1.22.0\n",
            "Package:azureml-pipeline-core, training version:1.23.0, current version:1.22.0\n",
            "Package:azureml-telemetry, training version:1.23.0, current version:1.22.0\n",
            "Package:azureml-train-automl-client, training version:1.23.0, current version:1.22.0\n",
            "Package:azureml-train-automl-runtime, training version:1.23.0, current version:1.22.0\n",
            "WARNING:root:Please ensure the version of your local conda dependencies match the version on which your model was trained in order to properly retrieve your model.\n"
          ]
        }
      ],
      "execution_count": 161,
      "metadata": {
        "collapsed": false,
        "gather": {
          "logged": 1615654698889
        },
        "jupyter": {
          "outputs_hidden": false,
          "source_hidden": false
        },
        "nteract": {
          "transient": {
            "deleting": false
          }
        }
      }
    },
    {
      "cell_type": "code",
      "source": [
        "best_run.properties['run_properties']"
      ],
      "outputs": [
        {
          "output_type": "execute_result",
          "execution_count": 169,
          "data": {
            "text/plain": "\"classification_labels=None,\\n                              estimators=[('14',\\n                                           Pipeline(memory=None,\\n                                                    steps=[('robustscaler',\\n                                                            RobustScaler(copy=True,\\n                                                                         quantile_range=[10,\\n                                                                                         90],\\n                                                                         with_centering=True,\\n                                                                         with_scaling=False\""
          },
          "metadata": {}
        }
      ],
      "execution_count": 169,
      "metadata": {
        "collapsed": true,
        "jupyter": {
          "source_hidden": false,
          "outputs_hidden": false
        },
        "nteract": {
          "transient": {
            "deleting": false
          }
        },
        "gather": {
          "logged": 1615654932955
        }
      }
    },
    {
      "cell_type": "code",
      "source": [
        "#TODO: Save the best model\r\n",
        "model_name = best_run.properties[\"model_name\"]\r\n",
        "\r\n",
        "registered_model = remote_run.register_model(model_name=model_name, description=\"DJI AutoML\")\r\n",
        "best_model = Model(ws, model_name)\r\n",
        "best_model.download()"
      ],
      "outputs": [
        {
          "output_type": "execute_result",
          "execution_count": 162,
          "data": {
            "text/plain": "'model.pkl'"
          },
          "metadata": {}
        }
      ],
      "execution_count": 162,
      "metadata": {
        "collapsed": false,
        "gather": {
          "logged": 1615654714139
        },
        "jupyter": {
          "outputs_hidden": false,
          "source_hidden": false
        },
        "nteract": {
          "transient": {
            "deleting": false
          }
        }
      }
    },
    {
      "cell_type": "markdown",
      "source": [
        "## Model Deployment\n",
        "\n",
        "Remember you have to deploy only one of the two models you trained.. Perform the steps in the rest of this notebook only if you wish to deploy this model.\n",
        "\n",
        "TODO: In the cell below, register the model, create an inference config and deploy the model as a web service."
      ],
      "metadata": {}
    },
    {
      "cell_type": "code",
      "source": [
        "\r\n",
        "\r\n",
        "best_run.download_file(\"outputs/scoring_file_v_1_0_0.py\", \"inference/score.py\")\r\n",
        "\r\n",
        "best_run.download_file(constants.CONDA_ENV_FILE_PATH, \"myenv.yml\")\r\n",
        "env = Environment.from_conda_specification(name=\"myenv\", file_path=\"myenv.yml\")\r\n",
        "\r\n",
        "inference_config = InferenceConfig(entry_script=\"inference/score.py\", environment=env)\r\n",
        "aciconfig = AciWebservice.deploy_configuration(cpu_cores=1, memory_gb=1, description=\"DJI Prediction\", enable_app_insights= True)\r\n"
      ],
      "outputs": [],
      "execution_count": 178,
      "metadata": {
        "collapsed": false,
        "gather": {
          "logged": 1615656541515
        },
        "jupyter": {
          "outputs_hidden": false,
          "source_hidden": false
        },
        "nteract": {
          "transient": {
            "deleting": false
          }
        }
      }
    },
    {
      "cell_type": "code",
      "source": [
        "service = Model.deploy(ws, \"automl-dji\", [registered_model], inference_config, aciconfig, overwrite=True)\r\n",
        "service.wait_for_deployment(True)"
      ],
      "outputs": [
        {
          "output_type": "stream",
          "name": "stdout",
          "text": [
            "Tips: You can try get_logs(): https://aka.ms/debugimage#dockerlog or local deployment: https://aka.ms/debugimage#debug-locally to debug if deployment takes longer than 10 minutes.\n",
            "Running..........................................................\n",
            "Succeeded\n",
            "ACI service creation operation finished, operation \"Succeeded\"\n"
          ]
        }
      ],
      "execution_count": 179,
      "metadata": {
        "collapsed": true,
        "jupyter": {
          "source_hidden": false,
          "outputs_hidden": false
        },
        "nteract": {
          "transient": {
            "deleting": false
          }
        },
        "gather": {
          "logged": 1615656848676
        }
      }
    },
    {
      "cell_type": "markdown",
      "source": [
        "TODO: In the cell below, send a request to the web service you deployed to test it."
      ],
      "metadata": {
        "gather": {
          "logged": 1598431657736
        },
        "jupyter": {
          "outputs_hidden": false,
          "source_hidden": false
        },
        "nteract": {
          "transient": {
            "deleting": false
          }
        }
      }
    },
    {
      "cell_type": "code",
      "source": [
        "data = {}\r\n",
        "data[\"data\"] = json.loads(test_df.iloc[101:104,:].drop('y', axis=1).to_json(orient=\"records\"))\r\n",
        "data"
      ],
      "outputs": [
        {
          "output_type": "execute_result",
          "execution_count": 174,
          "data": {
            "text/plain": "{'data': [{'Column1': 408,\n   'Volume': 0.1305078756,\n   'mom': 1.0507590541,\n   'mom1': 0.8714380537,\n   'mom2': 1.5286026927,\n   'mom3': -0.4686418116,\n   'ROC_5': 1.407135642,\n   'ROC_10': -0.1696156822,\n   'ROC_15': -0.20950716,\n   'ROC_20': -0.0598636721,\n   'EMA_10': 6.0394001868,\n   'EMA_20': 6.8606916156,\n   'DTB4WK': -0.5,\n   'DTB3': -1.75,\n   'DTB6': -2.0,\n   'DGS5': -4.96,\n   'DGS10': -6.1904761905,\n   'Oil': 0.919204956,\n   'Gold': 0.5119415377,\n   'DAAA': -2.8928571429,\n   'DBAA': -2.5666666667,\n   'GBP': 0.9696076544,\n   'JPY': 0.6580117137,\n   'CAD': 0.0583643028,\n   'CNY': -2.5106086133,\n   'AAPL': 0.924610071,\n   'AMZN': 0.5322905941,\n   'GE': 0.9361519103,\n   'JNJ': 1.1725930792,\n   'JPM': 0.929344597,\n   'MSFT': 1.0304254556,\n   'WFC': 1.2185841617,\n   'XOM': 1.0838482703,\n   'FCHI': 0.7828818606,\n   'FTSE': 0.6620325256,\n   'GDAXI': 0.6343438635,\n   'GSPC': 1.0769996618,\n   'HSI': 1.1447951281,\n   'IXIC': 1.0668425413,\n   'SSEC': 0.7489837306,\n   'RUT': 1.1387563068,\n   'NYSE': 1.0762082087,\n   'TE1': -5.5909090909,\n   'TE2': -5.7619047619,\n   'TE3': -6.3684210526,\n   'TE5': -0.1666666667,\n   'TE6': -0.5,\n   'DE1': 1.0,\n   'DE2': 3.4705882353,\n   'DE4': -2.3448275862,\n   'DE5': -2.1935483871,\n   'DE6': -2.3333333333,\n   'CTB3M': 1.0495626826,\n   'CTB6M': 0.2347826087,\n   'CTB1Y': 0.959749553,\n   'AUD': 0.9120603015,\n   'Brent': 0.719017094,\n   'CAC-F': 0.8045112782,\n   'copper-F': 0.5040650407,\n   'WIT-oil': 0.8918918919,\n   'DAX-F': 0.6484716157,\n   'DJI-F': 0.9537712895,\n   'EUR': 1.0534979424,\n   'FTSE-F': 0.7416666667,\n   'gold-F': 0.7398601399,\n   'HSI-F': 1.1311728395,\n   'KOSPI-F': 0.5750487329,\n   'NASDAQ-F': 0.9065217391,\n   'GAS-F': 0.3117408907,\n   'Nikkei-F': 0.7140255009,\n   'NZD': 0.5732647815,\n   'silver-F': 0.6760280843,\n   'RUSSELL-F': 1.009310987,\n   'S&P-F': 1.0818965517,\n   'CHF': 0.876146789,\n   'Dollar index-F': -0.125,\n   'Dollar index': -0.1533742331,\n   'wheat-F': 0.3985765125,\n   'XAG': 0.8270321361,\n   'XAU': 0.8},\n  {'Column1': 409,\n   'Volume': 0.1927279439,\n   'mom': 0.4525219422,\n   'mom1': 1.0507590541,\n   'mom2': 0.8714380537,\n   'mom3': 1.5286026927,\n   'ROC_5': 0.6604203852,\n   'ROC_10': 0.0144100079,\n   'ROC_15': -0.204591762,\n   'ROC_20': -0.2694279151,\n   'EMA_10': 6.0391311541,\n   'EMA_20': 6.7334517035,\n   'DTB4WK': -0.1666666667,\n   'DTB3': -1.5,\n   'DTB6': -2.25,\n   'DGS5': -5.12,\n   'DGS10': -6.4761904762,\n   'Oil': 0.4042130381,\n   'Gold': 0.9038128419,\n   'DAAA': -3.2142857143,\n   'DBAA': -2.8666666667,\n   'GBP': 0.8291113254,\n   'JPY': 0.5640812065,\n   'CAD': 0.5359611644,\n   'CNY': -0.3147612859,\n   'AAPL': 0.4947563647,\n   'AMZN': 0.2517324457,\n   'GE': 0.3151215055,\n   'JNJ': 0.4022882698,\n   'JPM': 0.3103858564,\n   'MSFT': 0.5001372839,\n   'WFC': 0.3172546027,\n   'XOM': 0.3176447972,\n   'FCHI': 0.5891882182,\n   'FTSE': 0.5547995071,\n   'GDAXI': 0.442808835,\n   'GSPC': 0.4355211998,\n   'HSI': 0.5367356632,\n   'IXIC': 0.3824005203,\n   'SSEC': 0.2743407823,\n   'RUT': 0.2651918913,\n   'NYSE': 0.4326288553,\n   'TE1': -5.9545454545,\n   'TE2': -6.0952380952,\n   'TE3': -6.6315789474,\n   'TE5': -0.3333333333,\n   'TE6': -1.25,\n   'DE1': 1.0,\n   'DE2': 3.2941176471,\n   'DE4': -2.6206896552,\n   'DE5': -2.5161290323,\n   'DE6': -2.7,\n   'CTB3M': -0.3443877552,\n   'CTB6M': 0.8237986269,\n   'CTB1Y': 0.0675990673,\n   'AUD': 0.4623115578,\n   'Brent': 0.4903846154,\n   'CAC-F': 0.6052631579,\n   'copper-F': 0.331010453,\n   'WIT-oil': 0.4042792793,\n   'DAX-F': 0.4323144105,\n   'DJI-F': 0.5888077859,\n   'EUR': 0.378600823,\n   'FTSE-F': 0.6611111111,\n   'gold-F': 0.8307692308,\n   'HSI-F': 0.5617283951,\n   'KOSPI-F': 1.5438596491,\n   'NASDAQ-F': 0.5434782609,\n   'GAS-F': 0.1700404858,\n   'Nikkei-F': 0.5300546448,\n   'NZD': 0.529562982,\n   'silver-F': 0.7281845537,\n   'RUSSELL-F': 0.4432029795,\n   'S&P-F': 0.5711206897,\n   'CHF': 1.1834862385,\n   'Dollar index-F': 0.6136363636,\n   'Dollar index': 0.6196319018,\n   'wheat-F': 0.6666666667,\n   'XAG': 0.6313799622,\n   'XAU': 0.8152671756},\n  {'Column1': 411,\n   'Volume': 0.1236539267,\n   'mom': -0.2479970847,\n   'mom1': 0.6174009783,\n   'mom2': 0.4525219422,\n   'mom3': 1.0507590541,\n   'ROC_5': 0.2123680676,\n   'ROC_10': 0.0680527851,\n   'ROC_15': -0.3420799019,\n   'ROC_20': -0.692265922,\n   'EMA_10': 5.691261006,\n   'EMA_20': 6.3302090987,\n   'DTB4WK': -0.3333333333,\n   'DTB3': -2.0,\n   'DTB6': -2.75,\n   'DGS5': -5.32,\n   'DGS10': -7.1904761905,\n   'Oil': -0.1085763488,\n   'Gold': 0.8025063171,\n   'DAAA': -3.3571428571,\n   'DBAA': -3.3666666667,\n   'GBP': 0.6119216319,\n   'JPY': 0.6526118819,\n   'CAD': 0.9364850747,\n   'CNY': 1.6123867485,\n   'AAPL': -0.0311159689,\n   'AMZN': -0.1566605224,\n   'GE': -0.218713903,\n   'JNJ': -0.0522818515,\n   'JPM': 0.128776418,\n   'MSFT': 0.1084446343,\n   'WFC': -0.1334827593,\n   'XOM': -0.274266588,\n   'FCHI': -0.388605264,\n   'FTSE': -0.5603406125,\n   'GDAXI': -0.7485222216,\n   'GSPC': -0.2737616313,\n   'HSI': 0.3443231104,\n   'IXIC': -0.4882156959,\n   'SSEC': 0.061575958,\n   'RUT': -0.4336342964,\n   'NYSE': -0.1701682879,\n   'TE1': -6.5909090909,\n   'TE2': -6.7142857143,\n   'TE3': -7.3157894737,\n   'TE5': -0.5,\n   'TE6': -1.5,\n   'DE1': -0.2222222222,\n   'DE2': 3.2941176471,\n   'DE4': -3.0689655172,\n   'DE5': -2.935483871,\n   'DE6': -3.1666666667,\n   'CTB3M': -0.5612244902,\n   'CTB6M': 0.8237986269,\n   'CTB1Y': 0.2999922224,\n   'AUD': 0.1733668342,\n   'Brent': 0.1848290598,\n   'CAC-F': -0.3458646617,\n   'copper-F': 0.2555168409,\n   'WIT-oil': -0.106981982,\n   'DAX-F': -0.7860262009,\n   'DJI-F': -0.1557177616,\n   'EUR': 0.2181069959,\n   'FTSE-F': -0.725,\n   'gold-F': 0.8335664336,\n   'HSI-F': 0.450617284,\n   'KOSPI-F': 0.2183235867,\n   'NASDAQ-F': -0.3152173913,\n   'GAS-F': 0.2965587045,\n   'Nikkei-F': 0.3078324226,\n   'NZD': -0.0411311054,\n   'silver-F': 0.6469408225,\n   'RUSSELL-F': -0.3296089385,\n   'S&P-F': -0.1594827586,\n   'CHF': 0.7247706422,\n   'Dollar index-F': 0.9147727273,\n   'Dollar index': 0.9509202454,\n   'wheat-F': 0.0948991696,\n   'XAG': 0.724952741,\n   'XAU': 0.9404580153}]}"
          },
          "metadata": {}
        }
      ],
      "execution_count": 174,
      "metadata": {
        "collapsed": true,
        "jupyter": {
          "source_hidden": false,
          "outputs_hidden": false
        },
        "nteract": {
          "transient": {
            "deleting": false
          }
        },
        "gather": {
          "logged": 1615656063009
        }
      }
    },
    {
      "cell_type": "code",
      "source": [
        "import requests\r\n",
        "import json\r\n",
        "\r\n",
        "# URL for the web service\r\n",
        "#scoring_uri = \"http://333ed5ba-9f19-4f23-a460-04d6ad4303a2.westeurope.azurecontainer.io/score\"\r\n",
        "scoring_uri = \"http://333ed5ba-9f19-4f23-a460-04d6ad4303a2.westeurope.azurecontainer.io/score\"\r\n",
        "# Create a test dataset, 3 rows from the test set:\r\n",
        "# Converting the Pandas dataframe into correct shape got bit convoluted... maybe there are easier ways\r\n",
        "data = {}\r\n",
        "data[\"data\"] = json.loads(test_df.iloc[101:104,:].drop('y', axis=1).to_json(orient=\"records\"))\r\n",
        "input_data = str.encode(json.dumps(data))\r\n",
        "\r\n",
        "# Set the content type\r\n",
        "headers = {'Content-Type': 'application/json'}\r\n",
        "\r\n",
        "# Make the request and display the response\r\n",
        "resp = requests.post(scoring_uri, input_data, headers=headers)\r\n",
        "print(resp.text)"
      ],
      "outputs": [
        {
          "output_type": "stream",
          "name": "stdout",
          "text": [
            "\"{\\\"result\\\": [1.0, 1.0, 1.0]}\"\n"
          ]
        }
      ],
      "execution_count": 175,
      "metadata": {
        "collapsed": false,
        "gather": {
          "logged": 1615656079079
        },
        "jupyter": {
          "outputs_hidden": false,
          "source_hidden": false
        },
        "nteract": {
          "transient": {
            "deleting": false
          }
        }
      }
    },
    {
      "cell_type": "markdown",
      "source": [
        "TODO: In the cell below, print the logs of the web service and delete the service"
      ],
      "metadata": {
        "gather": {
          "logged": 1598432765711
        },
        "jupyter": {
          "outputs_hidden": false,
          "source_hidden": false
        },
        "nteract": {
          "transient": {
            "deleting": false
          }
        }
      }
    },
    {
      "cell_type": "code",
      "source": [
        "service.get_logs()"
      ],
      "outputs": [
        {
          "output_type": "execute_result",
          "execution_count": 180,
          "data": {
            "text/plain": "'2021-03-13T17:33:48,389635500+00:00 - rsyslog/run \\n2021-03-13T17:33:48,393936900+00:00 - iot-server/run \\n2021-03-13T17:33:48,400567600+00:00 - gunicorn/run \\n2021-03-13T17:33:48,399509500+00:00 - nginx/run \\n/usr/sbin/nginx: /azureml-envs/azureml_1b0bdc80e61f4d59929283043c512952/lib/libcrypto.so.1.0.0: no version information available (required by /usr/sbin/nginx)\\n/usr/sbin/nginx: /azureml-envs/azureml_1b0bdc80e61f4d59929283043c512952/lib/libcrypto.so.1.0.0: no version information available (required by /usr/sbin/nginx)\\n/usr/sbin/nginx: /azureml-envs/azureml_1b0bdc80e61f4d59929283043c512952/lib/libssl.so.1.0.0: no version information available (required by /usr/sbin/nginx)\\n/usr/sbin/nginx: /azureml-envs/azureml_1b0bdc80e61f4d59929283043c512952/lib/libssl.so.1.0.0: no version information available (required by /usr/sbin/nginx)\\n/usr/sbin/nginx: /azureml-envs/azureml_1b0bdc80e61f4d59929283043c512952/lib/libssl.so.1.0.0: no version information available (required by /usr/sbin/nginx)\\nrsyslogd: /azureml-envs/azureml_1b0bdc80e61f4d59929283043c512952/lib/libuuid.so.1: no version information available (required by rsyslogd)\\nEdgeHubConnectionString and IOTEDGE_IOTHUBHOSTNAME are not set. Exiting...\\n2021-03-13T17:33:50,197332400+00:00 - iot-server/finish 1 0\\n2021-03-13T17:33:50,203461200+00:00 - Exit code 1 is normal. Not restarting iot-server.\\nStarting gunicorn 19.9.0\\nListening at: http://127.0.0.1:31311 (69)\\nUsing worker: sync\\nworker timeout is set to 300\\nBooting worker with pid: 97\\nSPARK_HOME not set. Skipping PySpark Initialization.\\nGenerating new fontManager, this may take some time...\\nInitializing logger\\n2021-03-13 17:33:55,597 | root | INFO | Starting up app insights client\\n2021-03-13 17:33:55,598 | root | INFO | Starting up request id generator\\n2021-03-13 17:33:55,598 | root | INFO | Starting up app insight hooks\\n2021-03-13 17:33:55,598 | root | INFO | Invoking user\\'s init function\\n2021-03-13 17:34:05,985 | azureml.core | WARNING | Failure while loading azureml_run_type_providers. Failed to load entrypoint automl = azureml.train.automl.run:AutoMLRun._from_run_dto with exception (cryptography 3.4.6 (/azureml-envs/azureml_1b0bdc80e61f4d59929283043c512952/lib/python3.6/site-packages), Requirement.parse(\\'cryptography!=1.9,!=2.0.*,!=2.1.*,!=2.2.*,<=3.2\\'), {\\'azureml-core\\'}).\\nFailure while loading azureml_run_type_providers. Failed to load entrypoint automl = azureml.train.automl.run:AutoMLRun._from_run_dto with exception (cryptography 3.4.6 (/azureml-envs/azureml_1b0bdc80e61f4d59929283043c512952/lib/python3.6/site-packages), Requirement.parse(\\'cryptography!=1.9,!=2.0.*,!=2.1.*,!=2.2.*,<=3.2\\'), {\\'azureml-core\\'}).\\n2021-03-13 17:34:05,989 | azureml.core | WARNING | Failure while loading azureml_run_type_providers. Failed to load entrypoint azureml.scriptrun = azureml.core.script_run:ScriptRun._from_run_dto with exception (cryptography 3.4.6 (/azureml-envs/azureml_1b0bdc80e61f4d59929283043c512952/lib/python3.6/site-packages), Requirement.parse(\\'cryptography!=1.9,!=2.0.*,!=2.1.*,!=2.2.*,<=3.2\\')).\\nFailure while loading azureml_run_type_providers. Failed to load entrypoint azureml.scriptrun = azureml.core.script_run:ScriptRun._from_run_dto with exception (cryptography 3.4.6 (/azureml-envs/azureml_1b0bdc80e61f4d59929283043c512952/lib/python3.6/site-packages), Requirement.parse(\\'cryptography!=1.9,!=2.0.*,!=2.1.*,!=2.2.*,<=3.2\\')).\\n2021-03-13 17:34:06,210 | root | INFO | Users\\'s init has completed successfully\\n2021-03-13 17:34:06,234 | root | INFO | Skipping middleware: dbg_model_info as it\\'s not enabled.\\n2021-03-13 17:34:06,235 | root | INFO | Skipping middleware: dbg_resource_usage as it\\'s not enabled.\\n2021-03-13 17:34:06,245 | root | INFO | Scoring timeout is found from os.environ: 60000 ms\\n2021-03-13 17:34:06,269 | root | INFO | 200\\n127.0.0.1 - - [13/Mar/2021:17:34:06 +0000] \"GET /swagger.json HTTP/1.0\" 200 6938 \"-\" \"Go-http-client/1.1\"\\n2021-03-13 17:34:08,213 | root | INFO | 200\\n127.0.0.1 - - [13/Mar/2021:17:34:08 +0000] \"GET /swagger.json HTTP/1.0\" 200 6938 \"-\" \"Go-http-client/1.1\"\\n'"
          },
          "metadata": {}
        }
      ],
      "execution_count": 180,
      "metadata": {
        "collapsed": true,
        "jupyter": {
          "source_hidden": false,
          "outputs_hidden": false
        },
        "nteract": {
          "transient": {
            "deleting": false
          }
        },
        "gather": {
          "logged": 1615656881290
        }
      }
    },
    {
      "cell_type": "code",
      "source": [
        "\r\n",
        "service.delete()\r\n",
        "training_cluster.delete()"
      ],
      "outputs": [],
      "execution_count": 181,
      "metadata": {
        "collapsed": true,
        "jupyter": {
          "source_hidden": false,
          "outputs_hidden": false
        },
        "nteract": {
          "transient": {
            "deleting": false
          }
        },
        "gather": {
          "logged": 1615656510791
        }
      }
    },
    {
      "cell_type": "code",
      "source": [],
      "outputs": [],
      "execution_count": null,
      "metadata": {
        "collapsed": true,
        "jupyter": {
          "source_hidden": false,
          "outputs_hidden": false
        },
        "nteract": {
          "transient": {
            "deleting": false
          }
        }
      }
    }
  ],
  "metadata": {
    "kernel_info": {
      "name": "python3"
    },
    "kernelspec": {
      "name": "python3",
      "language": "python",
      "display_name": "Python 3"
    },
    "language_info": {
      "name": "python",
      "version": "3.6.9",
      "mimetype": "text/x-python",
      "codemirror_mode": {
        "name": "ipython",
        "version": 3
      },
      "pygments_lexer": "ipython3",
      "nbconvert_exporter": "python",
      "file_extension": ".py"
    },
    "nteract": {
      "version": "nteract-front-end@1.0.0"
    },
    "microsoft": {
      "host": {
        "AzureML": {
          "notebookHasBeenCompleted": true
        }
      }
    }
  },
  "nbformat": 4,
  "nbformat_minor": 4
}